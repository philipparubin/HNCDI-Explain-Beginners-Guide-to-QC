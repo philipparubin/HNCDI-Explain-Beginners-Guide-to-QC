{
 "cells": [
  {
   "cell_type": "markdown",
   "id": "1b84a11e",
   "metadata": {
    "tags": []
   },
   "source": [
    "# HNCDI Explain: Mathematical Fundamentals of Quantum Computing"
   ]
  },
  {
   "cell_type": "markdown",
   "id": "73281dae",
   "metadata": {},
   "source": [
    "## Tutorial 2: Estimate $\\pi$ using quantum algorithms"
   ]
  },
  {
   "cell_type": "code",
   "execution_count": 1,
   "id": "31284a34",
   "metadata": {},
   "outputs": [],
   "source": [
    "# Default imports\n",
    "import numpy as np\n",
    "\n",
    "# Importing standard Qiskit libraries\n",
    "from qiskit import QuantumRegister, ClassicalRegister, QuantumCircuit, transpile, Aer, IBMQ\n",
    "from qiskit.compiler import transpile\n",
    "from qiskit.tools.jupyter import *\n",
    "from qiskit.visualization import *\n",
    "\n",
    "from ibm_quantum_widgets import *\n",
    "\n",
    "# # Loading your IBM Quantum account(s) # Remove comment for IBM Quantum Online\n",
    "# provider = IBMQ.load_account()"
   ]
  },
  {
   "cell_type": "code",
   "execution_count": 2,
   "id": "bb9c0a2b",
   "metadata": {},
   "outputs": [],
   "source": [
    "# Notebook imports\n",
    "from qiskit.providers.ibmq import least_busy\n",
    "\n",
    "# pi approximation\n",
    "from qiskit import assemble\n",
    "from qiskit.tools.monitor import job_monitor\n",
    "import matplotlib.pyplot as plt"
   ]
  },
  {
   "cell_type": "code",
   "execution_count": 3,
   "id": "4076857b",
   "metadata": {},
   "outputs": [
    {
     "data": {
      "text/html": [
       "<h3>Version Information</h3><table><tr><th>Qiskit Software</th><th>Version</th></tr><tr><td><code>qiskit-terra</code></td><td>0.23.1</td></tr><tr><td><code>qiskit-aer</code></td><td>0.11.2</td></tr><tr><td><code>qiskit-ibmq-provider</code></td><td>0.20.0</td></tr><tr><td><code>qiskit</code></td><td>0.41.0</td></tr><tr><th>System information</th></tr><tr><td>Python version</td><td>3.10.7</td></tr><tr><td>Python compiler</td><td>Clang 14.0.0 (clang-1400.0.29.202)</td></tr><tr><td>Python build</td><td>main, Nov  3 2022 00:50:17</td></tr><tr><td>OS</td><td>Darwin</td></tr><tr><td>CPUs</td><td>4</td></tr><tr><td>Memory (Gb)</td><td>16.0</td></tr><tr><td colspan='2'>Mon Feb 06 13:33:37 2023 GMT</td></tr></table>"
      ],
      "text/plain": [
       "<IPython.core.display.HTML object>"
      ]
     },
     "metadata": {},
     "output_type": "display_data"
    }
   ],
   "source": [
    "# Version Information\n",
    "%qiskit_version_table"
   ]
  },
  {
   "cell_type": "code",
   "execution_count": 4,
   "id": "5788a2d7",
   "metadata": {},
   "outputs": [
    {
     "data": {
      "text/plain": [
       "[AerSimulator('aer_simulator'),\n",
       " AerSimulator('aer_simulator_statevector'),\n",
       " AerSimulator('aer_simulator_density_matrix'),\n",
       " AerSimulator('aer_simulator_stabilizer'),\n",
       " AerSimulator('aer_simulator_matrix_product_state'),\n",
       " AerSimulator('aer_simulator_extended_stabilizer'),\n",
       " AerSimulator('aer_simulator_unitary'),\n",
       " AerSimulator('aer_simulator_superop'),\n",
       " QasmSimulator('qasm_simulator'),\n",
       " StatevectorSimulator('statevector_simulator'),\n",
       " UnitarySimulator('unitary_simulator'),\n",
       " PulseSimulator('pulse_simulator')]"
      ]
     },
     "execution_count": 4,
     "metadata": {},
     "output_type": "execute_result"
    }
   ],
   "source": [
    "Aer.backends()"
   ]
  },
  {
   "cell_type": "code",
   "execution_count": 5,
   "id": "da068e47",
   "metadata": {},
   "outputs": [],
   "source": [
    "# Set simulator backend\n",
    "simulator_backend = Aer.get_backend('aer_simulator')"
   ]
  },
  {
   "cell_type": "markdown",
   "id": "4336e741",
   "metadata": {},
   "source": [
    "## Approximating $\\pi$ "
   ]
  },
  {
   "cell_type": "code",
   "execution_count": 6,
   "id": "6cca510f",
   "metadata": {},
   "outputs": [],
   "source": [
    "#Compute the Inverse Quantum Fourier Transform\n",
    "\n",
    "def qft_dagger(circ_, n_qubits):\n",
    "    \"\"\"n-qubit QFTdagger the first n qubits in circ\"\"\"\n",
    "    for qubit in range(int(n_qubits/2)):\n",
    "        circ_.swap(qubit, n_qubits-qubit-1)\n",
    "    for j in range(0,n_qubits):\n",
    "        for m in range(j):\n",
    "            circ_.cp(-np.pi/float(2**(j-m)), m, j)\n",
    "        circ_.h(j)"
   ]
  },
  {
   "cell_type": "code",
   "execution_count": 7,
   "id": "5aef9554",
   "metadata": {},
   "outputs": [],
   "source": [
    "#Initial state of Quantum Phase Estimation\n",
    "\n",
    "def qpe_pre(circ_, n_qubits):\n",
    "    circ_.h(range(n_qubits))\n",
    "    circ_.x(n_qubits)\n",
    "\n",
    "    for x in reversed(range(n_qubits)):\n",
    "        for _ in range(2**(n_qubits-1-x)):\n",
    "            circ_.cp(1, n_qubits-1-x, n_qubits)"
   ]
  },
  {
   "cell_type": "code",
   "execution_count": 8,
   "id": "efbac5e4",
   "metadata": {},
   "outputs": [],
   "source": [
    "def run_job(circ, backend, shots, optimization_level=0):\n",
    "    t_circ = transpile(circ, backend, optimization_level=optimization_level)\n",
    "    qobj = assemble(t_circ, shots=shots)\n",
    "    job = backend.run(qobj)\n",
    "    job_monitor(job)\n",
    "    return job.result().get_counts()"
   ]
  },
  {
   "cell_type": "code",
   "execution_count": 9,
   "id": "9e91e8df",
   "metadata": {},
   "outputs": [],
   "source": [
    "def get_pi_estimate(n_qubits, backend, shots):\n",
    "        \n",
    "    # create the circuit\n",
    "    circ = QuantumCircuit(n_qubits + 1, n_qubits)\n",
    "    \n",
    "    # create the input state\n",
    "    qpe_pre(circ, n_qubits)\n",
    "        \n",
    "    # apply a barrier\n",
    "    circ.barrier()\n",
    "    # apply the inverse fourier transform\n",
    "    qft_dagger(circ, n_qubits)\n",
    "    # apply  a barrier\n",
    "    circ.barrier()\n",
    "    # measure all but the last qubits\n",
    "    circ.measure(range(n_qubits), range(n_qubits))\n",
    "    \n",
    "    # optionally save to a file\n",
    "    if n_qubits == 3:\n",
    "        circ.draw(filename='qpe')\n",
    "\n",
    "    # run the job and get the results\n",
    "    counts = run_job(circ, backend, shots, optimization_level=0)\n",
    "    print('counts = ', counts) \n",
    "\n",
    "    # get the count that occurred most frequently\n",
    "    max_counts_result = max(counts, key=counts.get)\n",
    "    print('max_counts_result = ', max_counts_result)\n",
    "    max_counts_result = int(max_counts_result, 2)\n",
    "    print('max_counts_result = ', max_counts_result)\n",
    "    \n",
    "    # solve for pi from the measured counts\n",
    "    theta = max_counts_result/2**n_qubits\n",
    "    return (1./(2*theta))"
   ]
  },
  {
   "cell_type": "code",
   "execution_count": 27,
   "id": "02ad3476",
   "metadata": {},
   "outputs": [
    {
     "name": "stdout",
     "output_type": "stream",
     "text": [
      "Job Status: job has successfully run\n",
      "counts =  {'00': 1, '01': 2}\n",
      "max_counts_result =  01\n",
      "max_counts_result =  1\n",
      "2 qubits, pi ≈ 2.0\n",
      "Job Status: job has successfully run\n",
      "counts =  {'001': 3}\n",
      "max_counts_result =  001\n",
      "max_counts_result =  1\n",
      "3 qubits, pi ≈ 4.0\n"
     ]
    }
   ],
   "source": [
    "# estimate pi using different numbers of qubits\n",
    "\n",
    "number_of_shots = 3 # TODO: Add a number of shots\n",
    "upper_limit_qubits = 3 # TODO: Add an upper limit of qubits\n",
    "nqs = list(range(2,upper_limit_qubits+1))\n",
    "pi_estimates = []\n",
    "for nq in nqs:\n",
    "    thisnq_pi_estimate = get_pi_estimate(nq, simulator_backend, number_of_shots)\n",
    "    pi_estimates.append(thisnq_pi_estimate)\n",
    "    print(f\"{nq} qubits, pi ≈ {thisnq_pi_estimate}\")"
   ]
  },
  {
   "cell_type": "code",
   "execution_count": 28,
   "id": "8a924109",
   "metadata": {},
   "outputs": [
    {
     "data": {
      "image/png": "[encoded data removed]",
      "text/plain": [
       "<Figure size 640x480 with 1 Axes>"
      ]
     },
     "metadata": {},
     "output_type": "display_data"
    }
   ],
   "source": [
    "pi = np.pi\n",
    "\n",
    "plt.plot(nqs, [pi]*len(nqs), '--r')\n",
    "plt.plot(nqs, pi_estimates, '.-', markersize=12)\n",
    "plt.xlim([nqs[0]-1,nqs[-1]+1])\n",
    "plt.ylim([1.5, 4.5])\n",
    "plt.legend(['$\\pi$', 'estimate of $\\pi$'])\n",
    "plt.xlabel('Number of qubits', fontdict={'size':20})\n",
    "plt.ylabel('$\\pi$ and estimate of $\\pi$', fontdict={'size':20})\n",
    "plt.tick_params(axis='x', labelsize=12)\n",
    "plt.tick_params(axis='y', labelsize=12)\n",
    "plt.show()"
   ]
  }
 ],
 "metadata": {
  "kernelspec": {
   "display_name": "Python 3 (ipykernel)",
   "language": "python",
   "name": "python3"
  },
  "language_info": {
   "codemirror_mode": {
    "name": "ipython",
    "version": 3
   },
   "file_extension": ".py",
   "mimetype": "text/x-python",
   "name": "python",
   "nbconvert_exporter": "python",
   "pygments_lexer": "ipython3",
   "version": "3.10.7"
  },
  "widgets": {
   "application/vnd.jupyter.widget-state+json": {
    "state": {},
    "version_major": 2,
    "version_minor": 0
   }
  }
 },
 "nbformat": 4,
 "nbformat_minor": 5
}
