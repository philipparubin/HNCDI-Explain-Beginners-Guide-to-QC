{
 "cells": [
  {
   "cell_type": "markdown",
   "id": "1b84a11e",
   "metadata": {
    "tags": []
   },
   "source": [
    "# HNCDI Explain: Mathematical Fundamentals of Quantum Computing"
   ]
  },
  {
   "cell_type": "markdown",
   "id": "7400ecf7",
   "metadata": {},
   "source": [
    "### Install the qiskit library in the colab environment\n",
    "\n",
    "Please run the below cell to ensure the notebook has qiskit installed."
   ]
  },
  {
   "cell_type": "code",
   "execution_count": null,
   "id": "b3f5d9c3",
   "metadata": {},
   "outputs": [],
   "source": [
    "# Install the qiskit library\n",
    "%pip install 'qiskit[visualization]'\n",
    "%pip install qiskit-ibm-runtime\n",
    "%pip install qiskit-aer"
   ]
  },
  {
   "cell_type": "markdown",
   "id": "73281dae",
   "metadata": {},
   "source": [
    "## Tutorial 2: Estimate $\\pi$ using quantum algorithms"
   ]
  },
  {
   "cell_type": "code",
   "execution_count": 1,
   "id": "5914d2c2",
   "metadata": {},
   "outputs": [],
   "source": [
    "import numpy as np\n",
    "from qiskit.visualization import *\n",
    "from qiskit_aer import AerSimulator\n",
    "from qiskit.compiler import transpile\n",
    "from qiskit_aer.primitives import SamplerV2\n",
    "from qiskit_ibm_runtime import QiskitRuntimeService\n",
    "from qiskit_ibm_runtime import SamplerV2 as real_sampler\n",
    "from qiskit import QuantumRegister, ClassicalRegister, QuantumCircuit, transpile\n",
    "from qiskit import assemble\n",
    "import matplotlib.pyplot as plt"
   ]
  },
  {
   "cell_type": "code",
   "execution_count": 2,
   "id": "38566ad5",
   "metadata": {},
   "outputs": [],
   "source": [
    "my_token = \"<Enter your IBM quantum token here>\"\n",
    "\n",
    "service = QiskitRuntimeService(channel=\"ibm_quantum\", token=my_token)"
   ]
  },
  {
   "cell_type": "code",
   "execution_count": 3,
   "id": "da068e47",
   "metadata": {},
   "outputs": [],
   "source": [
    "# Set simulator backend\n",
    "sampler = AerSimulator()"
   ]
  },
  {
   "cell_type": "markdown",
   "id": "4336e741",
   "metadata": {},
   "source": [
    "## Approximating $\\pi$ "
   ]
  },
  {
   "cell_type": "code",
   "execution_count": 4,
   "id": "6cca510f",
   "metadata": {},
   "outputs": [],
   "source": [
    "#Compute the Inverse Quantum Fourier Transform\n",
    "\n",
    "def qft_dagger(circ_, n_qubits):\n",
    "    \"\"\"n-qubit QFTdagger the first n qubits in circ\"\"\"\n",
    "    for qubit in range(int(n_qubits/2)):\n",
    "        circ_.swap(qubit, n_qubits-qubit-1)\n",
    "    for j in range(0,n_qubits):\n",
    "        for m in range(j):\n",
    "            circ_.cp(-np.pi/float(2**(j-m)), m, j)\n",
    "        circ_.h(j)"
   ]
  },
  {
   "cell_type": "code",
   "execution_count": 5,
   "id": "5aef9554",
   "metadata": {},
   "outputs": [],
   "source": [
    "#Initial state of Quantum Phase Estimation\n",
    "\n",
    "def qpe_pre(circ_, n_qubits):\n",
    "    circ_.h(range(n_qubits))\n",
    "    circ_.x(n_qubits)\n",
    "\n",
    "    for x in reversed(range(n_qubits)):\n",
    "        for _ in range(2**(n_qubits-1-x)):\n",
    "            circ_.cp(1, n_qubits-1-x, n_qubits)"
   ]
  },
  {
   "cell_type": "code",
   "execution_count": 6,
   "id": "efbac5e4",
   "metadata": {},
   "outputs": [],
   "source": [
    "def run_job(circ, backend, shots, optimization_level=0):\n",
    "    t_circ = transpile(circ, backend, optimization_level=optimization_level, coupling_map=None)\n",
    "    qobj = assemble(t_circ, shots=shots)\n",
    "    job = backend.run(qobj)\n",
    "    result = job.result()\n",
    "    return result"
   ]
  },
  {
   "cell_type": "code",
   "execution_count": 7,
   "id": "9e91e8df",
   "metadata": {},
   "outputs": [],
   "source": [
    "def get_pi_estimate(n_qubits, backend, shots):\n",
    "        \n",
    "    # create the circuit\n",
    "    circ = QuantumCircuit(n_qubits + 1, n_qubits)\n",
    "    \n",
    "    # create the input state\n",
    "    qpe_pre(circ, n_qubits)\n",
    "        \n",
    "    # apply a barrier\n",
    "    circ.barrier()\n",
    "    # apply the inverse fourier transform\n",
    "    qft_dagger(circ, n_qubits)\n",
    "    # apply  a barrier\n",
    "    circ.barrier()\n",
    "    # measure all but the last qubits\n",
    "    circ.measure(range(n_qubits), range(n_qubits))\n",
    "    \n",
    "    # optionally save to a file\n",
    "    if n_qubits == 3:\n",
    "        circ.draw(filename='qpe')\n",
    "\n",
    "    # run the job and get the results\n",
    "    job_results = run_job(circ, backend, shots, optimization_level=0)\n",
    "    \n",
    "    # Extract the counts from the result\n",
    "    if(type(backend) is SamplerV2):\n",
    "        result = job_results[0].data.c\n",
    "        counts = result.get_counts()\n",
    "    else:\n",
    "        counts = job_results.get_counts()\n",
    "        \n",
    "    print('counts = ', counts) \n",
    "\n",
    "    # get the count that occurred most frequently\n",
    "    max_counts_result = max(counts, key=counts.get)\n",
    "    print('max_counts_result = ', max_counts_result)\n",
    "    max_counts_result = int(max_counts_result, 2)\n",
    "    print('max_counts_result = ', max_counts_result)\n",
    "    \n",
    "    # solve for pi from the measured counts\n",
    "    theta = max_counts_result/2**n_qubits\n",
    "    return (1./(2*theta))"
   ]
  },
  {
   "cell_type": "code",
   "execution_count": null,
   "id": "02ad3476",
   "metadata": {},
   "outputs": [],
   "source": [
    "# estimate pi using different numbers of qubits\n",
    "number_of_shots = 1024\n",
    "upper_limit_qubits = 10 # Add an upper limit of qubits\n",
    "nqs = list(range(2,upper_limit_qubits+1))\n",
    "pi_estimates = []\n",
    "for nq in nqs:\n",
    "    thisnq_pi_estimate = get_pi_estimate(nq, sampler, number_of_shots)\n",
    "    pi_estimates.append(thisnq_pi_estimate)\n",
    "    print(f\"{nq} qubits, pi ≈ {thisnq_pi_estimate}\")"
   ]
  },
  {
   "cell_type": "code",
   "execution_count": null,
   "id": "8a924109",
   "metadata": {},
   "outputs": [],
   "source": [
    "pi = np.pi\n",
    "\n",
    "plt.plot(nqs, [pi]*len(nqs), '--r')\n",
    "plt.plot(nqs, pi_estimates, '.-', markersize=12)\n",
    "plt.xlim([nqs[0]-1,nqs[-1]+1])\n",
    "plt.ylim([1.5, 4.5])\n",
    "plt.legend(['$\\pi$', 'estimate of $\\pi$'])\n",
    "plt.xlabel('Number of qubits', fontdict={'size':20})\n",
    "plt.ylabel('$\\pi$ and estimate of $\\pi$', fontdict={'size':20})\n",
    "plt.tick_params(axis='x', labelsize=12)\n",
    "plt.tick_params(axis='y', labelsize=12)\n",
    "plt.show()"
   ]
  }
 ],
 "metadata": {
  "kernelspec": {
   "display_name": "Qiskit v1.0.2 (ipykernel)",
   "language": "python",
   "name": "python3"
  },
  "language_info": {
   "codemirror_mode": {
    "name": "ipython",
    "version": 3
   },
   "file_extension": ".py",
   "mimetype": "text/x-python",
   "name": "python",
   "nbconvert_exporter": "python",
   "pygments_lexer": "ipython3",
   "version": "3.11.6"
  },
  "widgets": {
   "application/vnd.jupyter.widget-state+json": {
    "state": {},
    "version_major": 2,
    "version_minor": 0
   }
  }
 },
 "nbformat": 4,
 "nbformat_minor": 5
}
