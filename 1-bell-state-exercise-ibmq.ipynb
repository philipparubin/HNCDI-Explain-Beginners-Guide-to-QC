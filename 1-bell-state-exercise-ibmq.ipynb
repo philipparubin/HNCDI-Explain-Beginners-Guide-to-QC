{
 "cells": [
  {
   "cell_type": "markdown",
   "id": "1b84a11e",
   "metadata": {
    "tags": []
   },
   "source": [
    "# HNCDI Explain: Mathematical Fundamentals of Quantum Computing"
   ]
  },
  {
   "cell_type": "markdown",
   "id": "426a833a",
   "metadata": {},
   "source": [
    "## Tutorial 1: Create a Bell state on a Simulator and on IBMQ"
   ]
  },
  {
   "cell_type": "code",
   "execution_count": null,
   "id": "31284a34",
   "metadata": {},
   "outputs": [],
   "source": [
    "# Default imports\n",
    "import numpy as np\n",
    "\n",
    "# Importing standard Qiskit libraries\n",
    "from qiskit import QuantumRegister, ClassicalRegister, QuantumCircuit, transpile\n",
    "\n",
    "from qiskit_aer import AerSimulator\n",
    "from qiskit_ibm_runtime import QiskitRuntimeService\n",
    "\n",
    "from qiskit_ibm_provider import IBMProvider\n",
    "\n",
    "from qiskit.compiler import transpile\n",
    "\n",
    "from qiskit.visualization import *\n",
    "from ibm_quantum_widgets import *\n",
    "\n",
    "provider = IBMProvider() # loads account from env variables"
   ]
  },
  {
   "cell_type": "code",
   "execution_count": null,
   "id": "bb9c0a2b",
   "metadata": {},
   "outputs": [],
   "source": [
    "# Notebook imports\n",
    "from qiskit_ibm_provider import least_busy\n",
    "\n",
    "# pi approximation\n",
    "from qiskit import assemble\n",
    "from qiskit_ibm_provider.job import job_monitor\n",
    "import matplotlib.pyplot as plt"
   ]
  },
  {
   "cell_type": "markdown",
   "id": "0b84de55-09e2-4ddc-992b-d2fcd7f1e654",
   "metadata": {},
   "source": [
    "## Create your Bell state circuit"
   ]
  },
  {
   "cell_type": "code",
   "execution_count": null,
   "id": "6fd94d48-4f20-4336-8039-c320bf1813ec",
   "metadata": {},
   "outputs": [],
   "source": [
    "# Create your Bell state circuit\n",
    "\n",
    "number_of_qubits =  #TODO: add qubits\n",
    "number_of_classical_bits = #TODO: add classical bits\n",
    "\n",
    "qreg_q = QuantumRegister(number_of_qubits, 'q')\n",
    "creg_c = ClassicalRegister(number_of_classical_bits, 'c')\n",
    "\n",
    "circuit = QuantumCircuit(qreg_q, creg_c)\n",
    "\n",
    "circuit.h(qreg_q[0])\n",
    "circuit.cx(qreg_q[0], qreg_q[1])\n",
    "circuit.measure(qreg_q[0], creg_c[0])\n",
    "circuit.measure(qreg_q[1], creg_c[1])\n",
    "\n",
    "circuit.draw()"
   ]
  },
  {
   "cell_type": "markdown",
   "id": "05f6782f-c8cf-4e33-a367-08e3b34c7e01",
   "metadata": {},
   "source": [
    "## Submit Bell state circuit to a simulator"
   ]
  },
  {
   "cell_type": "code",
   "execution_count": null,
   "id": "54a41fb1-e82f-4f59-baf3-ce721b658e05",
   "metadata": {},
   "outputs": [],
   "source": [
    "simulator_backend = AerSimulator()"
   ]
  },
  {
   "cell_type": "code",
   "execution_count": null,
   "id": "63bb5057-f6db-4504-9453-1abf0adf887c",
   "metadata": {},
   "outputs": [],
   "source": [
    "# Submit job to simulator backend\n",
    "simulator_job = simulator_backend.run(circuit, shots=1024).result()"
   ]
  },
  {
   "cell_type": "code",
   "execution_count": null,
   "id": "7b343e9d-f5d3-4409-96f7-f07b36827ee3",
   "metadata": {},
   "outputs": [],
   "source": [
    "# List measurement outcomes\n",
    "simulator_job_counts = simulator_job.get_counts()\n",
    "simulator_job_counts"
   ]
  },
  {
   "cell_type": "code",
   "execution_count": null,
   "id": "ea966d27-f68e-45cc-8279-09d1ac9139ec",
   "metadata": {},
   "outputs": [],
   "source": [
    "# Plot measurement outcomes \n",
    "plot_histogram(simulator_job_counts)"
   ]
  },
  {
   "cell_type": "markdown",
   "id": "61414335-1dd2-4066-8967-6b440c71bf29",
   "metadata": {},
   "source": [
    "## Submit your Bell state circuit to real quantum hardware"
   ]
  },
  {
   "cell_type": "code",
   "execution_count": null,
   "id": "9b8b15ce-08ce-4d65-8a1f-1218714b982b",
   "metadata": {},
   "outputs": [],
   "source": [
    "# View backends\n",
    "provider.backends()"
   ]
  },
  {
   "cell_type": "code",
   "execution_count": null,
   "id": "caad584b-5887-47d3-9f82-54c9d3f8e20b",
   "metadata": {},
   "outputs": [],
   "source": [
    "# Find least busy machine to submit a job to. Set IBMQ backend to this machine.\n",
    "\n",
    "ibmq_backend = least_busy(provider.backends(filters=lambda x: x.configuration().n_qubits >= 2 \n",
    "                                            and not x.configuration().simulator \n",
    "                                            and x.status().operational==True))                \n",
    "ibmq_backend"
   ]
  },
  {
   "cell_type": "code",
   "execution_count": null,
   "id": "0ad98b8a-73e5-4d86-ab7d-1fc7fe61e17f",
   "metadata": {},
   "outputs": [],
   "source": [
    "# Transpile your circuit for the IBMQ backend\n",
    "transpiled_circuit = transpile(circuit, ibmq_backend)\n",
    "transpiled_circuit.draw()"
   ]
  },
  {
   "cell_type": "code",
   "execution_count": null,
   "id": "bf5107da-3138-4f24-8dfb-75b6560d2f3b",
   "metadata": {},
   "outputs": [],
   "source": [
    "# Submit job to IBMQ backend\n",
    "ibmq_job = ibmq_backend.run(transpiled_circuit, shots=1024).result()"
   ]
  },
  {
   "cell_type": "code",
   "execution_count": null,
   "id": "45886ccb-8a37-43cf-8be2-d5f3d7c1afce",
   "metadata": {},
   "outputs": [],
   "source": [
    "# List measurement outcomes\n",
    "ibmq_job_counts = ibmq_job.get_counts()\n",
    "ibmq_job_counts"
   ]
  },
  {
   "cell_type": "code",
   "execution_count": null,
   "id": "8c5076d8-7b13-49f2-9ae8-137ebc73d6c5",
   "metadata": {},
   "outputs": [],
   "source": [
    "# Plot measurement outcomes\n",
    "plot_histogram(ibmq_job_counts)"
   ]
  }
 ],
 "metadata": {
  "kernelspec": {
   "display_name": "Qiskit v1.0.2 (ipykernel)",
   "language": "python",
   "name": "python3"
  },
  "language_info": {
   "codemirror_mode": {
    "name": "ipython",
    "version": 3
   },
   "file_extension": ".py",
   "mimetype": "text/x-python",
   "name": "python",
   "nbconvert_exporter": "python",
   "pygments_lexer": "ipython3",
   "version": "3.10.8"
  },
  "widgets": {
   "application/vnd.jupyter.widget-state+json": {
    "state": {},
    "version_major": 2,
    "version_minor": 0
   }
  }
 },
 "nbformat": 4,
 "nbformat_minor": 5
}
