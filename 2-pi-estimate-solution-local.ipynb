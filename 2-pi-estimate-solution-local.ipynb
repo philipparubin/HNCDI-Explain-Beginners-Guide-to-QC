{
 "cells": [
  {
   "cell_type": "markdown",
   "id": "1b84a11e",
   "metadata": {
    "tags": []
   },
   "source": [
    "# HNCDI Explain: Mathematical Fundamentals of Quantum Computing"
   ]
  },
  {
   "cell_type": "markdown",
   "id": "73281dae",
   "metadata": {},
   "source": [
    "## Tutorial 2: Estimate $\\pi$ using quantum algorithms"
   ]
  },
  {
   "cell_type": "code",
   "execution_count": 1,
   "id": "31284a34",
   "metadata": {},
   "outputs": [],
   "source": [
    "# Default imports\n",
    "import numpy as np\n",
    "\n",
    "# Importing standard Qiskit libraries\n",
    "from qiskit import QuantumRegister, ClassicalRegister, QuantumCircuit, transpile, Aer, IBMQ\n",
    "from qiskit.compiler import transpile\n",
    "from qiskit.tools.jupyter import *\n",
    "from qiskit.visualization import *\n",
    "\n",
    "from ibm_quantum_widgets import *\n",
    "\n",
    "# # Loading your IBM Quantum account(s) # Remove comment for IBM Quantum Online\n",
    "# provider = IBMQ.load_account()"
   ]
  },
  {
   "cell_type": "code",
   "execution_count": 2,
   "id": "bb9c0a2b",
   "metadata": {},
   "outputs": [],
   "source": [
    "# Notebook imports\n",
    "from qiskit.providers.ibmq import least_busy\n",
    "\n",
    "# pi approximation\n",
    "from qiskit import assemble\n",
    "from qiskit.tools.monitor import job_monitor\n",
    "import matplotlib.pyplot as plt"
   ]
  },
  {
   "cell_type": "code",
   "execution_count": 3,
   "id": "4076857b",
   "metadata": {},
   "outputs": [
    {
     "data": {
      "text/html": [
       "<h3>Version Information</h3><table><tr><th>Qiskit Software</th><th>Version</th></tr><tr><td><code>qiskit-terra</code></td><td>0.23.1</td></tr><tr><td><code>qiskit-aer</code></td><td>0.11.2</td></tr><tr><td><code>qiskit-ibmq-provider</code></td><td>0.20.0</td></tr><tr><td><code>qiskit</code></td><td>0.41.0</td></tr><tr><th>System information</th></tr><tr><td>Python version</td><td>3.10.7</td></tr><tr><td>Python compiler</td><td>Clang 14.0.0 (clang-1400.0.29.202)</td></tr><tr><td>Python build</td><td>main, Nov  3 2022 00:50:17</td></tr><tr><td>OS</td><td>Darwin</td></tr><tr><td>CPUs</td><td>4</td></tr><tr><td>Memory (Gb)</td><td>16.0</td></tr><tr><td colspan='2'>Mon Feb 06 13:16:46 2023 GMT</td></tr></table>"
      ],
      "text/plain": [
       "<IPython.core.display.HTML object>"
      ]
     },
     "metadata": {},
     "output_type": "display_data"
    }
   ],
   "source": [
    "# Version Information\n",
    "%qiskit_version_table"
   ]
  },
  {
   "cell_type": "code",
   "execution_count": 4,
   "id": "5788a2d7",
   "metadata": {},
   "outputs": [
    {
     "data": {
      "text/plain": [
       "[AerSimulator('aer_simulator'),\n",
       " AerSimulator('aer_simulator_statevector'),\n",
       " AerSimulator('aer_simulator_density_matrix'),\n",
       " AerSimulator('aer_simulator_stabilizer'),\n",
       " AerSimulator('aer_simulator_matrix_product_state'),\n",
       " AerSimulator('aer_simulator_extended_stabilizer'),\n",
       " AerSimulator('aer_simulator_unitary'),\n",
       " AerSimulator('aer_simulator_superop'),\n",
       " QasmSimulator('qasm_simulator'),\n",
       " StatevectorSimulator('statevector_simulator'),\n",
       " UnitarySimulator('unitary_simulator'),\n",
       " PulseSimulator('pulse_simulator')]"
      ]
     },
     "execution_count": 4,
     "metadata": {},
     "output_type": "execute_result"
    }
   ],
   "source": [
    "Aer.backends()"
   ]
  },
  {
   "cell_type": "code",
   "execution_count": 5,
   "id": "da068e47",
   "metadata": {},
   "outputs": [],
   "source": [
    "# Set simulator backend\n",
    "simulator_backend = Aer.get_backend('aer_simulator')"
   ]
  },
  {
   "cell_type": "markdown",
   "id": "4336e741",
   "metadata": {},
   "source": [
    "## Approximating $\\pi$ "
   ]
  },
  {
   "cell_type": "code",
   "execution_count": 6,
   "id": "6cca510f",
   "metadata": {},
   "outputs": [],
   "source": [
    "#Compute the Inverse Quantum Fourier Transform\n",
    "\n",
    "def qft_dagger(circ_, n_qubits):\n",
    "    \"\"\"n-qubit QFTdagger the first n qubits in circ\"\"\"\n",
    "    for qubit in range(int(n_qubits/2)):\n",
    "        circ_.swap(qubit, n_qubits-qubit-1)\n",
    "    for j in range(0,n_qubits):\n",
    "        for m in range(j):\n",
    "            circ_.cp(-np.pi/float(2**(j-m)), m, j)\n",
    "        circ_.h(j)"
   ]
  },
  {
   "cell_type": "code",
   "execution_count": 7,
   "id": "5aef9554",
   "metadata": {},
   "outputs": [],
   "source": [
    "#Initial state of Quantum Phase Estimation\n",
    "\n",
    "def qpe_pre(circ_, n_qubits):\n",
    "    circ_.h(range(n_qubits))\n",
    "    circ_.x(n_qubits)\n",
    "\n",
    "    for x in reversed(range(n_qubits)):\n",
    "        for _ in range(2**(n_qubits-1-x)):\n",
    "            circ_.cp(1, n_qubits-1-x, n_qubits)"
   ]
  },
  {
   "cell_type": "code",
   "execution_count": 8,
   "id": "efbac5e4",
   "metadata": {},
   "outputs": [],
   "source": [
    "def run_job(circ, backend, shots, optimization_level=0):\n",
    "    t_circ = transpile(circ, backend, optimization_level=optimization_level)\n",
    "    qobj = assemble(t_circ, shots=shots)\n",
    "    job = backend.run(qobj)\n",
    "    job_monitor(job)\n",
    "    return job.result().get_counts()"
   ]
  },
  {
   "cell_type": "code",
   "execution_count": 9,
   "id": "9e91e8df",
   "metadata": {},
   "outputs": [],
   "source": [
    "def get_pi_estimate(n_qubits, backend, shots):\n",
    "        \n",
    "    # create the circuit\n",
    "    circ = QuantumCircuit(n_qubits + 1, n_qubits)\n",
    "    \n",
    "    # create the input state\n",
    "    qpe_pre(circ, n_qubits)\n",
    "        \n",
    "    # apply a barrier\n",
    "    circ.barrier()\n",
    "    # apply the inverse fourier transform\n",
    "    qft_dagger(circ, n_qubits)\n",
    "    # apply  a barrier\n",
    "    circ.barrier()\n",
    "    # measure all but the last qubits\n",
    "    circ.measure(range(n_qubits), range(n_qubits))\n",
    "    \n",
    "    # optionally save to a file\n",
    "    if n_qubits == 3:\n",
    "        circ.draw(filename='qpe')\n",
    "\n",
    "    # run the job and get the results\n",
    "    counts = run_job(circ, backend, shots, optimization_level=0)\n",
    "    print('counts = ', counts) \n",
    "\n",
    "    # get the count that occurred most frequently\n",
    "    max_counts_result = max(counts, key=counts.get)\n",
    "    print('max_counts_result = ', max_counts_result)\n",
    "    max_counts_result = int(max_counts_result, 2)\n",
    "    print('max_counts_result = ', max_counts_result)\n",
    "    \n",
    "    # solve for pi from the measured counts\n",
    "    theta = max_counts_result/2**n_qubits\n",
    "    return (1./(2*theta))"
   ]
  },
  {
   "cell_type": "code",
   "execution_count": 10,
   "id": "02ad3476",
   "metadata": {},
   "outputs": [
    {
     "name": "stdout",
     "output_type": "stream",
     "text": [
      "Job Status: job has successfully run\n",
      "counts =  {'11': 512, '10': 644, '00': 2305, '01': 6539}\n",
      "max_counts_result =  01\n",
      "max_counts_result =  1\n",
      "2 qubits, pi ≈ 2.0\n",
      "Job Status: job has successfully run\n",
      "counts =  {'101': 85, '100': 107, '001': 7765, '110': 91, '010': 1178, '000': 402, '111': 154, '011': 218}\n",
      "max_counts_result =  001\n",
      "max_counts_result =  1\n",
      "3 qubits, pi ≈ 4.0\n",
      "Job Status: job has successfully run\n",
      "counts =  {'1010': 37, '0110': 99, '1110': 61, '1000': 53, '1011': 52, '0101': 176, '1001': 32, '1111': 84, '1101': 55, '0011': 4779, '0001': 448, '1100': 38, '0100': 504, '0000': 189, '0010': 3331, '0111': 62}\n",
      "max_counts_result =  0011\n",
      "max_counts_result =  3\n",
      "4 qubits, pi ≈ 2.6666666666666665\n",
      "Job Status: job has successfully run\n",
      "counts =  {'10010': 1, '00101': 9718, '10101': 2, '00001': 6, '11010': 3, '01011': 4, '01111': 2, '10111': 1, '01101': 2, '01001': 6, '00000': 5, '00111': 24, '10100': 1, '11100': 3, '01010': 5, '10001': 1, '01000': 4, '00110': 100, '11111': 3, '11000': 2, '00011': 18, '11110': 2, '00100': 75, '00010': 12}\n",
      "max_counts_result =  00101\n",
      "max_counts_result =  5\n",
      "5 qubits, pi ≈ 3.2\n",
      "Job Status: job has successfully run\n",
      "counts =  {'111111': 1, '111110': 2, '100000': 2, '100111': 1, '100100': 1, '111101': 1, '011101': 2, '000101': 13, '000000': 7, '010010': 2, '100010': 1, '001111': 7, '110101': 2, '011010': 3, '000001': 4, '001000': 52, '111100': 6, '111010': 2, '100011': 1, '010111': 4, '010001': 8, '010110': 4, '110110': 2, '111011': 1, '000111': 21, '010100': 1, '010101': 2, '011100': 1, '101111': 2, '101110': 1, '000011': 2, '000110': 13, '011111': 3, '001110': 24, '011001': 1, '110111': 2, '010011': 6, '001101': 40, '000100': 10, '101000': 1, '001100': 90, '111000': 2, '000010': 6, '100001': 1, '010000': 5, '001001': 215, '001011': 434, '001010': 8988}\n",
      "max_counts_result =  001010\n",
      "max_counts_result =  10\n",
      "6 qubits, pi ≈ 3.2\n",
      "Job Status: job has successfully run\n",
      "counts =  {'0111011': 1, '1110010': 1, '0100100': 2, '0101110': 1, '1111110': 3, '1111010': 2, '0111000': 2, '1000010': 1, '0000011': 3, '1001110': 1, '0000110': 2, '1001010': 2, '0000010': 2, '0100101': 2, '0000001': 2, '0101011': 1, '1110001': 2, '1101110': 1, '1110101': 1, '1110100': 2, '0000100': 5, '1100001': 1, '0101010': 1, '1111000': 3, '0101100': 3, '0100111': 2, '0111110': 1, '1110110': 1, '0100000': 4, '1000100': 3, '1101011': 2, '1100101': 1, '0100010': 3, '0101001': 3, '0011011': 10, '0001001': 7, '0001011': 5, '0101000': 4, '0001100': 17, '0011111': 8, '1010110': 2, '1011110': 2, '0110001': 2, '0000000': 4, '0000101': 6, '0011101': 14, '0111010': 1, '0001000': 8, '0111100': 1, '1111111': 2, '0011010': 30, '0011110': 9, '1000110': 1, '0010100': 6165, '0000111': 13, '0010101': 2139, '0110011': 1, '1011100': 1, '0011000': 73, '0110101': 3, '0001111': 34, '1011111': 1, '0110110': 2, '1001101': 3, '0010001': 87, '0010111': 136, '0010110': 342, '1110111': 3, '0100011': 3, '0011100': 14, '0001101': 10, '0111111': 1, '1010111': 2, '0111001': 1, '1010001': 1, '0100001': 6, '0110111': 2, '1111101': 2, '0011001': 32, '0100110': 2, '0010000': 41, '1111011': 1, '0001010': 11, '0001110': 18, '0010011': 487, '0010010': 163}\n",
      "max_counts_result =  0010100\n",
      "max_counts_result =  20\n",
      "7 qubits, pi ≈ 3.2\n",
      "Job Status: job has successfully run\n",
      "counts =  {'01001100': 1, '00001010': 1, '01000100': 1, '01111010': 1, '00010101': 1, '00111010': 2, '00111100': 2, '11101111': 1, '00001110': 1, '01110111': 1, '01101111': 1, '00000110': 1, '10101110': 1, '01001010': 1, '00010011': 2, '00110110': 3, '00111101': 1, '00011000': 1, '01000000': 2, '11111011': 1, '00000111': 1, '00101101': 29, '00110011': 5, '10000101': 1, '00110101': 2, '00001111': 1, '10000111': 1, '00100001': 6, '00111001': 1, '00111110': 1, '00100000': 5, '01110110': 1, '00110111': 3, '00011110': 2, '10011111': 1, '11011110': 1, '11110101': 1, '00011100': 1, '00101111': 18, '01011011': 1, '01000011': 2, '00011101': 3, '00110001': 7, '00000101': 3, '11111110': 1, '01010110': 1, '00011111': 4, '00100010': 7, '00111000': 1, '00101001': 7978, '11011010': 1, '00111111': 2, '00000100': 1, '00100011': 15, '00110000': 11, '00111011': 1, '00000001': 2, '01101000': 1, '00100101': 30, '00100111': 202, '00101100': 57, '00110010': 3, '00101011': 95, '00101110': 16, '00110100': 4, '00100100': 27, '00011011': 1, '00011010': 5, '00001100': 1, '00101000': 996, '00100110': 68, '00010000': 1, '10011000': 1, '10011110': 1, '10000011': 1, '00101010': 342}\n",
      "max_counts_result =  00101001\n",
      "max_counts_result =  41\n",
      "8 qubits, pi ≈ 3.1219512195121952\n",
      "Job Status: job has successfully run\n",
      "counts =  {'001100100': 2, '010010111': 1, '011111001': 1, '010000111': 1, '101100011': 1, '010001101': 1, '001000011': 5, '111101010': 1, '010001110': 2, '001111010': 1, '001111000': 1, '000101001': 2, '000111101': 1, '000111000': 2, '101000011': 1, '001111011': 1, '000100110': 1, '001000000': 2, '011001000': 1, '000001110': 2, '001110100': 1, '001001011': 28, '010000011': 2, '001001000': 13, '001000111': 8, '010000100': 2, '000001010': 1, '010101000': 1, '010011011': 1, '111101000': 1, '010101111': 1, '001100010': 3, '000101100': 1, '010010011': 1, '001101011': 4, '000101000': 1, '001100101': 1, '000111100': 4, '110110011': 1, '010000110': 1, '001000100': 6, '101110110': 1, '000111011': 2, '000011010': 1, '110000010': 1, '001100110': 4, '001110101': 1, '001001111': 159, '000110100': 3, '101010101': 1, '001100001': 7, '111011101': 1, '001010011': 448, '000001011': 1, '001111001': 1, '001000010': 2, '001100111': 2, '001000101': 7, '001010100': 159, '001011101': 9, '001011011': 8, '000110001': 2, '001100011': 5, '101000100': 2, '000110110': 2, '001011111': 10, '000110101': 2, '111110101': 1, '001111111': 1, '001010000': 476, '000111010': 1, '001010101': 80, '100011011': 1, '000100011': 1, '100011110': 1, '001110111': 1, '001100000': 5, '001011110': 8, '001010110': 50, '000010010': 1, '001011010': 13, '001001101': 56, '001010010': 3868, '001001100': 42, '001011001': 24, '001001110': 76, '001000001': 5, '001011000': 28, '010100101': 1, '000111111': 3, '001010111': 30, '001101100': 1, '000111001': 2, '001010001': 4219, '001001010': 20, '001011100': 6, '000000000': 1, '000110011': 1, '010111101': 1, '001000110': 7, '000010011': 2, '001001001': 8, '010100001': 1, '001110110': 1, '000111110': 4}\n",
      "max_counts_result =  001010001\n",
      "max_counts_result =  81\n",
      "9 qubits, pi ≈ 3.1604938271604937\n",
      "Job Status: job has successfully run\n",
      "counts =  {'0010100111': 1, '0010110100': 1, '0010100011': 9978, '0010100100': 5, '0010100101': 3, '0010010101': 2, '0010110010': 1, '0010100010': 9}\n",
      "max_counts_result =  0010100011\n",
      "max_counts_result =  163\n",
      "10 qubits, pi ≈ 3.1411042944785277\n",
      "Job Status: job has successfully run\n",
      "counts =  {'00101001010': 1, '00100110011': 1, '00011101101': 1, '00100101000': 1, '00100111101': 1, '11101111101': 1, '00101101011': 1, '00101000011': 2, '00101001001': 2, '00101000100': 7, '00101010011': 2, '00101000010': 3, '00101000101': 33, '00101001000': 6, '00101000111': 24, '00101001111': 1, '00101000110': 9913}\n",
      "max_counts_result =  00101000110\n",
      "max_counts_result =  326\n",
      "11 qubits, pi ≈ 3.1411042944785277\n",
      "Job Status: job has successfully run\n",
      "counts =  {'001010000010': 1, '001010011001': 1, '001000010100': 1, '001010010001': 1, '001010100001': 1, '001010000100': 1, '001010001100': 9712, '001010000110': 2, '001010000101': 4, '001010000111': 1, '001001011110': 1, '001010110011': 1, '001010001000': 4, '001001110100': 1, '001010000001': 3, '001010001111': 5, '001010010010': 2, '001010011110': 1, '001010010011': 1, '001010011101': 2, '001010001010': 23, '001010010110': 1, '001011010001': 1, '001010100010': 1, '001010010100': 1, '001010001110': 19, '001011100011': 1, '001010001101': 73, '001010001001': 15, '001010010000': 1, '001010001011': 118}\n",
      "max_counts_result =  001010001100\n",
      "max_counts_result =  652\n",
      "12 qubits, pi ≈ 3.1411042944785277\n"
     ]
    }
   ],
   "source": [
    "# estimate pi using different numbers of qubits\n",
    "\n",
    "shots = 10000\n",
    "nqs = list(range(2,12+1))\n",
    "pi_estimates = []\n",
    "for nq in nqs:\n",
    "    thisnq_pi_estimate = get_pi_estimate(nq, simulator_backend, shots)\n",
    "    pi_estimates.append(thisnq_pi_estimate)\n",
    "    print(f\"{nq} qubits, pi ≈ {thisnq_pi_estimate}\")"
   ]
  },
  {
   "cell_type": "code",
   "execution_count": 11,
   "id": "8a924109",
   "metadata": {},
   "outputs": [
    {
     "data": {
      "image/png": "[encoded data removed]",
      "text/plain": [
       "<Figure size 640x480 with 1 Axes>"
      ]
     },
     "metadata": {},
     "output_type": "display_data"
    }
   ],
   "source": [
    "pi = np.pi\n",
    "\n",
    "plt.plot(nqs, [pi]*len(nqs), '--r')\n",
    "plt.plot(nqs, pi_estimates, '.-', markersize=12)\n",
    "plt.xlim([1.5, 12.5])\n",
    "plt.ylim([1.5, 4.5])\n",
    "plt.legend(['$\\pi$', 'estimate of $\\pi$'])\n",
    "plt.xlabel('Number of qubits', fontdict={'size':20})\n",
    "plt.ylabel('$\\pi$ and estimate of $\\pi$', fontdict={'size':20})\n",
    "plt.tick_params(axis='x', labelsize=12)\n",
    "plt.tick_params(axis='y', labelsize=12)\n",
    "plt.show()"
   ]
  }
 ],
 "metadata": {
  "kernelspec": {
   "display_name": "Python 3 (ipykernel)",
   "language": "python",
   "name": "python3"
  },
  "language_info": {
   "codemirror_mode": {
    "name": "ipython",
    "version": 3
   },
   "file_extension": ".py",
   "mimetype": "text/x-python",
   "name": "python",
   "nbconvert_exporter": "python",
   "pygments_lexer": "ipython3",
   "version": "3.10.7"
  },
  "widgets": {
   "application/vnd.jupyter.widget-state+json": {
    "state": {
     "00b7cab7357d4ef78072ee617a8abfef": {
      "model_module": "@jupyter-widgets/base",
      "model_module_version": "1.2.0",
      "model_name": "LayoutModel",
      "state": {
       "justify_content": "center",
       "max_width": "250px",
       "min_width": "250px"
      }
     },
     "012f80da0dc04ebd8fe4cef42c8cbd47": {
      "model_module": "@jupyter-widgets/controls",
      "model_module_version": "1.5.0",
      "model_name": "DescriptionStyleModel",
      "state": {
       "description_width": ""
      }
     },
     "016ab35f59274a879b85775b55d003c7": {
      "model_module": "@jupyter-widgets/controls",
      "model_module_version": "1.5.0",
      "model_name": "DescriptionStyleModel",
      "state": {
       "description_width": ""
      }
     },
     "01f7c3187d4946f1bb3e62c609b04c52": {
      "model_module": "@jupyter-widgets/controls",
      "model_module_version": "1.5.0",
      "model_name": "DescriptionStyleModel",
      "state": {
       "description_width": ""
      }
     },
     "0234175116764c508d7ab5ad89d5d219": {
      "model_module": "@jupyter-widgets/base",
      "model_module_version": "1.2.0",
      "model_name": "LayoutModel",
      "state": {
       "align_items": "center",
       "display": "inline-flex",
       "flex_flow": "column"
      }
     },
     "033402707e994c3bbe4e4c76f04c62f9": {
      "model_module": "@jupyter-widgets/controls",
      "model_module_version": "1.5.0",
      "model_name": "LabelModel",
      "state": {
       "layout": "IPY_MODEL_3b159ea1bf74495e8fd7c363df13b2e8",
       "style": "IPY_MODEL_303de2cc9cce4af78f942e91079568e5",
       "value": "40"
      }
     },
     "035ab71f06a6417c85ab7fa2e483778e": {
      "model_module": "@jupyter-widgets/controls",
      "model_module_version": "1.5.0",
      "model_name": "GridBoxModel",
      "state": {
       "children": [
        "IPY_MODEL_3c0043832d014535866c098ea22260f0"
       ],
       "layout": "IPY_MODEL_31bf13de14ff457c849c1e41897b9626"
      }
     },
     "03e625697c544d77b6dea56efe88571e": {
      "model_module": "@jupyter-widgets/controls",
      "model_module_version": "1.5.0",
      "model_name": "HTMLModel",
      "state": {
       "layout": "IPY_MODEL_0e146be5f9b940f596a56e26e6772300",
       "style": "IPY_MODEL_809d73a51a0043bcb634207320e89c39",
       "value": "<h5>8</h5>"
      }
     },
     "060585c4dc58411792f67ae782bc5149": {
      "model_module": "@jupyter-widgets/controls",
      "model_module_version": "1.5.0",
      "model_name": "LabelModel",
      "state": {
       "layout": "IPY_MODEL_799e5e8b11cd4d23a414343e677dd6f9",
       "style": "IPY_MODEL_3fbe0dfefff74239ba71ce6584ca6b4a",
       "value": "Least Busy"
      }
     },
     "069634c24353419cb62a9f8e37056a3a": {
      "model_module": "@jupyter-widgets/controls",
      "model_module_version": "1.5.0",
      "model_name": "LabelModel",
      "state": {
       "layout": "IPY_MODEL_32cf782d0490473d8d60674a70fed489",
       "style": "IPY_MODEL_eef994bb936141fab079d342f3e2cebc",
       "value": "Pending Jobs"
      }
     },
     "06b7b414297b49c6aa47b787410e6ae2": {
      "model_module": "@jupyter-widgets/controls",
      "model_module_version": "1.5.0",
      "model_name": "DescriptionStyleModel",
      "state": {
       "description_width": ""
      }
     },
     "0724d3333e30493182798e7e6c105526": {
      "model_module": "@jupyter-widgets/controls",
      "model_module_version": "1.5.0",
      "model_name": "VBoxModel",
      "state": {
       "children": [
        "IPY_MODEL_58ef4c6be3d6480cbe701e668bddc702",
        "IPY_MODEL_2666656e6524416cab1af13ef4135bc2",
        "IPY_MODEL_5c5df0e021f7429c96e31ee2ec692144",
        "IPY_MODEL_c6f4ce4714344f9db5f1ee62db8832d1",
        "IPY_MODEL_0c934b2dea3a48c2bac6590a14319a85",
        "IPY_MODEL_63b0df11fbeb4712b2e7a658e79c5218",
        "IPY_MODEL_16d415f3d76a4a9e83835b04a36eb5b6",
        "IPY_MODEL_f6b80ca4e07846ef8729031ae1530b70",
        "IPY_MODEL_d1cda42011304bf5a33bb44186241509",
        "IPY_MODEL_605ad83a70b041c6885da2c9750d5bf1"
       ],
       "layout": "IPY_MODEL_7cfbc032b17e466aa27926393b07921f"
      }
     },
     "074f06036baa413b9988d9a2147904c8": {
      "model_module": "@jupyter-widgets/controls",
      "model_module_version": "1.5.0",
      "model_name": "HTMLModel",
      "state": {
       "layout": "IPY_MODEL_2b5fdc68d2644076819553dfcfad41fd",
       "style": "IPY_MODEL_bc75d74f135b4c82b1626aaa3ce4b1f6",
       "value": "<h5>0.0287</h5>"
      }
     },
     "076529ad0602402597cda02c20f2d8e4": {
      "model_module": "@jupyter-widgets/controls",
      "model_module_version": "1.5.0",
      "model_name": "HTMLModel",
      "state": {
       "layout": "IPY_MODEL_9349396c9d8d41a1b01410744f9b7d64",
       "style": "IPY_MODEL_d7333f5109fb4d0fb02aec06d809690c",
       "value": "<div><font style='font-weight:bold'>last_update_date</font>: Thu 20 January 2022 at 05:56 UTC</div>"
      }
     },
     "07dea27a37a24280aef3608b4745d88c": {
      "model_module": "@jupyter-widgets/controls",
      "model_module_version": "1.5.0",
      "model_name": "ProgressStyleModel",
      "state": {
       "bar_color": "#71cddd",
       "description_width": ""
      }
     },
     "082ea35864a34d929350e135eba9ea33": {
      "model_module": "@jupyter-widgets/controls",
      "model_module_version": "1.5.0",
      "model_name": "DescriptionStyleModel",
      "state": {
       "description_width": ""
      }
     },
     "0857f8016ba94ec497d334e4ad299faa": {
      "model_module": "@jupyter-widgets/controls",
      "model_module_version": "1.5.0",
      "model_name": "HTMLModel",
      "state": {
       "layout": "IPY_MODEL_a5d696b0898040e48b8ca6d7e0f0f23e",
       "style": "IPY_MODEL_9e41cff19fa94bdaaeb246740dc4dbe6",
       "value": "<div><font style='font-weight:bold'>last_update_date</font>: 2022-01-20 05:56:47+00:00</div>"
      }
     },
     "08b5cebaf4934609ae4bd970ada05fed": {
      "model_module": "@jupyter-widgets/controls",
      "model_module_version": "1.5.0",
      "model_name": "LabelModel",
      "state": {
       "layout": "IPY_MODEL_d6ea946e93b34ebe8679a13280de9cab",
       "style": "IPY_MODEL_4a4f708e21ab42588969fe8d44bbd3ae",
       "value": "357"
      }
     },
     "08f9e1fb0dc94486bfd1a315e9a6d954": {
      "model_module": "@jupyter-widgets/controls",
      "model_module_version": "1.5.0",
      "model_name": "DescriptionStyleModel",
      "state": {
       "description_width": ""
      }
     },
     "09a8d1e4d0e84a4791446f806db9a884": {
      "model_module": "@jupyter-widgets/controls",
      "model_module_version": "1.5.0",
      "model_name": "HTMLModel",
      "state": {
       "layout": "IPY_MODEL_3c9882fe2a754e04bed5873f0cc20fc4",
       "style": "IPY_MODEL_c0b1ff28daa44b5497df3a6f895ca798",
       "value": "<h5><b>5</b></h5>"
      }
     },
     "0b9108ef8c664984a7345346d809ad58": {
      "model_module": "@jupyter-widgets/controls",
      "model_module_version": "1.5.0",
      "model_name": "DescriptionStyleModel",
      "state": {
       "description_width": ""
      }
     },
     "0c72ccac913d4aecbdf1f6a6e9251ae9": {
      "model_module": "@jupyter-widgets/controls",
      "model_module_version": "1.5.0",
      "model_name": "DescriptionStyleModel",
      "state": {
       "description_width": ""
      }
     },
     "0c934b2dea3a48c2bac6590a14319a85": {
      "model_module": "@jupyter-widgets/controls",
      "model_module_version": "1.5.0",
      "model_name": "HBoxModel",
      "state": {
       "children": [
        "IPY_MODEL_362d241f0fb44ff2be96cfa507fe9623",
        "IPY_MODEL_9845c89bb3334cc4808c62d0cdd3450c",
        "IPY_MODEL_3f6695123c4e4be09b891180651f07f2"
       ],
       "layout": "IPY_MODEL_5d0e6c2027d046579b25c37fbb3cb20c"
      }
     },
     "0cb404c449ad41ed908f505acb581a15": {
      "model_module": "@jupyter-widgets/controls",
      "model_module_version": "1.5.0",
      "model_name": "HTMLModel",
      "state": {
       "layout": "IPY_MODEL_70ca9ba48b8c443ebb08c9931c5de316",
       "style": "IPY_MODEL_fabbb96bc8d54fb7b800b67482a07b1e",
       "value": "<h5>0.0233</h5>"
      }
     },
     "0e146be5f9b940f596a56e26e6772300": {
      "model_module": "@jupyter-widgets/base",
      "model_module_version": "1.2.0",
      "model_name": "LayoutModel",
      "state": {
       "justify_content": "center"
      }
     },
     "0f85af981fd040a9b2b432ba63361b21": {
      "model_module": "@jupyter-widgets/base",
      "model_module_version": "1.2.0",
      "model_name": "LayoutModel",
      "state": {
       "min_width": "auto"
      }
     },
     "0fedc8c8ab1349e6899bc9415ea8b827": {
      "model_module": "@jupyter-widgets/controls",
      "model_module_version": "1.5.0",
      "model_name": "HTMLModel",
      "state": {
       "layout": "IPY_MODEL_b3863da41eb246ebb9ce9993909b15be",
       "style": "IPY_MODEL_8cf7775d83884edc8ff37634f60187dc",
       "value": "<h5>Status</h5>"
      }
     },
     "11418f1357494738848f89c680c02237": {
      "model_module": "@jupyter-widgets/controls",
      "model_module_version": "1.5.0",
      "model_name": "HTMLModel",
      "state": {
       "layout": "IPY_MODEL_8206ae1581104d5481655e7d24bdad40",
       "style": "IPY_MODEL_cbacf2818b86438a885fe0d2d37c3632",
       "value": "<h5>0.0306</h5>"
      }
     },
     "11951f12d95e4a28befcfa81ccf1ae40": {
      "model_module": "@jupyter-widgets/controls",
      "model_module_version": "1.5.0",
      "model_name": "HTMLModel",
      "state": {
       "layout": "IPY_MODEL_c0315a8e46c44be3886bee00e89e3f43",
       "style": "IPY_MODEL_384f131b776141beae8bfd07ed68014d",
       "value": "<h5 style='color:#dc267f'>False</h5>"
      }
     },
     "125f5903064a42dabd94b111f888771f": {
      "model_module": "@jupyter-widgets/base",
      "model_module_version": "1.2.0",
      "model_name": "LayoutModel",
      "state": {}
     },
     "12f8cabfc79b47f2a9ac87f6a2db90d3": {
      "model_module": "@jupyter-widgets/base",
      "model_module_version": "1.2.0",
      "model_name": "LayoutModel",
      "state": {
       "justify_content": "center"
      }
     },
     "13ee32dbdfad456ebfca7a610d662ff7": {
      "model_module": "@jupyter-widgets/output",
      "model_module_version": "1.0.0",
      "model_name": "OutputModel",
      "state": {
       "layout": "IPY_MODEL_8dfc8887664e41568f34b74a8eba037e",
       "outputs": [
        {
         "data": {
          "image/png": "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\n",
          "text/plain": "<Figure size 360x360 with 1 Axes>"
         },
         "metadata": {},
         "output_type": "display_data"
        }
       ]
      }
     },
     "140a3386fa8f4e56b7dbe6ba80b94f6a": {
      "model_module": "@jupyter-widgets/base",
      "model_module_version": "1.2.0",
      "model_name": "LayoutModel",
      "state": {}
     },
     "1605795b25c549ab866a0f7d25b6cc3d": {
      "model_module": "@jupyter-widgets/base",
      "model_module_version": "1.2.0",
      "model_name": "LayoutModel",
      "state": {}
     },
     "1652c8e287874bb7922ce63acc63bef5": {
      "model_module": "@jupyter-widgets/controls",
      "model_module_version": "1.5.0",
      "model_name": "HTMLModel",
      "state": {
       "layout": "IPY_MODEL_a7c95650221149249c8ee3022ce6a99c",
       "style": "IPY_MODEL_5c457fe35dfd4cc2826afae513db4006",
       "value": "<h5><b>5</b></h5>"
      }
     },
     "16d415f3d76a4a9e83835b04a36eb5b6": {
      "model_module": "@jupyter-widgets/controls",
      "model_module_version": "1.5.0",
      "model_name": "HTMLModel",
      "state": {
       "layout": "IPY_MODEL_c38de5d4f31e42039fa698e1fb44039f",
       "style": "IPY_MODEL_7253b5b9ef6a41c2b1a7cee0abf40fde",
       "value": "<h5 style='color:#34bc6e'>True</h5>"
      }
     },
     "17727c00af984f27879fc8c5e4beaa52": {
      "model_module": "@jupyter-widgets/controls",
      "model_module_version": "1.5.0",
      "model_name": "ProgressStyleModel",
      "state": {
       "bar_color": "#71cddd",
       "description_width": ""
      }
     },
     "17a6650da12346f48ad4aae64ef1beac": {
      "model_module": "@jupyter-widgets/controls",
      "model_module_version": "1.5.0",
      "model_name": "VBoxModel",
      "state": {
       "children": [
        "IPY_MODEL_702e9f1dd5b94e679879018aa11f8bd3",
        "IPY_MODEL_2e89848058b9482caf86a58a6d98f94e",
        "IPY_MODEL_1652c8e287874bb7922ce63acc63bef5",
        "IPY_MODEL_ff47afb41fb146b492e6339171c36e51",
        "IPY_MODEL_c44757d0161a4b1a9eb2c90bb2269db0",
        "IPY_MODEL_7b23b3d457a244ec8f093a1c0375f84c",
        "IPY_MODEL_df8b35773bb445c9a05c57c1752f4ab2",
        "IPY_MODEL_3c9851eead5a432b8583b7a9521f7df9",
        "IPY_MODEL_11418f1357494738848f89c680c02237",
        "IPY_MODEL_80029b731ce4400ca41ef7afe99ac492"
       ],
       "layout": "IPY_MODEL_0234175116764c508d7ab5ad89d5d219"
      }
     },
     "17dfb5b1dc0745669e42fbdea030449a": {
      "model_module": "@jupyter-widgets/controls",
      "model_module_version": "1.5.0",
      "model_name": "DescriptionStyleModel",
      "state": {
       "description_width": ""
      }
     },
     "193b1bb1a16141c082ab67158208c6de": {
      "model_module": "@jupyter-widgets/controls",
      "model_module_version": "1.5.0",
      "model_name": "HTMLModel",
      "state": {
       "layout": "IPY_MODEL_85e82426092f449fb694fb7fd0572008",
       "style": "IPY_MODEL_d3a3808e27474223b79df4dda9bb966a",
       "value": "<h5>67.6 / 77.4 us</h5>"
      }
     },
     "1ad543ff27d54772b6a0390251354986": {
      "model_module": "@jupyter-widgets/base",
      "model_module_version": "1.2.0",
      "model_name": "LayoutModel",
      "state": {
       "max_width": "180px"
      }
     },
     "1ad59e2cf8d54884b4e042c6d22a0c79": {
      "model_module": "@jupyter-widgets/base",
      "model_module_version": "1.2.0",
      "model_name": "LayoutModel",
      "state": {}
     },
     "1bcca82b5f014572948b89813b3fe657": {
      "model_module": "@jupyter-widgets/controls",
      "model_module_version": "1.5.0",
      "model_name": "HBoxModel",
      "state": {
       "children": [
        "IPY_MODEL_08b5cebaf4934609ae4bd970ada05fed",
        "IPY_MODEL_d4f98bd8abb247b1bab09eeac2b895d7",
        "IPY_MODEL_934c7f46d56e43ed976b82c3ce1575b4"
       ],
       "layout": "IPY_MODEL_2f1fbada268b4be594ff362e3bd95610"
      }
     },
     "202f8cd49ebf476f8262c12bf02f7892": {
      "model_module": "@jupyter-widgets/controls",
      "model_module_version": "1.5.0",
      "model_name": "DescriptionStyleModel",
      "state": {
       "description_width": ""
      }
     },
     "21ee37e1e863467aa69d120e8640689d": {
      "model_module": "@jupyter-widgets/controls",
      "model_module_version": "1.5.0",
      "model_name": "VBoxModel",
      "state": {
       "children": [
        "IPY_MODEL_e4964ed846eb4694812ff7d489179823",
        "IPY_MODEL_902dcc2a7dce4fd49b39ddf02bc1cd7e"
       ],
       "layout": "IPY_MODEL_99744ae9285645e2bb01a41b4f2c3218"
      }
     },
     "23022d13113d4fbf9d907629e082b1fb": {
      "model_module": "@jupyter-widgets/base",
      "model_module_version": "1.2.0",
      "model_name": "LayoutModel",
      "state": {
       "margin": "5px 0px 0px 0px"
      }
     },
     "23f9b97c7f9544feb7530fe3fa20dce5": {
      "model_module": "@jupyter-widgets/base",
      "model_module_version": "1.2.0",
      "model_name": "LayoutModel",
      "state": {
       "margin": "0px 5px 0px 0px",
       "width": "32px"
      }
     },
     "253e8a1fb3c3418dbddefdfd61e1cac5": {
      "model_module": "@jupyter-widgets/controls",
      "model_module_version": "1.5.0",
      "model_name": "DescriptionStyleModel",
      "state": {
       "description_width": ""
      }
     },
     "2666656e6524416cab1af13ef4135bc2": {
      "model_module": "@jupyter-widgets/output",
      "model_module_version": "1.0.0",
      "model_name": "OutputModel",
      "state": {
       "layout": "IPY_MODEL_b252489d002644649e26b1f94af72187",
       "outputs": [
        {
         "data": {
          "image/png": "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\n",
          "text/plain": "<Figure size 360x360 with 1 Axes>"
         },
         "metadata": {},
         "output_type": "display_data"
        }
       ]
      }
     },
     "27da3bbeeee34458ad868d783d1cf7ab": {
      "model_module": "@jupyter-widgets/base",
      "model_module_version": "1.2.0",
      "model_name": "LayoutModel",
      "state": {
       "justify_content": "center",
       "max_width": "250px",
       "min_width": "250px"
      }
     },
     "281907a9579f473fba6e7317b676dee1": {
      "model_module": "@jupyter-widgets/base",
      "model_module_version": "1.2.0",
      "model_name": "LayoutModel",
      "state": {}
     },
     "28a6d7d45a92428889d6f2d4726b1ea3": {
      "model_module": "@jupyter-widgets/base",
      "model_module_version": "1.2.0",
      "model_name": "LayoutModel",
      "state": {}
     },
     "2920e768d80542b68f86ee0674988b96": {
      "model_module": "@jupyter-widgets/controls",
      "model_module_version": "1.5.0",
      "model_name": "DescriptionStyleModel",
      "state": {
       "description_width": ""
      }
     },
     "2b5fdc68d2644076819553dfcfad41fd": {
      "model_module": "@jupyter-widgets/base",
      "model_module_version": "1.2.0",
      "model_name": "LayoutModel",
      "state": {}
     },
     "2c8efad028924f7c9d5180183722b875": {
      "model_module": "@jupyter-widgets/controls",
      "model_module_version": "1.5.0",
      "model_name": "HTMLModel",
      "state": {
       "layout": "IPY_MODEL_e6d7c418f0c6415784a505c425e65a59",
       "style": "IPY_MODEL_ee67d3c18b374954a4f5b36e188c91a2",
       "value": "<h5>79.4 / 88.5 us</h5>"
      }
     },
     "2e0979fbfcc249f7b91cb295d7f9fc11": {
      "model_module": "@jupyter-widgets/base",
      "model_module_version": "1.2.0",
      "model_name": "LayoutModel",
      "state": {
       "margin": "0px 0px 0px 0px"
      }
     },
     "2e89848058b9482caf86a58a6d98f94e": {
      "model_module": "@jupyter-widgets/output",
      "model_module_version": "1.0.0",
      "model_name": "OutputModel",
      "state": {
       "layout": "IPY_MODEL_a00651a99ae540cb9e24595eecfd4be9",
       "outputs": [
        {
         "data": {
          "image/png": "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\n",
          "text/plain": "<Figure size 360x360 with 1 Axes>"
         },
         "metadata": {},
         "output_type": "display_data"
        }
       ]
      }
     },
     "2ebaec46850e4355aa457a5c9df5d4b4": {
      "model_module": "@jupyter-widgets/controls",
      "model_module_version": "1.5.0",
      "model_name": "HTMLModel",
      "state": {
       "layout": "IPY_MODEL_61417e367ac34e2b87adc9c47718c28b",
       "style": "IPY_MODEL_34735f4b24fe426491653c42abf9d970",
       "value": "-"
      }
     },
     "2f1fbada268b4be594ff362e3bd95610": {
      "model_module": "@jupyter-widgets/base",
      "model_module_version": "1.2.0",
      "model_name": "LayoutModel",
      "state": {
       "justify_content": "center",
       "max_width": "250px",
       "min_width": "250px"
      }
     },
     "303de2cc9cce4af78f942e91079568e5": {
      "model_module": "@jupyter-widgets/controls",
      "model_module_version": "1.5.0",
      "model_name": "DescriptionStyleModel",
      "state": {
       "description_width": ""
      }
     },
     "3051d0204af64421aa463f3bf3cde92b": {
      "model_module": "@jupyter-widgets/controls",
      "model_module_version": "1.5.0",
      "model_name": "DescriptionStyleModel",
      "state": {
       "description_width": ""
      }
     },
     "318d92eaf0fd4901b488105a30618a29": {
      "model_module": "@jupyter-widgets/base",
      "model_module_version": "1.2.0",
      "model_name": "LayoutModel",
      "state": {
       "justify_content": "center"
      }
     },
     "31bf13de14ff457c849c1e41897b9626": {
      "model_module": "@jupyter-widgets/base",
      "model_module_version": "1.2.0",
      "model_name": "LayoutModel",
      "state": {
       "grid_template_areas": "\n                                       \". . . . right \"\n                                        ",
       "grid_template_columns": "20% 20% 20% 20% 20%",
       "width": "100%"
      }
     },
     "32cf782d0490473d8d60674a70fed489": {
      "model_module": "@jupyter-widgets/base",
      "model_module_version": "1.2.0",
      "model_name": "LayoutModel",
      "state": {
       "margin": "5px 0px 0px 0px"
      }
     },
     "330275e8293e4a65909b5d70e05ee419": {
      "model_module": "@jupyter-widgets/controls",
      "model_module_version": "1.5.0",
      "model_name": "HTMLModel",
      "state": {
       "layout": "IPY_MODEL_57c2886559a04f24b3f3c7291341c9bb",
       "style": "IPY_MODEL_8cb6df7157bd4c33ab55196037e5477e",
       "value": "<font style='color:#34BC6E'>DONE</font>"
      }
     },
     "333df8bff2c046d58fc1ef379a2239f2": {
      "model_module": "@jupyter-widgets/controls",
      "model_module_version": "1.5.0",
      "model_name": "ProgressStyleModel",
      "state": {
       "bar_color": "#71cddd",
       "description_width": ""
      }
     },
     "343ad5d6c0d047aba0c3407bf751e544": {
      "model_module": "@jupyter-widgets/controls",
      "model_module_version": "1.5.0",
      "model_name": "DescriptionStyleModel",
      "state": {
       "description_width": ""
      }
     },
     "34735f4b24fe426491653c42abf9d970": {
      "model_module": "@jupyter-widgets/controls",
      "model_module_version": "1.5.0",
      "model_name": "DescriptionStyleModel",
      "state": {
       "description_width": ""
      }
     },
     "3544d1102f074cc9943db7cafc498cf4": {
      "model_module": "@jupyter-widgets/base",
      "model_module_version": "1.2.0",
      "model_name": "LayoutModel",
      "state": {}
     },
     "35f9fcba99ac4547801c53fd6d254de3": {
      "model_module": "@jupyter-widgets/base",
      "model_module_version": "1.2.0",
      "model_name": "LayoutModel",
      "state": {}
     },
     "362d241f0fb44ff2be96cfa507fe9623": {
      "model_module": "@jupyter-widgets/controls",
      "model_module_version": "1.5.0",
      "model_name": "LabelModel",
      "state": {
       "layout": "IPY_MODEL_d271b6ed40ca4faa9dcb7ae3d54ee05a",
       "style": "IPY_MODEL_202f8cd49ebf476f8262c12bf02f7892",
       "value": "17"
      }
     },
     "375f6bbda1f84f4fb87a21cba3bb198a": {
      "model_module": "@jupyter-widgets/controls",
      "model_module_version": "1.5.0",
      "model_name": "HTMLModel",
      "state": {
       "layout": "IPY_MODEL_594f9429f7124262ae9c737a8c82182d",
       "style": "IPY_MODEL_4e74fab20805486b8501b3032ad817b9",
       "value": "<h5>32</h5>"
      }
     },
     "384f131b776141beae8bfd07ed68014d": {
      "model_module": "@jupyter-widgets/controls",
      "model_module_version": "1.5.0",
      "model_name": "DescriptionStyleModel",
      "state": {
       "description_width": ""
      }
     },
     "386720053baf49a09fab1fd2d5b15482": {
      "model_module": "@jupyter-widgets/controls",
      "model_module_version": "1.5.0",
      "model_name": "DescriptionStyleModel",
      "state": {
       "description_width": ""
      }
     },
     "386d62d22d2249fc9b3f3af471c64192": {
      "model_module": "@jupyter-widgets/base",
      "model_module_version": "1.2.0",
      "model_name": "LayoutModel",
      "state": {
       "justify_content": "center"
      }
     },
     "39b8f0150e044b43b6af523585f39954": {
      "model_module": "@jupyter-widgets/controls",
      "model_module_version": "1.5.0",
      "model_name": "DescriptionStyleModel",
      "state": {
       "description_width": ""
      }
     },
     "3a79e87d7c4a4e6499f59cf56ce12832": {
      "model_module": "@jupyter-widgets/base",
      "model_module_version": "1.2.0",
      "model_name": "LayoutModel",
      "state": {
       "align_items": "center",
       "display": "flex-inline",
       "grid_area": "right",
       "max_height": "325px",
       "padding": "10px 10px 10px 10px",
       "width": "auto"
      }
     },
     "3ae98e5f3036453cad2b71d07e4ae889": {
      "model_module": "@jupyter-widgets/base",
      "model_module_version": "1.2.0",
      "model_name": "LayoutModel",
      "state": {
       "min_width": "auto"
      }
     },
     "3b159ea1bf74495e8fd7c363df13b2e8": {
      "model_module": "@jupyter-widgets/base",
      "model_module_version": "1.2.0",
      "model_name": "LayoutModel",
      "state": {
       "min_width": "auto"
      }
     },
     "3b21c09431ae4521baed70aa6e461a03": {
      "model_module": "@jupyter-widgets/output",
      "model_module_version": "1.0.0",
      "model_name": "OutputModel",
      "state": {
       "layout": "IPY_MODEL_3a79e87d7c4a4e6499f59cf56ce12832",
       "outputs": [
        {
         "data": {
          "image/png": "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\n",
          "text/plain": "<Figure size 360x360 with 1 Axes>"
         },
         "metadata": {},
         "output_type": "display_data"
        }
       ]
      }
     },
     "3b8037fc7c4d4d8297c3cd73df1e68c0": {
      "model_module": "@jupyter-widgets/controls",
      "model_module_version": "1.5.0",
      "model_name": "HTMLModel",
      "state": {
       "layout": "IPY_MODEL_e71a09a9637147d49404485accd1057f",
       "style": "IPY_MODEL_ba0a9ed58593483cab9327e475fb230a",
       "value": "<h5 style='color:#dc267f'>False</h5>"
      }
     },
     "3c0043832d014535866c098ea22260f0": {
      "model_module": "@jupyter-widgets/controls",
      "model_module_version": "1.5.0",
      "model_name": "ButtonModel",
      "state": {
       "button_style": "primary",
       "description": "Clear",
       "layout": "IPY_MODEL_e25fc6b2f79a4200a94a645fd38276bd",
       "style": "IPY_MODEL_6fba90dac4ef43f8b29fbf2921d20d5c"
      }
     },
     "3c1dba802d8d4ee9a15bc95a8308bf9f": {
      "model_module": "@jupyter-widgets/controls",
      "model_module_version": "1.5.0",
      "model_name": "DescriptionStyleModel",
      "state": {
       "description_width": ""
      }
     },
     "3c41198ffd384eea929a2fb9127025b9": {
      "model_module": "@jupyter-widgets/base",
      "model_module_version": "1.2.0",
      "model_name": "LayoutModel",
      "state": {
       "min_width": "auto"
      }
     },
     "3c9851eead5a432b8583b7a9521f7df9": {
      "model_module": "@jupyter-widgets/controls",
      "model_module_version": "1.5.0",
      "model_name": "HTMLModel",
      "state": {
       "layout": "IPY_MODEL_53f64d6e0ae64a97a07d02d3e3a31480",
       "style": "IPY_MODEL_bc66826a0b71463fbdd9c7156b41169d",
       "value": "<h5>89.9 / 128.3 us</h5>"
      }
     },
     "3c9882fe2a754e04bed5873f0cc20fc4": {
      "model_module": "@jupyter-widgets/base",
      "model_module_version": "1.2.0",
      "model_name": "LayoutModel",
      "state": {
       "justify_content": "center"
      }
     },
     "3ccdfa0a3eaa48718b0cba7531a668b9": {
      "model_module": "@jupyter-widgets/controls",
      "model_module_version": "1.5.0",
      "model_name": "DescriptionStyleModel",
      "state": {
       "description_width": ""
      }
     },
     "3ce1632f3b08428f8c12117641514696": {
      "model_module": "@jupyter-widgets/controls",
      "model_module_version": "1.5.0",
      "model_name": "DescriptionStyleModel",
      "state": {
       "description_width": ""
      }
     },
     "3cfcfe184f2f42f29fb3a037b7219643": {
      "model_module": "@jupyter-widgets/controls",
      "model_module_version": "1.5.0",
      "model_name": "DescriptionStyleModel",
      "state": {
       "description_width": ""
      }
     },
     "3d96248a7c0044d2a59da63989ff3a65": {
      "model_module": "@jupyter-widgets/controls",
      "model_module_version": "1.5.0",
      "model_name": "TabModel",
      "state": {
       "layout": "IPY_MODEL_4881c194dffa434a967fc243b5298358"
      }
     },
     "3ee554cd69204b51aa3f94fa7bbfe05b": {
      "model_module": "@jupyter-widgets/base",
      "model_module_version": "1.2.0",
      "model_name": "LayoutModel",
      "state": {}
     },
     "3f2afe52b4a342f19ce5ae637b002385": {
      "model_module": "@jupyter-widgets/base",
      "model_module_version": "1.2.0",
      "model_name": "LayoutModel",
      "state": {}
     },
     "3f6695123c4e4be09b891180651f07f2": {
      "model_module": "@jupyter-widgets/controls",
      "model_module_version": "1.5.0",
      "model_name": "LabelModel",
      "state": {
       "layout": "IPY_MODEL_574f68e841ab456e83fefaa8681fb0b7",
       "style": "IPY_MODEL_58e69cedd874457fad626318f42d33e3",
       "value": "50"
      }
     },
     "3fbe0dfefff74239ba71ce6584ca6b4a": {
      "model_module": "@jupyter-widgets/controls",
      "model_module_version": "1.5.0",
      "model_name": "DescriptionStyleModel",
      "state": {
       "description_width": ""
      }
     },
     "3fc061a6825b4216858544569b88a5a4": {
      "model_module": "@jupyter-widgets/controls",
      "model_module_version": "1.5.0",
      "model_name": "DescriptionStyleModel",
      "state": {
       "description_width": ""
      }
     },
     "40001509979d43e0bef3180b3268efca": {
      "model_module": "@jupyter-widgets/controls",
      "model_module_version": "1.5.0",
      "model_name": "VBoxModel",
      "state": {
       "children": [
        "IPY_MODEL_a88c0a72aa144de785f9624175058e3e",
        "IPY_MODEL_ec4520abb6f9471a8f3c19b936b4c0d1",
        "IPY_MODEL_09a8d1e4d0e84a4791446f806db9a884",
        "IPY_MODEL_375f6bbda1f84f4fb87a21cba3bb198a",
        "IPY_MODEL_1bcca82b5f014572948b89813b3fe657",
        "IPY_MODEL_fb951d7c3c1d4e64823f2ba4740b2477",
        "IPY_MODEL_ba2668711f494d41a33d6cbe8496e772",
        "IPY_MODEL_6b5287a828d2432195bc41f378706abc",
        "IPY_MODEL_ef890df86a1f4391afcf0cef89b70dce",
        "IPY_MODEL_0cb404c449ad41ed908f505acb581a15"
       ],
       "layout": "IPY_MODEL_f3291aad127546d9ad2c1ab274eb8918"
      }
     },
     "4097815510e84e5899fda62651e9e609": {
      "model_module": "@jupyter-widgets/controls",
      "model_module_version": "1.5.0",
      "model_name": "DescriptionStyleModel",
      "state": {
       "description_width": ""
      }
     },
     "40a06c5cc271457ea9180b83e25de67d": {
      "model_module": "@jupyter-widgets/controls",
      "model_module_version": "1.5.0",
      "model_name": "DescriptionStyleModel",
      "state": {
       "description_width": ""
      }
     },
     "40e2d812ff54462ca103a08889006771": {
      "model_module": "@jupyter-widgets/controls",
      "model_module_version": "1.5.0",
      "model_name": "DescriptionStyleModel",
      "state": {
       "description_width": ""
      }
     },
     "41f2d7bfa4b94302b1040319a859f556": {
      "model_module": "@jupyter-widgets/controls",
      "model_module_version": "1.5.0",
      "model_name": "HTMLModel",
      "state": {
       "layout": "IPY_MODEL_b3e8460033644acc86cf5b4a8bfe1df2",
       "style": "IPY_MODEL_854ffb9a0680473196a91fe6296920a8",
       "value": "<h5><b>5</b></h5>"
      }
     },
     "42b6042d3f494a92b79c96a9544d9069": {
      "model_module": "@jupyter-widgets/controls",
      "model_module_version": "1.5.0",
      "model_name": "DescriptionStyleModel",
      "state": {
       "description_width": ""
      }
     },
     "43b48a3ec5b2423f9281c6ebac28fadb": {
      "model_module": "@jupyter-widgets/base",
      "model_module_version": "1.2.0",
      "model_name": "LayoutModel",
      "state": {}
     },
     "43d1cc40af23478c954cb26f75e2ed13": {
      "model_module": "@jupyter-widgets/controls",
      "model_module_version": "1.5.0",
      "model_name": "DescriptionStyleModel",
      "state": {
       "description_width": ""
      }
     },
     "4453fc3bea6e4da2b58211233f20a278": {
      "model_module": "@jupyter-widgets/base",
      "model_module_version": "1.2.0",
      "model_name": "LayoutModel",
      "state": {
       "justify_content": "center"
      }
     },
     "44ec45ee6f5844618c87025dd4d07b0c": {
      "model_module": "@jupyter-widgets/controls",
      "model_module_version": "1.5.0",
      "model_name": "DescriptionStyleModel",
      "state": {
       "description_width": ""
      }
     },
     "44fcf965b9db4812bd02e7de5e028dcc": {
      "model_module": "@jupyter-widgets/controls",
      "model_module_version": "1.5.0",
      "model_name": "DescriptionStyleModel",
      "state": {
       "description_width": ""
      }
     },
     "453b39e2310e422fb66e400726485297": {
      "model_module": "@jupyter-widgets/controls",
      "model_module_version": "1.5.0",
      "model_name": "DescriptionStyleModel",
      "state": {
       "description_width": ""
      }
     },
     "46055c1777384c6cb73a4422ab3b950b": {
      "model_module": "@jupyter-widgets/controls",
      "model_module_version": "1.5.0",
      "model_name": "LabelModel",
      "state": {
       "layout": "IPY_MODEL_ecd78dc604be4e9897fd79df6eb33684",
       "style": "IPY_MODEL_9d352a5503ae4b26a4710cf581b5ce05",
       "value": "2109"
      }
     },
     "474b7e63c03c4e16a1c6b6dff6c7eab5": {
      "model_module": "@jupyter-widgets/base",
      "model_module_version": "1.2.0",
      "model_name": "LayoutModel",
      "state": {}
     },
     "4881c194dffa434a967fc243b5298358": {
      "model_module": "@jupyter-widgets/base",
      "model_module_version": "1.2.0",
      "model_name": "LayoutModel",
      "state": {
       "max_height": "620px"
      }
     },
     "488de16fa5d04e95a0c992f1f1f71f9b": {
      "model_module": "@jupyter-widgets/controls",
      "model_module_version": "1.5.0",
      "model_name": "DescriptionStyleModel",
      "state": {
       "description_width": ""
      }
     },
     "48b94aef8f5e492f8dbb1c71cf0b884e": {
      "model_module": "@jupyter-widgets/controls",
      "model_module_version": "1.5.0",
      "model_name": "HTMLModel",
      "state": {
       "layout": "IPY_MODEL_66af935b26f04439b245ad138afa879f",
       "style": "IPY_MODEL_082ea35864a34d929350e135eba9ea33",
       "value": "ibmq_lima"
      }
     },
     "494ccfddf54841a79df884e58d2874c6": {
      "model_module": "@jupyter-widgets/controls",
      "model_module_version": "1.5.0",
      "model_name": "DescriptionStyleModel",
      "state": {
       "description_width": ""
      }
     },
     "4a4f708e21ab42588969fe8d44bbd3ae": {
      "model_module": "@jupyter-widgets/controls",
      "model_module_version": "1.5.0",
      "model_name": "DescriptionStyleModel",
      "state": {
       "description_width": ""
      }
     },
     "4af0e7fd01e34d91bb7f4103abc89e33": {
      "model_module": "@jupyter-widgets/controls",
      "model_module_version": "1.5.0",
      "model_name": "VBoxModel",
      "state": {
       "children": [
        "IPY_MODEL_076529ad0602402597cda02c20f2d8e4",
        "IPY_MODEL_8d4b578011cc40b693b49a9f8ef117ba"
       ],
       "layout": "IPY_MODEL_7baa836202de47fab1483295873fe630"
      }
     },
     "4afc8d3011dd4e4e8716a0e3dc7cf13f": {
      "model_module": "@jupyter-widgets/controls",
      "model_module_version": "1.5.0",
      "model_name": "DescriptionStyleModel",
      "state": {
       "description_width": ""
      }
     },
     "4b79f38b82d744c3ad5e983f11ef159f": {
      "model_module": "@jupyter-widgets/controls",
      "model_module_version": "1.5.0",
      "model_name": "LabelModel",
      "state": {
       "layout": "IPY_MODEL_e9dde1b2566c4b5d90eebc798944469b",
       "style": "IPY_MODEL_016ab35f59274a879b85775b55d003c7",
       "value": "34"
      }
     },
     "4b8ced32495b4882974132b40ad01a5a": {
      "model_module": "@jupyter-widgets/controls",
      "model_module_version": "1.5.0",
      "model_name": "LabelModel",
      "state": {
       "layout": "IPY_MODEL_140a3386fa8f4e56b7dbe6ba80b94f6a",
       "style": "IPY_MODEL_77942837dbd74872a099ff88f0bfa23e",
       "value": "Quantum Vol."
      }
     },
     "4ca8d36c32a842e1b91e9c0961073032": {
      "model_module": "@jupyter-widgets/base",
      "model_module_version": "1.2.0",
      "model_name": "LayoutModel",
      "state": {
       "justify_content": "center"
      }
     },
     "4cb44d5326934f04889019768307c7df": {
      "model_module": "@jupyter-widgets/base",
      "model_module_version": "1.2.0",
      "model_name": "LayoutModel",
      "state": {
       "justify_content": "center"
      }
     },
     "4d8280cae7fe4f8399370bafba0f65f1": {
      "model_module": "@jupyter-widgets/controls",
      "model_module_version": "1.5.0",
      "model_name": "LabelModel",
      "state": {
       "layout": "IPY_MODEL_6cbab2f3feed4a84a803540aaff5f55c",
       "style": "IPY_MODEL_d3471dc4e8474407905d46ec26d1e291",
       "value": "52"
      }
     },
     "4dd6ae3b4f2b46b9a31c6537f28a4d50": {
      "model_module": "@jupyter-widgets/base",
      "model_module_version": "1.2.0",
      "model_name": "LayoutModel",
      "state": {
       "margin": "0px 0px 10px 0px"
      }
     },
     "4e74fab20805486b8501b3032ad817b9": {
      "model_module": "@jupyter-widgets/controls",
      "model_module_version": "1.5.0",
      "model_name": "DescriptionStyleModel",
      "state": {
       "description_width": ""
      }
     },
     "505e460a732d49d4abb360be3986d376": {
      "model_module": "@jupyter-widgets/controls",
      "model_module_version": "1.5.0",
      "model_name": "TabModel",
      "state": {
       "_titles": {
        "0": "Configuration",
        "1": "Qubit Properties",
        "2": "Multi-Qubit Gates",
        "3": "Error Map",
        "4": "Job History"
       },
       "children": [
        "IPY_MODEL_bc1cc3b99afc4f11b20b7821eb407259",
        "IPY_MODEL_4af0e7fd01e34d91bb7f4103abc89e33",
        "IPY_MODEL_ed194df7bf584cffb093c21ae70dc7ba",
        "IPY_MODEL_94225c7bc32e43faa2ad3724529eba43",
        "IPY_MODEL_3d96248a7c0044d2a59da63989ff3a65"
       ],
       "layout": "IPY_MODEL_7646c5dd394c4bc0a7e1167c55e0896d"
      }
     },
     "50ff9f4bc6e84801b957118853c66f6d": {
      "model_module": "@jupyter-widgets/base",
      "model_module_version": "1.2.0",
      "model_name": "LayoutModel",
      "state": {
       "align_items": "center",
       "justify_content": "center",
       "margin": "0px 0px 0px 0px",
       "max_height": "250px",
       "max_width": "250px",
       "min_height": "250px",
       "min_width": "250px"
      }
     },
     "515c6d4d4a124c89bd7cb6a946a51f28": {
      "model_module": "@jupyter-widgets/base",
      "model_module_version": "1.2.0",
      "model_name": "LayoutModel",
      "state": {
       "align_items": "center",
       "display": "inline-flex",
       "flex_flow": "column"
      }
     },
     "52c29a8d05734455851173e5f88e7ce6": {
      "model_module": "@jupyter-widgets/base",
      "model_module_version": "1.2.0",
      "model_name": "LayoutModel",
      "state": {
       "margin": "0px 0px 0px 0px"
      }
     },
     "531eb30123ca4b03aeda898b6a206d12": {
      "model_module": "@jupyter-widgets/controls",
      "model_module_version": "1.5.0",
      "model_name": "HTMLModel",
      "state": {
       "layout": "IPY_MODEL_ae10db2815074fd18686bbe3a9919e3c",
       "style": "IPY_MODEL_54f2c28e2e544c389cb25295d3a72904",
       "value": "<h5>Queue</h5>"
      }
     },
     "53548688bd2344dd8cde5ae4d81be0aa": {
      "model_module": "@jupyter-widgets/base",
      "model_module_version": "1.2.0",
      "model_name": "LayoutModel",
      "state": {
       "justify_content": "center"
      }
     },
     "53f64d6e0ae64a97a07d02d3e3a31480": {
      "model_module": "@jupyter-widgets/base",
      "model_module_version": "1.2.0",
      "model_name": "LayoutModel",
      "state": {}
     },
     "54f2c28e2e544c389cb25295d3a72904": {
      "model_module": "@jupyter-widgets/controls",
      "model_module_version": "1.5.0",
      "model_name": "DescriptionStyleModel",
      "state": {
       "description_width": ""
      }
     },
     "54fe9066f1914fba9f0f358860f23648": {
      "model_module": "@jupyter-widgets/base",
      "model_module_version": "1.2.0",
      "model_name": "LayoutModel",
      "state": {
       "justify_content": "center"
      }
     },
     "574f68e841ab456e83fefaa8681fb0b7": {
      "model_module": "@jupyter-widgets/base",
      "model_module_version": "1.2.0",
      "model_name": "LayoutModel",
      "state": {
       "min_width": "auto"
      }
     },
     "57c2886559a04f24b3f3c7291341c9bb": {
      "model_module": "@jupyter-widgets/base",
      "model_module_version": "1.2.0",
      "model_name": "LayoutModel",
      "state": {
       "width": "95px"
      }
     },
     "581c078217794155aeb449403645807e": {
      "model_module": "@jupyter-widgets/controls",
      "model_module_version": "1.5.0",
      "model_name": "DescriptionStyleModel",
      "state": {
       "description_width": ""
      }
     },
     "584f6122b713449b981f7d18c9b97b0a": {
      "model_module": "@jupyter-widgets/base",
      "model_module_version": "1.2.0",
      "model_name": "LayoutModel",
      "state": {
       "align_items": "center",
       "justify_content": "center",
       "margin": "0px 0px 0px 0px",
       "max_height": "250px",
       "max_width": "250px",
       "min_height": "250px",
       "min_width": "250px"
      }
     },
     "586f1b8d90c84264b6ee38d04393ea42": {
      "model_module": "@jupyter-widgets/base",
      "model_module_version": "1.2.0",
      "model_name": "LayoutModel",
      "state": {
       "grid_gap": "0px 0px",
       "grid_template_areas": "\n                                                   \"top top top\"\n                                                   \"left middle right\"\n                                                   ",
       "grid_template_columns": "33% 33% 33%",
       "grid_template_rows": "auto auto"
      }
     },
     "58e69cedd874457fad626318f42d33e3": {
      "model_module": "@jupyter-widgets/controls",
      "model_module_version": "1.5.0",
      "model_name": "DescriptionStyleModel",
      "state": {
       "description_width": ""
      }
     },
     "58ef4c6be3d6480cbe701e668bddc702": {
      "model_module": "@jupyter-widgets/controls",
      "model_module_version": "1.5.0",
      "model_name": "HTMLModel",
      "state": {
       "layout": "IPY_MODEL_3f2afe52b4a342f19ce5ae637b002385",
       "style": "IPY_MODEL_f73ef703066245ecb81fef946dcd7c73",
       "value": "<h4>ibmq_armonk</h4>"
      }
     },
     "594f9429f7124262ae9c737a8c82182d": {
      "model_module": "@jupyter-widgets/base",
      "model_module_version": "1.2.0",
      "model_name": "LayoutModel",
      "state": {
       "justify_content": "center"
      }
     },
     "5bd3bb9daef1432d9a6321eecd3b3d31": {
      "model_module": "@jupyter-widgets/controls",
      "model_module_version": "1.5.0",
      "model_name": "ProgressStyleModel",
      "state": {
       "bar_color": "#71cddd",
       "description_width": ""
      }
     },
     "5bef0e82a97d457f9eb254ba7dcf7e6a": {
      "model_module": "@jupyter-widgets/base",
      "model_module_version": "1.2.0",
      "model_name": "LayoutModel",
      "state": {
       "justify_content": "center",
       "max_width": "250px",
       "min_width": "250px"
      }
     },
     "5c457fe35dfd4cc2826afae513db4006": {
      "model_module": "@jupyter-widgets/controls",
      "model_module_version": "1.5.0",
      "model_name": "DescriptionStyleModel",
      "state": {
       "description_width": ""
      }
     },
     "5c5df0e021f7429c96e31ee2ec692144": {
      "model_module": "@jupyter-widgets/controls",
      "model_module_version": "1.5.0",
      "model_name": "HTMLModel",
      "state": {
       "layout": "IPY_MODEL_e088d0db667e41719dac12102d874ee3",
       "style": "IPY_MODEL_cbc6d81d7745409599508638012842f3",
       "value": "<h5><b>1</b></h5>"
      }
     },
     "5d0e6c2027d046579b25c37fbb3cb20c": {
      "model_module": "@jupyter-widgets/base",
      "model_module_version": "1.2.0",
      "model_name": "LayoutModel",
      "state": {
       "justify_content": "center",
       "max_width": "250px",
       "min_width": "250px"
      }
     },
     "605ad83a70b041c6885da2c9750d5bf1": {
      "model_module": "@jupyter-widgets/controls",
      "model_module_version": "1.5.0",
      "model_name": "HTMLModel",
      "state": {
       "layout": "IPY_MODEL_a4585cace4a2457b80ae92e519d8950b",
       "style": "IPY_MODEL_d505e4b1326941848c576f84dd28da04",
       "value": "<h5>0.0387</h5>"
      }
     },
     "608bbf80609747719b14e0242b35b33f": {
      "model_module": "@jupyter-widgets/controls",
      "model_module_version": "1.5.0",
      "model_name": "IntProgressModel",
      "state": {
       "layout": "IPY_MODEL_1ad543ff27d54772b6a0390251354986",
       "max": 50,
       "style": "IPY_MODEL_5bd3bb9daef1432d9a6321eecd3b3d31",
       "value": 34
      }
     },
     "61417e367ac34e2b87adc9c47718c28b": {
      "model_module": "@jupyter-widgets/base",
      "model_module_version": "1.2.0",
      "model_name": "LayoutModel",
      "state": {
       "width": "70px"
      }
     },
     "61504aa0abf54ccc94ace47f37689300": {
      "model_module": "@jupyter-widgets/controls",
      "model_module_version": "1.5.0",
      "model_name": "IntProgressModel",
      "state": {
       "layout": "IPY_MODEL_d5c02b75f1b14b9c9f271de5a0066001",
       "max": 50,
       "style": "IPY_MODEL_8f96eafc71b545e0ac4b5318c3aa5b52",
       "value": 32
      }
     },
     "6186fbb54740419bac4ae2d6c598e3b2": {
      "model_module": "@jupyter-widgets/output",
      "model_module_version": "1.0.0",
      "model_name": "OutputModel",
      "state": {
       "layout": "IPY_MODEL_f6f3293b8ab34acaa1211c8f96906539",
       "outputs": [
        {
         "data": {
          "image/png": "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\n",
          "text/plain": "<Figure size 360x360 with 1 Axes>"
         },
         "metadata": {},
         "output_type": "display_data"
        }
       ]
      }
     },
     "62c866aec3a649e3abae804629e38e77": {
      "model_module": "@jupyter-widgets/controls",
      "model_module_version": "1.5.0",
      "model_name": "DescriptionStyleModel",
      "state": {
       "description_width": ""
      }
     },
     "63af50082d2545d0b6ffa092fa3199bb": {
      "model_module": "@jupyter-widgets/controls",
      "model_module_version": "1.5.0",
      "model_name": "HTMLModel",
      "state": {
       "layout": "IPY_MODEL_3544d1102f074cc9943db7cafc498cf4",
       "style": "IPY_MODEL_f22e835b5e804871a49ccc27fefb0b66",
       "value": "<h5>0.0282</h5>"
      }
     },
     "63b0df11fbeb4712b2e7a658e79c5218": {
      "model_module": "@jupyter-widgets/controls",
      "model_module_version": "1.5.0",
      "model_name": "HTMLModel",
      "state": {
       "layout": "IPY_MODEL_386d62d22d2249fc9b3f3af471c64192",
       "style": "IPY_MODEL_eb6d3f95921a4857b8c67c30309932db",
       "value": "<h5 style='color:#34bc6e'>True</h5>"
      }
     },
     "63cf464f393d4398af23cd6841dc1f43": {
      "model_module": "@jupyter-widgets/controls",
      "model_module_version": "1.5.0",
      "model_name": "LabelModel",
      "state": {
       "layout": "IPY_MODEL_833ea8d4db6144c59f35ceef3a350973",
       "style": "IPY_MODEL_581c078217794155aeb449403645807e",
       "value": "Avg. CX Err."
      }
     },
     "64cd5159630043539a5516b43e6f22d2": {
      "model_module": "@jupyter-widgets/base",
      "model_module_version": "1.2.0",
      "model_name": "LayoutModel",
      "state": {
       "align_items": "center",
       "display": "inline-flex",
       "flex_flow": "column"
      }
     },
     "65dfb68f632643c5a8dffa5c58cfa9e6": {
      "model_module": "@jupyter-widgets/base",
      "model_module_version": "1.2.0",
      "model_name": "LayoutModel",
      "state": {
       "justify_content": "center"
      }
     },
     "667807c07d7a4728a1d2b8ff6cc34aea": {
      "model_module": "@jupyter-widgets/controls",
      "model_module_version": "1.5.0",
      "model_name": "DescriptionStyleModel",
      "state": {
       "description_width": ""
      }
     },
     "66af935b26f04439b245ad138afa879f": {
      "model_module": "@jupyter-widgets/base",
      "model_module_version": "1.2.0",
      "model_name": "LayoutModel",
      "state": {
       "width": "145px"
      }
     },
     "6854ab4b51384fe8a1868b865482485c": {
      "model_module": "@jupyter-widgets/controls",
      "model_module_version": "1.5.0",
      "model_name": "DescriptionStyleModel",
      "state": {
       "description_width": ""
      }
     },
     "68922d2f3258495cb2c9f36663ac0d72": {
      "model_module": "@jupyter-widgets/base",
      "model_module_version": "1.2.0",
      "model_name": "LayoutModel",
      "state": {
       "grid_gap": "0px 0px",
       "grid_template_areas": "\n                               \"left right right right\"\n                               \"bottom bottom bottom bottom\"\n                               ",
       "grid_template_columns": "31% 23% 23% 23%",
       "grid_template_rows": "auto auto"
      }
     },
     "6931c38c445e49f98e44da452a42957d": {
      "model_module": "@jupyter-widgets/controls",
      "model_module_version": "1.5.0",
      "model_name": "DescriptionStyleModel",
      "state": {
       "description_width": ""
      }
     },
     "69dfabcc9c4e4659bf3dcede38fb6944": {
      "model_module": "@jupyter-widgets/controls",
      "model_module_version": "1.5.0",
      "model_name": "VBoxModel",
      "state": {
       "children": [
        "IPY_MODEL_7741a3625b014877a35961b2e39aa13b",
        "IPY_MODEL_4b8ced32495b4882974132b40ad01a5a",
        "IPY_MODEL_069634c24353419cb62a9f8e37056a3a",
        "IPY_MODEL_6d349c48a3d44ebc94a5111f83b78805",
        "IPY_MODEL_060585c4dc58411792f67ae782bc5149",
        "IPY_MODEL_6eff0707511346b1a24ca96e4e68cd54",
        "IPY_MODEL_63cf464f393d4398af23cd6841dc1f43",
        "IPY_MODEL_e1e674ef9e4546f28b2f0812f61a53b3"
       ],
       "layout": "IPY_MODEL_c248323eba054b37bc2c20d97e7a3024"
      }
     },
     "6b5287a828d2432195bc41f378706abc": {
      "model_module": "@jupyter-widgets/controls",
      "model_module_version": "1.5.0",
      "model_name": "HTMLModel",
      "state": {
       "layout": "IPY_MODEL_a8a2c7b5f566452ebc340030d3d3114b",
       "style": "IPY_MODEL_453b39e2310e422fb66e400726485297",
       "value": "<h5>167.7 / 57.5 us</h5>"
      }
     },
     "6cbab2f3feed4a84a803540aaff5f55c": {
      "model_module": "@jupyter-widgets/base",
      "model_module_version": "1.2.0",
      "model_name": "LayoutModel",
      "state": {
       "min_width": "auto"
      }
     },
     "6cdd9a2217a64e26a20f98205d5457a8": {
      "model_module": "@jupyter-widgets/controls",
      "model_module_version": "1.5.0",
      "model_name": "DescriptionStyleModel",
      "state": {
       "description_width": ""
      }
     },
     "6d1fc072f9b04573b673d1e772d2e081": {
      "model_module": "@jupyter-widgets/controls",
      "model_module_version": "1.5.0",
      "model_name": "ButtonStyleModel",
      "state": {
       "button_color": "white"
      }
     },
     "6d349c48a3d44ebc94a5111f83b78805": {
      "model_module": "@jupyter-widgets/controls",
      "model_module_version": "1.5.0",
      "model_name": "LabelModel",
      "state": {
       "layout": "IPY_MODEL_23022d13113d4fbf9d907629e082b1fb",
       "style": "IPY_MODEL_0b9108ef8c664984a7345346d809ad58",
       "value": "Operational"
      }
     },
     "6e05c6486237455d8d71db0c24515b4d": {
      "model_module": "@jupyter-widgets/controls",
      "model_module_version": "1.5.0",
      "model_name": "DescriptionStyleModel",
      "state": {
       "description_width": ""
      }
     },
     "6ec8419d389c457694a33cfebf66c521": {
      "model_module": "@jupyter-widgets/base",
      "model_module_version": "1.2.0",
      "model_name": "LayoutModel",
      "state": {
       "justify_content": "center",
       "max_width": "250px",
       "min_width": "250px"
      }
     },
     "6eff0707511346b1a24ca96e4e68cd54": {
      "model_module": "@jupyter-widgets/controls",
      "model_module_version": "1.5.0",
      "model_name": "LabelModel",
      "state": {
       "layout": "IPY_MODEL_bfdb1275cc1d47d4a085ad1ea8b46a71",
       "style": "IPY_MODEL_c1bd4e554e80480ea792494a5a1d498e",
       "value": "Avg. T1 / T2"
      }
     },
     "6f75c9c3985745e88d1feb7e0f8e1c86": {
      "model_module": "@jupyter-widgets/controls",
      "model_module_version": "1.5.0",
      "model_name": "HTMLModel",
      "state": {
       "layout": "IPY_MODEL_c779683611d345c79b2563e22d7bc40c",
       "style": "IPY_MODEL_6931c38c445e49f98e44da452a42957d",
       "value": "<h5>0.0091</h5>"
      }
     },
     "6fba90dac4ef43f8b29fbf2921d20d5c": {
      "model_module": "@jupyter-widgets/controls",
      "model_module_version": "1.5.0",
      "model_name": "ButtonStyleModel",
      "state": {}
     },
     "702e9f1dd5b94e679879018aa11f8bd3": {
      "model_module": "@jupyter-widgets/controls",
      "model_module_version": "1.5.0",
      "model_name": "HTMLModel",
      "state": {
       "layout": "IPY_MODEL_ee1d56c7bc204b90be2090df86684a9b",
       "style": "IPY_MODEL_0c72ccac913d4aecbdf1f6a6e9251ae9",
       "value": "<h4>ibmq_bogota</h4>"
      }
     },
     "70ca9ba48b8c443ebb08c9931c5de316": {
      "model_module": "@jupyter-widgets/base",
      "model_module_version": "1.2.0",
      "model_name": "LayoutModel",
      "state": {}
     },
     "7238ddb804d846a395f5242a8f845355": {
      "model_module": "@jupyter-widgets/controls",
      "model_module_version": "1.5.0",
      "model_name": "DescriptionStyleModel",
      "state": {
       "description_width": ""
      }
     },
     "7253b5b9ef6a41c2b1a7cee0abf40fde": {
      "model_module": "@jupyter-widgets/controls",
      "model_module_version": "1.5.0",
      "model_name": "DescriptionStyleModel",
      "state": {
       "description_width": ""
      }
     },
     "72ef7f2651aa4538ae321a7efd5e6a7a": {
      "model_module": "@jupyter-widgets/controls",
      "model_module_version": "1.5.0",
      "model_name": "GridBoxModel",
      "state": {
       "children": [
        "IPY_MODEL_40001509979d43e0bef3180b3268efca",
        "IPY_MODEL_930f48bf58b8433db7e3d7c89c1d626f",
        "IPY_MODEL_a85f42fa30f649948583d897a5e016e8",
        "IPY_MODEL_f385d48153ae44e28e554575ee9368ed",
        "IPY_MODEL_17a6650da12346f48ad4aae64ef1beac",
        "IPY_MODEL_0724d3333e30493182798e7e6c105526",
        "IPY_MODEL_fd78acac0b394e54a1c7274caa99651d"
       ],
       "layout": "IPY_MODEL_8c64041ba2f24f4bb8c3b47b2cca28e3"
      }
     },
     "73426e20f13c4a1e92885427c4783e5c": {
      "model_module": "@jupyter-widgets/base",
      "model_module_version": "1.2.0",
      "model_name": "LayoutModel",
      "state": {
       "justify_content": "center"
      }
     },
     "736d77ae17db47ae860bf7e038cff2e4": {
      "model_module": "@jupyter-widgets/controls",
      "model_module_version": "1.5.0",
      "model_name": "DescriptionStyleModel",
      "state": {
       "description_width": ""
      }
     },
     "75aa1600cf0048f39e494a336905ff36": {
      "model_module": "@jupyter-widgets/base",
      "model_module_version": "1.2.0",
      "model_name": "LayoutModel",
      "state": {}
     },
     "75c8567927e64ec4ad3d4e936f551b6f": {
      "model_module": "@jupyter-widgets/base",
      "model_module_version": "1.2.0",
      "model_name": "LayoutModel",
      "state": {
       "align_items": "center",
       "display": "inline-flex",
       "flex_flow": "column"
      }
     },
     "7646c5dd394c4bc0a7e1167c55e0896d": {
      "model_module": "@jupyter-widgets/base",
      "model_module_version": "1.2.0",
      "model_name": "LayoutModel",
      "state": {
       "overflow_y": "scroll"
      }
     },
     "7741a3625b014877a35961b2e39aa13b": {
      "model_module": "@jupyter-widgets/controls",
      "model_module_version": "1.5.0",
      "model_name": "LabelModel",
      "state": {
       "layout": "IPY_MODEL_43b48a3ec5b2423f9281c6ebac28fadb",
       "style": "IPY_MODEL_253e8a1fb3c3418dbddefdfd61e1cac5",
       "value": "Num. Qubits"
      }
     },
     "778dd7b3a322435a81ac1d59c78dbbd9": {
      "model_module": "@jupyter-widgets/base",
      "model_module_version": "1.2.0",
      "model_name": "LayoutModel",
      "state": {}
     },
     "77942837dbd74872a099ff88f0bfa23e": {
      "model_module": "@jupyter-widgets/controls",
      "model_module_version": "1.5.0",
      "model_name": "DescriptionStyleModel",
      "state": {
       "description_width": ""
      }
     },
     "799e5e8b11cd4d23a414343e677dd6f9": {
      "model_module": "@jupyter-widgets/base",
      "model_module_version": "1.2.0",
      "model_name": "LayoutModel",
      "state": {
       "margin": "10px 0px 0px 0px"
      }
     },
     "79c346ff4a064bf8abc2a98cc1c9ccfd": {
      "model_module": "@jupyter-widgets/base",
      "model_module_version": "1.2.0",
      "model_name": "LayoutModel",
      "state": {
       "max_width": "700px",
       "min_width": "700px"
      }
     },
     "7a582cfd6e32430f95d9c4d073c13a6e": {
      "model_module": "@jupyter-widgets/base",
      "model_module_version": "1.2.0",
      "model_name": "LayoutModel",
      "state": {
       "min_width": "auto"
      }
     },
     "7aaf4f965efb42fba290a10c84640d3d": {
      "model_module": "@jupyter-widgets/controls",
      "model_module_version": "1.5.0",
      "model_name": "HTMLModel",
      "state": {
       "layout": "IPY_MODEL_c3e8d396aa9247d296603053cc8831d9",
       "style": "IPY_MODEL_17dfb5b1dc0745669e42fbdea030449a",
       "value": "<table><style>\ntable {\n    border-collapse: collapse;\n    width: auto;\n}\n\nth, td {\n    text-align: left;\n    padding: 8px;\n}\n\ntr:nth-child(even) {background-color: #f6f6f6;};\n</style><tr><th></th><th>Type</th><th>Gate error</th></tr><tr><td><font style='font-weight:bold'>cx4_3</font></td><td>cx</td><td>0.01777</td></tr><tr><td><font style='font-weight:bold'>cx3_4</font></td><td>cx</td><td>0.01777</td></tr><tr><td><font style='font-weight:bold'>cx0_1</font></td><td>cx</td><td>0.00593</td></tr></table>"
      }
     },
     "7ae6783321dc41a5a84e46216d1b20f1": {
      "model_module": "@jupyter-widgets/controls",
      "model_module_version": "1.5.0",
      "model_name": "HBoxModel",
      "state": {
       "children": [
        "IPY_MODEL_dcb356e5690848aba7a7fe234f3e53de",
        "IPY_MODEL_fa2134e48cc44b028786280a48430184",
        "IPY_MODEL_87ad350ad00647f3b3cb9739db912bfc"
       ],
       "layout": "IPY_MODEL_6ec8419d389c457694a33cfebf66c521"
      }
     },
     "7b23b3d457a244ec8f093a1c0375f84c": {
      "model_module": "@jupyter-widgets/controls",
      "model_module_version": "1.5.0",
      "model_name": "HTMLModel",
      "state": {
       "layout": "IPY_MODEL_65dfb68f632643c5a8dffa5c58cfa9e6",
       "style": "IPY_MODEL_860b5a5a28a8421894ab4c49fc905d6e",
       "value": "<h5 style='color:#34bc6e'>True</h5>"
      }
     },
     "7baa836202de47fab1483295873fe630": {
      "model_module": "@jupyter-widgets/base",
      "model_module_version": "1.2.0",
      "model_name": "LayoutModel",
      "state": {}
     },
     "7cb349ec40734e8db1a238f94d9630a1": {
      "model_module": "@jupyter-widgets/controls",
      "model_module_version": "1.5.0",
      "model_name": "DescriptionStyleModel",
      "state": {
       "description_width": ""
      }
     },
     "7cfbc032b17e466aa27926393b07921f": {
      "model_module": "@jupyter-widgets/base",
      "model_module_version": "1.2.0",
      "model_name": "LayoutModel",
      "state": {
       "align_items": "center",
       "display": "inline-flex",
       "flex_flow": "column"
      }
     },
     "7fb0ee3c5b5c44c0832aa948d3ce3f14": {
      "model_module": "@jupyter-widgets/controls",
      "model_module_version": "1.5.0",
      "model_name": "DescriptionStyleModel",
      "state": {
       "description_width": ""
      }
     },
     "80029b731ce4400ca41ef7afe99ac492": {
      "model_module": "@jupyter-widgets/controls",
      "model_module_version": "1.5.0",
      "model_name": "HTMLModel",
      "state": {
       "layout": "IPY_MODEL_35f9fcba99ac4547801c53fd6d254de3",
       "style": "IPY_MODEL_7238ddb804d846a395f5242a8f845355",
       "value": "<h5>0.0317</h5>"
      }
     },
     "809d73a51a0043bcb634207320e89c39": {
      "model_module": "@jupyter-widgets/controls",
      "model_module_version": "1.5.0",
      "model_name": "DescriptionStyleModel",
      "state": {
       "description_width": ""
      }
     },
     "818157c52cbd4fcdbbb327ba95d81fd7": {
      "model_module": "@jupyter-widgets/controls",
      "model_module_version": "1.5.0",
      "model_name": "DescriptionStyleModel",
      "state": {
       "description_width": ""
      }
     },
     "81a8b9e0c17947f4902e3fe156168a01": {
      "model_module": "@jupyter-widgets/base",
      "model_module_version": "1.2.0",
      "model_name": "LayoutModel",
      "state": {
       "justify_content": "center"
      }
     },
     "8206ae1581104d5481655e7d24bdad40": {
      "model_module": "@jupyter-widgets/base",
      "model_module_version": "1.2.0",
      "model_name": "LayoutModel",
      "state": {}
     },
     "823d17b993eb4f41b7667b6b95c34e51": {
      "model_module": "@jupyter-widgets/controls",
      "model_module_version": "1.5.0",
      "model_name": "HTMLModel",
      "state": {
       "layout": "IPY_MODEL_3ee554cd69204b51aa3f94fa7bbfe05b",
       "style": "IPY_MODEL_4afc8d3011dd4e4e8716a0e3dc7cf13f",
       "value": "<h5>0.0115</h5>"
      }
     },
     "82cc2496e6874963be855c88adb5b543": {
      "model_module": "@jupyter-widgets/base",
      "model_module_version": "1.2.0",
      "model_name": "LayoutModel",
      "state": {
       "width": "145px"
      }
     },
     "833ea8d4db6144c59f35ceef3a350973": {
      "model_module": "@jupyter-widgets/base",
      "model_module_version": "1.2.0",
      "model_name": "LayoutModel",
      "state": {
       "margin": "8px 0px 0px 0px"
      }
     },
     "854ffb9a0680473196a91fe6296920a8": {
      "model_module": "@jupyter-widgets/controls",
      "model_module_version": "1.5.0",
      "model_name": "DescriptionStyleModel",
      "state": {
       "description_width": ""
      }
     },
     "85e82426092f449fb694fb7fd0572008": {
      "model_module": "@jupyter-widgets/base",
      "model_module_version": "1.2.0",
      "model_name": "LayoutModel",
      "state": {}
     },
     "85fa37b736e844978f916d469229ec2c": {
      "model_module": "@jupyter-widgets/controls",
      "model_module_version": "1.5.0",
      "model_name": "HBoxModel",
      "state": {
       "children": [
        "IPY_MODEL_a05d30781b7f4c3096a14a624a1f6683",
        "IPY_MODEL_61504aa0abf54ccc94ace47f37689300",
        "IPY_MODEL_9e7dee0556b9463c808eb44bcdd99955"
       ],
       "layout": "IPY_MODEL_00b7cab7357d4ef78072ee617a8abfef"
      }
     },
     "860b5a5a28a8421894ab4c49fc905d6e": {
      "model_module": "@jupyter-widgets/controls",
      "model_module_version": "1.5.0",
      "model_name": "DescriptionStyleModel",
      "state": {
       "description_width": ""
      }
     },
     "87ad350ad00647f3b3cb9739db912bfc": {
      "model_module": "@jupyter-widgets/controls",
      "model_module_version": "1.5.0",
      "model_name": "LabelModel",
      "state": {
       "layout": "IPY_MODEL_bf1fc70efdcb492a85927d92c021c321",
       "style": "IPY_MODEL_be0df2c257534bddaee431be2c0f7949",
       "value": "116"
      }
     },
     "8a6844cdfc7541f1a9795d4beaecd891": {
      "model_module": "@jupyter-widgets/controls",
      "model_module_version": "1.5.0",
      "model_name": "DescriptionStyleModel",
      "state": {
       "description_width": ""
      }
     },
     "8ac3e7438bd54207902857ac116962c8": {
      "model_module": "@jupyter-widgets/controls",
      "model_module_version": "1.5.0",
      "model_name": "DescriptionStyleModel",
      "state": {
       "description_width": ""
      }
     },
     "8ad1b9beee50422ca7397ca77f94976b": {
      "model_module": "@jupyter-widgets/controls",
      "model_module_version": "1.5.0",
      "model_name": "DescriptionStyleModel",
      "state": {
       "description_width": ""
      }
     },
     "8c279001430f4403aa5eef5d2ab8d977": {
      "model_module": "@jupyter-widgets/base",
      "model_module_version": "1.2.0",
      "model_name": "LayoutModel",
      "state": {
       "margin": "0px 0px 0px 37px",
       "width": "600px"
      }
     },
     "8c64041ba2f24f4bb8c3b47b2cca28e3": {
      "model_module": "@jupyter-widgets/base",
      "model_module_version": "1.2.0",
      "model_name": "LayoutModel",
      "state": {
       "grid_gap": "0px 25px",
       "grid_template_columns": "250px 250px 250px 250px 250px 250px 250px ",
       "grid_template_rows": "auto"
      }
     },
     "8c82362ef617461781ba082b07f3521a": {
      "model_module": "@jupyter-widgets/controls",
      "model_module_version": "1.5.0",
      "model_name": "HTMLModel",
      "state": {
       "layout": "IPY_MODEL_c990d1c9a6fb4a5f851b57805d80608f",
       "style": "IPY_MODEL_7cb349ec40734e8db1a238f94d9630a1",
       "value": "<h5>Job ID</h5>"
      }
     },
     "8cb6df7157bd4c33ab55196037e5477e": {
      "model_module": "@jupyter-widgets/controls",
      "model_module_version": "1.5.0",
      "model_name": "DescriptionStyleModel",
      "state": {
       "description_width": ""
      }
     },
     "8cf7775d83884edc8ff37634f60187dc": {
      "model_module": "@jupyter-widgets/controls",
      "model_module_version": "1.5.0",
      "model_name": "DescriptionStyleModel",
      "state": {
       "description_width": ""
      }
     },
     "8d4b578011cc40b693b49a9f8ef117ba": {
      "model_module": "@jupyter-widgets/controls",
      "model_module_version": "1.5.0",
      "model_name": "HTMLModel",
      "state": {
       "layout": "IPY_MODEL_b3d2cd7f054d44599db421efa2b660f7",
       "style": "IPY_MODEL_3ce1632f3b08428f8c12117641514696",
       "value": "<table><style>\ntable {\n    border-collapse: collapse;\n    width: auto;\n}\n\nth, td {\n    text-align: left;\n    padding: 8px;\n}\n\ntr:nth-child(even) {background-color: #f6f6f6;}\n</style><tr><th></th><th>Frequency</th><th>T1</th><th>T2</th><th>RZ</th><th>SX</th><th>X</th><th>Readout error</th></tr><tr><td><font style='font-weight:bold'>Q0</font></td><td>5.02976 GHz</td><td>95.20509 us</td><td>175.8591 us</td><td>0</td><td>0.00018</td><td>0.00018</td><td>0.0193 </td><tr><td><font style='font-weight:bold'>Q1</font></td><td>5.12768 GHz</td><td>128.6012 us</td><td>130.2282 us</td><td>0</td><td>0.00023</td><td>0.00023</td><td>0.0156 </td><tr><td><font style='font-weight:bold'>Q2</font></td><td>5.24735 GHz</td><td>101.85585 us</td><td>147.52612 us</td><td>0</td><td>0.00029</td><td>0.00029</td><td>0.0175 </td><tr><td><font style='font-weight:bold'>Q3</font></td><td>5.30229 GHz</td><td>125.47475 us</td><td>77.30923 us</td><td>0</td><td>0.00031</td><td>0.00031</td><td>0.0308 </td><tr><td><font style='font-weight:bold'>Q4</font></td><td>5.09216 GHz</td><td>23.66365 us</td><td>25.26008 us</td><td>0</td><td>0.00068</td><td>0.00068</td><td>0.0577 </td></table>"
      }
     },
     "8dfc8887664e41568f34b74a8eba037e": {
      "model_module": "@jupyter-widgets/base",
      "model_module_version": "1.2.0",
      "model_name": "LayoutModel",
      "state": {
       "align_items": "center",
       "justify_content": "center",
       "margin": "0px 0px 0px 0px",
       "max_height": "250px",
       "max_width": "250px",
       "min_height": "250px",
       "min_width": "250px"
      }
     },
     "8f77ae661c3b41ebaa638e3b8352dfc3": {
      "model_module": "@jupyter-widgets/base",
      "model_module_version": "1.2.0",
      "model_name": "LayoutModel",
      "state": {
       "grid_area": "right"
      }
     },
     "8f96eafc71b545e0ac4b5318c3aa5b52": {
      "model_module": "@jupyter-widgets/controls",
      "model_module_version": "1.5.0",
      "model_name": "ProgressStyleModel",
      "state": {
       "bar_color": "#71cddd",
       "description_width": ""
      }
     },
     "902dcc2a7dce4fd49b39ddf02bc1cd7e": {
      "model_module": "@jupyter-widgets/controls",
      "model_module_version": "1.5.0",
      "model_name": "HBoxModel",
      "state": {
       "children": [
        "IPY_MODEL_69dfabcc9c4e4659bf3dcede38fb6944",
        "IPY_MODEL_72ef7f2651aa4538ae321a7efd5e6a7a"
       ],
       "layout": "IPY_MODEL_28a6d7d45a92428889d6f2d4726b1ea3"
      }
     },
     "906056678f96422cb6673929484c947d": {
      "model_module": "@jupyter-widgets/controls",
      "model_module_version": "1.5.0",
      "model_name": "HTMLModel",
      "state": {
       "layout": "IPY_MODEL_e3709256ee9e4beda458a66e79be61d5",
       "style": "IPY_MODEL_39b8f0150e044b43b6af523585f39954",
       "value": "<h5>Message</h5>"
      }
     },
     "90f43edfe6434c0b9a536b7fc8c9620d": {
      "model_module": "@jupyter-widgets/base",
      "model_module_version": "1.2.0",
      "model_name": "LayoutModel",
      "state": {
       "justify_content": "center"
      }
     },
     "915d6bc08fac4eae9b4904a3900496d9": {
      "model_module": "@jupyter-widgets/controls",
      "model_module_version": "1.5.0",
      "model_name": "HTMLModel",
      "state": {
       "layout": "IPY_MODEL_cc4c3710687c47c2a8eda41d4ae9739e",
       "style": "IPY_MODEL_386720053baf49a09fab1fd2d5b15482",
       "value": "<h5 style='color:#dc267f'>False</h5>"
      }
     },
     "925162b7eb3544cda73f027e55c4894b": {
      "model_module": "@jupyter-widgets/base",
      "model_module_version": "1.2.0",
      "model_name": "LayoutModel",
      "state": {
       "min_width": "auto"
      }
     },
     "926d99fdeb49490295b2b74ea79c7edb": {
      "model_module": "@jupyter-widgets/controls",
      "model_module_version": "1.5.0",
      "model_name": "ButtonModel",
      "state": {
       "icon": "close",
       "layout": "IPY_MODEL_23f9b97c7f9544feb7530fe3fa20dce5",
       "style": "IPY_MODEL_6d1fc072f9b04573b673d1e772d2e081"
      }
     },
     "930f48bf58b8433db7e3d7c89c1d626f": {
      "model_module": "@jupyter-widgets/controls",
      "model_module_version": "1.5.0",
      "model_name": "VBoxModel",
      "state": {
       "children": [
        "IPY_MODEL_e48a1e24effc445aafd99967af25d85b",
        "IPY_MODEL_6186fbb54740419bac4ae2d6c598e3b2",
        "IPY_MODEL_41f2d7bfa4b94302b1040319a859f556",
        "IPY_MODEL_ae13c18890354d83999dfe64d6d826ca",
        "IPY_MODEL_7ae6783321dc41a5a84e46216d1b20f1",
        "IPY_MODEL_983912249e3149c3a870c1cbcb03f1d7",
        "IPY_MODEL_d6fdc10babf144afaaa8c48ed305b5dd",
        "IPY_MODEL_2c8efad028924f7c9d5180183722b875",
        "IPY_MODEL_823d17b993eb4f41b7667b6b95c34e51",
        "IPY_MODEL_074f06036baa413b9988d9a2147904c8"
       ],
       "layout": "IPY_MODEL_75c8567927e64ec4ad3d4e936f551b6f"
      }
     },
     "9349396c9d8d41a1b01410744f9b7d64": {
      "model_module": "@jupyter-widgets/base",
      "model_module_version": "1.2.0",
      "model_name": "LayoutModel",
      "state": {}
     },
     "934c7f46d56e43ed976b82c3ce1575b4": {
      "model_module": "@jupyter-widgets/controls",
      "model_module_version": "1.5.0",
      "model_name": "LabelModel",
      "state": {
       "layout": "IPY_MODEL_3ae98e5f3036453cad2b71d07e4ae889",
       "style": "IPY_MODEL_b7d9b831d2b141859367cc3c7b09fa30",
       "value": "367"
      }
     },
     "94225c7bc32e43faa2ad3724529eba43": {
      "model_module": "@jupyter-widgets/output",
      "model_module_version": "1.0.0",
      "model_name": "OutputModel",
      "state": {
       "layout": "IPY_MODEL_ed1f1a4fcc6f4dc5b37992a59d3aaede",
       "outputs": [
        {
         "data": {
          "image/png": "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\n",
          "text/plain": "<Figure size 792x648 with 5 Axes>"
         },
         "metadata": {},
         "output_type": "display_data"
        }
       ]
      }
     },
     "9442769ec20e4a7394bd4d4bef0c595a": {
      "model_module": "@jupyter-widgets/controls",
      "model_module_version": "1.5.0",
      "model_name": "HBoxModel",
      "state": {
       "children": [
        "IPY_MODEL_926d99fdeb49490295b2b74ea79c7edb",
        "IPY_MODEL_c16450bc099b48b0968eed3e1eca3cdf",
        "IPY_MODEL_48b94aef8f5e492f8dbb1c71cf0b884e",
        "IPY_MODEL_330275e8293e4a65909b5d70e05ee419",
        "IPY_MODEL_2ebaec46850e4355aa457a5c9df5d4b4",
        "IPY_MODEL_c309f3684a534f6eafbbc207f0aefdaf"
       ],
       "layout": "IPY_MODEL_79c346ff4a064bf8abc2a98cc1c9ccfd"
      }
     },
     "945612859f55473e83bc296d02bc4600": {
      "model_module": "@jupyter-widgets/controls",
      "model_module_version": "1.5.0",
      "model_name": "DescriptionStyleModel",
      "state": {
       "description_width": ""
      }
     },
     "9535019cc7cb44e190c7d26016f09901": {
      "model_module": "@jupyter-widgets/controls",
      "model_module_version": "1.5.0",
      "model_name": "HTMLModel",
      "state": {
       "layout": "IPY_MODEL_c594c57747b64d19bc77714b4771fbcc",
       "style": "IPY_MODEL_af18fc52ec50452dabed7ddea391e921",
       "value": "<h5>16</h5>"
      }
     },
     "9657a297f485430fbdf97e4b68611b33": {
      "model_module": "@jupyter-widgets/controls",
      "model_module_version": "1.5.0",
      "model_name": "HTMLModel",
      "state": {
       "layout": "IPY_MODEL_a273236b75344560b85d41be63cb81b8",
       "style": "IPY_MODEL_40e2d812ff54462ca103a08889006771",
       "value": "<h4>ibmq_belem</h4>"
      }
     },
     "98027e6242fa4efea98a5444fdb42ed8": {
      "model_module": "@jupyter-widgets/controls",
      "model_module_version": "1.5.0",
      "model_name": "DescriptionStyleModel",
      "state": {
       "description_width": ""
      }
     },
     "983912249e3149c3a870c1cbcb03f1d7": {
      "model_module": "@jupyter-widgets/controls",
      "model_module_version": "1.5.0",
      "model_name": "HTMLModel",
      "state": {
       "layout": "IPY_MODEL_a3d7930afb8643539f707d87961b4933",
       "style": "IPY_MODEL_08f9e1fb0dc94486bfd1a315e9a6d954",
       "value": "<h5 style='color:#34bc6e'>True</h5>"
      }
     },
     "9845c89bb3334cc4808c62d0cdd3450c": {
      "model_module": "@jupyter-widgets/controls",
      "model_module_version": "1.5.0",
      "model_name": "IntProgressModel",
      "state": {
       "layout": "IPY_MODEL_bdceaadb8bed41b88e61379bed90ac81",
       "max": 50,
       "style": "IPY_MODEL_ddfbcde26d0b4957a5f666524929abf8",
       "value": 17
      }
     },
     "99744ae9285645e2bb01a41b4f2c3218": {
      "model_module": "@jupyter-widgets/base",
      "model_module_version": "1.2.0",
      "model_name": "LayoutModel",
      "state": {}
     },
     "99faff6721494d5a994c4e795c0d5687": {
      "model_module": "@jupyter-widgets/controls",
      "model_module_version": "1.5.0",
      "model_name": "HBoxModel",
      "state": {
       "children": [
        "IPY_MODEL_4b79f38b82d744c3ad5e983f11ef159f",
        "IPY_MODEL_608bbf80609747719b14e0242b35b33f",
        "IPY_MODEL_9b5169af944445559e7b780813b1f677"
       ],
       "layout": "IPY_MODEL_27da3bbeeee34458ad868d783d1cf7ab"
      }
     },
     "9a18375575ff4c6980a24827c5cbcd64": {
      "model_module": "@jupyter-widgets/controls",
      "model_module_version": "1.5.0",
      "model_name": "HTMLModel",
      "state": {
       "layout": "IPY_MODEL_1ad59e2cf8d54884b4e042c6d22a0c79",
       "style": "IPY_MODEL_06b7b414297b49c6aa47b787410e6ae2",
       "value": "<h5>0.0104</h5>"
      }
     },
     "9aa3e5db4d4a4f6c9b2b4f236f40bd3e": {
      "model_module": "@jupyter-widgets/base",
      "model_module_version": "1.2.0",
      "model_name": "LayoutModel",
      "state": {
       "justify_content": "center"
      }
     },
     "9aacae78f599444c8810b3bee8d49421": {
      "model_module": "@jupyter-widgets/controls",
      "model_module_version": "1.5.0",
      "model_name": "DescriptionStyleModel",
      "state": {
       "description_width": ""
      }
     },
     "9b1fd8cfc7eb4165971c564d648fedaf": {
      "model_module": "@jupyter-widgets/base",
      "model_module_version": "1.2.0",
      "model_name": "LayoutModel",
      "state": {
       "max_width": "180px"
      }
     },
     "9b5169af944445559e7b780813b1f677": {
      "model_module": "@jupyter-widgets/controls",
      "model_module_version": "1.5.0",
      "model_name": "LabelModel",
      "state": {
       "layout": "IPY_MODEL_b07cd7a5fa374bee85d4b472e08958da",
       "style": "IPY_MODEL_3c1dba802d8d4ee9a15bc95a8308bf9f",
       "value": "50"
      }
     },
     "9b67acc3bbba48108822050417e7e11b": {
      "model_module": "@jupyter-widgets/controls",
      "model_module_version": "1.5.0",
      "model_name": "HTMLModel",
      "state": {
       "layout": "IPY_MODEL_9aa3e5db4d4a4f6c9b2b4f236f40bd3e",
       "style": "IPY_MODEL_a424f51243494dfe9dc8f5da296458e5",
       "value": "<h5 style='color:#dc267f'>False</h5>"
      }
     },
     "9c3d4fd7b107408abdfb57adc15b6807": {
      "model_module": "@jupyter-widgets/base",
      "model_module_version": "1.2.0",
      "model_name": "LayoutModel",
      "state": {}
     },
     "9d352a5503ae4b26a4710cf581b5ce05": {
      "model_module": "@jupyter-widgets/controls",
      "model_module_version": "1.5.0",
      "model_name": "DescriptionStyleModel",
      "state": {
       "description_width": ""
      }
     },
     "9d8db150fc4a4a7398fc53dc1bdee516": {
      "model_module": "@jupyter-widgets/base",
      "model_module_version": "1.2.0",
      "model_name": "LayoutModel",
      "state": {
       "max_width": "180px"
      }
     },
     "9e41cff19fa94bdaaeb246740dc4dbe6": {
      "model_module": "@jupyter-widgets/controls",
      "model_module_version": "1.5.0",
      "model_name": "DescriptionStyleModel",
      "state": {
       "description_width": ""
      }
     },
     "9e7dee0556b9463c808eb44bcdd99955": {
      "model_module": "@jupyter-widgets/controls",
      "model_module_version": "1.5.0",
      "model_name": "LabelModel",
      "state": {
       "layout": "IPY_MODEL_925162b7eb3544cda73f027e55c4894b",
       "style": "IPY_MODEL_488de16fa5d04e95a0c992f1f1f71f9b",
       "value": "50"
      }
     },
     "9ebfbcc3410e4d3aa6d90613903db4e2": {
      "model_module": "@jupyter-widgets/base",
      "model_module_version": "1.2.0",
      "model_name": "LayoutModel",
      "state": {
       "align_items": "center",
       "display": "inline-flex",
       "flex_flow": "column"
      }
     },
     "9f17bc4c64d1453eb143347614647eb8": {
      "model_module": "@jupyter-widgets/base",
      "model_module_version": "1.2.0",
      "model_name": "LayoutModel",
      "state": {
       "justify_content": "center"
      }
     },
     "a00651a99ae540cb9e24595eecfd4be9": {
      "model_module": "@jupyter-widgets/base",
      "model_module_version": "1.2.0",
      "model_name": "LayoutModel",
      "state": {
       "align_items": "center",
       "justify_content": "center",
       "margin": "0px 0px 0px 0px",
       "max_height": "250px",
       "max_width": "250px",
       "min_height": "250px",
       "min_width": "250px"
      }
     },
     "a022a6d17ef846199310fd03cddfab23": {
      "model_module": "@jupyter-widgets/controls",
      "model_module_version": "1.5.0",
      "model_name": "HTMLModel",
      "state": {
       "layout": "IPY_MODEL_a3637683c4a5485c863ec6f969aa5dd7",
       "style": "IPY_MODEL_4097815510e84e5899fda62651e9e609",
       "value": "<h5>116.2 / 129.8 us</h5>"
      }
     },
     "a03c97ef45fa41309800081e2e5cb3e7": {
      "model_module": "@jupyter-widgets/controls",
      "model_module_version": "1.5.0",
      "model_name": "LabelModel",
      "state": {
       "layout": "IPY_MODEL_0f85af981fd040a9b2b432ba63361b21",
       "style": "IPY_MODEL_a7af8ac410ea4a79b36f5018dbc28c6f",
       "value": "2099"
      }
     },
     "a05d30781b7f4c3096a14a624a1f6683": {
      "model_module": "@jupyter-widgets/controls",
      "model_module_version": "1.5.0",
      "model_name": "LabelModel",
      "state": {
       "layout": "IPY_MODEL_3c41198ffd384eea929a2fb9127025b9",
       "style": "IPY_MODEL_98027e6242fa4efea98a5444fdb42ed8",
       "value": "32"
      }
     },
     "a1dd2fb6e7e445f0bcc2644f9f4a4dfb": {
      "model_module": "@jupyter-widgets/controls",
      "model_module_version": "1.5.0",
      "model_name": "DescriptionStyleModel",
      "state": {
       "description_width": ""
      }
     },
     "a273236b75344560b85d41be63cb81b8": {
      "model_module": "@jupyter-widgets/base",
      "model_module_version": "1.2.0",
      "model_name": "LayoutModel",
      "state": {}
     },
     "a3637683c4a5485c863ec6f969aa5dd7": {
      "model_module": "@jupyter-widgets/base",
      "model_module_version": "1.2.0",
      "model_name": "LayoutModel",
      "state": {}
     },
     "a3d7930afb8643539f707d87961b4933": {
      "model_module": "@jupyter-widgets/base",
      "model_module_version": "1.2.0",
      "model_name": "LayoutModel",
      "state": {
       "justify_content": "center"
      }
     },
     "a424f51243494dfe9dc8f5da296458e5": {
      "model_module": "@jupyter-widgets/controls",
      "model_module_version": "1.5.0",
      "model_name": "DescriptionStyleModel",
      "state": {
       "description_width": ""
      }
     },
     "a4585cace4a2457b80ae92e519d8950b": {
      "model_module": "@jupyter-widgets/base",
      "model_module_version": "1.2.0",
      "model_name": "LayoutModel",
      "state": {}
     },
     "a5d696b0898040e48b8ca6d7e0f0f23e": {
      "model_module": "@jupyter-widgets/base",
      "model_module_version": "1.2.0",
      "model_name": "LayoutModel",
      "state": {
       "grid_area": "top"
      }
     },
     "a62aae313d0142259001d3dee5bf3557": {
      "model_module": "@jupyter-widgets/controls",
      "model_module_version": "1.5.0",
      "model_name": "HBoxModel",
      "state": {
       "children": [
        "IPY_MODEL_a03c97ef45fa41309800081e2e5cb3e7",
        "IPY_MODEL_ee52321df32d48919ca151dac7564203",
        "IPY_MODEL_46055c1777384c6cb73a4422ab3b950b"
       ],
       "layout": "IPY_MODEL_b32ac43f7fb740fda5facb9670920b55"
      }
     },
     "a7af8ac410ea4a79b36f5018dbc28c6f": {
      "model_module": "@jupyter-widgets/controls",
      "model_module_version": "1.5.0",
      "model_name": "DescriptionStyleModel",
      "state": {
       "description_width": ""
      }
     },
     "a7c95650221149249c8ee3022ce6a99c": {
      "model_module": "@jupyter-widgets/base",
      "model_module_version": "1.2.0",
      "model_name": "LayoutModel",
      "state": {
       "justify_content": "center"
      }
     },
     "a85f42fa30f649948583d897a5e016e8": {
      "model_module": "@jupyter-widgets/controls",
      "model_module_version": "1.5.0",
      "model_name": "VBoxModel",
      "state": {
       "children": [
        "IPY_MODEL_9657a297f485430fbdf97e4b68611b33",
        "IPY_MODEL_d4ed5d4e713549d98e66610152847f29",
        "IPY_MODEL_e2f2a87a65ca463fb2a134cd3c6f93db",
        "IPY_MODEL_9535019cc7cb44e190c7d26016f09901",
        "IPY_MODEL_99faff6721494d5a994c4e795c0d5687",
        "IPY_MODEL_c58bab8f66434e01b44cb676eedeb0b7",
        "IPY_MODEL_9b67acc3bbba48108822050417e7e11b",
        "IPY_MODEL_a022a6d17ef846199310fd03cddfab23",
        "IPY_MODEL_6f75c9c3985745e88d1feb7e0f8e1c86",
        "IPY_MODEL_f1892b3dc7cc4a63a72d5a3299bf0e8c"
       ],
       "layout": "IPY_MODEL_515c6d4d4a124c89bd7cb6a946a51f28"
      }
     },
     "a88c0a72aa144de785f9624175058e3e": {
      "model_module": "@jupyter-widgets/controls",
      "model_module_version": "1.5.0",
      "model_name": "HTMLModel",
      "state": {
       "layout": "IPY_MODEL_c40de066449c4cdd82047c82367df636",
       "style": "IPY_MODEL_c99423bfbfb14c02a78b03cb58149c63",
       "value": "<h4>ibmq_manila</h4>"
      }
     },
     "a8a2c7b5f566452ebc340030d3d3114b": {
      "model_module": "@jupyter-widgets/base",
      "model_module_version": "1.2.0",
      "model_name": "LayoutModel",
      "state": {}
     },
     "abd54d19227b4f5897d9fe09784f6d27": {
      "model_module": "@jupyter-widgets/controls",
      "model_module_version": "1.5.0",
      "model_name": "HTMLModel",
      "state": {
       "layout": "IPY_MODEL_fdea9cdc5da0468b8937fcefa339f18b",
       "style": "IPY_MODEL_6854ab4b51384fe8a1868b865482485c",
       "value": "<h5><b>5</b></h5>"
      }
     },
     "acc3733ee98b4e4888c8dbe89f2cc9c3": {
      "model_module": "@jupyter-widgets/controls",
      "model_module_version": "1.5.0",
      "model_name": "HTMLMathModel",
      "state": {
       "layout": "IPY_MODEL_db8d29e99249464d897b7ea7b29abc25",
       "style": "IPY_MODEL_3cfcfe184f2f42f29fb3a037b7219643",
       "value": "<table><style>\ntable {\n    border-collapse: collapse;\n    width: auto;\n}\n\nth, td {\n    text-align: left;\n    padding: 8px;\n}\n\ntr:nth-child(even) {background-color: #f6f6f6;}\n</style><tr><th></th><th></th></tr><tr><td>hamiltonian</td><td>$$\\begin{align} \\mathcal{H}/\\hbar = & \\sum_{i=0}^{4}\\left(\\frac{\\omega_{q,i}}{2}(\\mathbb{I}-\\sigma_i^{z})+\\frac{\\Delta_{i}}{2}(O_i^2-O_i)+\\Omega_{d,i}D_i(t)\\sigma_i^{X}\\right) \\\\ & + J_{0,1}(\\sigma_{0}^{+}\\sigma_{1}^{-}+\\sigma_{0}^{-}\\sigma_{1}^{+}) + J_{1,2}(\\sigma_{1}^{+}\\sigma_{2}^{-}+\\sigma_{1}^{-}\\sigma_{2}^{+}) + J_{1,3}(\\sigma_{1}^{+}\\sigma_{3}^{-}+\\sigma_{1}^{-}\\sigma_{3}^{+}) + J_{3,4}(\\sigma_{3}^{+}\\sigma_{4}^{-}+\\sigma_{3}^{-}\\sigma_{4}^{+}) \\\\ & + \\Omega_{d,0}(U_{0}^{(0,1)}(t))\\sigma_{0}^{X} + \\Omega_{d,1}(U_{1}^{(1,0)}(t)+U_{3}^{(1,3)}(t)+U_{2}^{(1,2)}(t))\\sigma_{1}^{X} \\\\ & + \\Omega_{d,2}(U_{4}^{(2,1)}(t))\\sigma_{2}^{X} + \\Omega_{d,3}(U_{6}^{(3,4)}(t)+U_{5}^{(3,1)}(t))\\sigma_{3}^{X} \\\\ & + \\Omega_{d,4}(U_{7}^{(4,3)}(t))\\sigma_{4}^{X} \\\\ \\end{align}$$</td></tr><tr><td>backend_name</td><td>ibmq_lima</td></tr><tr><td>input_allowed</td><td>['job', 'runtime']</td></tr><tr><td>meas_kernels</td><td>['hw_boxcar']</td></tr><tr><td>parametric_pulses</td><td>['gaussian', 'gaussian_square', 'drag', 'constant']</td></tr><tr><td>memory</td><td>True</td></tr><tr><td>n_registers</td><td>1</td></tr><tr><td>online_date</td><td>2021-01-08 05:00:00+00:00</td></tr><tr><td>uchannels_enabled</td><td>True</td></tr><tr><td>qubit_lo_range</td><td>[[4.529755863388954, 5.529755863388954], [4.627684561839948, 5.627684561839948], [4.747354235906567, 5.747354235906567], [4.8022892240440465, 5.8022892240440465], [4.592158620267913, 5.592158620267913]]</td></tr><tr><td>discriminators</td><td>['linear_discriminator', 'hw_centroid', 'quadratic_discriminator']</td></tr><tr><td>measure_esp_enabled</td><td>False</td></tr><tr><td>qubit_channel_mapping</td><td>[['m0', 'u0', 'd0', 'u1'], ['u2', 'u3', 'm1', 'u5', 'u0', 'd1', 'u1', 'u4'], ['u2', 'd2', 'u4', 'm2'], ['u6', 'u3', 'u7', 'm3', 'u5', 'd3'], ['m4', 'u6', 'u7', 'd4']]</td></tr><tr><td>open_pulse</td><td>False</td></tr><tr><td>meas_map</td><td>[[0, 1, 2, 3, 4]]</td></tr><tr><td>conditional_latency</td><td>[]</td></tr><tr><td>dt</td><td>0.2222222222222222</td></tr><tr><td>simulator</td><td>False</td></tr><tr><td>multi_meas_enabled</td><td>True</td></tr><tr><td>default_rep_delay</td><td>250.0</td></tr><tr><td>description</td><td>5 qubit device Lima</td></tr><tr><td>allow_q_object</td><td>True</td></tr><tr><td>coupling_map</td><td>[[0, 1], [1, 0], [1, 2], [1, 3], [2, 1], [3, 1], [3, 4], [4, 3]]</td></tr><tr><td>acquisition_latency</td><td>[]</td></tr><tr><td>clops</td><td>2673</td></tr><tr><td>dtm</td><td>0.2222222222222222</td></tr><tr><td>conditional</td><td>False</td></tr><tr><td>meas_levels</td><td>[1, 2]</td></tr><tr><td>channels</td><td>{'acquire0': {'operates': {'qubits': [0]}, 'purpose': 'acquire', 'type': 'acquire'}, 'acquire1': {'operates': {'qubits': [1]}, 'purpose': 'acquire', 'type': 'acquire'}, 'acquire2': {'operates': {'qubits': [2]}, 'purpose': 'acquire', 'type': 'acquire'}, 'acquire3': {'operates': {'qubits': [3]}, 'purpose': 'acquire', 'type': 'acquire'}, 'acquire4': {'operates': {'qubits': [4]}, 'purpose': 'acquire', 'type': 'acquire'}, 'd0': {'operates': {'qubits': [0]}, 'purpose': 'drive', 'type': 'drive'}, 'd1': {'operates': {'qubits': [1]}, 'purpose': 'drive', 'type': 'drive'}, 'd2': {'operates': {'qubits': [2]}, 'purpose': 'drive', 'type': 'drive'}, 'd3': {'operates': {'qubits': [3]}, 'purpose': 'drive', 'type': 'drive'}, 'd4': {'operates': {'qubits': [4]}, 'purpose': 'drive', 'type': 'drive'}, 'm0': {'operates': {'qubits': [0]}, 'purpose': 'measure', 'type': 'measure'}, 'm1': {'operates': {'qubits': [1]}, 'purpose': 'measure', 'type': 'measure'}, 'm2': {'operates': {'qubits': [2]}, 'purpose': 'measure', 'type': 'measure'}, 'm3': {'operates': {'qubits': [3]}, 'purpose': 'measure', 'type': 'measure'}, 'm4': {'operates': {'qubits': [4]}, 'purpose': 'measure', 'type': 'measure'}, 'u0': {'operates': {'qubits': [0, 1]}, 'purpose': 'cross-resonance', 'type': 'control'}, 'u1': {'operates': {'qubits': [1, 0]}, 'purpose': 'cross-resonance', 'type': 'control'}, 'u2': {'operates': {'qubits': [1, 2]}, 'purpose': 'cross-resonance', 'type': 'control'}, 'u3': {'operates': {'qubits': [1, 3]}, 'purpose': 'cross-resonance', 'type': 'control'}, 'u4': {'operates': {'qubits': [2, 1]}, 'purpose': 'cross-resonance', 'type': 'control'}, 'u5': {'operates': {'qubits': [3, 1]}, 'purpose': 'cross-resonance', 'type': 'control'}, 'u6': {'operates': {'qubits': [3, 4]}, 'purpose': 'cross-resonance', 'type': 'control'}, 'u7': {'operates': {'qubits': [4, 3]}, 'purpose': 'cross-resonance', 'type': 'control'}}</td></tr><tr><td>rep_delay_range</td><td>[0.0, 500.0]</td></tr><tr><td>processor_type</td><td>{'family': 'Falcon', 'revision': 4, 'segment': 'T'}</td></tr><tr><td>credits_required</td><td>True</td></tr><tr><td>rep_times</td><td>[1000.0]</td></tr><tr><td>pulse_num_channels</td><td>9</td></tr><tr><td>supported_instructions</td><td>['reset', 'x', 'rz', 'u2', 'id', 'u3', 'delay', 'shiftf', 'play', 'acquire', 'u1', 'sx', 'measure', 'cx', 'setf']</td></tr><tr><td>supported_features</td><td>['q', 'o', 'b', 'j']</td></tr><tr><td>allow_object_storage</td><td>True</td></tr><tr><td>pulse_num_qubits</td><td>3</td></tr><tr><td>local</td><td>False</td></tr><tr><td>dynamic_reprate_enabled</td><td>True</td></tr><tr><td>meas_lo_range</td><td>[[6.925143125000001, 7.925143125000001], [6.721646720000001, 7.721646720000001], [6.971842939, 7.971842939], [6.865317232000001, 7.865317232000001], [6.919067567000001, 7.919067567000001]]</td></tr><tr><td>url</td><td>None</td></tr><tr><td>n_uchannels</td><td>8</td></tr><tr><td>u_channel_lo</td><td>[[{'q': 1, 'scale': (1+0j)}], [{'q': 0, 'scale': (1+0j)}], [{'q': 2, 'scale': (1+0j)}], [{'q': 3, 'scale': (1+0j)}], [{'q': 1, 'scale': (1+0j)}], [{'q': 1, 'scale': (1+0j)}], [{'q': 4, 'scale': (1+0j)}], [{'q': 3, 'scale': (1+0j)}]]</td></tr><tr><td>sample_name</td><td>family: Falcon, revision: 4, segment: T</td></tr><tr><td>timing_constraints</td><td>{'acquire_alignment': 16, 'granularity': 16, 'min_length': 64, 'pulse_alignment': 1}</td></tr></table>"
      }
     },
     "ae10db2815074fd18686bbe3a9919e3c": {
      "model_module": "@jupyter-widgets/base",
      "model_module_version": "1.2.0",
      "model_name": "LayoutModel",
      "state": {
       "width": "70px"
      }
     },
     "ae13c18890354d83999dfe64d6d826ca": {
      "model_module": "@jupyter-widgets/controls",
      "model_module_version": "1.5.0",
      "model_name": "HTMLModel",
      "state": {
       "layout": "IPY_MODEL_4ca8d36c32a842e1b91e9c0961073032",
       "style": "IPY_MODEL_736d77ae17db47ae860bf7e038cff2e4",
       "value": "<h5>16</h5>"
      }
     },
     "af18fc52ec50452dabed7ddea391e921": {
      "model_module": "@jupyter-widgets/controls",
      "model_module_version": "1.5.0",
      "model_name": "DescriptionStyleModel",
      "state": {
       "description_width": ""
      }
     },
     "b07cd7a5fa374bee85d4b472e08958da": {
      "model_module": "@jupyter-widgets/base",
      "model_module_version": "1.2.0",
      "model_name": "LayoutModel",
      "state": {
       "min_width": "auto"
      }
     },
     "b252489d002644649e26b1f94af72187": {
      "model_module": "@jupyter-widgets/base",
      "model_module_version": "1.2.0",
      "model_name": "LayoutModel",
      "state": {
       "align_items": "center",
       "justify_content": "center",
       "margin": "0px 0px 0px 0px",
       "max_height": "250px",
       "max_width": "250px",
       "min_height": "250px",
       "min_width": "250px"
      }
     },
     "b324b4fbe8864405ba8e7f8d12f76cdd": {
      "model_module": "@jupyter-widgets/controls",
      "model_module_version": "1.5.0",
      "model_name": "HTMLModel",
      "state": {
       "layout": "IPY_MODEL_75aa1600cf0048f39e494a336905ff36",
       "style": "IPY_MODEL_01f7c3187d4946f1bb3e62c609b04c52",
       "value": "<h5>0.0065</h5>"
      }
     },
     "b32ac43f7fb740fda5facb9670920b55": {
      "model_module": "@jupyter-widgets/base",
      "model_module_version": "1.2.0",
      "model_name": "LayoutModel",
      "state": {
       "justify_content": "center",
       "max_width": "250px",
       "min_width": "250px"
      }
     },
     "b3863da41eb246ebb9ce9993909b15be": {
      "model_module": "@jupyter-widgets/base",
      "model_module_version": "1.2.0",
      "model_name": "LayoutModel",
      "state": {
       "width": "95px"
      }
     },
     "b3d2cd7f054d44599db421efa2b660f7": {
      "model_module": "@jupyter-widgets/base",
      "model_module_version": "1.2.0",
      "model_name": "LayoutModel",
      "state": {}
     },
     "b3e8460033644acc86cf5b4a8bfe1df2": {
      "model_module": "@jupyter-widgets/base",
      "model_module_version": "1.2.0",
      "model_name": "LayoutModel",
      "state": {
       "justify_content": "center"
      }
     },
     "b5854b7a8779478982dc0c6ffbe71af9": {
      "model_module": "@jupyter-widgets/controls",
      "model_module_version": "1.5.0",
      "model_name": "HTMLModel",
      "state": {
       "layout": "IPY_MODEL_12f8cabfc79b47f2a9ac87f6a2db90d3",
       "style": "IPY_MODEL_c93be52e7aca41609fe20a046a247bbd",
       "value": "<h5><b>5</b></h5>"
      }
     },
     "b58736163b394c1f81c289bb897a8ef7": {
      "model_module": "@jupyter-widgets/controls",
      "model_module_version": "1.5.0",
      "model_name": "ProgressStyleModel",
      "state": {
       "bar_color": "#71cddd",
       "description_width": ""
      }
     },
     "b64dfc45d13d465992402385b6c0e941": {
      "model_module": "@jupyter-widgets/controls",
      "model_module_version": "1.5.0",
      "model_name": "HBoxModel",
      "state": {
       "children": [
        "IPY_MODEL_8c82362ef617461781ba082b07f3521a",
        "IPY_MODEL_cf8ceec7640645c69ee6f74b150fbf36",
        "IPY_MODEL_0fedc8c8ab1349e6899bc9415ea8b827",
        "IPY_MODEL_531eb30123ca4b03aeda898b6a206d12",
        "IPY_MODEL_906056678f96422cb6673929484c947d"
       ],
       "layout": "IPY_MODEL_8c279001430f4403aa5eef5d2ab8d977"
      }
     },
     "b7ce395e805c4c4ea58c6ed2148a2094": {
      "model_module": "@jupyter-widgets/base",
      "model_module_version": "1.2.0",
      "model_name": "LayoutModel",
      "state": {}
     },
     "b7d9b831d2b141859367cc3c7b09fa30": {
      "model_module": "@jupyter-widgets/controls",
      "model_module_version": "1.5.0",
      "model_name": "DescriptionStyleModel",
      "state": {
       "description_width": ""
      }
     },
     "ba0a9ed58593483cab9327e475fb230a": {
      "model_module": "@jupyter-widgets/controls",
      "model_module_version": "1.5.0",
      "model_name": "DescriptionStyleModel",
      "state": {
       "description_width": ""
      }
     },
     "ba2668711f494d41a33d6cbe8496e772": {
      "model_module": "@jupyter-widgets/controls",
      "model_module_version": "1.5.0",
      "model_name": "HTMLModel",
      "state": {
       "layout": "IPY_MODEL_54fe9066f1914fba9f0f358860f23648",
       "style": "IPY_MODEL_3fc061a6825b4216858544569b88a5a4",
       "value": "<h5 style='color:#dc267f'>False</h5>"
      }
     },
     "ba5e6fa6046c49fabf5bf4df90423d1b": {
      "model_module": "@jupyter-widgets/base",
      "model_module_version": "1.2.0",
      "model_name": "LayoutModel",
      "state": {
       "width": "190px"
      }
     },
     "bc1cc3b99afc4f11b20b7821eb407259": {
      "model_module": "@jupyter-widgets/controls",
      "model_module_version": "1.5.0",
      "model_name": "GridBoxModel",
      "state": {
       "children": [
        "IPY_MODEL_fc387b34e37e4f539cf50fa33a4b85dc",
        "IPY_MODEL_3b21c09431ae4521baed70aa6e461a03",
        "IPY_MODEL_acc3733ee98b4e4888c8dbe89f2cc9c3"
       ],
       "layout": "IPY_MODEL_68922d2f3258495cb2c9f36663ac0d72"
      }
     },
     "bc66826a0b71463fbdd9c7156b41169d": {
      "model_module": "@jupyter-widgets/controls",
      "model_module_version": "1.5.0",
      "model_name": "DescriptionStyleModel",
      "state": {
       "description_width": ""
      }
     },
     "bc75d74f135b4c82b1626aaa3ce4b1f6": {
      "model_module": "@jupyter-widgets/controls",
      "model_module_version": "1.5.0",
      "model_name": "DescriptionStyleModel",
      "state": {
       "description_width": ""
      }
     },
     "bdceaadb8bed41b88e61379bed90ac81": {
      "model_module": "@jupyter-widgets/base",
      "model_module_version": "1.2.0",
      "model_name": "LayoutModel",
      "state": {
       "max_width": "180px"
      }
     },
     "be0df2c257534bddaee431be2c0f7949": {
      "model_module": "@jupyter-widgets/controls",
      "model_module_version": "1.5.0",
      "model_name": "DescriptionStyleModel",
      "state": {
       "description_width": ""
      }
     },
     "bf1fc70efdcb492a85927d92c021c321": {
      "model_module": "@jupyter-widgets/base",
      "model_module_version": "1.2.0",
      "model_name": "LayoutModel",
      "state": {
       "min_width": "auto"
      }
     },
     "bf745510f09f4a1a90e2599afc9f2831": {
      "model_module": "@jupyter-widgets/base",
      "model_module_version": "1.2.0",
      "model_name": "LayoutModel",
      "state": {
       "max_width": "180px"
      }
     },
     "bfdb1275cc1d47d4a085ad1ea8b46a71": {
      "model_module": "@jupyter-widgets/base",
      "model_module_version": "1.2.0",
      "model_name": "LayoutModel",
      "state": {
       "margin": "10px 0px 0px 0px"
      }
     },
     "c02ce3143b2d495bbdf882c1ed16f464": {
      "model_module": "@jupyter-widgets/controls",
      "model_module_version": "1.5.0",
      "model_name": "DescriptionStyleModel",
      "state": {
       "description_width": ""
      }
     },
     "c0315a8e46c44be3886bee00e89e3f43": {
      "model_module": "@jupyter-widgets/base",
      "model_module_version": "1.2.0",
      "model_name": "LayoutModel",
      "state": {
       "justify_content": "center"
      }
     },
     "c0b1ff28daa44b5497df3a6f895ca798": {
      "model_module": "@jupyter-widgets/controls",
      "model_module_version": "1.5.0",
      "model_name": "DescriptionStyleModel",
      "state": {
       "description_width": ""
      }
     },
     "c16450bc099b48b0968eed3e1eca3cdf": {
      "model_module": "@jupyter-widgets/controls",
      "model_module_version": "1.5.0",
      "model_name": "HTMLModel",
      "state": {
       "layout": "IPY_MODEL_ba5e6fa6046c49fabf5bf4df90423d1b",
       "style": "IPY_MODEL_9aacae78f599444c8810b3bee8d49421",
       "value": "61e99a14ad876ad58e63540a"
      }
     },
     "c1b7e6403bde47afa9cd60b5a32acfe4": {
      "model_module": "@jupyter-widgets/controls",
      "model_module_version": "1.5.0",
      "model_name": "VBoxModel",
      "state": {
       "children": [
        "IPY_MODEL_eaea44917f674fa29eba21c5e790ec73",
        "IPY_MODEL_505e460a732d49d4abb360be3986d376"
       ],
       "layout": "IPY_MODEL_e33ffa94c4ec401c82c679b7bdb31ac1"
      }
     },
     "c1bd4e554e80480ea792494a5a1d498e": {
      "model_module": "@jupyter-widgets/controls",
      "model_module_version": "1.5.0",
      "model_name": "DescriptionStyleModel",
      "state": {
       "description_width": ""
      }
     },
     "c248323eba054b37bc2c20d97e7a3024": {
      "model_module": "@jupyter-widgets/base",
      "model_module_version": "1.2.0",
      "model_name": "LayoutModel",
      "state": {
       "margin": "295px 0px 0px 0px",
       "min_width": "100px"
      }
     },
     "c2e3bcd0a2464c868545d2e78309720e": {
      "model_module": "@jupyter-widgets/output",
      "model_module_version": "1.0.0",
      "model_name": "OutputModel",
      "state": {
       "layout": "IPY_MODEL_50ff9f4bc6e84801b957118853c66f6d",
       "outputs": [
        {
         "data": {
          "image/png": "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\n",
          "text/plain": "<Figure size 360x360 with 1 Axes>"
         },
         "metadata": {},
         "output_type": "display_data"
        }
       ]
      }
     },
     "c309f3684a534f6eafbbc207f0aefdaf": {
      "model_module": "@jupyter-widgets/controls",
      "model_module_version": "1.5.0",
      "model_name": "HTMLModel",
      "state": {
       "layout": "IPY_MODEL_ef0c7a8707e44be5a550eb5d6bfc3d0b",
       "style": "IPY_MODEL_8ac3e7438bd54207902857ac116962c8",
       "value": "job has successfully run"
      }
     },
     "c38de5d4f31e42039fa698e1fb44039f": {
      "model_module": "@jupyter-widgets/base",
      "model_module_version": "1.2.0",
      "model_name": "LayoutModel",
      "state": {
       "justify_content": "center"
      }
     },
     "c3e8d396aa9247d296603053cc8831d9": {
      "model_module": "@jupyter-widgets/base",
      "model_module_version": "1.2.0",
      "model_name": "LayoutModel",
      "state": {
       "grid_area": "left"
      }
     },
     "c40de066449c4cdd82047c82367df636": {
      "model_module": "@jupyter-widgets/base",
      "model_module_version": "1.2.0",
      "model_name": "LayoutModel",
      "state": {}
     },
     "c44757d0161a4b1a9eb2c90bb2269db0": {
      "model_module": "@jupyter-widgets/controls",
      "model_module_version": "1.5.0",
      "model_name": "HBoxModel",
      "state": {
       "children": [
        "IPY_MODEL_033402707e994c3bbe4e4c76f04c62f9",
        "IPY_MODEL_d34c036340e74f7b955eae07f8d72057",
        "IPY_MODEL_4d8280cae7fe4f8399370bafba0f65f1"
       ],
       "layout": "IPY_MODEL_5bef0e82a97d457f9eb254ba7dcf7e6a"
      }
     },
     "c58bab8f66434e01b44cb676eedeb0b7": {
      "model_module": "@jupyter-widgets/controls",
      "model_module_version": "1.5.0",
      "model_name": "HTMLModel",
      "state": {
       "layout": "IPY_MODEL_73426e20f13c4a1e92885427c4783e5c",
       "style": "IPY_MODEL_012f80da0dc04ebd8fe4cef42c8cbd47",
       "value": "<h5 style='color:#34bc6e'>True</h5>"
      }
     },
     "c594c57747b64d19bc77714b4771fbcc": {
      "model_module": "@jupyter-widgets/base",
      "model_module_version": "1.2.0",
      "model_name": "LayoutModel",
      "state": {
       "justify_content": "center"
      }
     },
     "c6f4ce4714344f9db5f1ee62db8832d1": {
      "model_module": "@jupyter-widgets/controls",
      "model_module_version": "1.5.0",
      "model_name": "HTMLModel",
      "state": {
       "layout": "IPY_MODEL_90f43edfe6434c0b9a536b7fc8c9620d",
       "style": "IPY_MODEL_d9845c4b087f4213a2e9af0b2f94cbcc",
       "value": "<h5>1</h5>"
      }
     },
     "c779683611d345c79b2563e22d7bc40c": {
      "model_module": "@jupyter-widgets/base",
      "model_module_version": "1.2.0",
      "model_name": "LayoutModel",
      "state": {}
     },
     "c8d8e7fcb40d4da58fccfced62000c7a": {
      "model_module": "@jupyter-widgets/controls",
      "model_module_version": "1.5.0",
      "model_name": "HTMLModel",
      "state": {
       "layout": "IPY_MODEL_9f17bc4c64d1453eb143347614647eb8",
       "style": "IPY_MODEL_8ad1b9beee50422ca7397ca77f94976b",
       "value": "<h5>32</h5>"
      }
     },
     "c93be52e7aca41609fe20a046a247bbd": {
      "model_module": "@jupyter-widgets/controls",
      "model_module_version": "1.5.0",
      "model_name": "DescriptionStyleModel",
      "state": {
       "description_width": ""
      }
     },
     "c962c387605846cd9e1ae692449a6287": {
      "model_module": "@jupyter-widgets/controls",
      "model_module_version": "1.5.0",
      "model_name": "DescriptionStyleModel",
      "state": {
       "description_width": ""
      }
     },
     "c990d1c9a6fb4a5f851b57805d80608f": {
      "model_module": "@jupyter-widgets/base",
      "model_module_version": "1.2.0",
      "model_name": "LayoutModel",
      "state": {
       "width": "190px"
      }
     },
     "c99423bfbfb14c02a78b03cb58149c63": {
      "model_module": "@jupyter-widgets/controls",
      "model_module_version": "1.5.0",
      "model_name": "DescriptionStyleModel",
      "state": {
       "description_width": ""
      }
     },
     "cab26b6e008f4a81b78bc238134e95fe": {
      "model_module": "@jupyter-widgets/controls",
      "model_module_version": "1.5.0",
      "model_name": "HTMLModel",
      "state": {
       "layout": "IPY_MODEL_1605795b25c549ab866a0f7d25b6cc3d",
       "style": "IPY_MODEL_a1dd2fb6e7e445f0bcc2644f9f4a4dfb",
       "value": "<h4>ibmq_santiago</h4>"
      }
     },
     "cbacf2818b86438a885fe0d2d37c3632": {
      "model_module": "@jupyter-widgets/controls",
      "model_module_version": "1.5.0",
      "model_name": "DescriptionStyleModel",
      "state": {
       "description_width": ""
      }
     },
     "cbc6d81d7745409599508638012842f3": {
      "model_module": "@jupyter-widgets/controls",
      "model_module_version": "1.5.0",
      "model_name": "DescriptionStyleModel",
      "state": {
       "description_width": ""
      }
     },
     "cc4c3710687c47c2a8eda41d4ae9739e": {
      "model_module": "@jupyter-widgets/base",
      "model_module_version": "1.2.0",
      "model_name": "LayoutModel",
      "state": {
       "justify_content": "center"
      }
     },
     "cf54b5a30fdc4942bdfb6bf78ff942fc": {
      "model_module": "@jupyter-widgets/base",
      "model_module_version": "1.2.0",
      "model_name": "LayoutModel",
      "state": {}
     },
     "cf8ceec7640645c69ee6f74b150fbf36": {
      "model_module": "@jupyter-widgets/controls",
      "model_module_version": "1.5.0",
      "model_name": "HTMLModel",
      "state": {
       "layout": "IPY_MODEL_82cc2496e6874963be855c88adb5b543",
       "style": "IPY_MODEL_945612859f55473e83bc296d02bc4600",
       "value": "<h5>Backend</h5>"
      }
     },
     "d10aa5c7435646c4ba5063ef3d241c71": {
      "model_module": "@jupyter-widgets/controls",
      "model_module_version": "1.5.0",
      "model_name": "HTMLModel",
      "state": {
       "layout": "IPY_MODEL_f5fec64352b24b1c879e78843aec6909",
       "style": "IPY_MODEL_c962c387605846cd9e1ae692449a6287",
       "value": "<h5>0.0225</h5>"
      }
     },
     "d1cda42011304bf5a33bb44186241509": {
      "model_module": "@jupyter-widgets/controls",
      "model_module_version": "1.5.0",
      "model_name": "HTMLModel",
      "state": {
       "layout": "IPY_MODEL_9c3d4fd7b107408abdfb57adc15b6807",
       "style": "IPY_MODEL_44fcf965b9db4812bd02e7de5e028dcc",
       "value": "<h5>NA</h5>"
      }
     },
     "d271b6ed40ca4faa9dcb7ae3d54ee05a": {
      "model_module": "@jupyter-widgets/base",
      "model_module_version": "1.2.0",
      "model_name": "LayoutModel",
      "state": {
       "min_width": "auto"
      }
     },
     "d3471dc4e8474407905d46ec26d1e291": {
      "model_module": "@jupyter-widgets/controls",
      "model_module_version": "1.5.0",
      "model_name": "DescriptionStyleModel",
      "state": {
       "description_width": ""
      }
     },
     "d34c036340e74f7b955eae07f8d72057": {
      "model_module": "@jupyter-widgets/controls",
      "model_module_version": "1.5.0",
      "model_name": "IntProgressModel",
      "state": {
       "layout": "IPY_MODEL_9b1fd8cfc7eb4165971c564d648fedaf",
       "max": 52,
       "style": "IPY_MODEL_07dea27a37a24280aef3608b4745d88c",
       "value": 40
      }
     },
     "d3a3808e27474223b79df4dda9bb966a": {
      "model_module": "@jupyter-widgets/controls",
      "model_module_version": "1.5.0",
      "model_name": "DescriptionStyleModel",
      "state": {
       "description_width": ""
      }
     },
     "d40b9d7437ef47f289a97f3f52be4358": {
      "model_module": "@jupyter-widgets/base",
      "model_module_version": "1.2.0",
      "model_name": "LayoutModel",
      "state": {
       "justify_content": "center"
      }
     },
     "d4ed5d4e713549d98e66610152847f29": {
      "model_module": "@jupyter-widgets/output",
      "model_module_version": "1.0.0",
      "model_name": "OutputModel",
      "state": {
       "layout": "IPY_MODEL_584f6122b713449b981f7d18c9b97b0a",
       "outputs": [
        {
         "data": {
          "image/png": "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\n",
          "text/plain": "<Figure size 360x360 with 1 Axes>"
         },
         "metadata": {},
         "output_type": "display_data"
        }
       ]
      }
     },
     "d4f98bd8abb247b1bab09eeac2b895d7": {
      "model_module": "@jupyter-widgets/controls",
      "model_module_version": "1.5.0",
      "model_name": "IntProgressModel",
      "state": {
       "layout": "IPY_MODEL_9d8db150fc4a4a7398fc53dc1bdee516",
       "max": 367,
       "style": "IPY_MODEL_17727c00af984f27879fc8c5e4beaa52",
       "value": 357
      }
     },
     "d505e4b1326941848c576f84dd28da04": {
      "model_module": "@jupyter-widgets/controls",
      "model_module_version": "1.5.0",
      "model_name": "DescriptionStyleModel",
      "state": {
       "description_width": ""
      }
     },
     "d5c02b75f1b14b9c9f271de5a0066001": {
      "model_module": "@jupyter-widgets/base",
      "model_module_version": "1.2.0",
      "model_name": "LayoutModel",
      "state": {
       "max_width": "180px"
      }
     },
     "d6ea946e93b34ebe8679a13280de9cab": {
      "model_module": "@jupyter-widgets/base",
      "model_module_version": "1.2.0",
      "model_name": "LayoutModel",
      "state": {
       "min_width": "auto"
      }
     },
     "d6fdc10babf144afaaa8c48ed305b5dd": {
      "model_module": "@jupyter-widgets/controls",
      "model_module_version": "1.5.0",
      "model_name": "HTMLModel",
      "state": {
       "layout": "IPY_MODEL_4453fc3bea6e4da2b58211233f20a278",
       "style": "IPY_MODEL_6cdd9a2217a64e26a20f98205d5457a8",
       "value": "<h5 style='color:#dc267f'>False</h5>"
      }
     },
     "d7333f5109fb4d0fb02aec06d809690c": {
      "model_module": "@jupyter-widgets/controls",
      "model_module_version": "1.5.0",
      "model_name": "DescriptionStyleModel",
      "state": {
       "description_width": ""
      }
     },
     "d9845c4b087f4213a2e9af0b2f94cbcc": {
      "model_module": "@jupyter-widgets/controls",
      "model_module_version": "1.5.0",
      "model_name": "DescriptionStyleModel",
      "state": {
       "description_width": ""
      }
     },
     "db8d29e99249464d897b7ea7b29abc25": {
      "model_module": "@jupyter-widgets/base",
      "model_module_version": "1.2.0",
      "model_name": "LayoutModel",
      "state": {
       "grid_area": "bottom",
       "width": "auto"
      }
     },
     "dba7e1eb32bb46c3b682f8ca91d29f36": {
      "model_module": "@jupyter-widgets/base",
      "model_module_version": "1.2.0",
      "model_name": "LayoutModel",
      "state": {
       "grid_area": "middle"
      }
     },
     "dcb356e5690848aba7a7fe234f3e53de": {
      "model_module": "@jupyter-widgets/controls",
      "model_module_version": "1.5.0",
      "model_name": "LabelModel",
      "state": {
       "layout": "IPY_MODEL_7a582cfd6e32430f95d9c4d073c13a6e",
       "style": "IPY_MODEL_42b6042d3f494a92b79c96a9544d9069",
       "value": "106"
      }
     },
     "dddbfffbead94406a2cdecd0ca26281d": {
      "model_module": "@jupyter-widgets/base",
      "model_module_version": "1.2.0",
      "model_name": "LayoutModel",
      "state": {
       "grid_area": "left",
       "width": "100%"
      }
     },
     "ddfbcde26d0b4957a5f666524929abf8": {
      "model_module": "@jupyter-widgets/controls",
      "model_module_version": "1.5.0",
      "model_name": "ProgressStyleModel",
      "state": {
       "bar_color": "#71cddd",
       "description_width": ""
      }
     },
     "df8b35773bb445c9a05c57c1752f4ab2": {
      "model_module": "@jupyter-widgets/controls",
      "model_module_version": "1.5.0",
      "model_name": "HTMLModel",
      "state": {
       "layout": "IPY_MODEL_d40b9d7437ef47f289a97f3f52be4358",
       "style": "IPY_MODEL_3ccdfa0a3eaa48718b0cba7531a668b9",
       "value": "<h5 style='color:#dc267f'>False</h5>"
      }
     },
     "e088d0db667e41719dac12102d874ee3": {
      "model_module": "@jupyter-widgets/base",
      "model_module_version": "1.2.0",
      "model_name": "LayoutModel",
      "state": {
       "justify_content": "center"
      }
     },
     "e1013a4622c14be6b6688a8cda123c5a": {
      "model_module": "@jupyter-widgets/controls",
      "model_module_version": "1.5.0",
      "model_name": "HTMLModel",
      "state": {
       "layout": "IPY_MODEL_8f77ae661c3b41ebaa638e3b8352dfc3",
       "style": "IPY_MODEL_667807c07d7a4728a1d2b8ff6cc34aea",
       "value": "<table><style>\ntable {\n    border-collapse: collapse;\n    width: auto;\n}\n\nth, td {\n    text-align: left;\n    padding: 8px;\n}\n\ntr:nth-child(even) {background-color: #f6f6f6;};\n</style><tr><th></th><th>Type</th><th>Gate error</th></tr><tr><td><font style='font-weight:bold'>cx2_1</font></td><td>cx</td><td>0.00624</td></tr><tr><td><font style='font-weight:bold'>cx1_2</font></td><td>cx</td><td>0.00624</td></tr></table>"
      }
     },
     "e1e674ef9e4546f28b2f0812f61a53b3": {
      "model_module": "@jupyter-widgets/controls",
      "model_module_version": "1.5.0",
      "model_name": "LabelModel",
      "state": {
       "layout": "IPY_MODEL_fa5cd71c8c564e2f91595068fc191e74",
       "style": "IPY_MODEL_6e05c6486237455d8d71db0c24515b4d",
       "value": "Avg. Meas. Err."
      }
     },
     "e25f438245bc4b759d2dd5e19d6026a8": {
      "model_module": "@jupyter-widgets/controls",
      "model_module_version": "1.5.0",
      "model_name": "DescriptionStyleModel",
      "state": {
       "description_width": ""
      }
     },
     "e25fc6b2f79a4200a94a645fd38276bd": {
      "model_module": "@jupyter-widgets/base",
      "model_module_version": "1.2.0",
      "model_name": "LayoutModel",
      "state": {
       "grid_area": "right",
       "padding": "0px 0px 0px 0px",
       "width": "70px"
      }
     },
     "e2a6140e72374b879a658e617b3c4ee1": {
      "model_module": "@jupyter-widgets/controls",
      "model_module_version": "1.5.0",
      "model_name": "HTMLModel",
      "state": {
       "layout": "IPY_MODEL_125f5903064a42dabd94b111f888771f",
       "style": "IPY_MODEL_c02ce3143b2d495bbdf882c1ed16f464",
       "value": "<h4>ibmq_lima</h4>"
      }
     },
     "e2f2a87a65ca463fb2a134cd3c6f93db": {
      "model_module": "@jupyter-widgets/controls",
      "model_module_version": "1.5.0",
      "model_name": "HTMLModel",
      "state": {
       "layout": "IPY_MODEL_53548688bd2344dd8cde5ae4d81be0aa",
       "style": "IPY_MODEL_44ec45ee6f5844618c87025dd4d07b0c",
       "value": "<h5><b>5</b></h5>"
      }
     },
     "e33ffa94c4ec401c82c679b7bdb31ac1": {
      "model_module": "@jupyter-widgets/base",
      "model_module_version": "1.2.0",
      "model_name": "LayoutModel",
      "state": {
       "border": "4px solid #000000",
       "max_height": "650px",
       "min_height": "650px",
       "overflow_y": "hidden"
      }
     },
     "e3709256ee9e4beda458a66e79be61d5": {
      "model_module": "@jupyter-widgets/base",
      "model_module_version": "1.2.0",
      "model_name": "LayoutModel",
      "state": {}
     },
     "e48a1e24effc445aafd99967af25d85b": {
      "model_module": "@jupyter-widgets/controls",
      "model_module_version": "1.5.0",
      "model_name": "HTMLModel",
      "state": {
       "layout": "IPY_MODEL_474b7e63c03c4e16a1c6b6dff6c7eab5",
       "style": "IPY_MODEL_efcdc6efadef447e922c81dad7e33685",
       "value": "<h4>ibmq_quito</h4>"
      }
     },
     "e4964ed846eb4694812ff7d489179823": {
      "model_module": "@jupyter-widgets/controls",
      "model_module_version": "1.5.0",
      "model_name": "HTMLModel",
      "state": {
       "layout": "IPY_MODEL_52c29a8d05734455851173e5f88e7ce6",
       "style": "IPY_MODEL_2920e768d80542b68f86ee0674988b96",
       "value": "<h2 style ='color:#ffffff; background-color:#000000;padding-top: 1%; padding-bottom: 1%;padding-left: 1%;margin-top: 0px'>Backend Overview</h2>"
      }
     },
     "e6d7c418f0c6415784a505c425e65a59": {
      "model_module": "@jupyter-widgets/base",
      "model_module_version": "1.2.0",
      "model_name": "LayoutModel",
      "state": {}
     },
     "e71a09a9637147d49404485accd1057f": {
      "model_module": "@jupyter-widgets/base",
      "model_module_version": "1.2.0",
      "model_name": "LayoutModel",
      "state": {
       "justify_content": "center"
      }
     },
     "e7e670f186664550bcf715266418a07b": {
      "model_module": "@jupyter-widgets/controls",
      "model_module_version": "1.5.0",
      "model_name": "HTMLModel",
      "state": {
       "layout": "IPY_MODEL_778dd7b3a322435a81ac1d59c78dbbd9",
       "style": "IPY_MODEL_8a6844cdfc7541f1a9795d4beaecd891",
       "value": "<h5>95.0 / 111.2 us</h5>"
      }
     },
     "e9dde1b2566c4b5d90eebc798944469b": {
      "model_module": "@jupyter-widgets/base",
      "model_module_version": "1.2.0",
      "model_name": "LayoutModel",
      "state": {
       "min_width": "auto"
      }
     },
     "eaea44917f674fa29eba21c5e790ec73": {
      "model_module": "@jupyter-widgets/controls",
      "model_module_version": "1.5.0",
      "model_name": "HTMLModel",
      "state": {
       "layout": "IPY_MODEL_2e0979fbfcc249f7b91cb295d7f9fc11",
       "style": "IPY_MODEL_fbf19a035024476a84c98afffc9bad06",
       "value": "<h1 style='color:#ffffff;background-color:#000000;padding-top: 1%;padding-bottom: 1%;padding-left: 1%; margin-top: 0px'>ibmq_lima</h1>"
      }
     },
     "eb6d3f95921a4857b8c67c30309932db": {
      "model_module": "@jupyter-widgets/controls",
      "model_module_version": "1.5.0",
      "model_name": "DescriptionStyleModel",
      "state": {
       "description_width": ""
      }
     },
     "ebe347b6697547d183d5e980760d45b7": {
      "model_module": "@jupyter-widgets/base",
      "model_module_version": "1.2.0",
      "model_name": "LayoutModel",
      "state": {
       "max_width": "180px"
      }
     },
     "ec4520abb6f9471a8f3c19b936b4c0d1": {
      "model_module": "@jupyter-widgets/output",
      "model_module_version": "1.0.0",
      "model_name": "OutputModel",
      "state": {
       "layout": "IPY_MODEL_f37b5864282b41efb93b37c5b5e8e57b",
       "outputs": [
        {
         "data": {
          "image/png": "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\n",
          "text/plain": "<Figure size 360x360 with 1 Axes>"
         },
         "metadata": {},
         "output_type": "display_data"
        }
       ]
      }
     },
     "ecd78dc604be4e9897fd79df6eb33684": {
      "model_module": "@jupyter-widgets/base",
      "model_module_version": "1.2.0",
      "model_name": "LayoutModel",
      "state": {
       "min_width": "auto"
      }
     },
     "ed194df7bf584cffb093c21ae70dc7ba": {
      "model_module": "@jupyter-widgets/controls",
      "model_module_version": "1.5.0",
      "model_name": "GridBoxModel",
      "state": {
       "children": [
        "IPY_MODEL_0857f8016ba94ec497d334e4ad299faa",
        "IPY_MODEL_7aaf4f965efb42fba290a10c84640d3d",
        "IPY_MODEL_fbbf6d3cf77b4fb5826c0e3aa235938d",
        "IPY_MODEL_e1013a4622c14be6b6688a8cda123c5a"
       ],
       "layout": "IPY_MODEL_586f1b8d90c84264b6ee38d04393ea42"
      }
     },
     "ed1f1a4fcc6f4dc5b37992a59d3aaede": {
      "model_module": "@jupyter-widgets/base",
      "model_module_version": "1.2.0",
      "model_name": "LayoutModel",
      "state": {
       "align_items": "center",
       "display": "flex-inline"
      }
     },
     "ee1d56c7bc204b90be2090df86684a9b": {
      "model_module": "@jupyter-widgets/base",
      "model_module_version": "1.2.0",
      "model_name": "LayoutModel",
      "state": {}
     },
     "ee52321df32d48919ca151dac7564203": {
      "model_module": "@jupyter-widgets/controls",
      "model_module_version": "1.5.0",
      "model_name": "IntProgressModel",
      "state": {
       "layout": "IPY_MODEL_ebe347b6697547d183d5e980760d45b7",
       "max": 2109,
       "style": "IPY_MODEL_333df8bff2c046d58fc1ef379a2239f2",
       "value": 2099
      }
     },
     "ee67d3c18b374954a4f5b36e188c91a2": {
      "model_module": "@jupyter-widgets/controls",
      "model_module_version": "1.5.0",
      "model_name": "DescriptionStyleModel",
      "state": {
       "description_width": ""
      }
     },
     "eef994bb936141fab079d342f3e2cebc": {
      "model_module": "@jupyter-widgets/controls",
      "model_module_version": "1.5.0",
      "model_name": "DescriptionStyleModel",
      "state": {
       "description_width": ""
      }
     },
     "ef0c7a8707e44be5a550eb5d6bfc3d0b": {
      "model_module": "@jupyter-widgets/base",
      "model_module_version": "1.2.0",
      "model_name": "LayoutModel",
      "state": {
       "overflow_x": "scroll"
      }
     },
     "ef890df86a1f4391afcf0cef89b70dce": {
      "model_module": "@jupyter-widgets/controls",
      "model_module_version": "1.5.0",
      "model_name": "HTMLModel",
      "state": {
       "layout": "IPY_MODEL_281907a9579f473fba6e7317b676dee1",
       "style": "IPY_MODEL_3051d0204af64421aa463f3bf3cde92b",
       "value": "<h5>0.008</h5>"
      }
     },
     "efcdc6efadef447e922c81dad7e33685": {
      "model_module": "@jupyter-widgets/controls",
      "model_module_version": "1.5.0",
      "model_name": "DescriptionStyleModel",
      "state": {
       "description_width": ""
      }
     },
     "f00c3552eb814ac5ae63317bf957ad45": {
      "model_module": "@jupyter-widgets/controls",
      "model_module_version": "1.5.0",
      "model_name": "HTMLModel",
      "state": {
       "layout": "IPY_MODEL_4dd6ae3b4f2b46b9a31c6537f28a4d50",
       "style": "IPY_MODEL_43d1cc40af23478c954cb26f75e2ed13",
       "value": "<p style='font-family: IBM Plex Sans, Arial, Helvetica, sans-serif; font-size: 20px; font-weight: medium;'>Circuit Properties</p>"
      }
     },
     "f1892b3dc7cc4a63a72d5a3299bf0e8c": {
      "model_module": "@jupyter-widgets/controls",
      "model_module_version": "1.5.0",
      "model_name": "HTMLModel",
      "state": {
       "layout": "IPY_MODEL_cf54b5a30fdc4942bdfb6bf78ff942fc",
       "style": "IPY_MODEL_7fb0ee3c5b5c44c0832aa948d3ce3f14",
       "value": "<h5>0.0215</h5>"
      }
     },
     "f22e835b5e804871a49ccc27fefb0b66": {
      "model_module": "@jupyter-widgets/controls",
      "model_module_version": "1.5.0",
      "model_name": "DescriptionStyleModel",
      "state": {
       "description_width": ""
      }
     },
     "f3291aad127546d9ad2c1ab274eb8918": {
      "model_module": "@jupyter-widgets/base",
      "model_module_version": "1.2.0",
      "model_name": "LayoutModel",
      "state": {
       "align_items": "center",
       "display": "inline-flex",
       "flex_flow": "column"
      }
     },
     "f37b5864282b41efb93b37c5b5e8e57b": {
      "model_module": "@jupyter-widgets/base",
      "model_module_version": "1.2.0",
      "model_name": "LayoutModel",
      "state": {
       "align_items": "center",
       "justify_content": "center",
       "margin": "0px 0px 0px 0px",
       "max_height": "250px",
       "max_width": "250px",
       "min_height": "250px",
       "min_width": "250px"
      }
     },
     "f385d48153ae44e28e554575ee9368ed": {
      "model_module": "@jupyter-widgets/controls",
      "model_module_version": "1.5.0",
      "model_name": "VBoxModel",
      "state": {
       "children": [
        "IPY_MODEL_e2a6140e72374b879a658e617b3c4ee1",
        "IPY_MODEL_13ee32dbdfad456ebfca7a610d662ff7",
        "IPY_MODEL_abd54d19227b4f5897d9fe09784f6d27",
        "IPY_MODEL_03e625697c544d77b6dea56efe88571e",
        "IPY_MODEL_85fa37b736e844978f916d469229ec2c",
        "IPY_MODEL_f632a2c746cd48cc92d3fc1dfbb506ec",
        "IPY_MODEL_915d6bc08fac4eae9b4904a3900496d9",
        "IPY_MODEL_e7e670f186664550bcf715266418a07b",
        "IPY_MODEL_9a18375575ff4c6980a24827c5cbcd64",
        "IPY_MODEL_63af50082d2545d0b6ffa092fa3199bb"
       ],
       "layout": "IPY_MODEL_64cd5159630043539a5516b43e6f22d2"
      }
     },
     "f5fec64352b24b1c879e78843aec6909": {
      "model_module": "@jupyter-widgets/base",
      "model_module_version": "1.2.0",
      "model_name": "LayoutModel",
      "state": {}
     },
     "f632a2c746cd48cc92d3fc1dfbb506ec": {
      "model_module": "@jupyter-widgets/controls",
      "model_module_version": "1.5.0",
      "model_name": "HTMLModel",
      "state": {
       "layout": "IPY_MODEL_4cb44d5326934f04889019768307c7df",
       "style": "IPY_MODEL_40a06c5cc271457ea9180b83e25de67d",
       "value": "<h5 style='color:#34bc6e'>True</h5>"
      }
     },
     "f6b80ca4e07846ef8729031ae1530b70": {
      "model_module": "@jupyter-widgets/controls",
      "model_module_version": "1.5.0",
      "model_name": "HTMLModel",
      "state": {
       "layout": "IPY_MODEL_b7ce395e805c4c4ea58c6ed2148a2094",
       "style": "IPY_MODEL_494ccfddf54841a79df884e58d2874c6",
       "value": "<h5>178.1 / 178.0 us</h5>"
      }
     },
     "f6f3293b8ab34acaa1211c8f96906539": {
      "model_module": "@jupyter-widgets/base",
      "model_module_version": "1.2.0",
      "model_name": "LayoutModel",
      "state": {
       "align_items": "center",
       "justify_content": "center",
       "margin": "0px 0px 0px 0px",
       "max_height": "250px",
       "max_width": "250px",
       "min_height": "250px",
       "min_width": "250px"
      }
     },
     "f73ef703066245ecb81fef946dcd7c73": {
      "model_module": "@jupyter-widgets/controls",
      "model_module_version": "1.5.0",
      "model_name": "DescriptionStyleModel",
      "state": {
       "description_width": ""
      }
     },
     "fa2134e48cc44b028786280a48430184": {
      "model_module": "@jupyter-widgets/controls",
      "model_module_version": "1.5.0",
      "model_name": "IntProgressModel",
      "state": {
       "layout": "IPY_MODEL_bf745510f09f4a1a90e2599afc9f2831",
       "max": 116,
       "style": "IPY_MODEL_b58736163b394c1f81c289bb897a8ef7",
       "value": 106
      }
     },
     "fa5cd71c8c564e2f91595068fc191e74": {
      "model_module": "@jupyter-widgets/base",
      "model_module_version": "1.2.0",
      "model_name": "LayoutModel",
      "state": {
       "margin": "8px 0px 0px 0px"
      }
     },
     "fabbb96bc8d54fb7b800b67482a07b1e": {
      "model_module": "@jupyter-widgets/controls",
      "model_module_version": "1.5.0",
      "model_name": "DescriptionStyleModel",
      "state": {
       "description_width": ""
      }
     },
     "fb951d7c3c1d4e64823f2ba4740b2477": {
      "model_module": "@jupyter-widgets/controls",
      "model_module_version": "1.5.0",
      "model_name": "HTMLModel",
      "state": {
       "layout": "IPY_MODEL_81a8b9e0c17947f4902e3fe156168a01",
       "style": "IPY_MODEL_e25f438245bc4b759d2dd5e19d6026a8",
       "value": "<h5 style='color:#34bc6e'>True</h5>"
      }
     },
     "fbbf6d3cf77b4fb5826c0e3aa235938d": {
      "model_module": "@jupyter-widgets/controls",
      "model_module_version": "1.5.0",
      "model_name": "HTMLModel",
      "state": {
       "layout": "IPY_MODEL_dba7e1eb32bb46c3b682f8ca91d29f36",
       "style": "IPY_MODEL_818157c52cbd4fcdbbb327ba95d81fd7",
       "value": "<table><style>\ntable {\n    border-collapse: collapse;\n    width: auto;\n}\n\nth, td {\n    text-align: left;\n    padding: 8px;\n}\n\ntr:nth-child(even) {background-color: #f6f6f6;};\n</style><tr><th></th><th>Type</th><th>Gate error</th></tr><tr><td><font style='font-weight:bold'>cx1_0</font></td><td>cx</td><td>0.00593</td></tr><tr><td><font style='font-weight:bold'>cx3_1</font></td><td>cx</td><td>0.01157</td></tr><tr><td><font style='font-weight:bold'>cx1_3</font></td><td>cx</td><td>0.01157</td></tr></table>"
      }
     },
     "fbf19a035024476a84c98afffc9bad06": {
      "model_module": "@jupyter-widgets/controls",
      "model_module_version": "1.5.0",
      "model_name": "DescriptionStyleModel",
      "state": {
       "description_width": ""
      }
     },
     "fc387b34e37e4f539cf50fa33a4b85dc": {
      "model_module": "@jupyter-widgets/controls",
      "model_module_version": "1.5.0",
      "model_name": "HTMLMathModel",
      "state": {
       "layout": "IPY_MODEL_dddbfffbead94406a2cdecd0ca26281d",
       "style": "IPY_MODEL_62c866aec3a649e3abae804629e38e77",
       "value": "<table><style>\ntable {\n    border-collapse: collapse;\n    width: auto;\n}\n\nth, td {\n    text-align: left;\n    padding: 8px;\n}\n\ntr:nth-child(even) {background-color: #f6f6f6;}\n</style><tr><th>Property</th><th>Value</th></tr><tr><td><font style='font-weight:bold'>n_qubits</font></td><td>5</td></tr><tr><td><font style='font-weight:bold'>quantum_volume</font></td><td>8</td></tr><tr><td><font style='font-weight:bold'>operational</font></td><td>True</td></tr><tr><td><font style='font-weight:bold'>status_msg</font></td><td>active</td></tr><tr><td><font style='font-weight:bold'>pending_jobs</font></td><td>32</td></tr><tr><td><font style='font-weight:bold'>backend_version</font></td><td>1.0.27</td></tr><tr><td><font style='font-weight:bold'>basis_gates</font></td><td>['id', 'rz', 'sx', 'x', 'cx', 'reset']</td></tr><tr><td><font style='font-weight:bold'>max_shots</font></td><td>20000</td></tr><tr><td><font style='font-weight:bold'>max_experiments</font></td><td>100</td></tr></table>"
      }
     },
     "fd78acac0b394e54a1c7274caa99651d": {
      "model_module": "@jupyter-widgets/controls",
      "model_module_version": "1.5.0",
      "model_name": "VBoxModel",
      "state": {
       "children": [
        "IPY_MODEL_cab26b6e008f4a81b78bc238134e95fe",
        "IPY_MODEL_c2e3bcd0a2464c868545d2e78309720e",
        "IPY_MODEL_b5854b7a8779478982dc0c6ffbe71af9",
        "IPY_MODEL_c8d8e7fcb40d4da58fccfced62000c7a",
        "IPY_MODEL_a62aae313d0142259001d3dee5bf3557",
        "IPY_MODEL_11951f12d95e4a28befcfa81ccf1ae40",
        "IPY_MODEL_3b8037fc7c4d4d8297c3cd73df1e68c0",
        "IPY_MODEL_193b1bb1a16141c082ab67158208c6de",
        "IPY_MODEL_b324b4fbe8864405ba8e7f8d12f76cdd",
        "IPY_MODEL_d10aa5c7435646c4ba5063ef3d241c71"
       ],
       "layout": "IPY_MODEL_9ebfbcc3410e4d3aa6d90613903db4e2"
      }
     },
     "fdea9cdc5da0468b8937fcefa339f18b": {
      "model_module": "@jupyter-widgets/base",
      "model_module_version": "1.2.0",
      "model_name": "LayoutModel",
      "state": {
       "justify_content": "center"
      }
     },
     "ff47afb41fb146b492e6339171c36e51": {
      "model_module": "@jupyter-widgets/controls",
      "model_module_version": "1.5.0",
      "model_name": "HTMLModel",
      "state": {
       "layout": "IPY_MODEL_318d92eaf0fd4901b488105a30618a29",
       "style": "IPY_MODEL_343ad5d6c0d047aba0c3407bf751e544",
       "value": "<h5>32</h5>"
      }
     }
    },
    "version_major": 2,
    "version_minor": 0
   }
  }
 },
 "nbformat": 4,
 "nbformat_minor": 5
}
