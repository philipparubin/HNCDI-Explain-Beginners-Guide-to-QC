{
 "cells": [
  {
   "cell_type": "markdown",
   "id": "1b84a11e",
   "metadata": {
    "tags": []
   },
   "source": [
    "# HNCDI Explain: Mathematical Fundamentals of Quantum Computing"
   ]
  },
  {
   "cell_type": "markdown",
   "id": "73281dae",
   "metadata": {},
   "source": [
    "## Tutorial 2: Estimate $\\pi$ using quantum algorithms"
   ]
  },
  {
   "cell_type": "code",
   "execution_count": 1,
   "id": "31284a34",
   "metadata": {},
   "outputs": [],
   "source": [
    "# Default imports\n",
    "import numpy as np\n",
    "\n",
    "# Importing standard Qiskit libraries\n",
    "from qiskit import QuantumRegister, ClassicalRegister, QuantumCircuit, transpile, Aer, IBMQ\n",
    "from qiskit.compiler import transpile\n",
    "from qiskit.tools.jupyter import *\n",
    "from qiskit.visualization import *\n",
    "from ibm_quantum_widgets import *\n",
    "\n",
    "# # Loading your IBM Quantum account(s) # Remove comment for IBM Quantum Online\n",
    "# provider = IBMQ.load_account()"
   ]
  },
  {
   "cell_type": "code",
   "execution_count": 2,
   "id": "bb9c0a2b",
   "metadata": {},
   "outputs": [],
   "source": [
    "# Notebook imports\n",
    "from qiskit.providers.ibmq import least_busy\n",
    "\n",
    "# pi approximation\n",
    "from qiskit import assemble\n",
    "from qiskit.tools.monitor import job_monitor\n",
    "import matplotlib.pyplot as plt"
   ]
  },
  {
   "cell_type": "code",
   "execution_count": 3,
   "id": "4076857b",
   "metadata": {},
   "outputs": [
    {
     "name": "stderr",
     "output_type": "stream",
     "text": [
      "<frozen importlib._bootstrap>:219: RuntimeWarning: scipy._lib.messagestream.MessageStream size changed, may indicate binary incompatibility. Expected 56 from C header, got 64 from PyObject\n"
     ]
    },
    {
     "data": {
      "text/html": [
       "<h3>Version Information</h3><table><tr><th>Qiskit Software</th><th>Version</th></tr><tr><td><code>qiskit-terra</code></td><td>0.22.2</td></tr><tr><td><code>qiskit-aer</code></td><td>0.11.1</td></tr><tr><td><code>qiskit-ibmq-provider</code></td><td>0.19.2</td></tr><tr><td><code>qiskit</code></td><td>0.39.2</td></tr><tr><td><code>qiskit-nature</code></td><td>0.5.0</td></tr><tr><td><code>qiskit-finance</code></td><td>0.3.4</td></tr><tr><td><code>qiskit-optimization</code></td><td>0.4.0</td></tr><tr><td><code>qiskit-machine-learning</code></td><td>0.5.0</td></tr><tr><th>System information</th></tr><tr><td>Python version</td><td>3.8.13</td></tr><tr><td>Python compiler</td><td>GCC 10.3.0</td></tr><tr><td>Python build</td><td>default, Mar 25 2022 06:04:10</td></tr><tr><td>OS</td><td>Linux</td></tr><tr><td>CPUs</td><td>8</td></tr><tr><td>Memory (Gb)</td><td>31.211326599121094</td></tr><tr><td colspan='2'>Mon Feb 06 13:21:44 2023 UTC</td></tr></table>"
      ],
      "text/plain": [
       "<IPython.core.display.HTML object>"
      ]
     },
     "metadata": {},
     "output_type": "display_data"
    }
   ],
   "source": [
    "# Version Information\n",
    "%qiskit_version_table"
   ]
  },
  {
   "cell_type": "code",
   "execution_count": 4,
   "id": "5788a2d7",
   "metadata": {},
   "outputs": [
    {
     "data": {
      "text/plain": [
       "[AerSimulator('aer_simulator'),\n",
       " AerSimulator('aer_simulator_statevector'),\n",
       " AerSimulator('aer_simulator_density_matrix'),\n",
       " AerSimulator('aer_simulator_stabilizer'),\n",
       " AerSimulator('aer_simulator_matrix_product_state'),\n",
       " AerSimulator('aer_simulator_extended_stabilizer'),\n",
       " AerSimulator('aer_simulator_unitary'),\n",
       " AerSimulator('aer_simulator_superop'),\n",
       " QasmSimulator('qasm_simulator'),\n",
       " StatevectorSimulator('statevector_simulator'),\n",
       " UnitarySimulator('unitary_simulator'),\n",
       " PulseSimulator('pulse_simulator')]"
      ]
     },
     "execution_count": 4,
     "metadata": {},
     "output_type": "execute_result"
    }
   ],
   "source": [
    "Aer.backends()"
   ]
  },
  {
   "cell_type": "code",
   "execution_count": 5,
   "id": "da068e47",
   "metadata": {},
   "outputs": [],
   "source": [
    "# Set simulator backend\n",
    "simulator_backend = Aer.get_backend('aer_simulator')"
   ]
  },
  {
   "cell_type": "markdown",
   "id": "4336e741",
   "metadata": {},
   "source": [
    "## Approximating $\\pi$ "
   ]
  },
  {
   "cell_type": "code",
   "execution_count": 6,
   "id": "6cca510f",
   "metadata": {},
   "outputs": [],
   "source": [
    "#Compute the Inverse Quantum Fourier Transform\n",
    "\n",
    "def qft_dagger(circ_, n_qubits):\n",
    "    \"\"\"n-qubit QFTdagger the first n qubits in circ\"\"\"\n",
    "    for qubit in range(int(n_qubits/2)):\n",
    "        circ_.swap(qubit, n_qubits-qubit-1)\n",
    "    for j in range(0,n_qubits):\n",
    "        for m in range(j):\n",
    "            circ_.cp(-np.pi/float(2**(j-m)), m, j)\n",
    "        circ_.h(j)"
   ]
  },
  {
   "cell_type": "code",
   "execution_count": 7,
   "id": "5aef9554",
   "metadata": {},
   "outputs": [],
   "source": [
    "#Initial state of Quantum Phase Estimation\n",
    "\n",
    "def qpe_pre(circ_, n_qubits):\n",
    "    circ_.h(range(n_qubits))\n",
    "    circ_.x(n_qubits)\n",
    "\n",
    "    for x in reversed(range(n_qubits)):\n",
    "        for _ in range(2**(n_qubits-1-x)):\n",
    "            circ_.cp(1, n_qubits-1-x, n_qubits)"
   ]
  },
  {
   "cell_type": "code",
   "execution_count": 8,
   "id": "efbac5e4",
   "metadata": {},
   "outputs": [],
   "source": [
    "def run_job(circ, backend, shots, optimization_level=0):\n",
    "    t_circ = transpile(circ, backend, optimization_level=optimization_level)\n",
    "    qobj = assemble(t_circ, shots=shots)\n",
    "    job = backend.run(qobj)\n",
    "    job_monitor(job)\n",
    "    return job.result().get_counts()"
   ]
  },
  {
   "cell_type": "code",
   "execution_count": 9,
   "id": "9e91e8df",
   "metadata": {},
   "outputs": [],
   "source": [
    "def get_pi_estimate(n_qubits, backend, shots):\n",
    "        \n",
    "    # create the circuit\n",
    "    circ = QuantumCircuit(n_qubits + 1, n_qubits)\n",
    "    \n",
    "    # create the input state\n",
    "    qpe_pre(circ, n_qubits)\n",
    "        \n",
    "    # apply a barrier\n",
    "    circ.barrier()\n",
    "    # apply the inverse fourier transform\n",
    "    qft_dagger(circ, n_qubits)\n",
    "    # apply  a barrier\n",
    "    circ.barrier()\n",
    "    # measure all but the last qubits\n",
    "    circ.measure(range(n_qubits), range(n_qubits))\n",
    "    \n",
    "    # optionally save to a file\n",
    "    if n_qubits == 3:\n",
    "        circ.draw(filename='qpe')\n",
    "\n",
    "    # run the job and get the results\n",
    "    counts = run_job(circ, backend, shots, optimization_level=0)\n",
    "    print('counts = ', counts) \n",
    "\n",
    "    # get the count that occurred most frequently\n",
    "    max_counts_result = max(counts, key=counts.get)\n",
    "    print('max_counts_result = ', max_counts_result)\n",
    "    max_counts_result = int(max_counts_result, 2)\n",
    "    print('max_counts_result = ', max_counts_result)\n",
    "    \n",
    "    # solve for pi from the measured counts\n",
    "    theta = max_counts_result/2**n_qubits\n",
    "    return (1./(2*theta))"
   ]
  },
  {
   "cell_type": "code",
   "execution_count": 10,
   "id": "02ad3476",
   "metadata": {},
   "outputs": [
    {
     "name": "stdout",
     "output_type": "stream",
     "text": [
      "Job Status: job has successfully run\n",
      "counts =  {'11': 580, '10': 620, '00': 2223, '01': 6577}\n",
      "max_counts_result =  01\n",
      "max_counts_result =  1\n",
      "2 qubits, pi ≈ 2.0\n",
      "Job Status: job has successfully run\n",
      "counts =  {'101': 82, '100': 113, '110': 107, '111': 127, '011': 213, '000': 386, '010': 1180, '001': 7792}\n",
      "max_counts_result =  001\n",
      "max_counts_result =  1\n",
      "3 qubits, pi ≈ 4.0\n",
      "Job Status: job has successfully run\n",
      "counts =  {'1100': 31, '1101': 35, '0011': 4876, '0111': 72, '1011': 36, '0010': 3241, '0000': 160, '0100': 509, '1110': 88, '0001': 428, '1111': 93, '0110': 100, '1000': 43, '0101': 194, '1001': 48, '1010': 46}\n",
      "max_counts_result =  0011\n",
      "max_counts_result =  3\n",
      "4 qubits, pi ≈ 2.6666666666666665\n",
      "Job Status: job has successfully run\n",
      "counts =  {'11110': 2, '11111': 2, '01010': 1, '00000': 3, '11001': 1, '01101': 2, '11011': 1, '10000': 1, '01110': 1, '01000': 14, '00110': 111, '00011': 18, '00111': 28, '11101': 4, '01011': 2, '00100': 68, '01100': 2, '10001': 1, '00101': 9706, '01001': 7, '00010': 10, '10010': 2, '10101': 1, '11100': 3, '00001': 6, '01111': 3}\n",
      "max_counts_result =  00101\n",
      "max_counts_result =  5\n",
      "5 qubits, pi ≈ 3.2\n",
      "Job Status: job has successfully run\n",
      "counts =  {'011100': 2, '010110': 1, '000100': 5, '011111': 2, '100111': 1, '100011': 2, '110101': 1, '101011': 2, '101101': 1, '000010': 5, '011000': 3, '010101': 2, '111111': 3, '001110': 21, '011010': 2, '100100': 2, '001001': 216, '000101': 13, '110100': 1, '010010': 5, '010001': 8, '111110': 2, '010000': 11, '111001': 3, '000111': 27, '100000': 1, '000011': 6, '001011': 441, '001100': 94, '001000': 67, '110011': 1, '000001': 6, '000110': 16, '010100': 6, '010111': 3, '111011': 2, '101110': 1, '001010': 8950, '001101': 25, '010011': 4, '100001': 2, '101100': 1, '101010': 1, '001111': 24, '000000': 2, '011001': 1, '100101': 1, '100010': 3, '011110': 1}\n",
      "max_counts_result =  001010\n",
      "max_counts_result =  10\n",
      "6 qubits, pi ≈ 3.2\n",
      "Job Status: job has successfully run\n",
      "counts =  {'1101001': 1, '0111111': 1, '0111010': 1, '0110000': 1, '1111001': 1, '1001111': 1, '1001101': 1, '1111101': 1, '0111100': 2, '0110001': 1, '1111000': 1, '0111110': 1, '1110010': 1, '1011111': 1, '1100100': 1, '1100000': 1, '0101001': 2, '0101111': 1, '0000011': 3, '0001001': 4, '1010000': 1, '0111101': 1, '1111010': 2, '1100110': 2, '0000111': 11, '1111011': 3, '0010110': 335, '0100010': 9, '0011110': 6, '0000000': 3, '1001010': 1, '0010010': 148, '0001000': 5, '1111110': 3, '0010100': 6181, '0010111': 128, '0011111': 10, '1011001': 1, '0010000': 49, '0100000': 7, '0100110': 4, '0100100': 6, '0000110': 6, '0010001': 86, '0010011': 446, '0001110': 22, '0001101': 20, '0011001': 46, '0101000': 3, '0101010': 1, '0001111': 25, '0101100': 3, '1110000': 2, '0000001': 3, '0011010': 20, '1001000': 1, '0011101': 14, '0011000': 64, '0111011': 1, '0001011': 11, '0100011': 3, '1010010': 1, '0110110': 2, '0010101': 2161, '0100001': 5, '0100101': 2, '0110100': 2, '1010110': 1, '0101011': 2, '1000010': 1, '1111100': 4, '1111111': 4, '0101101': 4, '1101100': 1, '0001100': 11, '1010111': 1, '0111001': 1, '1101110': 1, '0001010': 11, '0110101': 3, '0011011': 17, '1101010': 3, '0110111': 2, '0100111': 1, '0000100': 5, '1110101': 2, '0000101': 4, '1101111': 3, '0110011': 2, '0011100': 20, '0110010': 3}\n",
      "max_counts_result =  0010100\n",
      "max_counts_result =  20\n",
      "7 qubits, pi ≈ 3.2\n",
      "Job Status: job has successfully run\n",
      "counts =  {'01110010': 1, '00010000': 1, '01111001': 1, '01010011': 1, '00000110': 1, '11011010': 1, '00011011': 2, '00110111': 2, '00111100': 1, '11111110': 1, '10011111': 1, '01001010': 1, '01100001': 1, '00001100': 1, '01010111': 2, '00101101': 24, '11100000': 1, '11001010': 1, '10110001': 1, '00011100': 3, '00110010': 7, '10000011': 1, '11000010': 1, '00101000': 946, '00101010': 356, '00101100': 42, '00100110': 58, '00100000': 10, '00110000': 7, '00110001': 7, '00101011': 103, '00100101': 46, '01111110': 1, '00000000': 1, '00011110': 5, '00111010': 4, '00101110': 17, '01101111': 1, '11001110': 2, '00110011': 4, '00101001': 8026, '00101111': 19, '00100111': 168, '00011111': 5, '00010110': 2, '00110110': 1, '00100011': 19, '01010010': 2, '00111111': 2, '01100110': 1, '00100100': 21, '00000001': 1, '00011101': 4, '01001000': 2, '00011010': 2, '00110100': 4, '00100001': 6, '10110010': 1, '11110100': 1, '00010100': 1, '00100010': 9, '00111000': 7, '00110101': 4, '00111001': 1, '01000100': 1, '11011100': 1, '01001001': 2, '01000010': 1, '11101011': 1, '01010001': 1, '00111110': 2, '00001011': 1, '00111011': 7, '00011000': 1, '00000111': 2, '11110001': 1, '01010100': 2, '00001101': 1}\n",
      "max_counts_result =  00101001\n",
      "max_counts_result =  41\n",
      "8 qubits, pi ≈ 3.1219512195121952\n",
      "Job Status: job has successfully run\n",
      "counts =  {'010110010': 1, '010110001': 1, '001000110': 3, '011010000': 1, '000101110': 1, '001110110': 1, '001110100': 1, '010011000': 1, '011001000': 1, '000110000': 1, '000111001': 1, '000100101': 1, '001111110': 2, '001110001': 1, '010010110': 1, '010000000': 1, '000100111': 1, '000011001': 2, '000101000': 1, '010001011': 1, '111110000': 1, '011010010': 1, '010101101': 1, '100100101': 1, '000111101': 2, '000110100': 1, '010010000': 1, '110011001': 1, '000111011': 1, '010101100': 1, '100111000': 1, '000101101': 3, '010000110': 1, '010100001': 2, '001101011': 6, '101111111': 1, '001011001': 22, '001111100': 1, '001000010': 1, '001000100': 10, '001100101': 3, '001101001': 1, '001001001': 10, '010000100': 1, '110010100': 1, '000110001': 1, '000111111': 2, '001101010': 5, '001011000': 31, '101010011': 1, '001100001': 7, '001010111': 38, '001000111': 10, '001010100': 177, '001110010': 1, '100111110': 1, '001010001': 4200, '001001111': 163, '000111110': 3, '011010101': 1, '001010000': 444, '001001110': 79, '001000101': 9, '001010101': 84, '101100101': 1, '001010011': 479, '001010110': 34, '001000000': 5, '001001100': 31, '101111011': 2, '000110101': 1, '001011101': 11, '001001101': 52, '001001000': 13, '010101110': 1, '001100010': 5, '000010100': 1, '001011110': 8, '001000001': 4, '010101111': 1, '001110111': 1, '001001011': 28, '101011011': 1, '000101001': 1, '000101111': 1, '001000011': 12, '001011010': 19, '000001110': 1, '001110011': 1, '111110010': 1, '001111011': 2, '001001010': 13, '001011111': 4, '001011100': 9, '000110111': 3, '000111010': 1, '110101010': 1, '011001111': 1, '001100011': 2, '110100100': 1, '001011011': 14, '001100000': 3, '001100100': 5, '000000110': 1, '001010010': 3867, '000110110': 2}\n",
      "max_counts_result =  001010001\n",
      "max_counts_result =  81\n",
      "9 qubits, pi ≈ 3.1604938271604937\n",
      "Job Status: job has successfully run\n",
      "counts =  {'0010011101': 1, '0010101001': 1, '0010100001': 1, '0010100100': 8, '0010010111': 1, '0010100010': 5, '0010100101': 2, '0010100011': 9981}\n",
      "max_counts_result =  0010100011\n",
      "max_counts_result =  163\n",
      "10 qubits, pi ≈ 3.1411042944785277\n",
      "Job Status: job has successfully run\n",
      "counts =  {'00101000001': 1, '00101001011': 2, '00100111001': 1, '00101000110': 9913, '00101000101': 29, '00101000111': 27, '00101001000': 4, '00100111111': 1, '00101001001': 1, '00101001100': 1, '00101001010': 3, '00100111100': 1, '00101000010': 1, '00100011001': 1, '00101000011': 3, '00011111011': 1, '00101000000': 1, '00101010000': 3, '00101000100': 4, '00101001110': 1, '00100100011': 1}\n",
      "max_counts_result =  00101000110\n",
      "max_counts_result =  326\n",
      "11 qubits, pi ≈ 3.1411042944785277\n",
      "Job Status: job has successfully run\n",
      "counts =  {'001010010011': 1, '001010010110': 1, '001010100111': 1, '001010001010': 24, '001010000001': 1, '001010000111': 5, '001010001100': 9674, '001010100001': 1, '001010001101': 77, '001000000100': 1, '001010000011': 2, '001001101110': 1, '000101100100': 1, '001010001011': 113, '001010010001': 6, '001001111111': 4, '001010011001': 2, '001010011010': 1, '001001111100': 1, '001010000101': 3, '001010001000': 3, '001001111110': 1, '001010010111': 2, '001010001111': 12, '001010010010': 1, '001011001010': 1, '001010001001': 13, '001010010000': 8, '001011000010': 1, '001010011101': 1, '001100011000': 1, '001010000100': 1, '001010001110': 30, '001010010101': 1, '001001001011': 1, '001010011000': 1, '001010000010': 1, '001100100000': 1}\n",
      "max_counts_result =  001010001100\n",
      "max_counts_result =  652\n",
      "12 qubits, pi ≈ 3.1411042944785277\n"
     ]
    }
   ],
   "source": [
    "# estimate pi using different numbers of qubits\n",
    "\n",
    "shots = 10000\n",
    "nqs = list(range(2,12+1))\n",
    "pi_estimates = []\n",
    "for nq in nqs:\n",
    "    thisnq_pi_estimate = get_pi_estimate(nq, simulator_backend, shots)\n",
    "    pi_estimates.append(thisnq_pi_estimate)\n",
    "    print(f\"{nq} qubits, pi ≈ {thisnq_pi_estimate}\")"
   ]
  },
  {
   "cell_type": "code",
   "execution_count": 11,
   "id": "8a924109",
   "metadata": {},
   "outputs": [
    {
     "data": {
      "image/png": "[encoded data removed]",
      "text/plain": [
       "<Figure size 432x288 with 1 Axes>"
      ]
     },
     "metadata": {
      "needs_background": "light"
     },
     "output_type": "display_data"
    }
   ],
   "source": [
    "pi = np.pi\n",
    "\n",
    "plt.plot(nqs, [pi]*len(nqs), '--r')\n",
    "plt.plot(nqs, pi_estimates, '.-', markersize=12)\n",
    "plt.xlim([1.5, 12.5])\n",
    "plt.ylim([1.5, 4.5])\n",
    "plt.legend(['$\\pi$', 'estimate of $\\pi$'])\n",
    "plt.xlabel('Number of qubits', fontdict={'size':20})\n",
    "plt.ylabel('$\\pi$ and estimate of $\\pi$', fontdict={'size':20})\n",
    "plt.tick_params(axis='x', labelsize=12)\n",
    "plt.tick_params(axis='y', labelsize=12)\n",
    "plt.show()"
   ]
  }
 ],
 "metadata": {
  "kernelspec": {
   "display_name": "Python 3 (ipykernel)",
   "language": "python",
   "name": "python3"
  },
  "language_info": {
   "codemirror_mode": {
    "name": "ipython",
    "version": 3
   },
   "file_extension": ".py",
   "mimetype": "text/x-python",
   "name": "python",
   "nbconvert_exporter": "python",
   "pygments_lexer": "ipython3",
   "version": "3.8.13"
  },
  "widgets": {
   "application/vnd.jupyter.widget-state+json": {
    "state": {
     "01d6468ea23d43dcbecec2203f017d8a": {
      "model_module": "@jupyter-widgets/controls",
      "model_module_version": "1.5.0",
      "model_name": "HTMLModel",
      "state": {
       "layout": "IPY_MODEL_3d928098124947c0ad69d099d94d81e1",
       "style": "IPY_MODEL_09a4da53850446e49f9294e2f6ca8e00",
       "value": "<p style='font-family: IBM Plex Sans, Arial, Helvetica, sans-serif; font-size: 20px; font-weight: medium;'>Circuit Properties</p>"
      }
     },
     "09a4da53850446e49f9294e2f6ca8e00": {
      "model_module": "@jupyter-widgets/controls",
      "model_module_version": "1.5.0",
      "model_name": "DescriptionStyleModel",
      "state": {
       "description_width": ""
      }
     },
     "0c608248db5d4ae187f1f77bb2938018": {
      "model_module": "@jupyter-widgets/controls",
      "model_module_version": "1.5.0",
      "model_name": "HTMLModel",
      "state": {
       "layout": "IPY_MODEL_54eef407458b4adba16597c920d91503",
       "style": "IPY_MODEL_540ec178db484b168602df203de75557",
       "value": "<h5>Status</h5>"
      }
     },
     "2784b18eab2f480c8fe94cc9d8ccccdd": {
      "model_module": "@jupyter-widgets/base",
      "model_module_version": "1.2.0",
      "model_name": "LayoutModel",
      "state": {
       "grid_template_areas": "\n                                       \". . . . right \"\n                                        ",
       "grid_template_columns": "20% 20% 20% 20% 20%",
       "width": "100%"
      }
     },
     "2934098cc2824393b56c0b82fe0578df": {
      "model_module": "@jupyter-widgets/base",
      "model_module_version": "1.2.0",
      "model_name": "LayoutModel",
      "state": {
       "width": "145px"
      }
     },
     "33c1cfb41432420cb85d7ff34e29fa43": {
      "model_module": "@jupyter-widgets/base",
      "model_module_version": "1.2.0",
      "model_name": "LayoutModel",
      "state": {
       "width": "190px"
      }
     },
     "3d928098124947c0ad69d099d94d81e1": {
      "model_module": "@jupyter-widgets/base",
      "model_module_version": "1.2.0",
      "model_name": "LayoutModel",
      "state": {
       "margin": "0px 0px 10px 0px"
      }
     },
     "48811f0890f44ffc819e578d1aa8a811": {
      "model_module": "@jupyter-widgets/base",
      "model_module_version": "1.2.0",
      "model_name": "LayoutModel",
      "state": {
       "margin": "0px 0px 0px 37px",
       "width": "600px"
      }
     },
     "52d245b297014b948992d444a0acc395": {
      "model_module": "@jupyter-widgets/base",
      "model_module_version": "1.2.0",
      "model_name": "LayoutModel",
      "state": {}
     },
     "540ec178db484b168602df203de75557": {
      "model_module": "@jupyter-widgets/controls",
      "model_module_version": "1.5.0",
      "model_name": "DescriptionStyleModel",
      "state": {
       "description_width": ""
      }
     },
     "54eef407458b4adba16597c920d91503": {
      "model_module": "@jupyter-widgets/base",
      "model_module_version": "1.2.0",
      "model_name": "LayoutModel",
      "state": {
       "width": "95px"
      }
     },
     "55255f0ca2ca44f78ac669e3d89b0436": {
      "model_module": "@jupyter-widgets/controls",
      "model_module_version": "1.5.0",
      "model_name": "DescriptionStyleModel",
      "state": {
       "description_width": ""
      }
     },
     "5c6ded39b664408eb0b2b0ee12634c7d": {
      "model_module": "@jupyter-widgets/controls",
      "model_module_version": "1.5.0",
      "model_name": "ButtonStyleModel",
      "state": {}
     },
     "6810fcec0700422d8fd0155412be9bd1": {
      "model_module": "@jupyter-widgets/controls",
      "model_module_version": "1.5.0",
      "model_name": "ButtonModel",
      "state": {
       "button_style": "primary",
       "description": "Clear",
       "layout": "IPY_MODEL_d045d561f2c44b4ea59e629f1b2d9e8f",
       "style": "IPY_MODEL_5c6ded39b664408eb0b2b0ee12634c7d"
      }
     },
     "692ceeddc46f4f5eba0fba278253327d": {
      "model_module": "@jupyter-widgets/controls",
      "model_module_version": "1.5.0",
      "model_name": "HTMLModel",
      "state": {
       "layout": "IPY_MODEL_52d245b297014b948992d444a0acc395",
       "style": "IPY_MODEL_55255f0ca2ca44f78ac669e3d89b0436",
       "value": "<h5>Message</h5>"
      }
     },
     "8447ce94a0d3477fa296c03541237080": {
      "model_module": "@jupyter-widgets/controls",
      "model_module_version": "1.5.0",
      "model_name": "GridBoxModel",
      "state": {
       "children": [
        "IPY_MODEL_6810fcec0700422d8fd0155412be9bd1"
       ],
       "layout": "IPY_MODEL_2784b18eab2f480c8fe94cc9d8ccccdd"
      }
     },
     "9a70924fb3474171a5efa705cf7f6cb7": {
      "model_module": "@jupyter-widgets/base",
      "model_module_version": "1.2.0",
      "model_name": "LayoutModel",
      "state": {
       "width": "70px"
      }
     },
     "a02b7683bb184d86960f496076311c4c": {
      "model_module": "@jupyter-widgets/controls",
      "model_module_version": "1.5.0",
      "model_name": "DescriptionStyleModel",
      "state": {
       "description_width": ""
      }
     },
     "a2af0fc33a024b1ca2551e60b48c4ee2": {
      "model_module": "@jupyter-widgets/controls",
      "model_module_version": "1.5.0",
      "model_name": "DescriptionStyleModel",
      "state": {
       "description_width": ""
      }
     },
     "af4136666f2a45c29471bb007a8bd246": {
      "model_module": "@jupyter-widgets/controls",
      "model_module_version": "1.5.0",
      "model_name": "DescriptionStyleModel",
      "state": {
       "description_width": ""
      }
     },
     "b4b5b976317c46e7bef38fd2a199e174": {
      "model_module": "@jupyter-widgets/controls",
      "model_module_version": "1.5.0",
      "model_name": "HTMLModel",
      "state": {
       "layout": "IPY_MODEL_9a70924fb3474171a5efa705cf7f6cb7",
       "style": "IPY_MODEL_af4136666f2a45c29471bb007a8bd246",
       "value": "<h5>Queue</h5>"
      }
     },
     "b560062d76934876bfd11ed05967750d": {
      "model_module": "@jupyter-widgets/controls",
      "model_module_version": "1.5.0",
      "model_name": "HTMLModel",
      "state": {
       "layout": "IPY_MODEL_2934098cc2824393b56c0b82fe0578df",
       "style": "IPY_MODEL_a2af0fc33a024b1ca2551e60b48c4ee2",
       "value": "<h5>Backend</h5>"
      }
     },
     "b8a8236b3da5464ca8fc7d136a22b546": {
      "model_module": "@jupyter-widgets/controls",
      "model_module_version": "1.5.0",
      "model_name": "HBoxModel",
      "state": {
       "children": [
        "IPY_MODEL_df9b2d0043964164be41105c284adc47",
        "IPY_MODEL_b560062d76934876bfd11ed05967750d",
        "IPY_MODEL_0c608248db5d4ae187f1f77bb2938018",
        "IPY_MODEL_b4b5b976317c46e7bef38fd2a199e174",
        "IPY_MODEL_692ceeddc46f4f5eba0fba278253327d"
       ],
       "layout": "IPY_MODEL_48811f0890f44ffc819e578d1aa8a811"
      }
     },
     "d045d561f2c44b4ea59e629f1b2d9e8f": {
      "model_module": "@jupyter-widgets/base",
      "model_module_version": "1.2.0",
      "model_name": "LayoutModel",
      "state": {
       "grid_area": "right",
       "padding": "0px 0px 0px 0px",
       "width": "70px"
      }
     },
     "df9b2d0043964164be41105c284adc47": {
      "model_module": "@jupyter-widgets/controls",
      "model_module_version": "1.5.0",
      "model_name": "HTMLModel",
      "state": {
       "layout": "IPY_MODEL_33c1cfb41432420cb85d7ff34e29fa43",
       "style": "IPY_MODEL_a02b7683bb184d86960f496076311c4c",
       "value": "<h5>Job ID</h5>"
      }
     }
    },
    "version_major": 2,
    "version_minor": 0
   }
  }
 },
 "nbformat": 4,
 "nbformat_minor": 5
}
