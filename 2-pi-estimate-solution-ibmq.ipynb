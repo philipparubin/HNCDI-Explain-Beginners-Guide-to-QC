{
 "cells": [
  {
   "cell_type": "markdown",
   "id": "1b84a11e",
   "metadata": {
    "tags": []
   },
   "source": [
    "# HNCDI Explain: Mathematical Fundamentals of Quantum Computing"
   ]
  },
  {
   "cell_type": "markdown",
   "id": "73281dae",
   "metadata": {},
   "source": [
    "## Tutorial 2: Estimate $\\pi$ using quantum algorithms"
   ]
  },
  {
   "cell_type": "code",
   "execution_count": 3,
   "id": "31284a34",
   "metadata": {},
   "outputs": [],
   "source": [
    "# Default imports\n",
    "import numpy as np\n",
    "\n",
    "# Importing standard Qiskit libraries\n",
    "from qiskit import QuantumRegister, ClassicalRegister, QuantumCircuit, transpile\n",
    "from qiskit.compiler import transpile\n",
    "from qiskit.visualization import *\n",
    "\n",
    "from ibm_quantum_widgets import *\n",
    "\n",
    "from qiskit_aer import AerSimulator\n",
    "from qiskit_ibm_runtime import QiskitRuntimeService\n",
    "\n",
    "from qiskit_ibm_provider import IBMProvider\n",
    "\n",
    "# # Loading your IBM Quantum account(s) # Remove comment for IBM Quantum Online\n",
    "provider = IBMProvider() # loads account from env variables"
   ]
  },
  {
   "cell_type": "code",
   "execution_count": 6,
   "id": "bb9c0a2b",
   "metadata": {},
   "outputs": [],
   "source": [
    "# Notebook imports\n",
    "from qiskit_ibm_provider import least_busy\n",
    "\n",
    "# pi approximation\n",
    "from qiskit import assemble\n",
    "from qiskit_ibm_provider.job import job_monitor\n",
    "import matplotlib.pyplot as plt"
   ]
  },
  {
   "cell_type": "code",
   "execution_count": 7,
   "id": "da068e47",
   "metadata": {},
   "outputs": [],
   "source": [
    "# Set simulator backend\n",
    "simulator_backend = AerSimulator()"
   ]
  },
  {
   "cell_type": "markdown",
   "id": "4336e741",
   "metadata": {},
   "source": [
    "## Approximating $\\pi$ "
   ]
  },
  {
   "cell_type": "code",
   "execution_count": 8,
   "id": "6cca510f",
   "metadata": {},
   "outputs": [],
   "source": [
    "#Compute the Inverse Quantum Fourier Transform\n",
    "\n",
    "def qft_dagger(circ_, n_qubits):\n",
    "    \"\"\"n-qubit QFTdagger the first n qubits in circ\"\"\"\n",
    "    for qubit in range(int(n_qubits/2)):\n",
    "        circ_.swap(qubit, n_qubits-qubit-1)\n",
    "    for j in range(0,n_qubits):\n",
    "        for m in range(j):\n",
    "            circ_.cp(-np.pi/float(2**(j-m)), m, j)\n",
    "        circ_.h(j)"
   ]
  },
  {
   "cell_type": "code",
   "execution_count": 9,
   "id": "5aef9554",
   "metadata": {},
   "outputs": [],
   "source": [
    "#Initial state of Quantum Phase Estimation\n",
    "\n",
    "def qpe_pre(circ_, n_qubits):\n",
    "    circ_.h(range(n_qubits))\n",
    "    circ_.x(n_qubits)\n",
    "\n",
    "    for x in reversed(range(n_qubits)):\n",
    "        for _ in range(2**(n_qubits-1-x)):\n",
    "            circ_.cp(1, n_qubits-1-x, n_qubits)"
   ]
  },
  {
   "cell_type": "code",
   "execution_count": 10,
   "id": "efbac5e4",
   "metadata": {},
   "outputs": [],
   "source": [
    "def run_job(circ, backend, shots, optimization_level=0):\n",
    "    t_circ = transpile(circ, backend, optimization_level=optimization_level)\n",
    "    qobj = assemble(t_circ, shots=shots)\n",
    "    job = backend.run(qobj)\n",
    "    job_monitor(job)\n",
    "    return job.result().get_counts()"
   ]
  },
  {
   "cell_type": "code",
   "execution_count": 11,
   "id": "9e91e8df",
   "metadata": {},
   "outputs": [],
   "source": [
    "def get_pi_estimate(n_qubits, backend, shots):\n",
    "        \n",
    "    # create the circuit\n",
    "    circ = QuantumCircuit(n_qubits + 1, n_qubits)\n",
    "    \n",
    "    # create the input state\n",
    "    qpe_pre(circ, n_qubits)\n",
    "        \n",
    "    # apply a barrier\n",
    "    circ.barrier()\n",
    "    # apply the inverse fourier transform\n",
    "    qft_dagger(circ, n_qubits)\n",
    "    # apply  a barrier\n",
    "    circ.barrier()\n",
    "    # measure all but the last qubits\n",
    "    circ.measure(range(n_qubits), range(n_qubits))\n",
    "    \n",
    "    # optionally save to a file\n",
    "    if n_qubits == 3:\n",
    "        circ.draw(filename='qpe')\n",
    "\n",
    "    # run the job and get the results\n",
    "    counts = run_job(circ, backend, shots, optimization_level=0)\n",
    "    print('counts = ', counts) \n",
    "\n",
    "    # get the count that occurred most frequently\n",
    "    max_counts_result = max(counts, key=counts.get)\n",
    "    print('max_counts_result = ', max_counts_result)\n",
    "    max_counts_result = int(max_counts_result, 2)\n",
    "    print('max_counts_result = ', max_counts_result)\n",
    "    \n",
    "    # solve for pi from the measured counts\n",
    "    theta = max_counts_result/2**n_qubits\n",
    "    return (1./(2*theta))"
   ]
  },
  {
   "cell_type": "code",
   "execution_count": 16,
   "id": "02ad3476",
   "metadata": {},
   "outputs": [
    {
     "name": "stderr",
     "output_type": "stream",
     "text": [
      "/tmp/ipykernel_186/2817239088.py:4: DeprecationWarning: Using a qobj for run() is deprecated as of qiskit-aer 0.9.0 and will be removed no sooner than 3 months from that release date. Transpiled circuits should now be passed directly using `backend.run(circuits, **run_options).\n",
      "  job = backend.run(qobj)\n"
     ]
    },
    {
     "name": "stdout",
     "output_type": "stream",
     "text": [
      "Job Status: job has successfully run\n",
      "counts =  {'11': 58, '10': 70, '00': 205, '01': 691}\n",
      "max_counts_result =  01\n",
      "max_counts_result =  1\n",
      "2 qubits, pi ≈ 2.0\n",
      "Job Status: job has successfully run\n",
      "counts =  {'101': 12, '111': 11, '011': 21, '100': 14, '110': 12, '000': 37, '010': 117, '001': 800}\n",
      "max_counts_result =  001\n",
      "max_counts_result =  1\n",
      "3 qubits, pi ≈ 4.0\n",
      "Job Status: job has successfully run\n",
      "counts =  {'1010': 2, '1011': 4, '0011': 475, '0111': 11, '1100': 7, '0010': 357, '0000': 21, '1000': 7, '0110': 12, '1101': 7, '0100': 41, '0001': 42, '1111': 11, '1001': 4, '0101': 19, '1110': 4}\n",
      "max_counts_result =  0011\n",
      "max_counts_result =  3\n",
      "4 qubits, pi ≈ 2.6666666666666665\n",
      "Job Status: job has successfully run\n",
      "counts =  {'01001': 1, '00010': 1, '00110': 6, '11111': 1, '00100': 11, '00111': 1, '00011': 3, '01011': 2, '11100': 1, '00101': 997}\n",
      "max_counts_result =  00101\n",
      "max_counts_result =  5\n",
      "5 qubits, pi ≈ 3.2\n",
      "Job Status: job has successfully run\n",
      "counts =  {'010111': 1, '000000': 1, '001111': 1, '101100': 1, '000100': 2, '000111': 3, '001010': 916, '011001': 1, '001011': 36, '001100': 8, '001000': 10, '000110': 3, '001101': 5, '001001': 22, '011010': 1, '010001': 1, '000101': 2, '001110': 2, '010000': 6, '000010': 2}\n",
      "max_counts_result =  001010\n",
      "max_counts_result =  10\n",
      "6 qubits, pi ≈ 3.2\n",
      "Job Status: job has successfully run\n",
      "counts =  {'0001100': 1, '0011101': 1, '0000111': 1, '0001101': 1, '0001111': 1, '0111010': 1, '0110101': 1, '1111110': 1, '0001110': 1, '0001011': 1, '0010100': 622, '0100111': 1, '0010011': 63, '0010110': 34, '0011000': 12, '0011001': 2, '0010101': 234, '0011100': 1, '0010111': 8, '0010010': 16, '0010001': 7, '0011010': 2, '0011011': 7, '0010000': 5}\n",
      "max_counts_result =  0010100\n",
      "max_counts_result =  20\n",
      "7 qubits, pi ≈ 3.2\n",
      "Job Status: job has successfully run\n",
      "counts =  {'00000010': 1, '00110001': 1, '00110000': 2, '00101111': 4, '00010010': 1, '00010111': 1, '00110010': 1, '00100010': 1, '00000001': 1, '00100011': 2, '00110110': 1, '00101001': 794, '00100100': 2, '00110101': 1, '00101101': 2, '00111010': 1, '00011010': 1, '00110100': 3, '01011111': 1, '00100110': 7, '00101000': 116, '00100111': 25, '00100001': 2, '00101010': 33, '00100101': 3, '00101011': 9, '00101100': 8}\n",
      "max_counts_result =  00101001\n",
      "max_counts_result =  41\n",
      "8 qubits, pi ≈ 3.1219512195121952\n",
      "Job Status: job has successfully run\n",
      "counts =  {'001001010': 1, '001100110': 1, '001000001': 1, '000101001': 1, '001001000': 1, '001001001': 1, '000111011': 1, '001010111': 7, '011100011': 1, '001011011': 1, '000110011': 1, '001001110': 11, '001010000': 47, '001010100': 18, '001100100': 2, '001001111': 22, '001010001': 446, '001100010': 2, '001011000': 5, '000111111': 1, '001010010': 369, '001001100': 3, '001010110': 5, '001101110': 1, '010010010': 1, '001010011': 51, '001000110': 2, '001000100': 1, '001010101': 10, '001011001': 2, '001000010': 1, '001001011': 3, '111100111': 1, '001001101': 2, '000101100': 1}\n",
      "max_counts_result =  001010001\n",
      "max_counts_result =  81\n",
      "9 qubits, pi ≈ 3.1604938271604937\n",
      "Job Status: job has successfully run\n",
      "counts =  {'0010010110': 1, '0010100111': 1, '0010100010': 1, '0010100100': 1, '0010100011': 1020}\n",
      "max_counts_result =  0010100011\n",
      "max_counts_result =  163\n",
      "10 qubits, pi ≈ 3.1411042944785277\n",
      "Job Status: job has successfully run\n",
      "counts =  {'00101001100': 1, '00101000101': 1, '00101000011': 1, '00101001000': 1, '00101000100': 1, '00101000111': 4, '00101000110': 1015}\n",
      "max_counts_result =  00101000110\n",
      "max_counts_result =  326\n",
      "11 qubits, pi ≈ 3.1411042944785277\n",
      "Job Status: job has successfully run\n",
      "counts =  {'001010001111': 1, '001010010011': 1, '001010001010': 4, '001001011010': 1, '001010001011': 8, '001010001000': 1, '001010001110': 4, '001010000101': 1, '001010001101': 10, '001010001100': 993}\n",
      "max_counts_result =  001010001100\n",
      "max_counts_result =  652\n",
      "12 qubits, pi ≈ 3.1411042944785277\n",
      "Job Status: job has successfully run\n",
      "counts =  {'0010011111010': 1, '0010100001010': 1, '0010100001101': 1, '0010011110100': 1, '0010100011011': 1, '0010100011000': 902, '0010100011100': 2, '0010100011001': 22, '0010100100010': 1, '0010100010011': 1, '0010100000101': 2, '0010100011010': 9, '0010100011111': 1, '0010100010111': 58, '0010110011101': 1, '0010100010101': 8, '0010100011110': 1, '0010100010110': 7, '0010100010100': 1, '0010100011101': 2, '0010100111010': 1}\n",
      "max_counts_result =  0010100011000\n",
      "max_counts_result =  1304\n",
      "13 qubits, pi ≈ 3.1411042944785277\n"
     ]
    }
   ],
   "source": [
    "# estimate pi using different numbers of qubits\n",
    "\n",
    "number_of_shots = 1024 # Add a number of shots\n",
    "upper_limit_qubits = 13 # Add an upper limit of qubits\n",
    "nqs = list(range(2,upper_limit_qubits+1))\n",
    "pi_estimates = []\n",
    "for nq in nqs:\n",
    "    thisnq_pi_estimate = get_pi_estimate(nq, simulator_backend, number_of_shots)\n",
    "    pi_estimates.append(thisnq_pi_estimate)\n",
    "    print(f\"{nq} qubits, pi ≈ {thisnq_pi_estimate}\")"
   ]
  },
  {
   "cell_type": "code",
   "execution_count": 17,
   "id": "8a924109",
   "metadata": {},
   "outputs": [
    {
     "data": {
      "image/png": "[encoded data removed]",
      "text/plain": [
       "<Figure size 640x480 with 1 Axes>"
      ]
     },
     "metadata": {},
     "output_type": "display_data"
    }
   ],
   "source": [
    "pi = np.pi\n",
    "\n",
    "plt.plot(nqs, [pi]*len(nqs), '--r')\n",
    "plt.plot(nqs, pi_estimates, '.-', markersize=12)\n",
    "plt.xlim([nqs[0]-1,nqs[-1]+1])\n",
    "plt.ylim([1.5, 4.5])\n",
    "plt.legend(['$\\pi$', 'estimate of $\\pi$'])\n",
    "plt.xlabel('Number of qubits', fontdict={'size':20})\n",
    "plt.ylabel('$\\pi$ and estimate of $\\pi$', fontdict={'size':20})\n",
    "plt.tick_params(axis='x', labelsize=12)\n",
    "plt.tick_params(axis='y', labelsize=12)\n",
    "plt.show()"
   ]
  }
 ],
 "metadata": {
  "kernelspec": {
   "display_name": "Qiskit v1.0.2 (ipykernel)",
   "language": "python",
   "name": "python3"
  },
  "language_info": {
   "codemirror_mode": {
    "name": "ipython",
    "version": 3
   },
   "file_extension": ".py",
   "mimetype": "text/x-python",
   "name": "python",
   "nbconvert_exporter": "python",
   "pygments_lexer": "ipython3",
   "version": "3.10.8"
  },
  "widgets": {
   "application/vnd.jupyter.widget-state+json": {
    "state": {},
    "version_major": 2,
    "version_minor": 0
   }
  }
 },
 "nbformat": 4,
 "nbformat_minor": 5
}
