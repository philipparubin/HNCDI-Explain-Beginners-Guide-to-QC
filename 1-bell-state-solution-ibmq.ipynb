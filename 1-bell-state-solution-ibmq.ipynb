{
 "cells": [
  {
   "cell_type": "markdown",
   "id": "1b84a11e",
   "metadata": {
    "tags": []
   },
   "source": [
    "# HNCDI Explain: Mathematical Fundamentals of Quantum Computing"
   ]
  },
  {
   "cell_type": "markdown",
   "id": "07100923",
   "metadata": {},
   "source": [
    "### Install the qiskit library in the colab environment\n",
    "\n",
    "Please run the below cell to ensure the notebook has qiskit installed."
   ]
  },
  {
   "cell_type": "code",
   "execution_count": 1,
   "id": "94274c02",
   "metadata": {},
   "outputs": [
    {
     "name": "stdout",
     "output_type": "stream",
     "text": [
      "Requirement already satisfied: qiskit[visualization] in ./.venv/lib/python3.11/site-packages (2.0.0)\n",
      "Requirement already satisfied: rustworkx>=0.15.0 in ./.venv/lib/python3.11/site-packages (from qiskit[visualization]) (0.16.0)\n",
      "Requirement already satisfied: numpy<3,>=1.17 in ./.venv/lib/python3.11/site-packages (from qiskit[visualization]) (1.23.5)\n",
      "Requirement already satisfied: scipy>=1.5 in ./.venv/lib/python3.11/site-packages (from qiskit[visualization]) (1.15.2)\n",
      "Requirement already satisfied: sympy>=1.3 in ./.venv/lib/python3.11/site-packages (from qiskit[visualization]) (1.14.0)\n",
      "Requirement already satisfied: dill>=0.3 in ./.venv/lib/python3.11/site-packages (from qiskit[visualization]) (0.4.0)\n",
      "Requirement already satisfied: python-dateutil>=2.8.0 in ./.venv/lib/python3.11/site-packages (from qiskit[visualization]) (2.8.2)\n",
      "Requirement already satisfied: stevedore>=3.0.0 in ./.venv/lib/python3.11/site-packages (from qiskit[visualization]) (5.4.1)\n",
      "Requirement already satisfied: typing-extensions in ./.venv/lib/python3.11/site-packages (from qiskit[visualization]) (4.13.2)\n",
      "Requirement already satisfied: symengine<0.14,>=0.11 in ./.venv/lib/python3.11/site-packages (from qiskit[visualization]) (0.13.0)\n",
      "Requirement already satisfied: matplotlib>=3.3 in ./.venv/lib/python3.11/site-packages (from qiskit[visualization]) (3.6.3)\n",
      "Collecting pydot\n",
      "  Downloading pydot-4.0.0-py3-none-any.whl (37 kB)\n",
      "Requirement already satisfied: Pillow>=4.2.1 in ./.venv/lib/python3.11/site-packages (from qiskit[visualization]) (9.4.0)\n",
      "Collecting pylatexenc>=1.4\n",
      "  Using cached pylatexenc-2.10.tar.gz (162 kB)\n",
      "  Preparing metadata (setup.py) ... \u001b[?25ldone\n",
      "\u001b[?25hCollecting seaborn>=0.9.0\n",
      "  Using cached seaborn-0.13.2-py3-none-any.whl (294 kB)\n",
      "Requirement already satisfied: contourpy>=1.0.1 in ./.venv/lib/python3.11/site-packages (from matplotlib>=3.3->qiskit[visualization]) (1.0.7)\n",
      "Requirement already satisfied: cycler>=0.10 in ./.venv/lib/python3.11/site-packages (from matplotlib>=3.3->qiskit[visualization]) (0.11.0)\n",
      "Requirement already satisfied: fonttools>=4.22.0 in ./.venv/lib/python3.11/site-packages (from matplotlib>=3.3->qiskit[visualization]) (4.38.0)\n",
      "Requirement already satisfied: kiwisolver>=1.0.1 in ./.venv/lib/python3.11/site-packages (from matplotlib>=3.3->qiskit[visualization]) (1.4.4)\n",
      "Requirement already satisfied: packaging>=20.0 in ./.venv/lib/python3.11/site-packages (from matplotlib>=3.3->qiskit[visualization]) (23.0)\n",
      "Requirement already satisfied: pyparsing>=2.2.1 in ./.venv/lib/python3.11/site-packages (from matplotlib>=3.3->qiskit[visualization]) (3.0.9)\n",
      "Requirement already satisfied: six>=1.5 in ./.venv/lib/python3.11/site-packages (from python-dateutil>=2.8.0->qiskit[visualization]) (1.16.0)\n",
      "Collecting pandas>=1.2\n",
      "  Downloading pandas-2.2.3-cp311-cp311-macosx_11_0_arm64.whl (11.3 MB)\n",
      "\u001b[2K     \u001b[90m━━━━━━━━━━━━━━━━━━━━━━━━━━━━━━━━━━━━━━━━\u001b[0m \u001b[32m11.3/11.3 MB\u001b[0m \u001b[31m6.3 MB/s\u001b[0m eta \u001b[36m0:00:00\u001b[0m00:01\u001b[0m00:01\u001b[0m\n",
      "\u001b[?25hRequirement already satisfied: pbr>=2.0.0 in ./.venv/lib/python3.11/site-packages (from stevedore>=3.0.0->qiskit[visualization]) (6.1.1)\n",
      "Requirement already satisfied: mpmath<1.4,>=1.1.0 in ./.venv/lib/python3.11/site-packages (from sympy>=1.3->qiskit[visualization]) (1.3.0)\n",
      "Requirement already satisfied: pytz>=2020.1 in ./.venv/lib/python3.11/site-packages (from pandas>=1.2->seaborn>=0.9.0->qiskit[visualization]) (2022.7.1)\n",
      "Collecting tzdata>=2022.7\n",
      "  Downloading tzdata-2025.2-py2.py3-none-any.whl (347 kB)\n",
      "\u001b[2K     \u001b[90m━━━━━━━━━━━━━━━━━━━━━━━━━━━━━━━━━━━━━━━\u001b[0m \u001b[32m347.8/347.8 kB\u001b[0m \u001b[31m5.3 MB/s\u001b[0m eta \u001b[36m0:00:00\u001b[0ma \u001b[36m0:00:01\u001b[0m\n",
      "\u001b[?25hRequirement already satisfied: setuptools in ./.venv/lib/python3.11/site-packages (from pbr>=2.0.0->stevedore>=3.0.0->qiskit[visualization]) (80.3.1)\n",
      "Installing collected packages: pylatexenc, tzdata, pydot, pandas, seaborn\n",
      "\u001b[33m  DEPRECATION: pylatexenc is being installed using the legacy 'setup.py install' method, because it does not have a 'pyproject.toml' and the 'wheel' package is not installed. pip 23.1 will enforce this behaviour change. A possible replacement is to enable the '--use-pep517' option. Discussion can be found at https://github.com/pypa/pip/issues/8559\u001b[0m\u001b[33m\n",
      "\u001b[0m  Running setup.py install for pylatexenc ... \u001b[?25ldone\n",
      "\u001b[?25hSuccessfully installed pandas-2.2.3 pydot-4.0.0 pylatexenc-2.10 seaborn-0.13.2 tzdata-2025.2\n",
      "\n",
      "\u001b[1m[\u001b[0m\u001b[34;49mnotice\u001b[0m\u001b[1;39;49m]\u001b[0m\u001b[39;49m A new release of pip available: \u001b[0m\u001b[31;49m22.3.1\u001b[0m\u001b[39;49m -> \u001b[0m\u001b[32;49m25.1.1\u001b[0m\n",
      "\u001b[1m[\u001b[0m\u001b[34;49mnotice\u001b[0m\u001b[1;39;49m]\u001b[0m\u001b[39;49m To update, run: \u001b[0m\u001b[32;49mpip install --upgrade pip\u001b[0m\n",
      "Note: you may need to restart the kernel to use updated packages.\n",
      "Requirement already satisfied: qiskit-ibm-runtime in ./.venv/lib/python3.11/site-packages (0.38.0)\n",
      "Requirement already satisfied: requests>=2.19 in ./.venv/lib/python3.11/site-packages (from qiskit-ibm-runtime) (2.28.2)\n",
      "Requirement already satisfied: requests-ntlm>=1.1.0 in ./.venv/lib/python3.11/site-packages (from qiskit-ibm-runtime) (1.3.0)\n",
      "Requirement already satisfied: numpy>=1.13 in ./.venv/lib/python3.11/site-packages (from qiskit-ibm-runtime) (1.23.5)\n",
      "Requirement already satisfied: urllib3>=1.21.1 in ./.venv/lib/python3.11/site-packages (from qiskit-ibm-runtime) (1.26.14)\n",
      "Requirement already satisfied: python-dateutil>=2.8.0 in ./.venv/lib/python3.11/site-packages (from qiskit-ibm-runtime) (2.8.2)\n",
      "Requirement already satisfied: ibm-platform-services>=0.22.6 in ./.venv/lib/python3.11/site-packages (from qiskit-ibm-runtime) (0.34.2)\n",
      "Requirement already satisfied: pydantic<2.10,>=2.5.0 in ./.venv/lib/python3.11/site-packages (from qiskit-ibm-runtime) (2.9.2)\n",
      "Requirement already satisfied: qiskit>=1.4.1 in ./.venv/lib/python3.11/site-packages (from qiskit-ibm-runtime) (2.0.0)\n",
      "Requirement already satisfied: packaging in ./.venv/lib/python3.11/site-packages (from qiskit-ibm-runtime) (23.0)\n",
      "Requirement already satisfied: ibm_cloud_sdk_core<4.0.0,>=3.16.5 in ./.venv/lib/python3.11/site-packages (from ibm-platform-services>=0.22.6->qiskit-ibm-runtime) (3.16.6)\n",
      "Requirement already satisfied: annotated-types>=0.6.0 in ./.venv/lib/python3.11/site-packages (from pydantic<2.10,>=2.5.0->qiskit-ibm-runtime) (0.7.0)\n",
      "Requirement already satisfied: pydantic-core==2.23.4 in ./.venv/lib/python3.11/site-packages (from pydantic<2.10,>=2.5.0->qiskit-ibm-runtime) (2.23.4)\n",
      "Requirement already satisfied: typing-extensions>=4.6.1 in ./.venv/lib/python3.11/site-packages (from pydantic<2.10,>=2.5.0->qiskit-ibm-runtime) (4.13.2)\n",
      "Requirement already satisfied: six>=1.5 in ./.venv/lib/python3.11/site-packages (from python-dateutil>=2.8.0->qiskit-ibm-runtime) (1.16.0)\n",
      "Requirement already satisfied: rustworkx>=0.15.0 in ./.venv/lib/python3.11/site-packages (from qiskit>=1.4.1->qiskit-ibm-runtime) (0.16.0)\n",
      "Requirement already satisfied: scipy>=1.5 in ./.venv/lib/python3.11/site-packages (from qiskit>=1.4.1->qiskit-ibm-runtime) (1.15.2)\n",
      "Requirement already satisfied: sympy>=1.3 in ./.venv/lib/python3.11/site-packages (from qiskit>=1.4.1->qiskit-ibm-runtime) (1.14.0)\n",
      "Requirement already satisfied: dill>=0.3 in ./.venv/lib/python3.11/site-packages (from qiskit>=1.4.1->qiskit-ibm-runtime) (0.4.0)\n",
      "Requirement already satisfied: stevedore>=3.0.0 in ./.venv/lib/python3.11/site-packages (from qiskit>=1.4.1->qiskit-ibm-runtime) (5.4.1)\n",
      "Requirement already satisfied: symengine<0.14,>=0.11 in ./.venv/lib/python3.11/site-packages (from qiskit>=1.4.1->qiskit-ibm-runtime) (0.13.0)\n",
      "Requirement already satisfied: charset-normalizer<4,>=2 in ./.venv/lib/python3.11/site-packages (from requests>=2.19->qiskit-ibm-runtime) (3.0.1)\n",
      "Requirement already satisfied: idna<4,>=2.5 in ./.venv/lib/python3.11/site-packages (from requests>=2.19->qiskit-ibm-runtime) (3.4)\n",
      "Requirement already satisfied: certifi>=2017.4.17 in ./.venv/lib/python3.11/site-packages (from requests>=2.19->qiskit-ibm-runtime) (2022.12.7)\n",
      "Requirement already satisfied: cryptography>=1.3 in ./.venv/lib/python3.11/site-packages (from requests-ntlm>=1.1.0->qiskit-ibm-runtime) (44.0.3)\n",
      "Requirement already satisfied: pyspnego>=0.4.0 in ./.venv/lib/python3.11/site-packages (from requests-ntlm>=1.1.0->qiskit-ibm-runtime) (0.11.2)\n",
      "Requirement already satisfied: cffi>=1.12 in ./.venv/lib/python3.11/site-packages (from cryptography>=1.3->requests-ntlm>=1.1.0->qiskit-ibm-runtime) (1.15.1)\n",
      "Requirement already satisfied: PyJWT<3.0.0,>=2.4.0 in ./.venv/lib/python3.11/site-packages (from ibm_cloud_sdk_core<4.0.0,>=3.16.5->ibm-platform-services>=0.22.6->qiskit-ibm-runtime) (2.10.1)\n",
      "Requirement already satisfied: pbr>=2.0.0 in ./.venv/lib/python3.11/site-packages (from stevedore>=3.0.0->qiskit>=1.4.1->qiskit-ibm-runtime) (6.1.1)\n",
      "Requirement already satisfied: mpmath<1.4,>=1.1.0 in ./.venv/lib/python3.11/site-packages (from sympy>=1.3->qiskit>=1.4.1->qiskit-ibm-runtime) (1.3.0)\n",
      "Requirement already satisfied: pycparser in ./.venv/lib/python3.11/site-packages (from cffi>=1.12->cryptography>=1.3->requests-ntlm>=1.1.0->qiskit-ibm-runtime) (2.21)\n",
      "Requirement already satisfied: setuptools in ./.venv/lib/python3.11/site-packages (from pbr>=2.0.0->stevedore>=3.0.0->qiskit>=1.4.1->qiskit-ibm-runtime) (80.3.1)\n",
      "\n",
      "\u001b[1m[\u001b[0m\u001b[34;49mnotice\u001b[0m\u001b[1;39;49m]\u001b[0m\u001b[39;49m A new release of pip available: \u001b[0m\u001b[31;49m22.3.1\u001b[0m\u001b[39;49m -> \u001b[0m\u001b[32;49m25.1.1\u001b[0m\n",
      "\u001b[1m[\u001b[0m\u001b[34;49mnotice\u001b[0m\u001b[1;39;49m]\u001b[0m\u001b[39;49m To update, run: \u001b[0m\u001b[32;49mpip install --upgrade pip\u001b[0m\n",
      "Note: you may need to restart the kernel to use updated packages.\n",
      "Requirement already satisfied: qiskit-aer in ./.venv/lib/python3.11/site-packages (0.17.0)\n",
      "Requirement already satisfied: qiskit>=1.1.0 in ./.venv/lib/python3.11/site-packages (from qiskit-aer) (2.0.0)\n",
      "Requirement already satisfied: numpy>=1.16.3 in ./.venv/lib/python3.11/site-packages (from qiskit-aer) (1.23.5)\n",
      "Requirement already satisfied: scipy>=1.0 in ./.venv/lib/python3.11/site-packages (from qiskit-aer) (1.15.2)\n",
      "Requirement already satisfied: psutil>=5 in ./.venv/lib/python3.11/site-packages (from qiskit-aer) (5.9.4)\n",
      "Requirement already satisfied: rustworkx>=0.15.0 in ./.venv/lib/python3.11/site-packages (from qiskit>=1.1.0->qiskit-aer) (0.16.0)\n",
      "Requirement already satisfied: sympy>=1.3 in ./.venv/lib/python3.11/site-packages (from qiskit>=1.1.0->qiskit-aer) (1.14.0)\n",
      "Requirement already satisfied: dill>=0.3 in ./.venv/lib/python3.11/site-packages (from qiskit>=1.1.0->qiskit-aer) (0.4.0)\n",
      "Requirement already satisfied: python-dateutil>=2.8.0 in ./.venv/lib/python3.11/site-packages (from qiskit>=1.1.0->qiskit-aer) (2.8.2)\n",
      "Requirement already satisfied: stevedore>=3.0.0 in ./.venv/lib/python3.11/site-packages (from qiskit>=1.1.0->qiskit-aer) (5.4.1)\n",
      "Requirement already satisfied: typing-extensions in ./.venv/lib/python3.11/site-packages (from qiskit>=1.1.0->qiskit-aer) (4.13.2)\n",
      "Requirement already satisfied: symengine<0.14,>=0.11 in ./.venv/lib/python3.11/site-packages (from qiskit>=1.1.0->qiskit-aer) (0.13.0)\n",
      "Requirement already satisfied: six>=1.5 in ./.venv/lib/python3.11/site-packages (from python-dateutil>=2.8.0->qiskit>=1.1.0->qiskit-aer) (1.16.0)\n",
      "Requirement already satisfied: pbr>=2.0.0 in ./.venv/lib/python3.11/site-packages (from stevedore>=3.0.0->qiskit>=1.1.0->qiskit-aer) (6.1.1)\n",
      "Requirement already satisfied: mpmath<1.4,>=1.1.0 in ./.venv/lib/python3.11/site-packages (from sympy>=1.3->qiskit>=1.1.0->qiskit-aer) (1.3.0)\n",
      "Requirement already satisfied: setuptools in ./.venv/lib/python3.11/site-packages (from pbr>=2.0.0->stevedore>=3.0.0->qiskit>=1.1.0->qiskit-aer) (80.3.1)\n",
      "\n",
      "\u001b[1m[\u001b[0m\u001b[34;49mnotice\u001b[0m\u001b[1;39;49m]\u001b[0m\u001b[39;49m A new release of pip available: \u001b[0m\u001b[31;49m22.3.1\u001b[0m\u001b[39;49m -> \u001b[0m\u001b[32;49m25.1.1\u001b[0m\n",
      "\u001b[1m[\u001b[0m\u001b[34;49mnotice\u001b[0m\u001b[1;39;49m]\u001b[0m\u001b[39;49m To update, run: \u001b[0m\u001b[32;49mpip install --upgrade pip\u001b[0m\n",
      "Note: you may need to restart the kernel to use updated packages.\n"
     ]
    }
   ],
   "source": [
    "# Install the qiskit library\n",
    "%pip install 'qiskit[visualization]'\n",
    "%pip install qiskit-ibm-runtime\n",
    "%pip install qiskit-aer"
   ]
  },
  {
   "cell_type": "markdown",
   "id": "11d73d79",
   "metadata": {},
   "source": [
    "### Import the necessary modules from the Qiskit library\n"
   ]
  },
  {
   "cell_type": "code",
   "execution_count": 2,
   "id": "d7b4a832",
   "metadata": {},
   "outputs": [],
   "source": [
    "import numpy as np\n",
    "from qiskit.visualization import *\n",
    "from qiskit_aer import AerSimulator\n",
    "from qiskit.compiler import transpile\n",
    "from qiskit_aer.primitives import SamplerV2\n",
    "from qiskit_ibm_runtime import QiskitRuntimeService\n",
    "from qiskit_ibm_runtime import SamplerV2 as real_sampler\n",
    "from qiskit import QuantumRegister, ClassicalRegister, QuantumCircuit, transpile\n",
    "# from qiskit import assemble\n",
    "import matplotlib.pyplot as plt"
   ]
  },
  {
   "cell_type": "markdown",
   "id": "e3025f79",
   "metadata": {},
   "source": [
    "### Authenticate with IBM quantum\n",
    "\n",
    "You will require the API token specified in the IBM quantum platform to ensure you can execute your code on a real quantum computer."
   ]
  },
  {
   "cell_type": "code",
   "execution_count": null,
   "id": "5d120392",
   "metadata": {},
   "outputs": [
    {
     "name": "stderr",
     "output_type": "stream",
     "text": [
      "/var/folders/7p/yp3_4bhx1hb234hbhxty04tr0000gn/T/ipykernel_47376/1134007162.py:3: DeprecationWarning: The \"ibm_quantum\" channel option is deprecated and will be sunset on 1 July. After this date, ibm_cloud will be the only valid channel. For information on migrating to the new IBM Quantum Platform on the \"ibm_cloud\" channel, review the migration guide https://quantum.cloud.ibm.com/docs/migration-guides/classic-iqp-to-cloud-iqp .\n",
      "  service = QiskitRuntimeService(channel=\"ibm_quantum\", token=my_token)\n"
     ]
    }
   ],
   "source": [
    "my_token = \"<Enter your IBM quantum token here>\"\n",
    "\n",
    "service = QiskitRuntimeService(channel=\"ibm_quantum\", token=my_token)"
   ]
  },
  {
   "cell_type": "markdown",
   "id": "426a833a",
   "metadata": {},
   "source": [
    "## Tutorial 1: Create a Bell state on a Simulator and on IBMQ"
   ]
  },
  {
   "cell_type": "markdown",
   "id": "0b84de55-09e2-4ddc-992b-d2fcd7f1e654",
   "metadata": {},
   "source": [
    "## Create your Bell state circuit"
   ]
  },
  {
   "cell_type": "code",
   "execution_count": 4,
   "id": "2a16c157",
   "metadata": {},
   "outputs": [
    {
     "data": {
      "text/html": [
       "<pre style=\"word-wrap: normal;white-space: pre;background: #fff0;line-height: 1.1;font-family: &quot;Courier New&quot;,Courier,monospace\">     ┌───┐     ┌─┐   \n",
       "q_0: ┤ H ├──■──┤M├───\n",
       "     └───┘┌─┴─┐└╥┘┌─┐\n",
       "q_1: ─────┤ X ├─╫─┤M├\n",
       "          └───┘ ║ └╥┘\n",
       "c: 2/═══════════╩══╩═\n",
       "                0  1 </pre>"
      ],
      "text/plain": [
       "     ┌───┐     ┌─┐   \n",
       "q_0: ┤ H ├──■──┤M├───\n",
       "     └───┘┌─┴─┐└╥┘┌─┐\n",
       "q_1: ─────┤ X ├─╫─┤M├\n",
       "          └───┘ ║ └╥┘\n",
       "c: 2/═══════════╩══╩═\n",
       "                0  1 "
      ]
     },
     "execution_count": 4,
     "metadata": {},
     "output_type": "execute_result"
    }
   ],
   "source": [
    "# Create your Bell state circuit\n",
    "\n",
    "number_of_qubits = 2 #TODO: add qubits\n",
    "number_of_classical_bits = 2#TODO: add classical bits\n",
    "\n",
    "qreg_q = QuantumRegister(number_of_qubits, 'q')\n",
    "creg_c = ClassicalRegister(number_of_classical_bits, 'c')\n",
    "\n",
    "circuit = QuantumCircuit(qreg_q, creg_c)\n",
    "\n",
    "circuit.h(qreg_q[0])\n",
    "circuit.cx(qreg_q[0], qreg_q[1])\n",
    "circuit.measure(qreg_q[0], creg_c[0])\n",
    "circuit.measure(qreg_q[1], creg_c[1])\n",
    "\n",
    "circuit.draw()"
   ]
  },
  {
   "cell_type": "markdown",
   "id": "05f6782f-c8cf-4e33-a367-08e3b34c7e01",
   "metadata": {},
   "source": [
    "## Submit Bell state circuit to a simulator"
   ]
  },
  {
   "cell_type": "code",
   "execution_count": 5,
   "id": "54a41fb1-e82f-4f59-baf3-ce721b658e05",
   "metadata": {},
   "outputs": [],
   "source": [
    "simulator_backend = AerSimulator()"
   ]
  },
  {
   "cell_type": "code",
   "execution_count": 6,
   "id": "63bb5057-f6db-4504-9453-1abf0adf887c",
   "metadata": {},
   "outputs": [],
   "source": [
    "# Submit job to simulator backend\n",
    "simulator_job = simulator_backend.run(circuit, shots=1024).result()"
   ]
  },
  {
   "cell_type": "code",
   "execution_count": 7,
   "id": "7b343e9d-f5d3-4409-96f7-f07b36827ee3",
   "metadata": {},
   "outputs": [
    {
     "data": {
      "text/plain": [
       "{'11': 545, '00': 479}"
      ]
     },
     "execution_count": 7,
     "metadata": {},
     "output_type": "execute_result"
    }
   ],
   "source": [
    "# List measurement outcomes\n",
    "simulator_job_counts = simulator_job.get_counts()\n",
    "simulator_job_counts"
   ]
  },
  {
   "cell_type": "code",
   "execution_count": 8,
   "id": "ea966d27-f68e-45cc-8279-09d1ac9139ec",
   "metadata": {},
   "outputs": [
    {
     "data": {
      "image/png": "[encoded data removed]",
      "text/plain": [
       "<Figure size 640x480 with 1 Axes>"
      ]
     },
     "execution_count": 8,
     "metadata": {},
     "output_type": "execute_result"
    }
   ],
   "source": [
    "# Plot measurement outcomes \n",
    "plot_histogram(simulator_job_counts)"
   ]
  },
  {
   "cell_type": "markdown",
   "id": "61414335-1dd2-4066-8967-6b440c71bf29",
   "metadata": {},
   "source": [
    "## Submit your Bell state circuit to real quantum hardware"
   ]
  },
  {
   "cell_type": "code",
   "execution_count": 9,
   "id": "9b8b15ce-08ce-4d65-8a1f-1218714b982b",
   "metadata": {},
   "outputs": [
    {
     "data": {
      "text/plain": [
       "[<IBMBackend('ibm_brisbane')>,\n",
       " <IBMBackend('ibm_sherbrooke')>,\n",
       " <IBMBackend('ibm_torino')>]"
      ]
     },
     "execution_count": 9,
     "metadata": {},
     "output_type": "execute_result"
    }
   ],
   "source": [
    "# View backends\n",
    "service.backends()"
   ]
  },
  {
   "cell_type": "code",
   "execution_count": 10,
   "id": "caad584b-5887-47d3-9f82-54c9d3f8e20b",
   "metadata": {},
   "outputs": [],
   "source": [
    "# Find least busy machine to submit a job to. Set IBMQ backend to this machine.\n",
    "backend = service.least_busy(operational=True, simulator=False)\n",
    "sampler = real_sampler(backend)"
   ]
  },
  {
   "cell_type": "code",
   "execution_count": 11,
   "id": "0ad98b8a-73e5-4d86-ab7d-1fc7fe61e17f",
   "metadata": {},
   "outputs": [
    {
     "data": {
      "text/html": [
       "<pre style=\"word-wrap: normal;white-space: pre;background: #fff0;line-height: 1.1;font-family: &quot;Courier New&quot;,Courier,monospace\">global phase: 3π/4\n",
       "          ┌─────────┐┌────┐          ┌──────┐┌───┐┌─┐\n",
       "q_0 -> 18 ┤ Rz(π/2) ├┤ √X ├──────────┤0     ├┤ X ├┤M├\n",
       "          └┬────────┤├────┤┌────────┐│  Ecr │└┬─┬┘└╥┘\n",
       "q_1 -> 19 ─┤ Rz(-π) ├┤ √X ├┤ Rz(-π) ├┤1     ├─┤M├──╫─\n",
       "           └────────┘└────┘└────────┘└──────┘ └╥┘  ║ \n",
       "     c: 2/═════════════════════════════════════╩═══╩═\n",
       "                                               1   0 </pre>"
      ],
      "text/plain": [
       "global phase: 3π/4\n",
       "          ┌─────────┐┌────┐          ┌──────┐┌───┐┌─┐\n",
       "q_0 -> 18 ┤ Rz(π/2) ├┤ √X ├──────────┤0     ├┤ X ├┤M├\n",
       "          └┬────────┤├────┤┌────────┐│  Ecr │└┬─┬┘└╥┘\n",
       "q_1 -> 19 ─┤ Rz(-π) ├┤ √X ├┤ Rz(-π) ├┤1     ├─┤M├──╫─\n",
       "           └────────┘└────┘└────────┘└──────┘ └╥┘  ║ \n",
       "     c: 2/═════════════════════════════════════╩═══╩═\n",
       "                                               1   0 "
      ]
     },
     "execution_count": 11,
     "metadata": {},
     "output_type": "execute_result"
    }
   ],
   "source": [
    "# Transpile your circuit for the IBMQ backend\n",
    "transpiled_circuit = transpile(circuit, backend)\n",
    "transpiled_circuit.draw()"
   ]
  },
  {
   "cell_type": "code",
   "execution_count": 12,
   "id": "bf5107da-3138-4f24-8dfb-75b6560d2f3b",
   "metadata": {},
   "outputs": [],
   "source": [
    "# Submit job to IBMQ backend\n",
    "job = sampler.run([transpiled_circuit], shots=1024)\n",
    "results = job.result()"
   ]
  },
  {
   "cell_type": "code",
   "execution_count": 13,
   "id": "45886ccb-8a37-43cf-8be2-d5f3d7c1afce",
   "metadata": {},
   "outputs": [
    {
     "data": {
      "text/plain": [
       "{'01': 14, '11': 524, '00': 480, '10': 6}"
      ]
     },
     "execution_count": 13,
     "metadata": {},
     "output_type": "execute_result"
    }
   ],
   "source": [
    "# List measurement outcomes\n",
    "result = results[0].data.c\n",
    "measurements = result.get_counts()\n",
    "measurements"
   ]
  },
  {
   "cell_type": "code",
   "execution_count": 14,
   "id": "8c5076d8-7b13-49f2-9ae8-137ebc73d6c5",
   "metadata": {},
   "outputs": [
    {
     "data": {
      "image/png": "[encoded data removed]",
      "text/plain": [
       "<Figure size 640x480 with 1 Axes>"
      ]
     },
     "execution_count": 14,
     "metadata": {},
     "output_type": "execute_result"
    }
   ],
   "source": [
    "# Plot measurement outcomes\n",
    "plot_histogram(measurements)"
   ]
  }
 ],
 "metadata": {
  "kernelspec": {
   "display_name": ".venv",
   "language": "python",
   "name": "python3"
  },
  "language_info": {
   "codemirror_mode": {
    "name": "ipython",
    "version": 3
   },
   "file_extension": ".py",
   "mimetype": "text/x-python",
   "name": "python",
   "nbconvert_exporter": "python",
   "pygments_lexer": "ipython3",
   "version": "3.11.3"
  },
  "widgets": {
   "application/vnd.jupyter.widget-state+json": {
    "state": {},
    "version_major": 2,
    "version_minor": 0
   }
  }
 },
 "nbformat": 4,
 "nbformat_minor": 5
}
