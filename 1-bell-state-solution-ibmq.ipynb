{
 "cells": [
  {
   "cell_type": "markdown",
   "id": "1b84a11e",
   "metadata": {
    "tags": []
   },
   "source": [
    "# HNCDI Explain: Mathematical Fundamentals of Quantum Computing"
   ]
  },
  {
   "cell_type": "markdown",
   "id": "426a833a",
   "metadata": {},
   "source": [
    "## Tutorial 1: Create a Bell state on a Simulator and on IBMQ"
   ]
  },
  {
   "cell_type": "code",
   "execution_count": 1,
   "id": "31284a34",
   "metadata": {},
   "outputs": [],
   "source": [
    "# Default imports\n",
    "import numpy as np\n",
    "\n",
    "# Importing standard Qiskit libraries\n",
    "from qiskit import QuantumRegister, ClassicalRegister, QuantumCircuit, transpile, Aer, IBMQ\n",
    "from qiskit.compiler import transpile\n",
    "from qiskit.tools.jupyter import *\n",
    "from qiskit.visualization import *\n",
    "from ibm_quantum_widgets import *\n",
    "\n",
    "# Loading your IBM Quantum account(s)\n",
    "provider = IBMQ.load_account() # Comment for local use with simulators only"
   ]
  },
  {
   "cell_type": "code",
   "execution_count": 2,
   "id": "bb9c0a2b",
   "metadata": {},
   "outputs": [],
   "source": [
    "# Notebook imports\n",
    "from qiskit.providers.ibmq import least_busy\n",
    "\n",
    "# pi approximation\n",
    "from qiskit import assemble\n",
    "from qiskit.tools.monitor import job_monitor\n",
    "import matplotlib.pyplot as plt"
   ]
  },
  {
   "cell_type": "code",
   "execution_count": 3,
   "id": "4076857b",
   "metadata": {},
   "outputs": [
    {
     "name": "stderr",
     "output_type": "stream",
     "text": [
      "<frozen importlib._bootstrap>:219: RuntimeWarning: scipy._lib.messagestream.MessageStream size changed, may indicate binary incompatibility. Expected 56 from C header, got 64 from PyObject\n"
     ]
    },
    {
     "data": {
      "text/html": [
       "<h3>Version Information</h3><table><tr><th>Qiskit Software</th><th>Version</th></tr><tr><td><code>qiskit-terra</code></td><td>0.22.2</td></tr><tr><td><code>qiskit-aer</code></td><td>0.11.1</td></tr><tr><td><code>qiskit-ibmq-provider</code></td><td>0.19.2</td></tr><tr><td><code>qiskit</code></td><td>0.39.2</td></tr><tr><td><code>qiskit-nature</code></td><td>0.5.0</td></tr><tr><td><code>qiskit-finance</code></td><td>0.3.4</td></tr><tr><td><code>qiskit-optimization</code></td><td>0.4.0</td></tr><tr><td><code>qiskit-machine-learning</code></td><td>0.5.0</td></tr><tr><th>System information</th></tr><tr><td>Python version</td><td>3.8.13</td></tr><tr><td>Python compiler</td><td>GCC 10.3.0</td></tr><tr><td>Python build</td><td>default, Mar 25 2022 06:04:10</td></tr><tr><td>OS</td><td>Linux</td></tr><tr><td>CPUs</td><td>8</td></tr><tr><td>Memory (Gb)</td><td>31.211326599121094</td></tr><tr><td colspan='2'>Mon Feb 06 13:54:50 2023 UTC</td></tr></table>"
      ],
      "text/plain": [
       "<IPython.core.display.HTML object>"
      ]
     },
     "metadata": {},
     "output_type": "display_data"
    }
   ],
   "source": [
    "# Version Information\n",
    "%qiskit_version_table"
   ]
  },
  {
   "cell_type": "markdown",
   "id": "0b84de55-09e2-4ddc-992b-d2fcd7f1e654",
   "metadata": {},
   "source": [
    "## Create your Bell state circuit"
   ]
  },
  {
   "cell_type": "code",
   "execution_count": 4,
   "id": "6fd94d48-4f20-4336-8039-c320bf1813ec",
   "metadata": {},
   "outputs": [
    {
     "data": {
      "image/png": "[encoded data removed]",
      "text/plain": [
       "<Figure size 327.252x204.68 with 1 Axes>"
      ]
     },
     "execution_count": 4,
     "metadata": {},
     "output_type": "execute_result"
    }
   ],
   "source": [
    "# Create your Bell state circuit\n",
    "\n",
    "qreg_q = QuantumRegister(2, 'q')\n",
    "creg_c = ClassicalRegister(2, 'c')\n",
    "\n",
    "circuit = QuantumCircuit(qreg_q, creg_c)\n",
    "\n",
    "circuit.h(qreg_q[0])\n",
    "circuit.cx(qreg_q[0], qreg_q[1])\n",
    "circuit.measure(qreg_q[0], creg_c[0])\n",
    "circuit.measure(qreg_q[1], creg_c[1])\n",
    "\n",
    "circuit.draw()"
   ]
  },
  {
   "cell_type": "markdown",
   "id": "05f6782f-c8cf-4e33-a367-08e3b34c7e01",
   "metadata": {},
   "source": [
    "## Submit Bell state circuit to a simulator"
   ]
  },
  {
   "cell_type": "code",
   "execution_count": 5,
   "id": "54a41fb1-e82f-4f59-baf3-ce721b658e05",
   "metadata": {},
   "outputs": [
    {
     "data": {
      "text/plain": [
       "[AerSimulator('aer_simulator'),\n",
       " AerSimulator('aer_simulator_statevector'),\n",
       " AerSimulator('aer_simulator_density_matrix'),\n",
       " AerSimulator('aer_simulator_stabilizer'),\n",
       " AerSimulator('aer_simulator_matrix_product_state'),\n",
       " AerSimulator('aer_simulator_extended_stabilizer'),\n",
       " AerSimulator('aer_simulator_unitary'),\n",
       " AerSimulator('aer_simulator_superop'),\n",
       " QasmSimulator('qasm_simulator'),\n",
       " StatevectorSimulator('statevector_simulator'),\n",
       " UnitarySimulator('unitary_simulator'),\n",
       " PulseSimulator('pulse_simulator')]"
      ]
     },
     "execution_count": 5,
     "metadata": {},
     "output_type": "execute_result"
    }
   ],
   "source": [
    "# View backends\n",
    "Aer.backends()"
   ]
  },
  {
   "cell_type": "code",
   "execution_count": 6,
   "id": "796f527f-01cd-4f9e-8e33-7de420608b9e",
   "metadata": {},
   "outputs": [],
   "source": [
    "# Set simulator backend\n",
    "simulator_backend = Aer.get_backend('aer_simulator')"
   ]
  },
  {
   "cell_type": "code",
   "execution_count": 7,
   "id": "63bb5057-f6db-4504-9453-1abf0adf887c",
   "metadata": {},
   "outputs": [],
   "source": [
    "# Submit job to simulator backend\n",
    "simulator_job = simulator_backend.run(circuit, shots=1024)"
   ]
  },
  {
   "cell_type": "code",
   "execution_count": 8,
   "id": "7b343e9d-f5d3-4409-96f7-f07b36827ee3",
   "metadata": {},
   "outputs": [
    {
     "data": {
      "text/plain": [
       "{'00': 506, '11': 518}"
      ]
     },
     "execution_count": 8,
     "metadata": {},
     "output_type": "execute_result"
    }
   ],
   "source": [
    "# List measurement outcomes\n",
    "simulator_job_counts = simulator_job.result().get_counts()\n",
    "simulator_job_counts"
   ]
  },
  {
   "cell_type": "code",
   "execution_count": 9,
   "id": "ea966d27-f68e-45cc-8279-09d1ac9139ec",
   "metadata": {},
   "outputs": [
    {
     "data": {
      "image/png": "[encoded data removed]",
      "text/plain": [
       "<Figure size 504x360 with 1 Axes>"
      ]
     },
     "execution_count": 9,
     "metadata": {},
     "output_type": "execute_result"
    }
   ],
   "source": [
    "# Plot measurement outcomes \n",
    "plot_histogram(simulator_job_counts)"
   ]
  },
  {
   "cell_type": "markdown",
   "id": "61414335-1dd2-4066-8967-6b440c71bf29",
   "metadata": {},
   "source": [
    "## Submit your Bell state circuit to real quantum hardware"
   ]
  },
  {
   "cell_type": "code",
   "execution_count": 10,
   "id": "9b8b15ce-08ce-4d65-8a1f-1218714b982b",
   "metadata": {},
   "outputs": [
    {
     "data": {
      "text/plain": [
       "[<IBMQSimulator('ibmq_qasm_simulator') from IBMQ(hub='ibm-q', group='open', project='main')>,\n",
       " <IBMQBackend('ibmq_lima') from IBMQ(hub='ibm-q', group='open', project='main')>,\n",
       " <IBMQBackend('ibmq_belem') from IBMQ(hub='ibm-q', group='open', project='main')>,\n",
       " <IBMQBackend('ibmq_quito') from IBMQ(hub='ibm-q', group='open', project='main')>,\n",
       " <IBMQSimulator('simulator_statevector') from IBMQ(hub='ibm-q', group='open', project='main')>,\n",
       " <IBMQSimulator('simulator_mps') from IBMQ(hub='ibm-q', group='open', project='main')>,\n",
       " <IBMQSimulator('simulator_extended_stabilizer') from IBMQ(hub='ibm-q', group='open', project='main')>,\n",
       " <IBMQSimulator('simulator_stabilizer') from IBMQ(hub='ibm-q', group='open', project='main')>,\n",
       " <IBMQBackend('ibmq_manila') from IBMQ(hub='ibm-q', group='open', project='main')>,\n",
       " <IBMQBackend('ibm_nairobi') from IBMQ(hub='ibm-q', group='open', project='main')>,\n",
       " <IBMQBackend('ibm_oslo') from IBMQ(hub='ibm-q', group='open', project='main')>]"
      ]
     },
     "execution_count": 10,
     "metadata": {},
     "output_type": "execute_result"
    }
   ],
   "source": [
    "# View backends\n",
    "provider.backends()"
   ]
  },
  {
   "cell_type": "code",
   "execution_count": 11,
   "id": "a757134e-d750-4520-890e-7f513506c741",
   "metadata": {},
   "outputs": [
    {
     "data": {
      "application/vnd.jupyter.widget-view+json": {
       "model_id": "ceafd645a8f0408c96933dc7af244308",
       "version_major": 2,
       "version_minor": 0
      },
      "text/plain": [
       "VBox(children=(HTML(value=\"<h2 style ='color:#ffffff; background-color:#000000;padding-top: 1%; padding-bottom…"
      ]
     },
     "metadata": {},
     "output_type": "display_data"
    }
   ],
   "source": [
    "# Visual overview of available machines\n",
    "\n",
    "%qiskit_backend_overview"
   ]
  },
  {
   "cell_type": "code",
   "execution_count": 12,
   "id": "caad584b-5887-47d3-9f82-54c9d3f8e20b",
   "metadata": {},
   "outputs": [
    {
     "data": {
      "application/vnd.jupyter.widget-view+json": {
       "model_id": "e06daadedca34ef2ba59e53e8a6c962b",
       "version_major": 2,
       "version_minor": 0
      },
      "text/plain": [
       "VBox(children=(HTML(value=\"<h1 style='color:#ffffff;background-color:#000000;padding-top: 1%;padding-bottom: 1…"
      ]
     },
     "metadata": {},
     "output_type": "display_data"
    },
    {
     "data": {
      "text/plain": [
       "<IBMQBackend('ibmq_quito') from IBMQ(hub='ibm-q', group='open', project='main')>"
      ]
     },
     "execution_count": 12,
     "metadata": {},
     "output_type": "execute_result"
    }
   ],
   "source": [
    "# Find least busy machine to submit a job to. Set IBMQ backend to this machine.\n",
    "\n",
    "ibmq_backend = least_busy(provider.backends(filters=lambda x: x.configuration().n_qubits >= 2 \n",
    "                                            and not x.configuration().simulator \n",
    "                                            and x.status().operational==True))                \n",
    "ibmq_backend"
   ]
  },
  {
   "cell_type": "code",
   "execution_count": 13,
   "id": "0ad98b8a-73e5-4d86-ab7d-1fc7fe61e17f",
   "metadata": {},
   "outputs": [
    {
     "data": {
      "image/png": "[encoded data removed]",
      "text/plain": [
       "<Figure size 540.531x385.28 with 1 Axes>"
      ]
     },
     "execution_count": 13,
     "metadata": {},
     "output_type": "execute_result"
    }
   ],
   "source": [
    "# Transpile your circuit for the IBMQ backend\n",
    "transpiled_circuit = transpile(circuit, ibmq_backend)\n",
    "transpiled_circuit.draw()"
   ]
  },
  {
   "cell_type": "code",
   "execution_count": 14,
   "id": "bf5107da-3138-4f24-8dfb-75b6560d2f3b",
   "metadata": {},
   "outputs": [],
   "source": [
    "# Submit job to IBMQ backend\n",
    "ibmq_job = ibmq_backend.run(transpiled_circuit, shots=1024)"
   ]
  },
  {
   "cell_type": "code",
   "execution_count": 15,
   "id": "45886ccb-8a37-43cf-8be2-d5f3d7c1afce",
   "metadata": {},
   "outputs": [
    {
     "data": {
      "text/plain": [
       "{'00': 476, '01': 43, '10': 45, '11': 460}"
      ]
     },
     "execution_count": 15,
     "metadata": {},
     "output_type": "execute_result"
    }
   ],
   "source": [
    "# List measurement outcomes\n",
    "ibmq_job_counts = ibmq_job.result().get_counts()\n",
    "ibmq_job_counts"
   ]
  },
  {
   "cell_type": "code",
   "execution_count": 16,
   "id": "8c5076d8-7b13-49f2-9ae8-137ebc73d6c5",
   "metadata": {},
   "outputs": [
    {
     "data": {
      "image/png": "[encoded data removed]",
      "text/plain": [
       "<Figure size 504x360 with 1 Axes>"
      ]
     },
     "execution_count": 16,
     "metadata": {},
     "output_type": "execute_result"
    }
   ],
   "source": [
    "# Plot measurement outcomes\n",
    "plot_histogram(ibmq_job_counts)"
   ]
  }
 ],
 "metadata": {
  "kernelspec": {
   "display_name": "Python 3 (ipykernel)",
   "language": "python",
   "name": "python3"
  },
  "language_info": {
   "codemirror_mode": {
    "name": "ipython",
    "version": 3
   },
   "file_extension": ".py",
   "mimetype": "text/x-python",
   "name": "python",
   "nbconvert_exporter": "python",
   "pygments_lexer": "ipython3",
   "version": "3.10.7"
  },
  "widgets": {
   "application/vnd.jupyter.widget-state+json": {
    "state": {
     "006c40a7621942a0bb3d0e6a1cf68e75": {
      "model_module": "@jupyter-widgets/base",
      "model_module_version": "1.2.0",
      "model_name": "LayoutModel",
      "state": {
       "width": "145px"
      }
     },
     "0224e330b4244a118679ab2487d19cfb": {
      "model_module": "@jupyter-widgets/controls",
      "model_module_version": "1.5.0",
      "model_name": "HTMLModel",
      "state": {
       "layout": "IPY_MODEL_43cddcc657e0482aba5125eeba440651",
       "style": "IPY_MODEL_1e0140599f5546f28b029f8e02ac1d78",
       "value": "<h5>0.0444</h5>"
      }
     },
     "04734197eb954e228b74bb164d27225d": {
      "model_module": "@jupyter-widgets/base",
      "model_module_version": "1.2.0",
      "model_name": "LayoutModel",
      "state": {}
     },
     "04a273d846d44afc9be91817a4214990": {
      "model_module": "@jupyter-widgets/controls",
      "model_module_version": "1.5.0",
      "model_name": "HTMLModel",
      "state": {
       "layout": "IPY_MODEL_27db8feb185b491689c62943ae8dca93",
       "style": "IPY_MODEL_da38a55d151d4d5693790d6dadbfb021",
       "value": "<h5>Message</h5>"
      }
     },
     "04abb306aa4146208f92234eb04b0d31": {
      "model_module": "@jupyter-widgets/controls",
      "model_module_version": "1.5.0",
      "model_name": "DescriptionStyleModel",
      "state": {
       "description_width": ""
      }
     },
     "05c84660b2d44f46a6dc86f2b6cfa295": {
      "model_module": "@jupyter-widgets/base",
      "model_module_version": "1.2.0",
      "model_name": "LayoutModel",
      "state": {}
     },
     "05dc36605e53469490ddec9b0ea7d2f9": {
      "model_module": "@jupyter-widgets/base",
      "model_module_version": "1.2.0",
      "model_name": "LayoutModel",
      "state": {}
     },
     "06719baf4ee249a1a840ce2e921a60c9": {
      "model_module": "@jupyter-widgets/controls",
      "model_module_version": "1.5.0",
      "model_name": "HTMLModel",
      "state": {
       "layout": "IPY_MODEL_358cb5187d144ed3a5dc941ae9a33f93",
       "style": "IPY_MODEL_a35c8c0800444929b29e3fef84ae3d80",
       "value": "<h1 style='color:#ffffff;background-color:#000000;padding-top: 1%;padding-bottom: 1%;padding-left: 1%; margin-top: 0px'>ibmq_quito</h1>"
      }
     },
     "06854d2e6c4b4af4a2ebd3050beb5610": {
      "model_module": "@jupyter-widgets/controls",
      "model_module_version": "1.5.0",
      "model_name": "HTMLModel",
      "state": {
       "layout": "IPY_MODEL_b99d0adfadb34a89913e36f403900d16",
       "style": "IPY_MODEL_bb48d92569f24367b8a961a2749142f8",
       "value": "job has successfully run"
      }
     },
     "07205a28e05a4756aaae85e4a73f16f3": {
      "model_module": "@jupyter-widgets/controls",
      "model_module_version": "1.5.0",
      "model_name": "LabelModel",
      "state": {
       "layout": "IPY_MODEL_243a417f83a243af847c2b3161b6061b",
       "style": "IPY_MODEL_68f1fe235f094305a2b2df312f43475f",
       "value": "50"
      }
     },
     "073c405a01b6468b89329f257ab18164": {
      "model_module": "@jupyter-widgets/controls",
      "model_module_version": "1.5.0",
      "model_name": "DescriptionStyleModel",
      "state": {
       "description_width": ""
      }
     },
     "074ac7b7f5094acaaad2339599c1acfc": {
      "model_module": "@jupyter-widgets/controls",
      "model_module_version": "1.5.0",
      "model_name": "LabelModel",
      "state": {
       "layout": "IPY_MODEL_c737ba84396c4c97b6d7645a4db6cffe",
       "style": "IPY_MODEL_7639e67b3c7b495fae7543784ca331e6",
       "value": "Avg. T1 / T2"
      }
     },
     "0883c68efc0d498cbce652a20b1bae29": {
      "model_module": "@jupyter-widgets/controls",
      "model_module_version": "1.5.0",
      "model_name": "VBoxModel",
      "state": {
       "children": [
        "IPY_MODEL_1512c8710bf34652b1a319a42d694473",
        "IPY_MODEL_a6def0d443e34bebb3709d5dbdd676e0",
        "IPY_MODEL_fae0e5f8ef2d42aeb80b628f5c7d91ac",
        "IPY_MODEL_700ce40b0ae94d28bbb59f359606f6eb",
        "IPY_MODEL_e04dd0ce9ddc407daad297e6a176f77b",
        "IPY_MODEL_f28fbafdb8ca4becb382df10ab82714c",
        "IPY_MODEL_f491ee6c7c5a412a8304ff5de28c7ebe",
        "IPY_MODEL_1cf771b835c74812a03e6ef24d408858",
        "IPY_MODEL_b2628325009349ea8e595dda1c18fb87",
        "IPY_MODEL_13e30a1d965b4707977dde4b79103b22"
       ],
       "layout": "IPY_MODEL_d3871a650b6140a5b647dd3b524b9c21"
      }
     },
     "093a0b3762d6498c8f66f68c7db86dfa": {
      "model_module": "@jupyter-widgets/base",
      "model_module_version": "1.2.0",
      "model_name": "LayoutModel",
      "state": {
       "justify_content": "center"
      }
     },
     "0944213108ff4b43b0aea274681a5b12": {
      "model_module": "@jupyter-widgets/controls",
      "model_module_version": "1.5.0",
      "model_name": "IntProgressModel",
      "state": {
       "layout": "IPY_MODEL_cf5a1afbe9ef4cf4b2e830a7c85f1b7f",
       "max": 50,
       "style": "IPY_MODEL_c7c5c6cacefa4309ba76a450df1f2385",
       "value": 13
      }
     },
     "09ee1a1669a34cf7bf0f15caa97205ca": {
      "model_module": "@jupyter-widgets/base",
      "model_module_version": "1.2.0",
      "model_name": "LayoutModel",
      "state": {
       "max_width": "180px"
      }
     },
     "0c154ff3b3cd481db09ff292d0680a35": {
      "model_module": "@jupyter-widgets/base",
      "model_module_version": "1.2.0",
      "model_name": "LayoutModel",
      "state": {
       "max_width": "180px"
      }
     },
     "0cb8ddb36daf4810908fbc4422e97113": {
      "model_module": "@jupyter-widgets/controls",
      "model_module_version": "1.5.0",
      "model_name": "HTMLModel",
      "state": {
       "layout": "IPY_MODEL_3b4a9740ee674270a126166a6d7d2b27",
       "style": "IPY_MODEL_e2ae6a72226b4e75adcd421a34fd9139",
       "value": "<h5>0.0101</h5>"
      }
     },
     "0df886766f7446328bf4c8967f734be5": {
      "model_module": "@jupyter-widgets/base",
      "model_module_version": "1.2.0",
      "model_name": "LayoutModel",
      "state": {
       "grid_gap": "0px 0px",
       "grid_template_areas": "\n                               \"left right right right\"\n                               \"bottom bottom bottom bottom\"\n                               ",
       "grid_template_columns": "31% 23% 23% 23%",
       "grid_template_rows": "auto auto"
      }
     },
     "0e2f74a3238645268a7cb2804aed3f47": {
      "model_module": "@jupyter-widgets/base",
      "model_module_version": "1.2.0",
      "model_name": "LayoutModel",
      "state": {}
     },
     "0eea4fba5a67485992ac887444b9b232": {
      "model_module": "@jupyter-widgets/base",
      "model_module_version": "1.2.0",
      "model_name": "LayoutModel",
      "state": {
       "justify_content": "center"
      }
     },
     "10d39a5064ec4c48825d47ff6ee8cec1": {
      "model_module": "@jupyter-widgets/controls",
      "model_module_version": "1.5.0",
      "model_name": "HTMLModel",
      "state": {
       "layout": "IPY_MODEL_13681a7f7eb34c2885bb260c3c6d9d66",
       "style": "IPY_MODEL_04abb306aa4146208f92234eb04b0d31",
       "value": "<h4>ibmq_quito</h4>"
      }
     },
     "113127d4ea4a4933bbc5387ec511fa36": {
      "model_module": "@jupyter-widgets/controls",
      "model_module_version": "1.5.0",
      "model_name": "GridBoxModel",
      "state": {
       "children": [
        "IPY_MODEL_ff39645dac6f46e9a244af335d96f148"
       ],
       "layout": "IPY_MODEL_e04a5f93cea0405c933d083663107980"
      }
     },
     "11928e5b2497418494bd8d47e9cd7bd4": {
      "model_module": "@jupyter-widgets/base",
      "model_module_version": "1.2.0",
      "model_name": "LayoutModel",
      "state": {
       "width": "70px"
      }
     },
     "12d795be4358416184937f7e189d3f8e": {
      "model_module": "@jupyter-widgets/controls",
      "model_module_version": "1.5.0",
      "model_name": "HTMLModel",
      "state": {
       "layout": "IPY_MODEL_34cedb29f0ce448b84eb55928bfee696",
       "style": "IPY_MODEL_18ad054f0fc8455fa30af5800b0f7b52",
       "value": "<h5>0.0116</h5>"
      }
     },
     "13496988e7f642ceb68fa6e8a604e5e4": {
      "model_module": "@jupyter-widgets/base",
      "model_module_version": "1.2.0",
      "model_name": "LayoutModel",
      "state": {
       "min_width": "auto"
      }
     },
     "13681a7f7eb34c2885bb260c3c6d9d66": {
      "model_module": "@jupyter-widgets/base",
      "model_module_version": "1.2.0",
      "model_name": "LayoutModel",
      "state": {}
     },
     "13e30a1d965b4707977dde4b79103b22": {
      "model_module": "@jupyter-widgets/controls",
      "model_module_version": "1.5.0",
      "model_name": "HTMLModel",
      "state": {
       "layout": "IPY_MODEL_d97d1907b64144de97e30b408ef2bf70",
       "style": "IPY_MODEL_5fbac53301aa4126ae737b6db48638e4",
       "value": "<h5>0.0643</h5>"
      }
     },
     "144d24660ded430fb1c32ea627a98b7a": {
      "model_module": "@jupyter-widgets/controls",
      "model_module_version": "1.5.0",
      "model_name": "GridBoxModel",
      "state": {
       "children": [
        "IPY_MODEL_330ee4aba7174fc5a22c4fa0e943fd92",
        "IPY_MODEL_1fb8a82e660245279d65dcc8152fdd43",
        "IPY_MODEL_5856232bb47b4b8c80c904f0aa6b4098"
       ],
       "layout": "IPY_MODEL_0df886766f7446328bf4c8967f734be5"
      }
     },
     "1512c8710bf34652b1a319a42d694473": {
      "model_module": "@jupyter-widgets/controls",
      "model_module_version": "1.5.0",
      "model_name": "HTMLModel",
      "state": {
       "layout": "IPY_MODEL_33b47771793e4036b17ca6575d9fe43b",
       "style": "IPY_MODEL_8bbab0c243bc41a3b3007ce5a8426dbb",
       "value": "<h4>ibm_oslo</h4>"
      }
     },
     "15560c5e7c5740a49e073351b4ba4084": {
      "model_module": "@jupyter-widgets/controls",
      "model_module_version": "1.5.0",
      "model_name": "HTMLModel",
      "state": {
       "layout": "IPY_MODEL_dc8372eb68954c3796b81ff770a47382",
       "style": "IPY_MODEL_2f8623d6e34f44bb919a4472a428667c",
       "value": "<h5>0.0296</h5>"
      }
     },
     "15af77774e9549608ddb3e7103ac2e7f": {
      "model_module": "@jupyter-widgets/base",
      "model_module_version": "1.2.0",
      "model_name": "LayoutModel",
      "state": {}
     },
     "15e9913a23fb4dfa8334de51c4388485": {
      "model_module": "@jupyter-widgets/base",
      "model_module_version": "1.2.0",
      "model_name": "LayoutModel",
      "state": {
       "align_items": "center",
       "display": "inline-flex",
       "flex_flow": "column"
      }
     },
     "17035a4490fe4d02bf0763827aa9dbfe": {
      "model_module": "@jupyter-widgets/base",
      "model_module_version": "1.2.0",
      "model_name": "LayoutModel",
      "state": {}
     },
     "17a1a5c7126e4470b7863b04fec58e2e": {
      "model_module": "@jupyter-widgets/controls",
      "model_module_version": "1.5.0",
      "model_name": "HTMLModel",
      "state": {
       "layout": "IPY_MODEL_bcc71a43780b4a20a58323f7a74221db",
       "style": "IPY_MODEL_445925a8241c40aebbda67a6120bfcd4",
       "value": "<h5>0.0112</h5>"
      }
     },
     "17bd70f80c2642b6bc3ade2454f154d5": {
      "model_module": "@jupyter-widgets/base",
      "model_module_version": "1.2.0",
      "model_name": "LayoutModel",
      "state": {
       "overflow_y": "scroll"
      }
     },
     "18ad054f0fc8455fa30af5800b0f7b52": {
      "model_module": "@jupyter-widgets/controls",
      "model_module_version": "1.5.0",
      "model_name": "DescriptionStyleModel",
      "state": {
       "description_width": ""
      }
     },
     "1914959deb24440c920b4958a6c599ce": {
      "model_module": "@jupyter-widgets/controls",
      "model_module_version": "1.5.0",
      "model_name": "HBoxModel",
      "state": {
       "children": [
        "IPY_MODEL_5e5d32bd7e5b440f816741cc28a06214",
        "IPY_MODEL_2f414b09d2a44629a50e1090beaa677b",
        "IPY_MODEL_5f19944742114edf8ee63babbd5272f7"
       ],
       "layout": "IPY_MODEL_3514c25588954bf8abb89fc7db034632"
      }
     },
     "192470e6361e49dcb3239c9c357b0f69": {
      "model_module": "@jupyter-widgets/base",
      "model_module_version": "1.2.0",
      "model_name": "LayoutModel",
      "state": {
       "width": "190px"
      }
     },
     "19cd878a693a4c7f8623bcf3d15f517e": {
      "model_module": "@jupyter-widgets/base",
      "model_module_version": "1.2.0",
      "model_name": "LayoutModel",
      "state": {}
     },
     "1a02db3e1ce6431cb541cf7f5aa81a3a": {
      "model_module": "@jupyter-widgets/controls",
      "model_module_version": "1.5.0",
      "model_name": "LabelModel",
      "state": {
       "layout": "IPY_MODEL_93d2266d8787463eb719d672ba77ef86",
       "style": "IPY_MODEL_4851fddc0fe74d84848d85e7f9446e47",
       "value": "50"
      }
     },
     "1c5336c281de44e7a981b28c9252a5a6": {
      "model_module": "@jupyter-widgets/base",
      "model_module_version": "1.2.0",
      "model_name": "LayoutModel",
      "state": {
       "align_items": "center",
       "display": "inline-flex",
       "flex_flow": "column"
      }
     },
     "1cf2bdbe1c204890aca00484d7cf8b34": {
      "model_module": "@jupyter-widgets/controls",
      "model_module_version": "1.5.0",
      "model_name": "DescriptionStyleModel",
      "state": {
       "description_width": ""
      }
     },
     "1cf771b835c74812a03e6ef24d408858": {
      "model_module": "@jupyter-widgets/controls",
      "model_module_version": "1.5.0",
      "model_name": "HTMLModel",
      "state": {
       "layout": "IPY_MODEL_3d520f418ef840f397ab617f81d19137",
       "style": "IPY_MODEL_5d2e3bcc8c744acab14440d77cba2ecf",
       "value": "<h5>134.5 / 93.4 us</h5>"
      }
     },
     "1d2565974baa4a3ca080fff6358da9a0": {
      "model_module": "@jupyter-widgets/base",
      "model_module_version": "1.2.0",
      "model_name": "LayoutModel",
      "state": {
       "min_width": "auto"
      }
     },
     "1d4a82cbb6a04710888b43fff2c547ee": {
      "model_module": "@jupyter-widgets/controls",
      "model_module_version": "1.5.0",
      "model_name": "TabModel",
      "state": {
       "_titles": {
        "0": "Configuration",
        "1": "Qubit Properties",
        "2": "Multi-Qubit Gates",
        "3": "Error Map",
        "4": "Job History"
       },
       "children": [
        "IPY_MODEL_144d24660ded430fb1c32ea627a98b7a",
        "IPY_MODEL_9b0439e280664fbd8020ed479ebc2b08",
        "IPY_MODEL_2c64fe0f0ea24b0990493174038c728b",
        "IPY_MODEL_a32de36b36be421eaf164dba5181a227",
        "IPY_MODEL_c9e31514c043435dbedf72ad7181508f"
       ],
       "layout": "IPY_MODEL_17bd70f80c2642b6bc3ade2454f154d5"
      }
     },
     "1dd08a0cb59240bab9d5569234be6002": {
      "model_module": "@jupyter-widgets/base",
      "model_module_version": "1.2.0",
      "model_name": "LayoutModel",
      "state": {}
     },
     "1e0140599f5546f28b029f8e02ac1d78": {
      "model_module": "@jupyter-widgets/controls",
      "model_module_version": "1.5.0",
      "model_name": "DescriptionStyleModel",
      "state": {
       "description_width": ""
      }
     },
     "1fb8a82e660245279d65dcc8152fdd43": {
      "model_module": "@jupyter-widgets/output",
      "model_module_version": "1.0.0",
      "model_name": "OutputModel",
      "state": {
       "layout": "IPY_MODEL_5b78636289a243af813356689fee5e2e",
       "outputs": [
        {
         "data": {
          "image/png": "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\n",
          "text/plain": "<Figure size 360x360 with 1 Axes>"
         },
         "metadata": {},
         "output_type": "display_data"
        }
       ]
      }
     },
     "20f65901bcf94be195a4674595e6cf67": {
      "model_module": "@jupyter-widgets/base",
      "model_module_version": "1.2.0",
      "model_name": "LayoutModel",
      "state": {
       "min_width": "auto"
      }
     },
     "21d3d63d3e8d47c2ad7b9b4402c7fead": {
      "model_module": "@jupyter-widgets/controls",
      "model_module_version": "1.5.0",
      "model_name": "LabelModel",
      "state": {
       "layout": "IPY_MODEL_13496988e7f642ceb68fa6e8a604e5e4",
       "style": "IPY_MODEL_388371b86de4451db31e681db5a899fc",
       "value": "50"
      }
     },
     "22794a6c8b9646af9f509a09125633c5": {
      "model_module": "@jupyter-widgets/base",
      "model_module_version": "1.2.0",
      "model_name": "LayoutModel",
      "state": {
       "justify_content": "center",
       "max_width": "250px",
       "min_width": "250px"
      }
     },
     "22cfe3cec5464f8eac0e0a40deb9c7df": {
      "model_module": "@jupyter-widgets/controls",
      "model_module_version": "1.5.0",
      "model_name": "HTMLModel",
      "state": {
       "layout": "IPY_MODEL_05c84660b2d44f46a6dc86f2b6cfa295",
       "style": "IPY_MODEL_6048f31ab091446fa4ac5f18776cd22d",
       "value": "<h4>ibm_nairobi</h4>"
      }
     },
     "2333cd6667f94f39b2068c7a2f72f762": {
      "model_module": "@jupyter-widgets/controls",
      "model_module_version": "1.5.0",
      "model_name": "DescriptionStyleModel",
      "state": {
       "description_width": ""
      }
     },
     "23d6ca6a353e4facb3f771116e3dc175": {
      "model_module": "@jupyter-widgets/base",
      "model_module_version": "1.2.0",
      "model_name": "LayoutModel",
      "state": {}
     },
     "24174267bd574d648e829cb2bd3900a5": {
      "model_module": "@jupyter-widgets/controls",
      "model_module_version": "1.5.0",
      "model_name": "ButtonModel",
      "state": {
       "icon": "close",
       "layout": "IPY_MODEL_70372919989641daa8f66dd90b00c25c",
       "style": "IPY_MODEL_da997b6c9add4607b9273c4ae7a609df"
      }
     },
     "243a417f83a243af847c2b3161b6061b": {
      "model_module": "@jupyter-widgets/base",
      "model_module_version": "1.2.0",
      "model_name": "LayoutModel",
      "state": {
       "min_width": "auto"
      }
     },
     "2468ce270842403a80393068573f74ab": {
      "model_module": "@jupyter-widgets/base",
      "model_module_version": "1.2.0",
      "model_name": "LayoutModel",
      "state": {
       "justify_content": "center"
      }
     },
     "246c03a416f04b01b154d3647c98ad91": {
      "model_module": "@jupyter-widgets/base",
      "model_module_version": "1.2.0",
      "model_name": "LayoutModel",
      "state": {
       "width": "95px"
      }
     },
     "24fe8243c36a4ed8b2778cdff39e0e7c": {
      "model_module": "@jupyter-widgets/controls",
      "model_module_version": "1.5.0",
      "model_name": "DescriptionStyleModel",
      "state": {
       "description_width": ""
      }
     },
     "261da944a83b478a8e48d6b248b0412c": {
      "model_module": "@jupyter-widgets/controls",
      "model_module_version": "1.5.0",
      "model_name": "HTMLModel",
      "state": {
       "layout": "IPY_MODEL_04734197eb954e228b74bb164d27225d",
       "style": "IPY_MODEL_f6619acdb43d4df8b1b1566cc84c1865",
       "value": "<h5>0.0363</h5>"
      }
     },
     "264142d327bf4623a49491004bedbdc1": {
      "model_module": "@jupyter-widgets/controls",
      "model_module_version": "1.5.0",
      "model_name": "HTMLModel",
      "state": {
       "layout": "IPY_MODEL_68df53f6bf6b42c698a77ceeb2982ae0",
       "style": "IPY_MODEL_ab6fdde0b48345fb90551fb6af0374a5",
       "value": "<h5>113.3 / 75.1 us</h5>"
      }
     },
     "26ad1d65bb8c48018369f93404e794e0": {
      "model_module": "@jupyter-widgets/controls",
      "model_module_version": "1.5.0",
      "model_name": "HTMLModel",
      "state": {
       "layout": "IPY_MODEL_4bd870b80795415d9e1e2ca92a981a6e",
       "style": "IPY_MODEL_a2c2eb71e62444c399a28e8adc57a11e",
       "value": "<h5 style='color:#dc267f'>False</h5>"
      }
     },
     "2747294c86a8497f9e5efdf1b71bdc0b": {
      "model_module": "@jupyter-widgets/controls",
      "model_module_version": "1.5.0",
      "model_name": "DescriptionStyleModel",
      "state": {
       "description_width": ""
      }
     },
     "278a380c98554fc2ae8a45b8c182cb64": {
      "model_module": "@jupyter-widgets/controls",
      "model_module_version": "1.5.0",
      "model_name": "HTMLModel",
      "state": {
       "layout": "IPY_MODEL_246c03a416f04b01b154d3647c98ad91",
       "style": "IPY_MODEL_073c405a01b6468b89329f257ab18164",
       "value": "<h5>Status</h5>"
      }
     },
     "27db8feb185b491689c62943ae8dca93": {
      "model_module": "@jupyter-widgets/base",
      "model_module_version": "1.2.0",
      "model_name": "LayoutModel",
      "state": {}
     },
     "27e4c29452164f4391020f8c0a384ff5": {
      "model_module": "@jupyter-widgets/controls",
      "model_module_version": "1.5.0",
      "model_name": "DescriptionStyleModel",
      "state": {
       "description_width": ""
      }
     },
     "28315b754ec749b8aed42ff666490062": {
      "model_module": "@jupyter-widgets/controls",
      "model_module_version": "1.5.0",
      "model_name": "HTMLModel",
      "state": {
       "layout": "IPY_MODEL_e1da0c9e0c394365836d989bfe66dfff",
       "style": "IPY_MODEL_54cb38e3c72f4b8fbbd6152d599727f7",
       "value": "<h5><b>5</b></h5>"
      }
     },
     "2990c25a9ccc4bdca21a18d6ab3f0c62": {
      "model_module": "@jupyter-widgets/controls",
      "model_module_version": "1.5.0",
      "model_name": "VBoxModel",
      "state": {
       "children": [
        "IPY_MODEL_44f2a841a0f24e569ef353039840f385",
        "IPY_MODEL_9888176932cb406994f3e3059693ef46",
        "IPY_MODEL_d22589cc29ba41819b826fe67fb486dd",
        "IPY_MODEL_787966e99c97443bb7a1a57e04bf3ff8",
        "IPY_MODEL_92bbe3e9bec04bef8ef5c98212ad6b2c",
        "IPY_MODEL_074ac7b7f5094acaaad2339599c1acfc",
        "IPY_MODEL_5ef450d84727445d8a4d28f8c3aae33b",
        "IPY_MODEL_e07e33fd1f1b42c6871eab99637f02f1"
       ],
       "layout": "IPY_MODEL_a57d31e414304908aed9a45a9a6a7627"
      }
     },
     "2c64fe0f0ea24b0990493174038c728b": {
      "model_module": "@jupyter-widgets/controls",
      "model_module_version": "1.5.0",
      "model_name": "GridBoxModel",
      "state": {
       "children": [
        "IPY_MODEL_815edd02e9b24135a32be6f3c5e16b0e",
        "IPY_MODEL_ff28e530b8fc43e18c8417432deba700",
        "IPY_MODEL_2cab1925699149b38ee903240415acf9",
        "IPY_MODEL_5c6e02e18e8643a6a713b8f690469952"
       ],
       "layout": "IPY_MODEL_56c3703bd4f94968b73553acd9ee5cbb"
      }
     },
     "2cab1925699149b38ee903240415acf9": {
      "model_module": "@jupyter-widgets/controls",
      "model_module_version": "1.5.0",
      "model_name": "HTMLModel",
      "state": {
       "layout": "IPY_MODEL_897181acc70246d2a7372afd0776f6f4",
       "style": "IPY_MODEL_495edd4fe3fe4aa7afb2a374821a1314",
       "value": "<table><style>\ntable {\n    border-collapse: collapse;\n    width: auto;\n}\n\nth, td {\n    text-align: left;\n    padding: 8px;\n}\n\ntr:nth-child(even) {background-color: #f6f6f6;};\n</style><tr><th></th><th>Type</th><th>Gate error</th></tr><tr><td><font style='font-weight:bold'>cx3_1</font></td><td>cx</td><td>0.0084</td></tr><tr><td><font style='font-weight:bold'>cx2_1</font></td><td>cx</td><td>0.00593</td></tr><tr><td><font style='font-weight:bold'>cx1_2</font></td><td>cx</td><td>0.00593</td></tr></table>"
      }
     },
     "2cf8355bacf449a6987a99f39823cc02": {
      "model_module": "@jupyter-widgets/controls",
      "model_module_version": "1.5.0",
      "model_name": "DescriptionStyleModel",
      "state": {
       "description_width": ""
      }
     },
     "2d5681f90adc43dda18056b12192c3b9": {
      "model_module": "@jupyter-widgets/controls",
      "model_module_version": "1.5.0",
      "model_name": "HTMLModel",
      "state": {
       "layout": "IPY_MODEL_802405d24fe044a084b24b9de9913173",
       "style": "IPY_MODEL_f712280f5153492b836d6876a87bdf2d",
       "value": "<h5 style='color:#dc267f'>False</h5>"
      }
     },
     "2f414b09d2a44629a50e1090beaa677b": {
      "model_module": "@jupyter-widgets/controls",
      "model_module_version": "1.5.0",
      "model_name": "IntProgressModel",
      "state": {
       "layout": "IPY_MODEL_09ee1a1669a34cf7bf0f15caa97205ca",
       "max": 50,
       "style": "IPY_MODEL_f56b638d86cf4aad95742d7685cefacf",
       "value": 4
      }
     },
     "2f8623d6e34f44bb919a4472a428667c": {
      "model_module": "@jupyter-widgets/controls",
      "model_module_version": "1.5.0",
      "model_name": "DescriptionStyleModel",
      "state": {
       "description_width": ""
      }
     },
     "2fa0724eeb934d8bbb57a379dbcccbf1": {
      "model_module": "@jupyter-widgets/controls",
      "model_module_version": "1.5.0",
      "model_name": "DescriptionStyleModel",
      "state": {
       "description_width": ""
      }
     },
     "3048916538294238be9e69b5705b29ae": {
      "model_module": "@jupyter-widgets/base",
      "model_module_version": "1.2.0",
      "model_name": "LayoutModel",
      "state": {}
     },
     "30610c5e3cdb48a194cf9e4575bf10fd": {
      "model_module": "@jupyter-widgets/controls",
      "model_module_version": "1.5.0",
      "model_name": "HTMLModel",
      "state": {
       "layout": "IPY_MODEL_f7a21510dd6e4aecb212cacdefcc92e3",
       "style": "IPY_MODEL_db39e2674ce24deb88d50b315954c3d9",
       "value": "<h5><b>5</b></h5>"
      }
     },
     "3106bee12ba646af91dc3c1671b33486": {
      "model_module": "@jupyter-widgets/controls",
      "model_module_version": "1.5.0",
      "model_name": "LabelModel",
      "state": {
       "layout": "IPY_MODEL_c7d6ce8509214fa88d2a7c463467fcf1",
       "style": "IPY_MODEL_a7d8305d6db648bca1d681a5ba7f6000",
       "value": "114"
      }
     },
     "3285957b60214031aee5339c4670a2b4": {
      "model_module": "@jupyter-widgets/controls",
      "model_module_version": "1.5.0",
      "model_name": "DescriptionStyleModel",
      "state": {
       "description_width": ""
      }
     },
     "330ee4aba7174fc5a22c4fa0e943fd92": {
      "model_module": "@jupyter-widgets/controls",
      "model_module_version": "1.5.0",
      "model_name": "HTMLMathModel",
      "state": {
       "layout": "IPY_MODEL_3db28adfab104ec4805e8f12595b3c71",
       "style": "IPY_MODEL_3285957b60214031aee5339c4670a2b4",
       "value": "<table><style>\ntable {\n    border-collapse: collapse;\n    width: auto;\n}\n\nth, td {\n    text-align: left;\n    padding: 8px;\n}\n\ntr:nth-child(even) {background-color: #f6f6f6;}\n</style><tr><th>Property</th><th>Value</th></tr><tr><td><font style='font-weight:bold'>n_qubits</font></td><td>5</td></tr><tr><td><font style='font-weight:bold'>quantum_volume</font></td><td>16</td></tr><tr><td><font style='font-weight:bold'>operational</font></td><td>True</td></tr><tr><td><font style='font-weight:bold'>status_msg</font></td><td>active</td></tr><tr><td><font style='font-weight:bold'>pending_jobs</font></td><td>7</td></tr><tr><td><font style='font-weight:bold'>backend_version</font></td><td>1.1.38</td></tr><tr><td><font style='font-weight:bold'>basis_gates</font></td><td>['id', 'rz', 'sx', 'x', 'cx', 'reset']</td></tr><tr><td><font style='font-weight:bold'>max_shots</font></td><td>20000</td></tr><tr><td><font style='font-weight:bold'>max_experiments</font></td><td>100</td></tr></table>"
      }
     },
     "33b47771793e4036b17ca6575d9fe43b": {
      "model_module": "@jupyter-widgets/base",
      "model_module_version": "1.2.0",
      "model_name": "LayoutModel",
      "state": {}
     },
     "342bb101a3ad4ffd8000f12c70b029db": {
      "model_module": "@jupyter-widgets/base",
      "model_module_version": "1.2.0",
      "model_name": "LayoutModel",
      "state": {}
     },
     "347fad07ac94438d9533ec0b2a8066fe": {
      "model_module": "@jupyter-widgets/controls",
      "model_module_version": "1.5.0",
      "model_name": "LabelModel",
      "state": {
       "layout": "IPY_MODEL_e2bf562884634170a54f93d3b3920eb2",
       "style": "IPY_MODEL_60fb75be50eb49d8b473622722c5a201",
       "value": "20"
      }
     },
     "34b41f7c4f954ad3b17404e94f0b29e8": {
      "model_module": "@jupyter-widgets/controls",
      "model_module_version": "1.5.0",
      "model_name": "HTMLModel",
      "state": {
       "layout": "IPY_MODEL_ccde6f6b6a924978a45ccef8c598bd51",
       "style": "IPY_MODEL_d90ca2a0e57a4f688e885a6f5786578a",
       "value": "<h5 style='color:#34bc6e'>True</h5>"
      }
     },
     "34c87cd5d71a466b96e137ca6f16c81d": {
      "model_module": "@jupyter-widgets/controls",
      "model_module_version": "1.5.0",
      "model_name": "HTMLModel",
      "state": {
       "layout": "IPY_MODEL_11928e5b2497418494bd8d47e9cd7bd4",
       "style": "IPY_MODEL_8a1807afb7b24dfe84ceeb4222752f7f",
       "value": "<h5>Queue</h5>"
      }
     },
     "34cedb29f0ce448b84eb55928bfee696": {
      "model_module": "@jupyter-widgets/base",
      "model_module_version": "1.2.0",
      "model_name": "LayoutModel",
      "state": {}
     },
     "3514c25588954bf8abb89fc7db034632": {
      "model_module": "@jupyter-widgets/base",
      "model_module_version": "1.2.0",
      "model_name": "LayoutModel",
      "state": {
       "justify_content": "center",
       "max_width": "250px",
       "min_width": "250px"
      }
     },
     "358cb5187d144ed3a5dc941ae9a33f93": {
      "model_module": "@jupyter-widgets/base",
      "model_module_version": "1.2.0",
      "model_name": "LayoutModel",
      "state": {
       "margin": "0px 0px 0px 0px"
      }
     },
     "3685f748b3a14433b1db6b17656376a5": {
      "model_module": "@jupyter-widgets/controls",
      "model_module_version": "1.5.0",
      "model_name": "DescriptionStyleModel",
      "state": {
       "description_width": ""
      }
     },
     "388371b86de4451db31e681db5a899fc": {
      "model_module": "@jupyter-widgets/controls",
      "model_module_version": "1.5.0",
      "model_name": "DescriptionStyleModel",
      "state": {
       "description_width": ""
      }
     },
     "3891e9f23b0a40eeb41d0fbb2d839dc3": {
      "model_module": "@jupyter-widgets/controls",
      "model_module_version": "1.5.0",
      "model_name": "HTMLModel",
      "state": {
       "layout": "IPY_MODEL_46aac87a2d6040ecb8708d4b59dc211d",
       "style": "IPY_MODEL_9cd5138059b1499bbd90810eabacf4d2",
       "value": "<h5><b>7</b></h5>"
      }
     },
     "391a6d1fbad24ce0bf0ea7978a79334d": {
      "model_module": "@jupyter-widgets/controls",
      "model_module_version": "1.5.0",
      "model_name": "GridBoxModel",
      "state": {
       "children": [
        "IPY_MODEL_0883c68efc0d498cbce652a20b1bae29",
        "IPY_MODEL_6dc44d62786c46a38bc5ac952f64a5a7",
        "IPY_MODEL_946f3c34b3a144ababd47e07624d7697",
        "IPY_MODEL_c9feff2d72ba4b43ad3383d2ac08b84c",
        "IPY_MODEL_aa8e370ca7cd46c28eab7c7e7e746323",
        "IPY_MODEL_d4153ae18d3f47e899dab3eae5016774"
       ],
       "layout": "IPY_MODEL_3d6af53693004d89be7e89f5a9dd6f13"
      }
     },
     "3956eead59cd4b459530293937728a41": {
      "model_module": "@jupyter-widgets/base",
      "model_module_version": "1.2.0",
      "model_name": "LayoutModel",
      "state": {
       "justify_content": "center",
       "max_width": "250px",
       "min_width": "250px"
      }
     },
     "3971579c99b34f49bd7c4d0c803b66af": {
      "model_module": "@jupyter-widgets/base",
      "model_module_version": "1.2.0",
      "model_name": "LayoutModel",
      "state": {
       "align_items": "center",
       "justify_content": "center",
       "margin": "0px 0px 0px 0px",
       "max_height": "250px",
       "max_width": "250px",
       "min_height": "250px",
       "min_width": "250px"
      }
     },
     "3a09e1ef080343209850acb71ce0ce66": {
      "model_module": "@jupyter-widgets/controls",
      "model_module_version": "1.5.0",
      "model_name": "DescriptionStyleModel",
      "state": {
       "description_width": ""
      }
     },
     "3b4a9740ee674270a126166a6d7d2b27": {
      "model_module": "@jupyter-widgets/base",
      "model_module_version": "1.2.0",
      "model_name": "LayoutModel",
      "state": {}
     },
     "3b8be1eeee3e45f7a8c37e30d7b89a9a": {
      "model_module": "@jupyter-widgets/controls",
      "model_module_version": "1.5.0",
      "model_name": "DescriptionStyleModel",
      "state": {
       "description_width": ""
      }
     },
     "3d14a5540e17405b8390e67433b35d06": {
      "model_module": "@jupyter-widgets/controls",
      "model_module_version": "1.5.0",
      "model_name": "DescriptionStyleModel",
      "state": {
       "description_width": ""
      }
     },
     "3d520f418ef840f397ab617f81d19137": {
      "model_module": "@jupyter-widgets/base",
      "model_module_version": "1.2.0",
      "model_name": "LayoutModel",
      "state": {}
     },
     "3d6af53693004d89be7e89f5a9dd6f13": {
      "model_module": "@jupyter-widgets/base",
      "model_module_version": "1.2.0",
      "model_name": "LayoutModel",
      "state": {
       "grid_gap": "0px 25px",
       "grid_template_columns": "250px 250px 250px 250px 250px 250px ",
       "grid_template_rows": "auto"
      }
     },
     "3db28adfab104ec4805e8f12595b3c71": {
      "model_module": "@jupyter-widgets/base",
      "model_module_version": "1.2.0",
      "model_name": "LayoutModel",
      "state": {
       "grid_area": "left",
       "width": "100%"
      }
     },
     "3e8bb58eed9143728f6927b66d8098fc": {
      "model_module": "@jupyter-widgets/controls",
      "model_module_version": "1.5.0",
      "model_name": "HTMLModel",
      "state": {
       "layout": "IPY_MODEL_23d6ca6a353e4facb3f771116e3dc175",
       "style": "IPY_MODEL_3a09e1ef080343209850acb71ce0ce66",
       "value": "<h5>0.4931</h5>"
      }
     },
     "3fbedf72bfeb41d3b589d96367d89df8": {
      "model_module": "@jupyter-widgets/base",
      "model_module_version": "1.2.0",
      "model_name": "LayoutModel",
      "state": {
       "grid_area": "right",
       "padding": "0px 0px 0px 0px",
       "width": "70px"
      }
     },
     "3fe06dc01c8940a9ae1283ddeca00c26": {
      "model_module": "@jupyter-widgets/base",
      "model_module_version": "1.2.0",
      "model_name": "LayoutModel",
      "state": {
       "justify_content": "center"
      }
     },
     "419deb1de9884f619b42b11d78211cb4": {
      "model_module": "@jupyter-widgets/controls",
      "model_module_version": "1.5.0",
      "model_name": "DescriptionStyleModel",
      "state": {
       "description_width": ""
      }
     },
     "43cddcc657e0482aba5125eeba440651": {
      "model_module": "@jupyter-widgets/base",
      "model_module_version": "1.2.0",
      "model_name": "LayoutModel",
      "state": {}
     },
     "445925a8241c40aebbda67a6120bfcd4": {
      "model_module": "@jupyter-widgets/controls",
      "model_module_version": "1.5.0",
      "model_name": "DescriptionStyleModel",
      "state": {
       "description_width": ""
      }
     },
     "44f2a841a0f24e569ef353039840f385": {
      "model_module": "@jupyter-widgets/controls",
      "model_module_version": "1.5.0",
      "model_name": "LabelModel",
      "state": {
       "layout": "IPY_MODEL_97c6e2eea64a4e06adb63348da66115b",
       "style": "IPY_MODEL_3b8be1eeee3e45f7a8c37e30d7b89a9a",
       "value": "Num. Qubits"
      }
     },
     "46986da42de34cf591d05dbd5d95515a": {
      "model_module": "@jupyter-widgets/base",
      "model_module_version": "1.2.0",
      "model_name": "LayoutModel",
      "state": {
       "justify_content": "center"
      }
     },
     "46aac87a2d6040ecb8708d4b59dc211d": {
      "model_module": "@jupyter-widgets/base",
      "model_module_version": "1.2.0",
      "model_name": "LayoutModel",
      "state": {
       "justify_content": "center"
      }
     },
     "4851fddc0fe74d84848d85e7f9446e47": {
      "model_module": "@jupyter-widgets/controls",
      "model_module_version": "1.5.0",
      "model_name": "DescriptionStyleModel",
      "state": {
       "description_width": ""
      }
     },
     "48c298af66794ec4b6404cd90d3f9d35": {
      "model_module": "@jupyter-widgets/controls",
      "model_module_version": "1.5.0",
      "model_name": "DescriptionStyleModel",
      "state": {
       "description_width": ""
      }
     },
     "495edd4fe3fe4aa7afb2a374821a1314": {
      "model_module": "@jupyter-widgets/controls",
      "model_module_version": "1.5.0",
      "model_name": "DescriptionStyleModel",
      "state": {
       "description_width": ""
      }
     },
     "4ae147b25f5e40b884247f3252318f17": {
      "model_module": "@jupyter-widgets/controls",
      "model_module_version": "1.5.0",
      "model_name": "DescriptionStyleModel",
      "state": {
       "description_width": ""
      }
     },
     "4bd870b80795415d9e1e2ca92a981a6e": {
      "model_module": "@jupyter-widgets/base",
      "model_module_version": "1.2.0",
      "model_name": "LayoutModel",
      "state": {
       "justify_content": "center"
      }
     },
     "4c111b5dd98a4234a13ca521380dfcb2": {
      "model_module": "@jupyter-widgets/controls",
      "model_module_version": "1.5.0",
      "model_name": "DescriptionStyleModel",
      "state": {
       "description_width": ""
      }
     },
     "4cbeae017b5740a5ab7d21e26ed58a12": {
      "model_module": "@jupyter-widgets/controls",
      "model_module_version": "1.5.0",
      "model_name": "HBoxModel",
      "state": {
       "children": [
        "IPY_MODEL_347fad07ac94438d9533ec0b2a8066fe",
        "IPY_MODEL_bad0c884ca264d1d8ab7c4a6b8788a2e",
        "IPY_MODEL_07205a28e05a4756aaae85e4a73f16f3"
       ],
       "layout": "IPY_MODEL_3956eead59cd4b459530293937728a41"
      }
     },
     "4df920bea7944c5cb875db94bf789eef": {
      "model_module": "@jupyter-widgets/base",
      "model_module_version": "1.2.0",
      "model_name": "LayoutModel",
      "state": {
       "align_items": "center",
       "justify_content": "center",
       "margin": "0px 0px 0px 0px",
       "max_height": "250px",
       "max_width": "250px",
       "min_height": "250px",
       "min_width": "250px"
      }
     },
     "54232721da3049148d3be553f4c5559b": {
      "model_module": "@jupyter-widgets/controls",
      "model_module_version": "1.5.0",
      "model_name": "DescriptionStyleModel",
      "state": {
       "description_width": ""
      }
     },
     "54cb38e3c72f4b8fbbd6152d599727f7": {
      "model_module": "@jupyter-widgets/controls",
      "model_module_version": "1.5.0",
      "model_name": "DescriptionStyleModel",
      "state": {
       "description_width": ""
      }
     },
     "556d581ac93b4bbfb44b422d0ca46883": {
      "model_module": "@jupyter-widgets/controls",
      "model_module_version": "1.5.0",
      "model_name": "HTMLModel",
      "state": {
       "layout": "IPY_MODEL_8656d2b0e6ab4ed6be239980e6da759a",
       "style": "IPY_MODEL_48c298af66794ec4b6404cd90d3f9d35",
       "value": "<h5><b>5</b></h5>"
      }
     },
     "55a3fbb761384e41905944d6123c0f3a": {
      "model_module": "@jupyter-widgets/controls",
      "model_module_version": "1.5.0",
      "model_name": "HTMLModel",
      "state": {
       "layout": "IPY_MODEL_7e432a1986094076aa862bcdff8c5ca0",
       "style": "IPY_MODEL_d05270989e31416faa576c28ad8a7dbb",
       "value": "<h5 style='color:#dc267f'>False</h5>"
      }
     },
     "562d4438bb0146e0b07c49646f724059": {
      "model_module": "@jupyter-widgets/controls",
      "model_module_version": "1.5.0",
      "model_name": "DescriptionStyleModel",
      "state": {
       "description_width": ""
      }
     },
     "5695fe554531451998e8cf7e497263ea": {
      "model_module": "@jupyter-widgets/controls",
      "model_module_version": "1.5.0",
      "model_name": "HBoxModel",
      "state": {
       "children": [
        "IPY_MODEL_f1d637069d844957a1cc83440c9d7b48",
        "IPY_MODEL_0944213108ff4b43b0aea274681a5b12",
        "IPY_MODEL_21d3d63d3e8d47c2ad7b9b4402c7fead"
       ],
       "layout": "IPY_MODEL_22794a6c8b9646af9f509a09125633c5"
      }
     },
     "56c3703bd4f94968b73553acd9ee5cbb": {
      "model_module": "@jupyter-widgets/base",
      "model_module_version": "1.2.0",
      "model_name": "LayoutModel",
      "state": {
       "grid_gap": "0px 0px",
       "grid_template_areas": "\n                                                   \"top top top\"\n                                                   \"left middle right\"\n                                                   ",
       "grid_template_columns": "33% 33% 33%",
       "grid_template_rows": "auto auto"
      }
     },
     "57ce020974b2487da4773f80b2ed332e": {
      "model_module": "@jupyter-widgets/base",
      "model_module_version": "1.2.0",
      "model_name": "LayoutModel",
      "state": {
       "margin": "0px 0px 0px 37px",
       "width": "600px"
      }
     },
     "5856232bb47b4b8c80c904f0aa6b4098": {
      "model_module": "@jupyter-widgets/controls",
      "model_module_version": "1.5.0",
      "model_name": "HTMLMathModel",
      "state": {
       "layout": "IPY_MODEL_de7a7a16ca4d4b82b0a92fb7d014abbe",
       "style": "IPY_MODEL_fe6609cc73f3416aa29629c62966eddb",
       "value": "<table><style>\ntable {\n    border-collapse: collapse;\n    width: auto;\n}\n\nth, td {\n    text-align: left;\n    padding: 8px;\n}\n\ntr:nth-child(even) {background-color: #f6f6f6;}\n</style><tr><th></th><th></th></tr><tr><td>dtm</td><td>0.2222222222222222</td></tr><tr><td>u_channel_lo</td><td>[[{'q': 1, 'scale': (1+0j)}], [{'q': 0, 'scale': (1+0j)}], [{'q': 2, 'scale': (1+0j)}], [{'q': 3, 'scale': (1+0j)}], [{'q': 1, 'scale': (1+0j)}], [{'q': 1, 'scale': (1+0j)}], [{'q': 4, 'scale': (1+0j)}], [{'q': 3, 'scale': (1+0j)}]]</td></tr><tr><td>meas_kernels</td><td>['hw_boxcar']</td></tr><tr><td>memory</td><td>True</td></tr><tr><td>qubit_lo_range</td><td>[[4.800538041196087, 5.800538041196087], [4.580577520912032, 5.580577520912032], [4.822182345373683, 5.822182345373683], [4.663617423297649, 5.663617423297649], [4.552328097317024, 5.552328097317024]]</td></tr><tr><td>description</td><td>5 qubit device Quito</td></tr><tr><td>live_data</td><td>False</td></tr><tr><td>rep_delay_range</td><td>[0.0, 500.0]</td></tr><tr><td>rep_times</td><td>[1000.0]</td></tr><tr><td>discriminators</td><td>['hw_centroid', 'quadratic_discriminator', 'linear_discriminator']</td></tr><tr><td>backend_name</td><td>ibmq_quito</td></tr><tr><td>meas_lo_range</td><td>[[6.807868157000001, 7.807868157000001], [6.7292695270000005, 7.7292695270000005], [6.991060108, 7.991060108], [6.8547510460000005, 7.8547510460000005], [6.904365522000001, 7.904365522000001]]</td></tr><tr><td>hamiltonian</td><td>$$\\begin{align} \\mathcal{H}/\\hbar = & \\sum_{i=0}^{4}\\left(\\frac{\\omega_{q,i}}{2}(\\mathbb{I}-\\sigma_i^{z})+\\frac{\\Delta_{i}}{2}(O_i^2-O_i)+\\Omega_{d,i}D_i(t)\\sigma_i^{X}\\right) \\\\ & + J_{0,1}(\\sigma_{0}^{+}\\sigma_{1}^{-}+\\sigma_{0}^{-}\\sigma_{1}^{+}) + J_{1,2}(\\sigma_{1}^{+}\\sigma_{2}^{-}+\\sigma_{1}^{-}\\sigma_{2}^{+}) + J_{1,3}(\\sigma_{1}^{+}\\sigma_{3}^{-}+\\sigma_{1}^{-}\\sigma_{3}^{+}) + J_{3,4}(\\sigma_{3}^{+}\\sigma_{4}^{-}+\\sigma_{3}^{-}\\sigma_{4}^{+}) \\\\ & + \\Omega_{d,0}(U_{0}^{(0,1)}(t))\\sigma_{0}^{X} + \\Omega_{d,1}(U_{1}^{(1,0)}(t)+U_{3}^{(1,3)}(t)+U_{2}^{(1,2)}(t))\\sigma_{1}^{X} \\\\ & + \\Omega_{d,2}(U_{4}^{(2,1)}(t))\\sigma_{2}^{X} + \\Omega_{d,3}(U_{6}^{(3,4)}(t)+U_{5}^{(3,1)}(t))\\sigma_{3}^{X} \\\\ & + \\Omega_{d,4}(U_{7}^{(4,3)}(t))\\sigma_{4}^{X} \\\\ \\end{align}$$</td></tr><tr><td>open_pulse</td><td>False</td></tr><tr><td>parallel_compilation</td><td>False</td></tr><tr><td>allow_object_storage</td><td>True</td></tr><tr><td>coupling_map</td><td>[[0, 1], [1, 0], [1, 2], [1, 3], [2, 1], [3, 1], [3, 4], [4, 3]]</td></tr><tr><td>local</td><td>False</td></tr><tr><td>online_date</td><td>2021-01-08 05:00:00+00:00</td></tr><tr><td>clops</td><td>2506</td></tr><tr><td>supported_features</td><td>['qobj']</td></tr><tr><td>timing_constraints</td><td>{'acquire_alignment': 16, 'granularity': 16, 'min_length': 64, 'pulse_alignment': 1}</td></tr><tr><td>parametric_pulses</td><td>['gaussian', 'gaussian_square', 'gaussian_square_drag', 'drag', 'constant']</td></tr><tr><td>acquisition_latency</td><td>[]</td></tr><tr><td>conditional_latency</td><td>[]</td></tr><tr><td>simulator</td><td>False</td></tr><tr><td>dt</td><td>0.2222222222222222</td></tr><tr><td>n_uchannels</td><td>8</td></tr><tr><td>channels</td><td>{'acquire0': {'operates': {'qubits': [0]}, 'purpose': 'acquire', 'type': 'acquire'}, 'acquire1': {'operates': {'qubits': [1]}, 'purpose': 'acquire', 'type': 'acquire'}, 'acquire2': {'operates': {'qubits': [2]}, 'purpose': 'acquire', 'type': 'acquire'}, 'acquire3': {'operates': {'qubits': [3]}, 'purpose': 'acquire', 'type': 'acquire'}, 'acquire4': {'operates': {'qubits': [4]}, 'purpose': 'acquire', 'type': 'acquire'}, 'd0': {'operates': {'qubits': [0]}, 'purpose': 'drive', 'type': 'drive'}, 'd1': {'operates': {'qubits': [1]}, 'purpose': 'drive', 'type': 'drive'}, 'd2': {'operates': {'qubits': [2]}, 'purpose': 'drive', 'type': 'drive'}, 'd3': {'operates': {'qubits': [3]}, 'purpose': 'drive', 'type': 'drive'}, 'd4': {'operates': {'qubits': [4]}, 'purpose': 'drive', 'type': 'drive'}, 'm0': {'operates': {'qubits': [0]}, 'purpose': 'measure', 'type': 'measure'}, 'm1': {'operates': {'qubits': [1]}, 'purpose': 'measure', 'type': 'measure'}, 'm2': {'operates': {'qubits': [2]}, 'purpose': 'measure', 'type': 'measure'}, 'm3': {'operates': {'qubits': [3]}, 'purpose': 'measure', 'type': 'measure'}, 'm4': {'operates': {'qubits': [4]}, 'purpose': 'measure', 'type': 'measure'}, 'u0': {'operates': {'qubits': [0, 1]}, 'purpose': 'cross-resonance', 'type': 'control'}, 'u1': {'operates': {'qubits': [1, 0]}, 'purpose': 'cross-resonance', 'type': 'control'}, 'u2': {'operates': {'qubits': [1, 2]}, 'purpose': 'cross-resonance', 'type': 'control'}, 'u3': {'operates': {'qubits': [1, 3]}, 'purpose': 'cross-resonance', 'type': 'control'}, 'u4': {'operates': {'qubits': [2, 1]}, 'purpose': 'cross-resonance', 'type': 'control'}, 'u5': {'operates': {'qubits': [3, 1]}, 'purpose': 'cross-resonance', 'type': 'control'}, 'u6': {'operates': {'qubits': [3, 4]}, 'purpose': 'cross-resonance', 'type': 'control'}, 'u7': {'operates': {'qubits': [4, 3]}, 'purpose': 'cross-resonance', 'type': 'control'}}</td></tr><tr><td>credits_required</td><td>True</td></tr><tr><td>input_allowed</td><td>['job', 'runtime']</td></tr><tr><td>sample_name</td><td>family: Falcon, revision: 4, segment: T</td></tr><tr><td>supported_instructions</td><td>['cx', 'id', 'delay', 'measure', 'reset', 'rz', 'sx', 'x']</td></tr><tr><td>processor_type</td><td>{'family': 'Falcon', 'revision': 4, 'segment': 'T'}</td></tr><tr><td>meas_levels</td><td>[1, 2]</td></tr><tr><td>uchannels_enabled</td><td>True</td></tr><tr><td>url</td><td>None</td></tr><tr><td>dynamic_reprate_enabled</td><td>True</td></tr><tr><td>measure_esp_enabled</td><td>False</td></tr><tr><td>n_registers</td><td>1</td></tr><tr><td>multi_meas_enabled</td><td>True</td></tr><tr><td>default_rep_delay</td><td>250.0</td></tr><tr><td>qubit_channel_mapping</td><td>[['u0', 'd0', 'm0', 'u1'], ['u5', 'd1', 'u3', 'u4', 'u2', 'u1', 'u0', 'm1'], ['u2', 'm2', 'u4', 'd2'], ['u5', 'u3', 'u7', 'm3', 'u6', 'd3'], ['d4', 'm4', 'u6', 'u7']]</td></tr><tr><td>pulse_num_channels</td><td>9</td></tr><tr><td>conditional</td><td>False</td></tr><tr><td>meas_map</td><td>[[0, 1, 2, 3, 4]]</td></tr><tr><td>pulse_num_qubits</td><td>3</td></tr><tr><td>allow_q_object</td><td>True</td></tr></table>"
      }
     },
     "58aee3b0efa648238b47c036a635a1fd": {
      "model_module": "@jupyter-widgets/controls",
      "model_module_version": "1.5.0",
      "model_name": "HTMLModel",
      "state": {
       "layout": "IPY_MODEL_c6edcd8632154039913b77443c4ac263",
       "style": "IPY_MODEL_4ae147b25f5e40b884247f3252318f17",
       "value": "<h5>16</h5>"
      }
     },
     "5a78644e96b8455797efda309d6a316e": {
      "model_module": "@jupyter-widgets/base",
      "model_module_version": "1.2.0",
      "model_name": "LayoutModel",
      "state": {
       "min_width": "auto"
      }
     },
     "5b3b982515aa4952be90bbd394af99a6": {
      "model_module": "@jupyter-widgets/controls",
      "model_module_version": "1.5.0",
      "model_name": "LabelModel",
      "state": {
       "layout": "IPY_MODEL_1d2565974baa4a3ca080fff6358da9a0",
       "style": "IPY_MODEL_2747294c86a8497f9e5efdf1b71bdc0b",
       "value": "12"
      }
     },
     "5b78636289a243af813356689fee5e2e": {
      "model_module": "@jupyter-widgets/base",
      "model_module_version": "1.2.0",
      "model_name": "LayoutModel",
      "state": {
       "align_items": "center",
       "display": "flex-inline",
       "grid_area": "right",
       "max_height": "325px",
       "padding": "10px 10px 10px 10px",
       "width": "auto"
      }
     },
     "5c6e02e18e8643a6a713b8f690469952": {
      "model_module": "@jupyter-widgets/controls",
      "model_module_version": "1.5.0",
      "model_name": "HTMLModel",
      "state": {
       "layout": "IPY_MODEL_db0021dbcb5640ce86d6485617d9b2b1",
       "style": "IPY_MODEL_895df1cb07c84fa5ac04a37236110b8b",
       "value": "<table><style>\ntable {\n    border-collapse: collapse;\n    width: auto;\n}\n\nth, td {\n    text-align: left;\n    padding: 8px;\n}\n\ntr:nth-child(even) {background-color: #f6f6f6;};\n</style><tr><th></th><th>Type</th><th>Gate error</th></tr><tr><td><font style='font-weight:bold'>cx0_1</font></td><td>cx</td><td>0.01637</td></tr><tr><td><font style='font-weight:bold'>cx1_0</font></td><td>cx</td><td>0.01637</td></tr></table>"
      }
     },
     "5cfcd8a323b34ac397cfdf5c3dcec8af": {
      "model_module": "@jupyter-widgets/controls",
      "model_module_version": "1.5.0",
      "model_name": "HTMLModel",
      "state": {
       "layout": "IPY_MODEL_3fe06dc01c8940a9ae1283ddeca00c26",
       "style": "IPY_MODEL_db5ee042cb1c4a379419ca2140b33464",
       "value": "<h5 style='color:#34bc6e'>True</h5>"
      }
     },
     "5d244302e0584f8db0425211eb6d8d6d": {
      "model_module": "@jupyter-widgets/base",
      "model_module_version": "1.2.0",
      "model_name": "LayoutModel",
      "state": {
       "grid_area": "left"
      }
     },
     "5d2e3bcc8c744acab14440d77cba2ecf": {
      "model_module": "@jupyter-widgets/controls",
      "model_module_version": "1.5.0",
      "model_name": "DescriptionStyleModel",
      "state": {
       "description_width": ""
      }
     },
     "5e524f10c1414556a06fa1adc390a302": {
      "model_module": "@jupyter-widgets/base",
      "model_module_version": "1.2.0",
      "model_name": "LayoutModel",
      "state": {
       "justify_content": "center"
      }
     },
     "5e5d32bd7e5b440f816741cc28a06214": {
      "model_module": "@jupyter-widgets/controls",
      "model_module_version": "1.5.0",
      "model_name": "LabelModel",
      "state": {
       "layout": "IPY_MODEL_5a78644e96b8455797efda309d6a316e",
       "style": "IPY_MODEL_d9e0e89b73db4815b148edc243d43824",
       "value": "4"
      }
     },
     "5ef450d84727445d8a4d28f8c3aae33b": {
      "model_module": "@jupyter-widgets/controls",
      "model_module_version": "1.5.0",
      "model_name": "LabelModel",
      "state": {
       "layout": "IPY_MODEL_bfa24d3e52e7462894861047b4a2e51e",
       "style": "IPY_MODEL_dcd05f07c9524ada98d958151a75cffb",
       "value": "Avg. CX Err."
      }
     },
     "5f19944742114edf8ee63babbd5272f7": {
      "model_module": "@jupyter-widgets/controls",
      "model_module_version": "1.5.0",
      "model_name": "LabelModel",
      "state": {
       "layout": "IPY_MODEL_6740075e5b8b41ce9a352627941c7cba",
       "style": "IPY_MODEL_c1daa504db1a486a827378a683d08a03",
       "value": "50"
      }
     },
     "5f386ebf856d4baca704eab17a2505c1": {
      "model_module": "@jupyter-widgets/controls",
      "model_module_version": "1.5.0",
      "model_name": "DescriptionStyleModel",
      "state": {
       "description_width": ""
      }
     },
     "5f8358343be24d11b74fa6aa0f798dcd": {
      "model_module": "@jupyter-widgets/controls",
      "model_module_version": "1.5.0",
      "model_name": "IntProgressModel",
      "state": {
       "layout": "IPY_MODEL_b9fdfe3ace724d1c966b9aae1a9cbe7f",
       "max": 50,
       "style": "IPY_MODEL_73422d70af7d45c197f75ec610d85afe",
       "value": 12
      }
     },
     "5fbac53301aa4126ae737b6db48638e4": {
      "model_module": "@jupyter-widgets/controls",
      "model_module_version": "1.5.0",
      "model_name": "DescriptionStyleModel",
      "state": {
       "description_width": ""
      }
     },
     "603ce8a12c7a463ab54d05d91595d5f2": {
      "model_module": "@jupyter-widgets/controls",
      "model_module_version": "1.5.0",
      "model_name": "HBoxModel",
      "state": {
       "children": [
        "IPY_MODEL_2990c25a9ccc4bdca21a18d6ab3f0c62",
        "IPY_MODEL_391a6d1fbad24ce0bf0ea7978a79334d"
       ],
       "layout": "IPY_MODEL_15af77774e9549608ddb3e7103ac2e7f"
      }
     },
     "6048f31ab091446fa4ac5f18776cd22d": {
      "model_module": "@jupyter-widgets/controls",
      "model_module_version": "1.5.0",
      "model_name": "DescriptionStyleModel",
      "state": {
       "description_width": ""
      }
     },
     "6078c95a6d9349bfb853912fcc5bc120": {
      "model_module": "@jupyter-widgets/controls",
      "model_module_version": "1.5.0",
      "model_name": "DescriptionStyleModel",
      "state": {
       "description_width": ""
      }
     },
     "60fb75be50eb49d8b473622722c5a201": {
      "model_module": "@jupyter-widgets/controls",
      "model_module_version": "1.5.0",
      "model_name": "DescriptionStyleModel",
      "state": {
       "description_width": ""
      }
     },
     "611b13a93793478996c90ba196c18ff7": {
      "model_module": "@jupyter-widgets/controls",
      "model_module_version": "1.5.0",
      "model_name": "HTMLModel",
      "state": {
       "layout": "IPY_MODEL_e89d03da88b84e88a3b315e1ba34dbbe",
       "style": "IPY_MODEL_1cf2bdbe1c204890aca00484d7cf8b34",
       "value": "<table><style>\ntable {\n    border-collapse: collapse;\n    width: auto;\n}\n\nth, td {\n    text-align: left;\n    padding: 8px;\n}\n\ntr:nth-child(even) {background-color: #f6f6f6;}\n</style><tr><th></th><th>Frequency</th><th>T1</th><th>T2</th><th>RZ</th><th>SX</th><th>X</th><th>Readout error</th></tr><tr><td><font style='font-weight:bold'>Q0</font></td><td>5.30054 GHz</td><td>99.83 us</td><td>108.00796 us</td><td>0</td><td>0.00028</td><td>0.00028</td><td>0.0388 </td><tr><td><font style='font-weight:bold'>Q1</font></td><td>5.08058 GHz</td><td>80.13843 us</td><td>87.19433 us</td><td>0</td><td>0.0003</td><td>0.0003</td><td>0.0406 </td><tr><td><font style='font-weight:bold'>Q2</font></td><td>5.32218 GHz</td><td>63.78697 us</td><td>81.06033 us</td><td>0</td><td>0.0003</td><td>0.0003</td><td>0.0678 </td><tr><td><font style='font-weight:bold'>Q3</font></td><td>5.16362 GHz</td><td>97.10042 us</td><td>19.68487 us</td><td>0</td><td>0.00026</td><td>0.00026</td><td>0.0386 </td><tr><td><font style='font-weight:bold'>Q4</font></td><td>5.05233 GHz</td><td>167.35273 us</td><td>112.08682 us</td><td>0</td><td>0.00035</td><td>0.00035</td><td>0.0361 </td></table>"
      }
     },
     "61f1e3dec2dc47e6ae0fc348e87e77b3": {
      "model_module": "@jupyter-widgets/controls",
      "model_module_version": "1.5.0",
      "model_name": "DescriptionStyleModel",
      "state": {
       "description_width": ""
      }
     },
     "6359bba43d2244deadfbd43dd39d1771": {
      "model_module": "@jupyter-widgets/controls",
      "model_module_version": "1.5.0",
      "model_name": "HTMLModel",
      "state": {
       "layout": "IPY_MODEL_c746809dfe99437fa850f85a3309a7e3",
       "style": "IPY_MODEL_fdf9855d55dd47fa85a48d547304d868",
       "value": "<h5 style='color:#34bc6e'>True</h5>"
      }
     },
     "63d5318225f049068069b35bd9076c4c": {
      "model_module": "@jupyter-widgets/controls",
      "model_module_version": "1.5.0",
      "model_name": "DescriptionStyleModel",
      "state": {
       "description_width": ""
      }
     },
     "6740075e5b8b41ce9a352627941c7cba": {
      "model_module": "@jupyter-widgets/base",
      "model_module_version": "1.2.0",
      "model_name": "LayoutModel",
      "state": {
       "min_width": "auto"
      }
     },
     "678cea356b724fa1b05930706035360f": {
      "model_module": "@jupyter-widgets/controls",
      "model_module_version": "1.5.0",
      "model_name": "HBoxModel",
      "state": {
       "children": [
        "IPY_MODEL_24174267bd574d648e829cb2bd3900a5",
        "IPY_MODEL_d3e15087f5bf461fb6b1213d18fa6097",
        "IPY_MODEL_ad28cd66e6604fc484b8e771c5a46b44",
        "IPY_MODEL_dd98011708f144948afa762682b1b9f5",
        "IPY_MODEL_ca02018fea8a42e9a1885cafb173a512",
        "IPY_MODEL_06854d2e6c4b4af4a2ebd3050beb5610"
       ],
       "layout": "IPY_MODEL_fa45c6861b8341bdbd6d0d44d43fb2e3"
      }
     },
     "683480b157464c60a91ed7879a430990": {
      "model_module": "@jupyter-widgets/base",
      "model_module_version": "1.2.0",
      "model_name": "LayoutModel",
      "state": {
       "justify_content": "center"
      }
     },
     "68973b668b2b4dcfa3f0cf9faea6fd55": {
      "model_module": "@jupyter-widgets/base",
      "model_module_version": "1.2.0",
      "model_name": "LayoutModel",
      "state": {
       "justify_content": "center"
      }
     },
     "68df53f6bf6b42c698a77ceeb2982ae0": {
      "model_module": "@jupyter-widgets/base",
      "model_module_version": "1.2.0",
      "model_name": "LayoutModel",
      "state": {}
     },
     "68f1fe235f094305a2b2df312f43475f": {
      "model_module": "@jupyter-widgets/controls",
      "model_module_version": "1.5.0",
      "model_name": "DescriptionStyleModel",
      "state": {
       "description_width": ""
      }
     },
     "6959cfb732974352a450f3ff73a8841b": {
      "model_module": "@jupyter-widgets/controls",
      "model_module_version": "1.5.0",
      "model_name": "HTMLModel",
      "state": {
       "layout": "IPY_MODEL_6ed4922e48b048afbdc86b2782a03c02",
       "style": "IPY_MODEL_d79c2258baa3426fb3da80e7bfff8d46",
       "value": "<h5>78.9 / 100.9 us</h5>"
      }
     },
     "6ade0283b739453bb7b2e808b9f3436e": {
      "model_module": "@jupyter-widgets/base",
      "model_module_version": "1.2.0",
      "model_name": "LayoutModel",
      "state": {
       "align_items": "center",
       "justify_content": "center",
       "margin": "0px 0px 0px 0px",
       "max_height": "250px",
       "max_width": "250px",
       "min_height": "250px",
       "min_width": "250px"
      }
     },
     "6b11c4fdf22e422ebad31565e50c1538": {
      "model_module": "@jupyter-widgets/base",
      "model_module_version": "1.2.0",
      "model_name": "LayoutModel",
      "state": {}
     },
     "6c3da0608011450998c9664881c1da05": {
      "model_module": "@jupyter-widgets/controls",
      "model_module_version": "1.5.0",
      "model_name": "DescriptionStyleModel",
      "state": {
       "description_width": ""
      }
     },
     "6d4288b339af48abb7b2d4fd9d47af7e": {
      "model_module": "@jupyter-widgets/base",
      "model_module_version": "1.2.0",
      "model_name": "LayoutModel",
      "state": {
       "min_width": "auto"
      }
     },
     "6dc44d62786c46a38bc5ac952f64a5a7": {
      "model_module": "@jupyter-widgets/controls",
      "model_module_version": "1.5.0",
      "model_name": "VBoxModel",
      "state": {
       "children": [
        "IPY_MODEL_22cfe3cec5464f8eac0e0a40deb9c7df",
        "IPY_MODEL_d11c134f2b8e4f9aa54c52fc9377eb25",
        "IPY_MODEL_3891e9f23b0a40eeb41d0fbb2d839dc3",
        "IPY_MODEL_ebe92f8838b5418291bc5123cb1c28fe",
        "IPY_MODEL_4cbeae017b5740a5ab7d21e26ed58a12",
        "IPY_MODEL_5cfcd8a323b34ac397cfdf5c3dcec8af",
        "IPY_MODEL_93565962669f47388a577ddc74dc6cdc",
        "IPY_MODEL_264142d327bf4623a49491004bedbdc1",
        "IPY_MODEL_12d795be4358416184937f7e189d3f8e",
        "IPY_MODEL_261da944a83b478a8e48d6b248b0412c"
       ],
       "layout": "IPY_MODEL_15e9913a23fb4dfa8334de51c4388485"
      }
     },
     "6ed4922e48b048afbdc86b2782a03c02": {
      "model_module": "@jupyter-widgets/base",
      "model_module_version": "1.2.0",
      "model_name": "LayoutModel",
      "state": {}
     },
     "6f1980d98ce24bc8b9d448f01283d2b3": {
      "model_module": "@jupyter-widgets/controls",
      "model_module_version": "1.5.0",
      "model_name": "DescriptionStyleModel",
      "state": {
       "description_width": ""
      }
     },
     "700ce40b0ae94d28bbb59f359606f6eb": {
      "model_module": "@jupyter-widgets/controls",
      "model_module_version": "1.5.0",
      "model_name": "HTMLModel",
      "state": {
       "layout": "IPY_MODEL_093a0b3762d6498c8f66f68c7db86dfa",
       "style": "IPY_MODEL_c980e6d3cbfd4dc8b3a590606e3a18e7",
       "value": "<h5>32</h5>"
      }
     },
     "70372919989641daa8f66dd90b00c25c": {
      "model_module": "@jupyter-widgets/base",
      "model_module_version": "1.2.0",
      "model_name": "LayoutModel",
      "state": {
       "margin": "0px 5px 0px 0px",
       "width": "32px"
      }
     },
     "70ff1de9ce984d3ab890ad0343b3f08a": {
      "model_module": "@jupyter-widgets/controls",
      "model_module_version": "1.5.0",
      "model_name": "HTMLModel",
      "state": {
       "layout": "IPY_MODEL_19cd878a693a4c7f8623bcf3d15f517e",
       "style": "IPY_MODEL_2333cd6667f94f39b2068c7a2f72f762",
       "value": "<h5>195.4 / 62.7 us</h5>"
      }
     },
     "73422d70af7d45c197f75ec610d85afe": {
      "model_module": "@jupyter-widgets/controls",
      "model_module_version": "1.5.0",
      "model_name": "ProgressStyleModel",
      "state": {
       "bar_color": "#71cddd",
       "description_width": ""
      }
     },
     "7480ccc09c694f028a05e2a2eb5e3135": {
      "model_module": "@jupyter-widgets/base",
      "model_module_version": "1.2.0",
      "model_name": "LayoutModel",
      "state": {
       "margin": "5px 0px 0px 0px"
      }
     },
     "75d483028fc0460e8ef532a1285bac99": {
      "model_module": "@jupyter-widgets/controls",
      "model_module_version": "1.5.0",
      "model_name": "DescriptionStyleModel",
      "state": {
       "description_width": ""
      }
     },
     "7639e67b3c7b495fae7543784ca331e6": {
      "model_module": "@jupyter-widgets/controls",
      "model_module_version": "1.5.0",
      "model_name": "DescriptionStyleModel",
      "state": {
       "description_width": ""
      }
     },
     "77763d28b2324a819c31151221678539": {
      "model_module": "@jupyter-widgets/controls",
      "model_module_version": "1.5.0",
      "model_name": "HTMLModel",
      "state": {
       "layout": "IPY_MODEL_dd9ff8a65cfd4c589cee26973b6d2b87",
       "style": "IPY_MODEL_2cf8355bacf449a6987a99f39823cc02",
       "value": "<h5>0.01</h5>"
      }
     },
     "7784e6117bae4633982df35c435b1ca3": {
      "model_module": "@jupyter-widgets/controls",
      "model_module_version": "1.5.0",
      "model_name": "HTMLModel",
      "state": {
       "layout": "IPY_MODEL_68973b668b2b4dcfa3f0cf9faea6fd55",
       "style": "IPY_MODEL_9bbc37f46d58405f918efae780afe24f",
       "value": "<h5><b>5</b></h5>"
      }
     },
     "7853f11a8f8b4f90843e31804a0848a2": {
      "model_module": "@jupyter-widgets/base",
      "model_module_version": "1.2.0",
      "model_name": "LayoutModel",
      "state": {
       "margin": "0px 0px 0px 0px"
      }
     },
     "787966e99c97443bb7a1a57e04bf3ff8": {
      "model_module": "@jupyter-widgets/controls",
      "model_module_version": "1.5.0",
      "model_name": "LabelModel",
      "state": {
       "layout": "IPY_MODEL_a9fe46c97b2642a9bc836f923e7d2be4",
       "style": "IPY_MODEL_ee8bb005e47146dcb083760d97df8fc7",
       "value": "Operational"
      }
     },
     "7bc36ba018be46bcab496e06763c63ae": {
      "model_module": "@jupyter-widgets/controls",
      "model_module_version": "1.5.0",
      "model_name": "DescriptionStyleModel",
      "state": {
       "description_width": ""
      }
     },
     "7e432a1986094076aa862bcdff8c5ca0": {
      "model_module": "@jupyter-widgets/base",
      "model_module_version": "1.2.0",
      "model_name": "LayoutModel",
      "state": {
       "justify_content": "center"
      }
     },
     "7e96fbe46a6644289b2cb1cf987be77d": {
      "model_module": "@jupyter-widgets/controls",
      "model_module_version": "1.5.0",
      "model_name": "HBoxModel",
      "state": {
       "children": [
        "IPY_MODEL_8e91f4dc8f2743a5b60720aaae77196b",
        "IPY_MODEL_9c619b60c0164ca49b88dc6e918eecac",
        "IPY_MODEL_278a380c98554fc2ae8a45b8c182cb64",
        "IPY_MODEL_34c87cd5d71a466b96e137ca6f16c81d",
        "IPY_MODEL_04a273d846d44afc9be91817a4214990"
       ],
       "layout": "IPY_MODEL_57ce020974b2487da4773f80b2ed332e"
      }
     },
     "802405d24fe044a084b24b9de9913173": {
      "model_module": "@jupyter-widgets/base",
      "model_module_version": "1.2.0",
      "model_name": "LayoutModel",
      "state": {
       "justify_content": "center"
      }
     },
     "80536cb918f14cdc8b06f169c11fa6a6": {
      "model_module": "@jupyter-widgets/controls",
      "model_module_version": "1.5.0",
      "model_name": "HTMLModel",
      "state": {
       "layout": "IPY_MODEL_e9d8c8ed27a34918915548d297a8fcc5",
       "style": "IPY_MODEL_b04039d96534479db54c61d4ef28bca3",
       "value": "<h5>101.6 / 81.6 us</h5>"
      }
     },
     "815edd02e9b24135a32be6f3c5e16b0e": {
      "model_module": "@jupyter-widgets/controls",
      "model_module_version": "1.5.0",
      "model_name": "HTMLModel",
      "state": {
       "layout": "IPY_MODEL_f051450e871f43d28f9d9aba85605cc7",
       "style": "IPY_MODEL_2fa0724eeb934d8bbb57a379dbcccbf1",
       "value": "<div><font style='font-weight:bold'>last_update_date</font>: 2023-02-06 06:13:03+00:00</div>"
      }
     },
     "82044db3b91b44258ee8bf8e236992da": {
      "model_module": "@jupyter-widgets/controls",
      "model_module_version": "1.5.0",
      "model_name": "DescriptionStyleModel",
      "state": {
       "description_width": ""
      }
     },
     "82052d16208147a7a233c3bc6f69f305": {
      "model_module": "@jupyter-widgets/controls",
      "model_module_version": "1.5.0",
      "model_name": "DescriptionStyleModel",
      "state": {
       "description_width": ""
      }
     },
     "82fd95271e014831a256665dd842704b": {
      "model_module": "@jupyter-widgets/base",
      "model_module_version": "1.2.0",
      "model_name": "LayoutModel",
      "state": {
       "justify_content": "center",
       "max_width": "250px",
       "min_width": "250px"
      }
     },
     "8467fc6767064cb7af4f957e30080806": {
      "model_module": "@jupyter-widgets/controls",
      "model_module_version": "1.5.0",
      "model_name": "ProgressStyleModel",
      "state": {
       "bar_color": "#71cddd",
       "description_width": ""
      }
     },
     "855ac3815ddb4aeb92c0498973a83aa7": {
      "model_module": "@jupyter-widgets/base",
      "model_module_version": "1.2.0",
      "model_name": "LayoutModel",
      "state": {
       "min_width": "auto"
      }
     },
     "860355521b50408facc6584e66973e11": {
      "model_module": "@jupyter-widgets/base",
      "model_module_version": "1.2.0",
      "model_name": "LayoutModel",
      "state": {
       "align_items": "center",
       "display": "inline-flex",
       "flex_flow": "column"
      }
     },
     "8656d2b0e6ab4ed6be239980e6da759a": {
      "model_module": "@jupyter-widgets/base",
      "model_module_version": "1.2.0",
      "model_name": "LayoutModel",
      "state": {
       "justify_content": "center"
      }
     },
     "8686e967b80b4495b5d8c554812fb555": {
      "model_module": "@jupyter-widgets/controls",
      "model_module_version": "1.5.0",
      "model_name": "HTMLModel",
      "state": {
       "layout": "IPY_MODEL_6b11c4fdf22e422ebad31565e50c1538",
       "style": "IPY_MODEL_af6ea352d7da40d39b0a116c9eaf8b8e",
       "value": "<h5>86.0 / 109.4 us</h5>"
      }
     },
     "8703029bbc104f9b8743ed3549cd8b67": {
      "model_module": "@jupyter-widgets/base",
      "model_module_version": "1.2.0",
      "model_name": "LayoutModel",
      "state": {
       "align_items": "center",
       "display": "inline-flex",
       "flex_flow": "column"
      }
     },
     "89536460efe84a1a9882d3cfe2e67304": {
      "model_module": "@jupyter-widgets/controls",
      "model_module_version": "1.5.0",
      "model_name": "DescriptionStyleModel",
      "state": {
       "description_width": ""
      }
     },
     "895df1cb07c84fa5ac04a37236110b8b": {
      "model_module": "@jupyter-widgets/controls",
      "model_module_version": "1.5.0",
      "model_name": "DescriptionStyleModel",
      "state": {
       "description_width": ""
      }
     },
     "897181acc70246d2a7372afd0776f6f4": {
      "model_module": "@jupyter-widgets/base",
      "model_module_version": "1.2.0",
      "model_name": "LayoutModel",
      "state": {
       "grid_area": "middle"
      }
     },
     "8971d2c6858447858ed251d1a38424c7": {
      "model_module": "@jupyter-widgets/output",
      "model_module_version": "1.0.0",
      "model_name": "OutputModel",
      "state": {
       "layout": "IPY_MODEL_3971579c99b34f49bd7c4d0c803b66af",
       "outputs": [
        {
         "data": {
          "image/png": "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\n",
          "text/plain": "<Figure size 360x360 with 1 Axes>"
         },
         "metadata": {},
         "output_type": "display_data"
        }
       ]
      }
     },
     "89c9d1dfa4984c9cb296d6d78ee8b466": {
      "model_module": "@jupyter-widgets/controls",
      "model_module_version": "1.5.0",
      "model_name": "DescriptionStyleModel",
      "state": {
       "description_width": ""
      }
     },
     "8a1807afb7b24dfe84ceeb4222752f7f": {
      "model_module": "@jupyter-widgets/controls",
      "model_module_version": "1.5.0",
      "model_name": "DescriptionStyleModel",
      "state": {
       "description_width": ""
      }
     },
     "8b5e70019a1542b1b53a9d8764e6e339": {
      "model_module": "@jupyter-widgets/controls",
      "model_module_version": "1.5.0",
      "model_name": "HTMLModel",
      "state": {
       "layout": "IPY_MODEL_342bb101a3ad4ffd8000f12c70b029db",
       "style": "IPY_MODEL_63d5318225f049068069b35bd9076c4c",
       "value": "<div><font style='font-weight:bold'>last_update_date</font>: Mon 06 February 2023 at 06:13 UTC</div>"
      }
     },
     "8bbab0c243bc41a3b3007ce5a8426dbb": {
      "model_module": "@jupyter-widgets/controls",
      "model_module_version": "1.5.0",
      "model_name": "DescriptionStyleModel",
      "state": {
       "description_width": ""
      }
     },
     "8dabbada62fb4c519c95c95e4b5c5a0b": {
      "model_module": "@jupyter-widgets/output",
      "model_module_version": "1.0.0",
      "model_name": "OutputModel",
      "state": {
       "layout": "IPY_MODEL_94e052bc169f48bab19061e6896aa3fe",
       "outputs": [
        {
         "data": {
          "image/png": "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\n",
          "text/plain": "<Figure size 360x360 with 1 Axes>"
         },
         "metadata": {},
         "output_type": "display_data"
        }
       ]
      }
     },
     "8e8a946268154e63b860dcdc15bcf67f": {
      "model_module": "@jupyter-widgets/controls",
      "model_module_version": "1.5.0",
      "model_name": "ProgressStyleModel",
      "state": {
       "bar_color": "#71cddd",
       "description_width": ""
      }
     },
     "8e91f4dc8f2743a5b60720aaae77196b": {
      "model_module": "@jupyter-widgets/controls",
      "model_module_version": "1.5.0",
      "model_name": "HTMLModel",
      "state": {
       "layout": "IPY_MODEL_192470e6361e49dcb3239c9c357b0f69",
       "style": "IPY_MODEL_b8bac4daeab3461d831565392b964d68",
       "value": "<h5>Job ID</h5>"
      }
     },
     "9079f178120e4096a350d803d2218b0a": {
      "model_module": "@jupyter-widgets/controls",
      "model_module_version": "1.5.0",
      "model_name": "DescriptionStyleModel",
      "state": {
       "description_width": ""
      }
     },
     "92b340a67c454800bf305d7967e0b4e8": {
      "model_module": "@jupyter-widgets/base",
      "model_module_version": "1.2.0",
      "model_name": "LayoutModel",
      "state": {
       "align_items": "center",
       "justify_content": "center",
       "margin": "0px 0px 0px 0px",
       "max_height": "250px",
       "max_width": "250px",
       "min_height": "250px",
       "min_width": "250px"
      }
     },
     "92bbe3e9bec04bef8ef5c98212ad6b2c": {
      "model_module": "@jupyter-widgets/controls",
      "model_module_version": "1.5.0",
      "model_name": "LabelModel",
      "state": {
       "layout": "IPY_MODEL_d418bd8bd1674c59878d62f776f8fce1",
       "style": "IPY_MODEL_d83fdc4e55cf4e25a2f37c45f3b942b5",
       "value": "Least Busy"
      }
     },
     "93565962669f47388a577ddc74dc6cdc": {
      "model_module": "@jupyter-widgets/controls",
      "model_module_version": "1.5.0",
      "model_name": "HTMLModel",
      "state": {
       "layout": "IPY_MODEL_683480b157464c60a91ed7879a430990",
       "style": "IPY_MODEL_75d483028fc0460e8ef532a1285bac99",
       "value": "<h5 style='color:#dc267f'>False</h5>"
      }
     },
     "93b273cf424542e0a6963fcc21b9886e": {
      "model_module": "@jupyter-widgets/controls",
      "model_module_version": "1.5.0",
      "model_name": "DescriptionStyleModel",
      "state": {
       "description_width": ""
      }
     },
     "93d2266d8787463eb719d672ba77ef86": {
      "model_module": "@jupyter-widgets/base",
      "model_module_version": "1.2.0",
      "model_name": "LayoutModel",
      "state": {
       "min_width": "auto"
      }
     },
     "946f3c34b3a144ababd47e07624d7697": {
      "model_module": "@jupyter-widgets/controls",
      "model_module_version": "1.5.0",
      "model_name": "VBoxModel",
      "state": {
       "children": [
        "IPY_MODEL_eab6aa16d84a498ab8f8b671533fdb04",
        "IPY_MODEL_ac953c8dab9f44bab606c437a1a5b56d",
        "IPY_MODEL_30610c5e3cdb48a194cf9e4575bf10fd",
        "IPY_MODEL_b7cc2172efbc47d79e9e7a8ed11283b8",
        "IPY_MODEL_e6afd56dbc2f4e7388f0125b380920f9",
        "IPY_MODEL_e90d9ca96eef4e7ebbc954415c70e0fe",
        "IPY_MODEL_55a3fbb761384e41905944d6123c0f3a",
        "IPY_MODEL_70ff1de9ce984d3ab890ad0343b3f08a",
        "IPY_MODEL_fb394374337f43b7befb758c229cf532",
        "IPY_MODEL_e209868be2a64b1ead05789828124aca"
       ],
       "layout": "IPY_MODEL_860355521b50408facc6584e66973e11"
      }
     },
     "94e052bc169f48bab19061e6896aa3fe": {
      "model_module": "@jupyter-widgets/base",
      "model_module_version": "1.2.0",
      "model_name": "LayoutModel",
      "state": {
       "align_items": "center",
       "justify_content": "center",
       "margin": "0px 0px 0px 0px",
       "max_height": "250px",
       "max_width": "250px",
       "min_height": "250px",
       "min_width": "250px"
      }
     },
     "97b1bc71e5574bfbb9fe889be9d986c0": {
      "model_module": "@jupyter-widgets/base",
      "model_module_version": "1.2.0",
      "model_name": "LayoutModel",
      "state": {}
     },
     "97b6de05181640908f1b02ebbc00ed58": {
      "model_module": "@jupyter-widgets/base",
      "model_module_version": "1.2.0",
      "model_name": "LayoutModel",
      "state": {
       "width": "95px"
      }
     },
     "97c6e2eea64a4e06adb63348da66115b": {
      "model_module": "@jupyter-widgets/base",
      "model_module_version": "1.2.0",
      "model_name": "LayoutModel",
      "state": {}
     },
     "9888176932cb406994f3e3059693ef46": {
      "model_module": "@jupyter-widgets/controls",
      "model_module_version": "1.5.0",
      "model_name": "LabelModel",
      "state": {
       "layout": "IPY_MODEL_17035a4490fe4d02bf0763827aa9dbfe",
       "style": "IPY_MODEL_419deb1de9884f619b42b11d78211cb4",
       "value": "Quantum Vol."
      }
     },
     "98ac7bf55d61434ab633636ed4df25d0": {
      "model_module": "@jupyter-widgets/base",
      "model_module_version": "1.2.0",
      "model_name": "LayoutModel",
      "state": {
       "justify_content": "center"
      }
     },
     "9b0439e280664fbd8020ed479ebc2b08": {
      "model_module": "@jupyter-widgets/controls",
      "model_module_version": "1.5.0",
      "model_name": "VBoxModel",
      "state": {
       "children": [
        "IPY_MODEL_8b5e70019a1542b1b53a9d8764e6e339",
        "IPY_MODEL_611b13a93793478996c90ba196c18ff7"
       ],
       "layout": "IPY_MODEL_97b1bc71e5574bfbb9fe889be9d986c0"
      }
     },
     "9b151612ce954cd8bc2e37c5834a65db": {
      "model_module": "@jupyter-widgets/controls",
      "model_module_version": "1.5.0",
      "model_name": "DescriptionStyleModel",
      "state": {
       "description_width": ""
      }
     },
     "9bbc37f46d58405f918efae780afe24f": {
      "model_module": "@jupyter-widgets/controls",
      "model_module_version": "1.5.0",
      "model_name": "DescriptionStyleModel",
      "state": {
       "description_width": ""
      }
     },
     "9c619b60c0164ca49b88dc6e918eecac": {
      "model_module": "@jupyter-widgets/controls",
      "model_module_version": "1.5.0",
      "model_name": "HTMLModel",
      "state": {
       "layout": "IPY_MODEL_deb723bedbef41778289dc8849bc55a3",
       "style": "IPY_MODEL_89536460efe84a1a9882d3cfe2e67304",
       "value": "<h5>Backend</h5>"
      }
     },
     "9cd5138059b1499bbd90810eabacf4d2": {
      "model_module": "@jupyter-widgets/controls",
      "model_module_version": "1.5.0",
      "model_name": "DescriptionStyleModel",
      "state": {
       "description_width": ""
      }
     },
     "9db8bd96cba84045a2616225a1d6414c": {
      "model_module": "@jupyter-widgets/base",
      "model_module_version": "1.2.0",
      "model_name": "LayoutModel",
      "state": {}
     },
     "a0432fde4ea14d46ae79a43c6e6bb787": {
      "model_module": "@jupyter-widgets/controls",
      "model_module_version": "1.5.0",
      "model_name": "IntProgressModel",
      "state": {
       "layout": "IPY_MODEL_0c154ff3b3cd481db09ff292d0680a35",
       "max": 114,
       "style": "IPY_MODEL_8e8a946268154e63b860dcdc15bcf67f",
       "value": 103
      }
     },
     "a118af22e20e4f529fcb43786e4f3cf6": {
      "model_module": "@jupyter-widgets/controls",
      "model_module_version": "1.5.0",
      "model_name": "ButtonStyleModel",
      "state": {}
     },
     "a2c2eb71e62444c399a28e8adc57a11e": {
      "model_module": "@jupyter-widgets/controls",
      "model_module_version": "1.5.0",
      "model_name": "DescriptionStyleModel",
      "state": {
       "description_width": ""
      }
     },
     "a32de36b36be421eaf164dba5181a227": {
      "model_module": "@jupyter-widgets/output",
      "model_module_version": "1.0.0",
      "model_name": "OutputModel",
      "state": {
       "layout": "IPY_MODEL_a3ba395577504f979dc42b130f7954c2",
       "outputs": [
        {
         "data": {
          "image/png": "iVBORw0KGgoAAAANSUhEUgAAAoQAAAIACAYAAAAbln2BAAAAOXRFWHRTb2Z0d2FyZQBNYXRwbG90bGliIHZlcnNpb24zLjUuMSwgaHR0cHM6Ly9tYXRwbG90bGliLm9yZy/YYfK9AAAACXBIWXMAAAsTAAALEwEAmpwYAABN0ElEQVR4nO3deZgcVb3/8fc3+8oSkB1DUFQQg0AEDUKQRQEX9IKGiESJaCR41YhyFVwQ9d5r1BtcCMYlaEBjWFwQUATR8MOAMhEZZRMIRCAgSwhmmUCW8/ujaqAz6Ulm6e7qnn6/nmeeTFdXn/pWd7rm06dOnY6UEpIkSWpe/YouQJIkScUyEEqSJDU5A6EkSVKTMxBKkiQ1OQOhJElSkzMQSpIkNTkDoSRJUpMzEEqSJDU5A6EkSVKTMxBKkiQ1OQOhJElSkzMQSpIkNTkDoSRJUpMzEEqSJDU5A6EkSVKTMxBKkiQ1OQOhJElSkzMQSpIkNTkDoSRJUpMzEEqSJDU5A6EkSVKTMxBKkiQ1OQOhJElSkzMQSpIkNTkDoSRJUpMzEEqSJDU5A6EkSVKTMxBKkiQ1OQOhJElSkzMQSpIkNTkDoSRJUpMzEEqSJDU5A6EkSVKTMxBKkiQ1OQOhJElSkzMQSpIkNTkDoSRJUpMzEEqSJDU5A6EkSVKTMxBKkiQ1OQOhJElSkzMQSpIkNTkDoSRJUpMzEEqSJDU5A6EkSVKTMxBKkiQ1OQOhJElSkzMQSpIkNTkDoSRJUpMzEEqSJDU5A6EkSVKTMxBKkiQ1OQOhJElSkzMQSpIkNTkDoSRJUpMzEEqSJDU5A6EkSVKTMxBKkiQ1OQOhJElSkzMQSpIkNTkDoSRJUpMzEEqSJDU5A6EkSVKTMxBKkiQ1OQOhJElSkzMQSpIkNTkDoSRJUpMzEEqSJDW5ugqEEZEi4qVF11FLETEvIt7eg8cNjoi7I+JFVShLkiQ1kS0Gwoh4MCLaImJlRDwWET+MiBG1KK6nIuIPEXHaZu7fIw+fKzv8TKxxnWOB/YBf5rf3i4g7IuLJiPh4yXoDI+JPEbF7+7KU0rPAHOBTtaxZkiT1PV3tIXxrSmkE8Gpgf+DTVauotrZJKY0o+ZlfbqWI6N/h9oDubGQz608FfpxSSvnt/wE+QRYSz4mInfLlHweuSCk91OHxPwHeGxGDu1OPJElSqW6dMk4pPQZcSxYMAYiI10bEwohYHhG3R8ThJfedGhF3RcSKiFgcEVNL24uIT0bEoxGxNCKmdLhv64iYGxFPRMSSiPhMRPTL7zs3Ii4pWbe9x29ARHwZOBT4dt7r9+3u7GPe3g8j4sKIuCYiVgFvyHtK/ysiWoFV+bbelvfoLc97JfcuaWOT9cts6lhgQcntMcANKaVHgHuBF0fEaOAEYGbHB6eUHgaeBl7b3X2UJElq161AGBG7kYWY+/LbuwJXA18CRpH1bl1RMq7tceAtwFbAqcDMiDggf+wx+fpHA3sBR3XY3LeArYE9gQnA5LyNzUopnQP8P+DDea/fh7uzjyXeDXwZGAnclC+bBLwZ2Cavax7wMeBFwDXAryJiUEkbz6+fUlpX2nhEDCcLgPeULP478Mb8ed4DuB/4BvDJlNLaTuq8i6xHUZIkqUe6Ggh/ERErgIfIQt7n8+XvAa5JKV2TUtqQUroOaAGOA0gpXZ1Suj9lFgC/Jeu9A3gXcFFK6e8ppVXAue0by0/RngR8OqW0IqX0IPB14JRe7Gs5T+a9e+0/e5fc98uU0h/z/VqTL/tmSumhlFIbMBG4OqV0XR7WvgYMBcaXtFG6fkfb5P+uKFn2CeB04EpgOnBIfv8DEfHLiFgQEe/s0M6KkrYkSZK6ratj4d6eUro+IiaQjVvbHlgOjAbeGRFvLVl3IPB7gIg4liw8vowsfA4D/pavtwuwqORxS0p+3z5vZ0mH+3ftYr1dtX3HnrsSHcfrdVy2CyX1pZQ2RMRDbFxjuTbaLc//HQmsydtYQh6mI2IYcDPwRrLe0vlkvbF/j4jfpZSWlTx+OZIkST3U3TGEC4AfkvWGQRZ4Lk4pbVPyMzyl9L/5hQ5X5OvumFLahuy0auSPfRTYvaT5F5f8/iSwlixwlt7/SP77KrJw2W4nNpbovXJtlC5bSkl9ERFk+/NIJ+tv3FDWK3o/WVgu53PA91JK/wJeBbSklJ4BHgZKp+bZG7i9892QJEnavJ7MQ3g+cHRE7AdcArw1It4UEf0jYkhEHJ6PgRsEDAaeANblvYVvLGnnUuB9EbFP3hvWfhqalNL6/P4vR8TI/MKKj+fbA/grcFhEvDgitmbTq57/RTbGr5ouBd4cEUdGxEDgTOBZYGE32riGbHzkRiJiH+Bw4MJ80QPAERGxI9l4y3/m6+1KNnbzlh7ugyRJUvcDYUrpCWAu8Ll8GpTjgbPJgt9DwCeBfimlFcBHyILT02QXaVxZ0s6vycLlDWQXqdzQYVP/SdYTuJjsoo6fkM27Rz5WcT7QSnba+aoOj/0GcGJEPB0R39zM7izvMA/hxzezbsfn4R6yMZTfIuvRfCvZ9DzPdbUN4LvAyXnvYqkLgI/mwRiywPsR4A7gv/OrvSF7Tn+Uz0koSZLUI/HCFHgqQkT8BLg0pfSLbj5uMNmp4sNSSo9XozZJktQcDISSJElNrq6+y1iSJEm1ZyCUJElqcgZCSZKkJtfVial7o+EGKU6aNAmAefPm1XKzHa80liRJqgl7CCVJkppcLa4ybrgewmXLsm+FGzVqVC03aw+hJEkqhIGwfhgIJUlSITxlXMbll1/O5ZdfXnQZkiRJNWEgLOOKK67giiuuKLoMSZKkmjAQSpIkNTkDoSRJUpMzEEqSJDU5A6EkSVKTc9qZMtra2gAYOnRoLTfrtDNSHZk/dWYAOwAjgSHAeqANeHLi7Okri6xNkirNQFg/DIRSgeZPnbkdMAE4CDgMeBXZ13uuAzaQvUcDGAw8DvwZuBG4Fbhl4uzp6wsoW5IqwkBYxsUXXwzAKaecUsvNGgilGst7AQ8GzgTeAjwHjKDrw2nWAGvJeg5nAt+fOHv6k1UoVZKqykBYxqRJkwCYN29eLTdrIJRqJA+CJwFfAHYBhtL7MdVteRtXAZ+eOHv6vb1sT5JqxotKJDWV+VNn7grcAHwP2AsYTmWOhUPJTie/Hbh9/tSZZ86fOrN/BdqVpKozEEpqCvOnzoz5U2e+D7gbOIQsCFZDf7Jw+AWgZf7UmXtVaTuSVDEDqr2BxddfV+1N9MqeRx1ddAmSqmz+1JmDgPnA0VQvCHY0nOzClL/Onzpz0sTZ06+s0XYlqdvsIZTUp82fOnMocC3wRmoXBtv1B4YBP50/deZ7arxtSeqyql9Usvj66+r6opI66iH0ohKpwuZPnTkQ+A3wOrLTuEVqAyZPnD398oLrkKRN2EMoqS+7GHgtxYdByGr40fypMycUXYgkdWQgLON73/se3/ve94ouQ1IvzJ8680SyuQWHFV1LiWHAZfOnzhxZdCGSVMpAWMYNN9zADTfcUHQZknpo/tSZOwDfp/ZjBrtiJPCtoouQpFIGQkl90Rzq4zRxOUOAd86fOvOooguRpHYGQkl9yvypM48DDgcGFVzK5gwDfpxf9CJJhTMQSuprPkN9niruaCjw1qKLkCQwEJY1ZMgQhgwZUnQZkrpp/tSZLwP2L7qOLhoJ/FfRRUgSGAjLuuiii7jooouKLkNS932EbDLoRvGq+VNnvqLoIiTJQCipT5g/deYQ4H1AI43LGwB8uOgiJMlAWMa3vvUtvvUtZ4WQGsx+wPqii+imgcCxRRchSQbCMhYuXMjChQuLLkNS94yjsXoH2+2e925KUmEGFF2AJFXI66nw3IMvO3J/xox/JVvtsh39+vXj77+6mTuuuqWSm4DsO47HAn+udMOS1FX2EErqK15b6Qa3ffGOPLdqDW3LVlS66VIDgAOruQFJ2hJ7CCX1FbtXusE/XfQbAA45/a0M337rSjffbhjZ+EdJKoyBsIxtttmm6BIkdcP8qTMH0NhnPLYqugBJzc1AWMaFF15YdAmSumcI2RXGjXpMG1Z0AZKaWyN/opakdmtp7OPZc0UXIKm5NfIBtGpmzJjBjBkzii5DUtc9B0TRRfTCyqILkNTcGvX0SlXddtttRZcgqRsmzp6e5k+d+TQwqpLt7nnIvmz/0l3Y9sU7ALDrq1/C8O224pG/3s8jt99fqc2sBRZXqjFJ6olu9RBGxKiI+HlErIqIJRHx7moVJkndVPFPctu/dBfGjH8lw0dl13xsu/sOjBn/SrbZ/UWV3Mxq4NZKNihJ3dXdHsILyE7N7Ai8Grg6Im5PKd1R6cIkqZsWAIdRwW8r+fOPfsuff/TbSjXXmaHAompvRJI2p8s9hBExHDgB+GxKaWVK6SbgSuCUahUnSd3QQtbb1mhWTJw9/cmii5DU3LpzyvhlwLqU0j9Klt0OvLLjihHxwYhoiYiWeVdf3dsaa26nnXZip512KroMSd1zK9n0M43Gr6yTVLjunDIeAfy7w7JngJEdV0wpfRf4LsDi669LPa6uIDNnziy6BEndNHH29CfnT535R+CIomvphhXAt4suQpK600O4kk1n09+K7IAmSfXgqzTWFC5twLVFFyFJ3QmE/wAGRMReJcv2A/rcBSXnnXce5513XtFlSOq+39I4gbANmDlx9vT1RRciSV0OhCmlVcDPgPMiYnhEHAIcD1xcreKKctddd3HXXXcVXYakbpo4e/oG4P9ojItLAvh+0UVIEnT/m0qmkU2R8DgwDzjdKWck1ZkLgKeLLmILVgFf8epiSfWiW4EwpbQspfT2lNLwlNKLU0o/qVZhktQTE2dPXw1MJDslW48S8DDw5aILkaR2fpexpD5n4uzpfwTmUJ+hcA3wzomzp68tuhBJamcgLGPMmDGMGTOm6DIk9cKgoQPPGjB4wHqi6EpesH7DBlauee4nE2dP/1vRtUhSqUiputME1vs8hHsedXTRJbSroz9bUmNb1toSwPmrn2n7yJ8u+yvrnl1XdEms37CBp1a0cdfSJ1cAx8y68fyFRdckSe3sIZTUp7SHQeAjw7YeymveMZYBg/oXWtP6DRtYvmoNdy19ErLJ/H8z7bCPjS+0KEkqYSAs4+yzz+bss88uugxJ3VQaBtuXjdhuOAed+GoGDhkAsKHWNa3fsGHDUyva+PvDT5QuNhRKqisGwjIeeOABHnjggaLLkNQN5cJgu+HbDuOAt71qJvD/yKZ8qYUNQNv6Dem8u5Y++fcy9xsKJdUNA6Gkhre5MJg7b6sXjTgTeEO+zkqgmlf5rgL+Bux/yg8+8QWy71c2FEqqWwZCSQ2tK2EQOHfU2HFp4uzpaeLs6XOAvYEFZFPAPFfBclaShcFzgQMnzp5+D8CsG89/AkOhpDpmIJTUsLoTBksXTpw9/eGJs6cfDYwFvksW4nr6Hcgb8sffC3wU2GHi7Olf6/gdxYZCSfXMQFjG3nvvzd577110GZI2o6dhsNTE2dPvnTh7+n8CO+TtXA08RnY6+RlgzYaUXYeSUmL9hg08u24twIp8nTuB75EFvZdPnD19Tv5NKWUZCiXVK+chdB5CqeFUIgxuzvypM7cBDgD2/f0/7vzGwH792ZA2sHbDelY/9xxvfdUBY4G7Js6e3qMJDqcd9rEXATcA+5a523kKJdWcgdBAKDWUaofBjsaOnrBJO61LFvT6/WoolFRPPGVcxvTp05k+fXrRZUjqoNZhsJo8fSypnhgIy3jsscd47LHHii5DUom+FAbbGQol1QsDoaS61xfDYDtDoaR6YCCUVNf6chhsZyiUVDQDoaS61QxhsJ2hUFKRDIRl7L///uy///5FlyE1tWYKg+0MhZKKUvVpZ4A+c7CuMqedkXL1FAarNe3M5jgljaRas4dQUl2ppzBYFHsKJdWagbCM008/ndNPP73oMqSmYxh8gaFQUi0ZCMtYvnw5y5cvL7oMqakYBjdlKJRUKwZCSYUzDHbOUCipFgyEkgplGNwyQ6GkajMQSiqMYbDrDIWSqslAWMb48eMZP97jqlRNhsHuMxRKqhbnIawfzkOoptFIYbCIeQi3xHkKJVWaPYSSaqqRwmC9sqdQUqUZCMs49dRTOfXUU4suQ+pzDIOVYyiUVEkGwjLWrFnDmjVrii5D6lMMg5VnKJRUKQZCSVVnGKweQ6GkShhQ7Q0svv66am+iIvY86uiiS5D6JMNg9c268fwnph32sSMof6FJeyj0QhNJnbKHUFLVGAZrx55CSb1hICzjiCOO4Igjjii6DKmhGQZrz1AoqacMhGV84AMf4AMf+EDRZUgNyzBYHEOhpJ4wEEqqKMNg8QyFkrrLQFjGpEmTmDRpUtFlSA3HMFg/DIWSusNAKKkiDIP1x1AoqasMhJJ6zTBYvwyFkrrCQCipV/IweAuGwbrVhVB4w7TDPvbB2lYlqZ4YCCX1WB4G/wIc1MkqhsE6sYVQOBiYbSiUmpeBsIzjjjuO4447rugypLpWEgZf3ckqhsE6s4VQCIZCqWkZCMs45ZRTOOWUU4ouQ6pbeRj8I52Hwa9jGKxLJaFwaSerzJ522MfeWcOSJNUBA2EZbW1ttLW1FV2GVJdKLiB5XSerLAA+aRisX3koPAp4tpNVfuCFJlJzMRCWMWXKFKZMmVJ0GVLd6cLVxAuANxgG69+sG8+/C9if8qHQq4+lJmMglNQlhsG+x1AoqZ2BUNIWdSEMfgXDYEPKQ+ErcZ5CqakZCCVtVhcnnf60YbBxzbrx/PuBIzEUSk3LQCipU34DSfOYdeP5j2MolJqWgbCME044gRNOOKHoMqRCGQabj6FQal4GwjJOPPFETjzxxKLLkApjGGxehkKpORkIy1i2bBnLli0rugypEIZBGQql5mMgLOOMM87gjDPOKLoMqeYMg2pnKJSaS7cCYUR8OCJaIuLZiPhhlWqSVADDoDoyFErNo7s9hEuBLwFzqlCLpIIYBtUZQ6HUHLoVCFNKP0sp/QJ4qjrlSKo1w6C2xFAo9X2OIZSamGFQXWUolPq2qgTCiPhgPtawZd7VV1djE1V18sknc/LJJxddhlRVhkF1l6FQ6rsipe4f6yPiS8BuKaX3bWndxddf1xB/TPY86uiiS4iiC1DzMAx23djREzZ5DlqXLGjq9+u0wz62A/A7YN8yd68Ajpl14/kLa1uVpN7wlHEZS5cuZenSpUWXIVWFYVC9ZU+h1Pd0d9qZARExBOgP9I+IIRExoDqlFefMM8/kzDPPLLoMqeIMg6oUQ6HUt3S3h/AzQBvwKeA9+e+fqXRRkirPMKhKMxRKfUd3p505N6UUHX7OrVJtkirEMKhqMRRKfYNjCKU+zjCoajMUSo3PQCj1YYZB1YqhUGpsBsIyTjvtNE477bSiy5B6xTCoWjMUSo3LQFjGkUceyZFHHll0GVKPGQZVFEOh1JgMhGUsXryYxYsXF12G1COGQRXNUCg1HgNhGeeccw7nnHNO0WVI3WYYVL0wFEqNxUAo9RGGQdUbQ6HUOAyEUh9gGFS9MhRKjcFAKDU4w6DqnaFQqn8GQqmBGQbVKAyFUn0zEJZxxhlncMYZZxRdhrRZhkE1GkOhVL8iper+rVh8/XUN8cdoz6OOLrqEKLoAVd6U8dMGA8OAwcA6YA2wes7CWRt6065hsDbmTJ4x6MKbrn22f7/+JBLrNqxn7fr1tC5Z4Pu1F6Yd9rEdgN8B+5a5ewVwzKwbz1/Y2+2MHT1hINn7bwiQgDZgdeuSBet727bU1xgIc6WB8M477wRgn332qWUJ/oFpcFPGTxsBHAQcCEzI/92BLAiuJ3uNBwBrgbuBG4FbgD/PWTiryxNfGgarY87kGUOB15C9boflv++8fsOGfhtSIoCIIJEY0K//34D/B9wM3Ar8Y8rcs3y+u6HSoXDs6AmDgHFkr9+hwMHArmTvvfb3X/989fuAm4CFQAtwR+uSBb5+amoGwlxpIJw0aRIA8+bNq2UJBsIGNWX8tH2BjwHvBp4DhgKDuvDQBKwkC4n3Al8BrpizcNaznT3AMFh5cybP2Ivs+TyVLDgMzn+2pP316w88DMwA5k2Ze9bqKpXa51QiFI4dPWE0MA34UL5oEFmPYFesJDv2PgV8FZjbumTBv7v4WKlPMRDmDITqjinjpwVwPPB54OXAQLJg1xsr8n9nA/87Z+Gsp0rvNAxW1pzJM95I9vodQBbqBvayyfZw8SPgS1PmnvVoL9trCj0NhWNHT3g98AVgPNl4+K58CNucVXk7PwXOa12y4MFetic1FANhzkCorpoyftpOZH/0DwGGV2ETz5KNdXrfnIWzfgmGwUqaM3nGtmSh+81k48sqbS3ZazgNuMRTyVvWnVA4dvSEEWTvhUlU5/VbR9bT/0ngO61LFvRqvK/UKAyEOQOhtiTvFTyJLEwMpvc9EluyGrh20OABH/jvb0z+HIbBXpszecZbgLm8cKFPNa0iGyN6ir2FW9aVUHjTktsGkfXgbU3XTwv31CrgDuCk1iULHqjytqTCOe2M1AVTxk8bCFwKfI9seoxqh0HIQstxKaVHHv7nk4bBXpgzeUa/OZNnzAbmA9tS/TAIWe/xYcA9cybPmFCD7TW0zU1Jk1Ia+cCyR34P/AbYkeqHQchevwOBv40dPeGtNdieVCh7CHOlPYSLFi0C4MADD6xlCfYQ1qkp46cNBa4mu2qxGqeotmjQ4AGc9uE3sudeO5UuNgx2wZzJMwaS9SodQ0GvH1lv77umzD3r6oK23zA69hSmlLjvqX/yxOqn2VDlv1eb0QZ8sHXJgkuKKkCqtqoHQrIr8bRlBsI6lPcMXgu8luzq4cIMGjSAqdOPYfSYHcAw2CVzJs/oR9azeyzFhcF2bcDxU+aedV3BddS99lCYUtr3/mUP8fiqp9mQCh/K1wa8t3XJgsuKLkSqBk8Zl7Fo0aLnewnVvPIxg/PIegYLDYMAzz23ju9+41ruvXvpBRgGu+rb1EcYhOz/0C/mTJ7xmqILqXftp48fePqRx+skDEL2+v1o7OgJRxZdiFQN9hCW4UUlApgyftrJZBeQVONK4p5KwJ3Aq+csnLWu6GLq2ZzJM44FLqc+wmCph4CXT5l7VlvRhdSzsaMnvBb4PbUZL9gdy4CXtC5ZsLzoQqRKsodQKmPK+Gk7AxdSX2EQsg8OY4Czii6kns2ZPGNr4GLqLwwCbAf8b9FF1LOxoycMITvVX29hELL/UxcWXYRUaQZCqYP8VPFc6vOPEWR/kD4zZfy0mn63YoOZRf2F+XbDgA/MmTzjdUUXUsf+hyw416MhwNvGjp7w5qILkSrJQCht6j+A19H7b66opsHAT/LwqhJzJs84HHg79RvoIRuP9tM5k2f03+KaTWbs6An7AVOpz97ddsPIxhPW8/8xqVsMhNKmPk/99i616we8FPAChU19lvoOE+22Bd5UdBF16FPUZp7P3hoMvLPoIqRK6e13r/ZJn/3sZ4suQQWZMn7aq4GXFF1HFw0FzgQmFl1IvZgzecZosu+2bQQjycaCXlN0IfVi7OgJo8h6dxuh53QE8F9kY1WlhmcPYRn77LMP++zj8KwmNZ3G6J2A7P37tinjp9XrWKsiTKOxrtg/eM7kGWOKLqKOnArUxRwzXTRm7OgJBxRdhFQJBsIybrrpJm666aaiy1CNTRk/bSuyU0CN1HO+AZhSdBH1IP9Gkg9Rm6+lq5R+wBlFF1EPxo6eEMDHaYzT/e0Gk9UsNTwDYRkXXHABF1xwQdFlqPZeB6wtuohuGga8o+gi6sRYGqt3ELLeaL8nN/NiYJuii+im/sAbiy5CqgQDofSCcdTBN5L0wKu82hjIXr9GGHvW0Zg5k2c0yjCFahoHNOJk61uPHT3BYRtqeI10akyqtglUeKqZAYMG8K4z/oODjjqQIcMGs+Seh5j/zStYfOeDldxMf2B34J+VbLQBHUKFTzceMuUYdnzZrgwfNZL169bzxP1LufWnC1j+yJOV3EwbsC/wl0o22oAOIrtQo6K+9PVPc/DrD2Tbbbdm1arV3Nl6D9+Y8T3uvuPeSm2iDTgQ+G2lGpSKUPVAuPj6xvse97annwaqW/ueRx1dtbbVY/tXusFJH30nb3jHoTx8/yPc1bKU1xx5IGd+4z/5rxM/x8pnVlVqM2vJ/iA1eyCs+ETPLz98LI/f9wj/+sfD7PLK0ey+30sYtfsOXP7J77J+7fpKbaY/2evX7IHwMKpw1mrnXXdk0Z9uZ+W/V3HQ+P055PCDGfPS0RxzSMUuzh9G1rtpIFRDs4dQAqaMnzacCo9fGrntCA59y+vYsH4DX/3IN1jx9ErWr9/A+GMO5sgTD+eXP7i6UpsaQdbD9PNKNdig9qh0g7/83I946sF/ATBi+6141/99iOGjRrLNLtvz1JJ/VWozw6nCh5EG9PJqNPr+kz72/O9777sX86/+Pjvu/CIGDOjPunUVCfUDyXo3pYZmICxj+ntOLroE1d4Isp62ir0ndh2zCwMGDuCJpU+y4umVADx49z8Zf8zB7L7XbpXaDGS9KltVssFGM2fyjAFU4XjWHgYB+g3IhiduWL+B1ctXVnpTW1e6wQZUtW/9OOm97+Ale+3BweOzGWLmfu/SSoXBdiMr2ZhUBANhGbvvtFPRJaj2hlDh+c+2GpX9jXi27dnnl7X/vvWoiue3ev9mlWobTHZBQlWOaQMGD+TQ044F4O+/uZW2yp3ub9fsrx9U8asijz52Aq95XdYJ+9jSx7mt5W+V3kQjTZUjleVVxmXcfPvt3Hz77UWXodpaR4WnLPn3shUADB76wrR4Q/Lfn1n270puCuC5SjfYYNZRpePZkJFDOfbTJ7Hjy3bjnt/fTsv8BdXYTLO/fgAV7bIr9f6TPsa4lx3NR047mxftuB1fv/A8dt51x0puotGmq5I2YSAs47Lrruey664vugzVVhsVnrJk6QOPsm7tOrbbcRRbbZv1Fu6x92gAHrr34UpuCqDi5zAbzHNUYQ7C4dttxZs/czIv2nNnbr/yZv540bWV3kS71dVquIFUPFQNHjyIfv2yP3PPPfscf1zwZ1avamPgwAHs9uJdKrkpXz81PE8ZS5lnqPAHpH8/vYI/XnMLE45/PZ/41kd5ZPFSXnPEAaxZtYYbrqhoL1Mb8GglG2w0U+aeleZMnvEMFb4w6C2fPZnho0ay8slnGDB4IAeffAQA9998J08ufqxSm1kHPFipxhrYU1R42plX7b8P//vNz7LoT7ez4pmVHHDQqxi51QiWPfk0d/39H5Xc1IOVbEwqgoFQAuYsnLV+yvhp9wIV/RLrn8y8jPXr1vOaIw5gx0P3Y/EdDzL/W1eworIXJawFFlWywQbVSjZ1ScUMz8eBjth+a175pnHPL39qyeOVDISrgFsr1VgD+xMwupINPvGvJ1my+CFed+g4hg8fxrJly7n2qt8z+xs/YuWKio0DXQncXKnGpKIYCKUXLKTCgXDtc2u55OvzueTr8yvZbEfDAAe9wgJgPBU8rs2ZPKNSTW3OEAz0AP+P7Gv8KvZtQUseeHijaWeqyNdPDc8xhNILFtKYY/EembNwVlvRRdSBW8l62xpN25S5Z1Wsu7GBLaIxL84YBNxddBFSb9lDWManppxadAkqxp+pwoUJVZaAPxZdRJ24lSrOZVdFLUUXUCdupzFfv7tblyxoxO9gljZiD2EZO4waxQ6jRhVdhmrvTmBp0UV00ypgdtFF1IO8l63Rvv5tBXBh0UXUg9YlC1YDvyb7kNMoVgIXFF2EVAkGwjJ+f+ut/P5Wx3g3mzkLZyXgKzTWaeOnyMZeKTODLGQ1inXAlUUXUUe+RmOd9u8H/KToIqRKMBCW8asFN/KrBTcWXYaKMY/GeV+sAr6aB1llrqJxJnleA3xrytyzPN34gj8CTxRdRBetBS5uXbKgkT5ASp1qlD98Uk3MWThrNfBDGiNU9AMuLrqIepKHq2+Szc3YCDzdX6J1yYJE1svbCL2E64BvFF2EVCkGQmlTXwSe3eJaxVoFfHHOwlkV/w68PuAb1P83R6wGvjNl7lmNNma1Fn4IPEl9jyVcA/yidcmCu4ouRKoUA6HUwZyFsx4DPkT99lJsAB4g60lRB1PmnvUMcDL1HQqfAj5ddBH1qHXJgjXAu8hCV71aBUwrugipkgyEUnnzyMYz1eO8aM8C75qzcNb6ogupV1PmnnUt8HPqM1S0Ae+aMveseqytLrQuWfBn4DvUZ6hfDZzSumTB8qILkSrJQFjG56dO5fNTpxZdhgqUX6jxXupvLFr7qWJPVW3ZGWRXHNfTqcfVwOwpc8+6pehCGsDZQwcPWhNRV1ODtgG/bF2y4NdFFyJVmoGwjK1HjmDrkRX9jnU1oPzU8bHUTy/FauBXZFPjaAvyU8dHUj/TCLUBNwGfLLqQRnDZFz78/q9+aOKo4UMGFV1KuzXA34H3F12IVA0GwjKuXbiQaxcuLLoM1YE5C2ctBN5B8aFwNfB74JQ5C2dtKLiWhjFl7ll/A95I8aGwDbgNON5pZrbsnh9edgbw7R1Hbc0XTv0Phg0eRMEdhWuA+4CjWpcsqLezBlJFGAjLuHbhzVy78Oaiy1CdmLNw1m+B48hO1xZx+nE12eTFb5+zcJZhopvy07OHA8+QXZBTa6uBG4EjHTe4Ze1hsP32i3fcjv/+wDsZMXQIEVHE+6+N7Gv1xrcuWeBV/eqzuhwII2JwRPwgIpZExIqI+GtEHFvN4qR6MWfhrAXAeGAxtest3ED2x+jLwMmGwZ6bMvesRcBrgDuo3dXjiez1uwB4i2FwyzqGwXa7vmhbzpvyH79IKf2J2l7930Y21+fhrUsWNNI34Ejd1p0ewgHAQ8AEYGvgM8ClEbFHFeqS6s6chbNagX2A88n+UFSzt2I1cDcwbs7CWf/taeLemzL3rHuB/cnmmWyjur2Fq4ElwGFT5p51lqeJt6yzMJibt9uLRr2T7EPZJ8hCYTWf0zbgUeCY1iULpuZT4Uh9WpcDYUppVUrp3JTSgymlDSmlq8jmQjuweuVJ9WXOwlnPzVk46xzgEOBesrFplQyGq8n+GP03sN+chbPurGDbTW/K3LPWT5l71leAA8hOA66issGwjWxaoAuAV0yZe1ZLBdvus7YUBoHJL3/fO9e1LlmQWpcs+A6wL3AL2fulksFwDdnrNxfYq3WJ32Gq5tHjMYQRsSPwMrJTMB3v+2BEtEREy7yrr+5NfVJdmrNw1m3AK4C3AFeT/RHpaS9CIguWjwBnA7vMWTjry54irp4pc8+6m+zD7JHAFWSvX2+GAqwAHgfOA3bPewXr/dtu6kJXw2DpwtYlCx5sXbLgULIPZj8hC+K9OZW8AniabLL3PVuXLPhQ65IF9ToxvVQVkVL3OzciYiDwa+D+lNJmJ+xbfP119TQHWJeseTb7Gtshg6s33cGeRx3dcVFdTbal7pkyftrOwAeBt5MFxfVkPU8j2PS1XUP2XclDgX8BN5NNwvv7fP5D1dicyTO2J5tO5ATglfnidcBINn392sP/MLKvWLuV7DuJr50y9ywnC++GnoTBcsaOnrA18D5gIvAqoD/ZpPIj2LTj4zmyADmU7EKjRcD3gStblyyox4nopZrodiCMiH5kn8i2Ao5PKW32DdSIgbAWDIR915Tx0/oBLyXrgdqXbMztCLIgsYpsbNki4K9zFs4qejoUdTBn8owAxpC9fq8CtiV7/dbyQk/uIuC2fK5D9UClwmBHY0dPCGB3stdvP2AU2eu3gawn8FHgL8BfWpcsWNaD0qU+qVuBMLIp4+cAewDHpZS2OB9TIwbCX/7hDwAcf/jhVduGgVBSs6pWGJTUc90dQ3ghsDfw1q6EwUa1oGURC1oWFV2GJPU5hkGpPnVnHsLRwFTg1cBjEbEy/zm5WsVJkvoOw6BUvwZ0dcWU0hI8rSlJ6gHDoFTf/Oo6SVJVGQal+mcglCRVjWFQagxdPmXcTP7vE2cWXYIkNTzDoNQ47CGUJFWcYVBqLAbCMi797W+59Le/LboMSWpIhkGp8RgIy7il9W/c0vq3osuQpIZjGJQak4FQklQRhkGpcRkIJUm9ZhiUGpuBUJLUK4ZBqfE57UwZgwcOLLoESWoIhkGpbzAQlvE/H/1I0SVIUt0zDEp9h6eMJUndZhiU+hYDYRmXXHU1l1x1ddFlSFJdMgxKfY+BsIy/3H03f7n77qLLkKS6YxiU+iYDoSSpSwyDUt9lIJQkbZFhUOrbDISSpM0yDEp9n9POlLHV8OFFlyBJdcEwKDUHA2EZ557+oaJLkKTCGQal5hEppWpvo+ob6COi6AIkqZ1hUGoujiEsY8aMGcyYMaPoMiSpEIZBqfl4yriM2267regSJKkQhkGpOdlDKEkCDINSMzMQSpIMg1KT85SxJDW5e3542Y+Bd3dyt2FQagIGwjJ22mmnokuQpJq454eXzQfe1cndhkGpSTjtTP1w2hlJNWUYlNTOMYSS1ITu+eFlc+k8DF6JYVBqKvYQlnHeeecB8LnPfa6Wm7WHUFJNbOECkiXAy1/+vnc+W8OSJBXMMYRl3HXXXUWXIElVYRiUVI6njCWpSRgGJXWm6j2Ei6+/rtqb6JU9jzq66BIkqeq2EAZ/DkwyDErNyx5CSerjujDp9LsMg1JzcwxhGWPGjCm6BEmqCL+BRFJXVP0q48XXX1fXVxnX0SljrzKWVFGGQUld5SljSeqDDIOSusNAWMbZZ5/N2WefXXQZktQjhkFJ3eUYwjIeeOCBokuQpB4xDErqCXsIJamPMAxK6ikDoST1AYZBSb1hIJSkBmcYlNRbjiEsY++99y66BEnqEsOgpEpwHkLnIZTUoAyDkirFU8aS1IAMg5IqyUBYxvTp05k+fXrRZUhSWYZBSZXmGMIyHnvssaJLkKSyDIOSqsEeQklqEIZBSdViIJSkBmAYlFRNBkJJqnOGQUnV5hjCMvbff/+iS5AkwDAoqTach9B5CCXVKcOgpFrxlLEk1SHDoKRaMhCWcfrpp3P66acXXYakJmUYlFRr3QqEEXFJRDwaEf+OiH9ExGnVKqxIy5cvZ/ny5UWXIakJGQYlFaG7PYT/A+yRUtoKeBvwpYg4sPJlSVLzMQxKKkq3AmFK6Y6U0rPtN/Ofl1S8KklqMoZBSUXq9hjCiJgVEauBu4FHgWsqXpUkNRHDoKSidTsQppSmASOBQ4GfAc92XCciPhgRLRHRMu/qq3tfZY2NHz+e8ePHF12GpCZgGJRUD3o1D2FEfAe4M6X0zc7WcR7CLnMeQqnJGAYl1YveTjszAMcQSurjlrW2DFjW2lLRaboMg5LqSZe/ui4idgCOAK4C2oCjgEn5T59y6qmnAnDRRRcVXImkWlnW2tIfeAVwIPA64PVkH3gHk/Xgx7LWlvXAcuCvwAKgBWgZNXbcE93ZlmFQUr3pzncZJ+B04DtkPYtLgI+llK6sRmFFWrNmTdElSKqRZa0tOwAfBD4KDMkXD6f8MI7+wHbAkcBhwGpgyLLWlkXADODqUWPHbTbIGQYl1aMuB8KU0hPAhCrWIkk1s6y1ZRxwDnAM2Qfeod1sYiCwdf77eOBi4LllrS3fBL45auy45R0fYBiUVK/86jpJTWVZa8uwZa0t3yI75fs2sl7B7obBckaS9R5+Grh/WWvLsaV3GgYl1bPunDKWpIa2rLXlEGA+sC0wrEqbGZL/XL6steWXwLQn/vLAyRgGJdUxA2EZRxxxRNElSKqgZa0tAZwHnEllegO7YhjwjrRhw9sGDB00fF3bc+XWMQxKqgu9moewK5yHsMuch1Cqgny6mAuBk8kuFqmplBJpQ+Lf9z3G2lUbzeNvGJRUNxxDKKnPynsGLwTeQwFhECAi6Ne/H1u/dCcGDBvcvtgwKKmuGAjLmDRpEpMm9bnpFaVmdB5Zz2C1xgt2WfTvx9Z77cSA4YOvxjAoqc44hlBSn7SsteVQajtmcIuiX6RtXrbzyyLCISKS6oo9hJL6nGWtLcOAn1JHYRAgMrsAny26FkkqZSCU1Bd9nWxqmXo0HPjEstaW/YouRJLaGQgl9SnLWlsOBt5LnfUOdjAEmJ9f9CJJhXMMYRnHHXdc0SVI6rnP8MJ3EterAHYB3gDcUHAtkmQgLOeUU04pugRJPbCstWVn4GgaY17PEcAnMRBKqgOeMi6jra2Ntra2osuQ1H1TgbqeDL9EAIcva23ZpehCJMlAWMaUKVOYMmVK0WVI6oZlrS0DgI9Q/6eLOzq96AIkyUAoqa/Yl8YbBjMEOKHoIiTJQCiprziQxjymvTTv3ZSkwngQktRXjKdK31c8aJtRjHjxngCseeJfrH70oUo2vwbYB2itZKOS1B2N+GlaksoZX41GY+BAhu3yYlLaUI3mIbu45MBqNS5JXWEPYRknnOCQHqkBvaQajY7YbQwb1q1l/co2Bm8zqiqbAA4ALqpG45LUFVUPhHsedXS1N1FxJ554YtElSOqGZa0t/YGBlW538PY7MmD4CP59310M2X7HSjdfqipJU5K6ylPGZSxbtoxly5YVXYakrhsCrKtkg/0HD2HYTrvS9q+lrF9T9XlJqzL2UZK6ylPGZZxxxhkAzJs3r+BKJHXReir87SQDt94WIhgwfCQjho+g/5Bh2fKttmFo2kDbY49UcnNrK9mYJHWXgVBSX/AsFT7jERFEBIO22nqj5f0HD2bAsBGV3BTAqko3KEndYSCU1PBGjR2XlrW2rARGVqrNtn8tpe1fS5+/PXy3PRg8avtqTDuzHni4kg1KUnc5hlBSX/G3ogvooZXArUUXIam52UMoqa9YABwM9K9G46sefpBVDz9YjaYHA4uq0bAkdZWBsIyTTz656BIkdd+tZGPxtiq6kG5aC1T0ChVJ6q5IKVV7G1XfQB9R0SskpWazrLVlN+BesiloGsmNo8aOm1B0EZKam2MIy1i6dClLly7d8oqS6saoseMeBu4uuo5uWgHMLroISTIQlnHmmWdy5plnFl2GpO77ClnIaiRXFF2AJBkIJfUlP6Nxhqk8C3xn1NhxzxZdiCQZCCX1GaPGjnsOuJAsbNW7BFxQdBGSBDW4ynjx9ddVexPdtudRRxddgqTq+TrwIbLpXOpVG/DTUWPHLSm6EEkCewgl9TGjxo57AjiN+v46uBXAR4suQpLaOQ9hGaeddlrRJUjqhVFjx12+rLVlMvAmYFDR9XSwGnj3qLHjGu3iF0l9mIGwjCOPPLLoEiT13hTgPuorELYB80eNHfe7oguRpFKeMi5j8eLFLF68uOgyJPXCqLHjngSOJeuRqwdrgFZgWtGFSFJHBsIyzjnnHM4555yiy5DUS6PGjrsZeDvFh8I1ZL2VR48aO25NwbVI0iYMhJL6tFFjx10HvJniLjJpA24HxjtuUFK9MhBK6vNGjR33B+BQ4J/UtrdwNXAZcLhhUFI9MxBKagqjxo67DXg52XcHt1V5c2uAJ4DjR40d915PE0uqdwZCSU1j1Nhxa0aNHfdx4HBgCZX/3uPnyMLgpcBLR40dd32F25ekqnDamTLOOOOMokuQVEWjxo7787LWlpcAxwBnAQeRfUDu6RQ1K/N/vw98e9TYcff3vkpJqp1IqbrfA7/4+uvq7ovm6/Sr66LoAqRmtay1ZQzwYeAdwG5kp5QHAMPKrL6BLAC2f6BuJfv+5Es9NSypURkIy7jzzjsB2GeffWpRTjsDoVQHlrW2DAHGAgfmP9uSBcN1ZBeJLAH+DCwCHhw1dlzdHeMkqbs8ZVzGF7/4RQDmzZtXcCWSai3v5ftz/iNJTcGLSiRJkpqcgVCSJKnJGQglSZKanIFQkiSpyXlRSRmf+MQnii5BkiSpZgyEZRx44IFFlyBJklQznjIuY9GiRSxatKjoMiRJkmrCHsIyvva1rwHOQyhJkppDj3oII2KviFgTEZdUuiBJkiTVVk9PGV8A3FrJQiRJklSMbgfCiDgJWA78ruLVSJIkqea6FQgjYivgPODjW1jvgxHREhEt866+ujf1SZIkqcq6e1HJF4EfpJQejohOV0opfRf4LsDi669LPS+vGJ/97GeLLkGSJKlmuhwII+LVwFHA/lWrpk7ss88+RZcgSZJUM93pITwc2AP4Z947OALoHxH7pJQOqHxpxbnpppsAeP3rX19wJZIkSdXXnUD4XeCnJbc/QRYQT69kQfXgggsuAAyEkiSpOXQ5EKaUVgOr229HxEpgTUrpiWoUJkmSpNro8TeVpJTOrWAdkiRJKojfZSxJktTkDISSJElNrsenjPuyL3/5y0WXIEmSVDMGwjL23HPPokuQJEmqGU8Zl/G73/2O3/3Or2qWJEnNwR7CMr7//e8DcOSRRxZciSRJUvXZQyhJktTkDISSJElNzkAoSZLU5AyEkiRJTc6LSsr4+te/XnQJkiRJNWMgLGOXXXYpugRJkqSa8ZRxGVdddRVXXXVV0WVIkiTVhD2EZfz4xz8G4C1veUvBlUiSJFWfPYSSJElNzkAoSZLU5AyEkiRJTc5AKEmS1OS8qKSMCy64oOgSJEmSaiZSStXeRtU30EdE0QVIkqTm5CnjMi6//HIuv/zyosuQJEmqCQNhGVdccQVXXHFF0WVIkiTVhIFQkiSpyRkIJUmSmpyBUJIkqckZCCVJkpqc086U0dbWBsDQoUNruVmnnZEkSYUwENYPA6EkSSqEp4zLuPjii7n44ouLLkOSJKkmDIRlXHPNNVxzzTVFlyFJklQTBkJJkqQmZyCUJElqcgZCSZKkJmcglCRJanJVn3YmIj6YUvpuVTdSBdWuu1GfF0mS1PfUoofwgzXYRjVUu+5GfV4kSVIf4yljSZKkJmcglCRJanK1CISNOk6u2nU36vMiSZL6mFp8l7EkSZLqmKeMJUmSmpyBUJIkqcn1KhBGxDERcU9E3BcRnypz/+CImJ/f/6eI2KPkvk/ny++JiDf1po6eiIj+EXFbRFy1mXVOiIgUEeM6LH9xRKyMiE908rhtIuLyiLg7Iu6KiNd1uP+TEfHX/OfvEbE+Ikbl902PiDvy5fMiYkgl9leSJKkzPQ6EEdEfuAA4FtgHmBQR+3RY7f3A0ymllwIzga/kj90HOAl4JXAMMCtvr5Y+CtzV2Z0RMTJf509l7v4/4NebafsbwG9SSq8A9uu4nZTSV1NKr04pvRr4NLAgpbQsInYFPgKMSyntC/Qne54kSZKqpjc9hAcB96WUFqeUngN+ChzfYZ3jgR/lv18OHBkRkS//aUrp2ZTSA8B9eXs1ERG7AW8Gvr+Z1b5IFmDXdHjs24EHgDs6aXtr4DDgBwAppedSSss3s51JwLyS2wOAoRExABgGLN3MYyVJknqtN4FwV+ChktsP58vKrpNSWgc8A2zXxcdW0/nAWcCGcndGxAHA7imlqzssHwH8F/CFzbQ9BngCuCg/Jf39iBjeyXaGkfWQXgGQUnoE+BrwT+BR4JmU0m+7sV+SJEnd1nQXlUTEW4DHU0qLOrm/H9kp4TPL3H0uMDOltHIzmxgAHABcmFLaH1gFbDK+MvdW4I8ppWX5trcl6z0dA+wCDI+I92xxpyRJknphQC8e+wiwe8nt3fJl5dZ5OD8FujXwVBcfWy2HAG+LiOOAIcBWEXFJSqk9eI0E9gX+kJ3dZifgyoh4G3AwcGJEzAC2ATZExJqU0rdL2n8YeDil1D728HI6D4QnsfHp4qOAB1JKTwBExM+A8cAlvdlhSZKkzelND+GtwF4RMSYiBpGFmys7rHMl8N789xOBG1I2E/aVwEn5VchjgL2AP/eili5LKX06pbRbSmmPvOYbSsIgKaVnUkrbp5T2yNe5BXhbSqklpXRoyfLzgf/uEAZJKT0GPBQRL88XHQnc2bGOfKzhBOCXJYv/Cbw2IoblYy2PZDMXvkiSJFVCj3sIU0rrIuLDwLVkV8POSSndERHnAS0ppSvJLqy4OCLuA5aRXzGbr3cpWVBaB5yRUlrfy33plQ5199Z/Aj/Og/Ji4NSI+BBASuk7+TrvAH6bUlrV/qCU0p8i4nLgL2TPy234FXeSJKnK/Oo6SZKkJtd0F5VIkiRpYwZCSZKkJmcglCRJanIGQkmSpCZnIJQkSWpyBkJJkqQmZyCUJElqcgZCSZKkJmcglCRJanIGQkmSpCZnIJQkSWpyBkJJkqQmZyCUJElqcgZCSZKkJmcglCRJanIGQkmSpCZnIJQkSWpyBkJ1WUTsExEtERE9eOx/RsRXNnP/HhGRImJlRHywd5X2bRExOH+e1kbEl4quR1L98rjdGOrhuN70gTAiHoyIozose19E3FRUTdUQEedGxCW9bOaLwNdSSilv8/yIeDoibo6I3Uq29e6I+GaHx34PODkidtjCNrZJKX23Q+1jImJDRFzYy/qrLiKmR8RjEfHviJgTEYM3s+6REXF3RKyOiN9HxOiS+2ZExEN5O0si4uz2+1JKz6aURgA/rvLuSD2SHwNa8j9wj0bEryPi9fl95+Yh4l0l6w/Il+1Rsmx8RNwQESsi4pmI+FVE7JPfd3Le9sqIaMuPD+23V9Z8h6vE43b1RcS+EXFtRDwZEakL6383Iu7J9+193WkrD9DX5M//YxHx7YgYAPVxXG/6QFhtEdG/w+0B3Xz8Ftfvbps9ERE7A28AfpHfPgg4ENgJuAn4VL58a+CTwGdKH59SWgP8Gpjcg81PBp4GJm4uYBUtIt5E9jwcCYwG9gS+0Mm62wM/Az4LjAJagPklq/wAeEVKaStgPNlB+T+qV71UGRHxceB84L+BHYEXA7OA40tWWwZ8oePxsaSN1wG/BX4J7AKMAW4H/hgRe6aUfpxSGpH/AT0WWNp+O1/W233wuE1zHLeBtcClwPu7uP7twDTgLz1oaxbwOLAz8GpgQt5WXTAQ9kBEvCIirouIZfknhdJPuj+MiAvzTwGrgDfkvZD/FRGtwKr80/DbIuKOiFgeEX+IiL1L2thk/TI1pIg4IyLuBe7Nl32jpFdpUUQcmi8/Bjib7I25MiJuz5dvHRE/yD/BPxIRX+rsAA0cDfwlP0BAdoC+KaX0LPA7svAD8GXgqymlf5dp4w/Am7v0JL+wn0F2YPkM2ZvtrfnyiRHR0mHd6RFxZf77dnmPwr8j4tZ836rd6/te4AcppTtSSk+TfTJ/Xyfr/gdwR0rpsvw5PRfYLyJeAZBSuieltKpk/Q3AS6tWuVQBebA4DzgjpfSzlNKqlNLalNKvUkqfLFn1N8BzwHs6aWoGMDel9I2U0oqU0rKU0meAW8jeKz2pzeO2x+1N5MfaHwB3dHH9C1JKvwPWlLlvS22NAS5NKa1JKT1G9j54ZQ9LrzgDYTdFxHDgOuAnwA7AScCsyE9l5N5N9gYbSfYpDGAS2ZtqG7I34TzgY8CLgGuAX0XEoJI2nl8/pbSuk3LeDhwMtG/7VrJPHaPy+i6LiCEppd+QfVqfn3+C3i9f/4fAOrKgsT/wRuC0Trb1KuCektt3AIdGxFCyHrE7ImIc8PKU0k86aeMuYL9O7uvM64HdgJ+SffJ6b778V8DLI2KvknXfTbbfABcAq8g+Cb+35HFbFBGvzw/4nf28vpOHvpLs02O724EdI2K7La2bh7/7KTk4RMSnIjv99TAwvGTfpHr1OmAI8PMtrJfIesc/HxEDS++IiGFkveKXlXncpWQhp1s8bj/P43axzgdOiohhEbErWe/2b4ot6QUGwswvSv/jkHXrduYtwIMppYtSSutSSrcBVwDvLFnnlymlP6aUNpR8MvtmSumhlFIbMBG4OqV0XUppLfA1YCjZQZAy63fmf/JPzm0AKaVLUkpP5XV9HRgMvLzcAyNiR+A44GP5p/jHgZlkB8pytgFWtN9IKf093+9byE4JzQC+CXwkIj4SETdGxI8jYpuSNlYAW29mf8p5L/DrvMftJ8AxEbFDSmk12emkSfn+7AW8Argy/7R8AvD5lNLqlNKdwI+6usGU0k0ppW0289PZJ9YRwDMlt9t/H9mFddvXf37dlNL/5rcPAC4us75Ub7YDntxMGHpeSulK4Ak2DTOjyP42PVrmYY8C2/egLo/beNzu5j5Uw41kH/r/TfZBv4X8dH49MBBm3l76H4fNn9MfDRzcIUCeTPaJpt1DZR5XumwXYEn7jZTShvz+XbfQxubaJCI+ERF3RTYAeznZm7izg+doYCDwaMl+zCb79FzO03QINimlmSml/VJKE4F3kf1n7wd8kOzT513kY1RyI+lGqMk/xb6TfJBtSulm4J9knyghO9BMyn9/N/CL/IDzImAAGz8/XXk+e2slsFXJ7fbfV3Rh3fb1N1o3ZW4D2uhkPKJUR54Cti93urQTnwHOIetVbPc02RCJncusvzPwZA/q8rj9Qt0etwsQEf3IegN/RnbGZ3tgW6DTq7hrzUDYfQ8BCzp88hiRUjq9ZJ1yVyqVLltK9sYGnh9vsTvwyBba6LTNfNzJWWRv8G3zYPsMEB3XLdmPZ4HtS/Zjq5RSZ+MZWoGXlbsj/9T6QbKxQ/sCrfkn6FuBsSWr7s3Gp1S35B1kIWlWZFdkPUZ28G0/jXAd8KKIeDXZAab9tMMTZKdUditpa/eubjQiDo2SKxbL/BzayUPvYONTK/sB/0opPbWldfNTWi+h87EnA/L7pXp2M9lx5e1dWTmldB1wHyUfwvPhEzezce9du3eRjX3rLo/bHXjcrrlRZL2y307ZFcVPAReR9fjWBQNh910FvCwiTomIgfnPa6JkcHEXXAq8ObJpRwYCZ5K9yRf2oq6RZG+mJ4ABEfE5Nu6B+hewR/4phZTSo2RX8X09IraKiH4R8ZKImNBJ+9cBB0TEkDL3/R9wbv4p7wHgNRExAjgcWFyy3gSyK9a66r3AHLJxMK/Ofw4hu/jiVfnB6zLgq2RvtuvyfVtP9ins3HysxivoxlVyKaX/l0quWCzz8/86eehc4P2Rzfu1DVnvxw87WffnwL4RcUL+nH6O7IB8d/5aTI2IbSNzEHAGPftDKNVMSukZsv/LF0TE2/P338CIODYiZnTysHPIQlGpTwHvzU9jjszfC18iG6PYk55yj9ub8rhNFuzz52dQfntIbH66sEH5+gEMzNfvt6W2UkpPkj3Pp0d2gdI2+XPV2tV9rDYDYTellFaQDeI9iewT42NkXb5dvqw+pXQP2dV13yI7/fFW4K0pped6Udq1ZN3R/yA7rbGGjbvb2wdoPxUR7ZfLTyb7j3sn2amFyyl/moaU0r+AG9h46ggi4giyAdQ/z9f7M3B1vu03AP+brzeE7JNQl8aERDbg9kjg/JTSYyU/i/L9bP+0+RPgKOCyDuOWPkx26uUxsvF388gO3u3t3xERJ3ellq5K2SDwGcDvyU6RLAE+X26bKaUnyMbLfJnsuT+YjccBvYPsIpMVwCVk/1e+Vcl6pWrIx8F9nOwD0RNkx4IP08lYqZTSH4E/d1h2E/AmsqvxHyV7L+0PvD6ldG8PavK4XcLj9kZGkw3JaT8700bJhTiRzaF5dsn6v83XGQ98N//9sK60Rfb/+Riy98V9ZFdgT6/gvvRKpNSVHm4pm/Ge7MBwUOrmf5yI+E9g95RSx56A9vtHk71x1gCfTCl9r7f1dmj/K8BOKaUuX7VWr/JPnP8iG0s0I6Xk2EJJZXncbgz1cFw3EKpPyk83DAL+BryGbIqI01JKvyiyLklSeR63i1X1mdKlgowkO92wC9mnrq+TTXcgSapPHrcLZA+hJElSk/OiEkmSpCZnIJQkSWpyVR9DOHLoqLR+w9r8Vjy//PnfosyykluxyZ3RpfU6rrXJ2rHR6p20XVpeua2+sFL5reXrdbqP5Wsqt16UL3jT9iLKLo9OCoxONrppu5u+ep08NR2em42XbHpf59srU+FG93X+mDKP6uxmJwV1tm8brxCd7s9Gi6OTO8vV1KUntfz7p/y6Jfu06X+qLm6rsye8KzUEt99517UppWM6ebRqzGMym9nH8jWVW89j8qb3Vf2YXMPj8abb7PvH5KoHwvUb1rLXzgdmZUQ/+rX/x42gX/Qjnn+zZLdfuK99eb8Otztbb+P2+kU8/6R1db1+EWXW7ayN2LiNje5jo8c8vx4dH8NGNWzuvhfqoIttvLBeVscLNUWw0b5s1EaH7XR8XOl60el9Gy8vbbPcfrT/Xq69Tert+Lh+W26DjvvVb/Pbav89f9E2qbP9dyI22X7pfVCyrbI1v3BEj/Ya+3W4nb1Izz+GDs8p/TqsV1ITm20joJM6Nl4enWyrzHZK9rnkiWS7/V7Tk++eVZV4TPaY3LDH5Gofj7MXoGTbzXVM9pSxJElSkzMQSpIkNTkDoSRJUpMzEEqSJDU5A6EkSVKTMxBKkiQ1OQOhJElSkzMQSpIkNTkDoSRJUpMzEEqSJDU5A6EkSVKTMxBKkiQ1OQOhJElSkzMQSpIkNTkDoSRJUpMzEEqSJDW5SClVdwMRvwG278Kq2wNPVrWYYrl/jc3967knU0rHVKltdVM3jsm11tffY51pxv1uxn2G+tnvssfkqgfCroqIlpTSuKLrqBb3r7G5f1J1Nev/wWbc72bcZ6j//faUsSRJUpMzEEqSJDW5egqE3y26gCpz/xqb+ydVV7P+H2zG/W7GfYY63++6GUMoSZKkYtRTD6EkSZIKUJVAGBHHRMQ9EXFfRHyqzP2DI2J+fv+fImKPfPnREbEoIv6W/3tEyWMGRcR3I+IfEXF3RJxQjdq7okr7Nylf3hoRv4mIwqaF6MX+HRQRf81/bo+Id3S1zVqq9P5FxO4R8fuIuDMi7oiIj9Z4lzrWX/HXL7+/f0TcFhFX1WhX1Ed04f/kzJL/e/+IiOUl960vue/KmhbeCxExJyIej4i/d3J/RMQ38+ekNSIOKLnvvRFxb/7z3tpV3Ttd2OeT8339W0QsjIj9Su57MF/+14hoqV3VvdeF/T48Ip4p+X/8uZL76uZvIymliv4A/YH7gT2BQcDtwD4d1pkGfCf//SRgfv77/sAu+e/7Ao+UPOYLwJfy3/sB21e69qL2DxgAPN6+T8AM4NwG3L9hwID8953zfRrQlTYbfP92Bg7Il48E/tGX9q/kcR8HfgJcVcS++dOYP919/wP/Ccwpub2y6H3o4X4fBhwA/L2T+48Dfg0E8FrgT/nyUcDi/N9t89+3LXp/KrTP49v3BTi2fZ/z2w9S0N/1Guz34eWOm/X0tzGlVJUewoOA+1JKi1NKzwE/BY7vsM7xwI/y3y8HjoyISCndllJami+/AxgaEYPz21OA/wFIKW1IKRU1uWM19i/yn+EREcBWwFKK0Zv9W51SWpcvHwK0D1DtSpu1UvH9Syk9mlL6S/77CuAuYNcq70dnqvH6ERG7AW8Gvl/V6tUXdff9PwmYV5PKqiildCOwbDOrHA/MTZlbgG0iYmfgTcB1KaVlKaWngeuAhpjYfUv7nFJamO8TwC3AbjUprMq68Fp3pp7+NlYlEO4KPFRy+2E2/eP4/Dr5H6BngO06rHMC8JeU0rMRsU2+7IsR8ZeIuCwidqx45V1T8f1LKa0FTgf+RhYE9wF+UPnSu6RX+xcRB0fEHWT78qH8/q60WSvV2L/n5adf9wf+VI3iu6Ba+3c+cBawoWqVq6/q8vs/IkYDY4AbShYPiYiWiLglIt5etSprr7PnpZ6Ol9X0frIe0nYJ+G1kw6k+WFBN1fS6fCjOryPilfmyunqt6/KikvzJ+gowNV80gOyTxMKU0gHAzcDXCiqv1zruX0QMJAuE+wO7AK3ApwsrsBdSSn9KKb0SeA3w6YgYUnRNlbS5/YuIEcAVwMdSSv8uqsbeKLd/EfEW4PGU0qKCy1PfdxJweUppfcmy0Sn7dod3A+dHxEuKKU2VEhFvIAuE/1Wy+PX53/djgTMi4rBCiquOv5D9P94P+Bbwi2LLKa8agfARYPeS27vly8quExEDgK2Bp/LbuwE/ByanlO7P138KWA38LL99Gdn5+iJUY/9eDZBSuj9lAwsuJRtrUYRe7V+7lNJdwErysZJdaLNWqrF/7aH+CuDHKaWfUZxq7N8hwNsi4kGyUxpHRMQl1ShefVJ33v8n0eF0cUrpkfzfxcAfyD449wWdPS/1dLysuIgYSzb05PiU0vPHnZLX+XGyv5EHFVNh5aWU/p1SWpn/fg0wMLILR+vqta5GILwV2CsixkTEILI3eMcrw64E2q+cOhG4IaWU8lPDVwOfSin9sX3lPCT9imxgJsCRwJ1VqL0rKr5/ZP8B9omIF+W3jyYbh1aE3uzfmDxgtJ/6eQXZQOGutFkrFd+/fNznD4C7Ukr/V5O96FzF9y+l9OmU0m4ppT3y9m5IKb2nFjujPqFL7/+IeAXZRRQ3lyzbtn0cef4H9BCKO/ZX2pXA5Mi8FngmpfQocC3wxnzftwXemC9reBHxYrKOnVNSSv8oWT48Ika2/062z2Wv2G1EEbFT/neCiDiILHs9RX39baz8VcZZduM4sist7wfOyZedB7wt/30IWS/ffcCfgT3z5Z8BVgF/LfnZIb9vNHAj2enU3wEvrkbtBe7fh8hCYCtZ+N2uAffvFLKLZf5K1kX+9s212Vf2D3g92fiX1pLX9bi+sn8d2j4crzL2p5s/W/o/md8+F/jfDo8bTzae9fb83/cXvS/d2Od5wKPAWrKxYe/Pj/Mfyu8P4IL8OfkbMK7ksVPy9+d9wKlF70sF9/n7wNMlx8mWfPme+Wt8e34MKvRvRBX2+8P5ft1OdjHN+JLH1s3fRr+pRJIkqcnV5UUlkiRJqh0DoSRJUpMzEEqSJDU5A6EkSVKTMxBKkiQ1OQOhJElSkzMQSpIkNTkDoSRJUpP7/wyWJ/iAVatMAAAAAElFTkSuQmCC\n",
          "text/plain": "<Figure size 792x648 with 5 Axes>"
         },
         "metadata": {},
         "output_type": "display_data"
        }
       ]
      }
     },
     "a35c8c0800444929b29e3fef84ae3d80": {
      "model_module": "@jupyter-widgets/controls",
      "model_module_version": "1.5.0",
      "model_name": "DescriptionStyleModel",
      "state": {
       "description_width": ""
      }
     },
     "a3ba395577504f979dc42b130f7954c2": {
      "model_module": "@jupyter-widgets/base",
      "model_module_version": "1.2.0",
      "model_name": "LayoutModel",
      "state": {
       "align_items": "center",
       "display": "flex-inline"
      }
     },
     "a57d31e414304908aed9a45a9a6a7627": {
      "model_module": "@jupyter-widgets/base",
      "model_module_version": "1.2.0",
      "model_name": "LayoutModel",
      "state": {
       "margin": "295px 0px 0px 0px",
       "min_width": "100px"
      }
     },
     "a6def0d443e34bebb3709d5dbdd676e0": {
      "model_module": "@jupyter-widgets/output",
      "model_module_version": "1.0.0",
      "model_name": "OutputModel",
      "state": {
       "layout": "IPY_MODEL_d356792bc30f432498ee6d1ff49f8d58",
       "outputs": [
        {
         "data": {
          "image/png": "iVBORw0KGgoAAAANSUhEUgAAAR4AAAEeCAYAAABcyXrWAAAAOXRFWHRTb2Z0d2FyZQBNYXRwbG90bGliIHZlcnNpb24zLjUuMSwgaHR0cHM6Ly9tYXRwbG90bGliLm9yZy/YYfK9AAAACXBIWXMAAAsTAAALEwEAmpwYAAAVWUlEQVR4nO3de5QmRX3G8e/s7G12diHeL6sSUVnuyHIRFyPKGjTIGvUgyIHEcEyphKilAl4wgIB4IcbyBEyk9AiEBAUTIyAHMKAkB1DkEuXOLhsJYJTDfXfe2fubP6oHltllmeHt/lW/U8/nHP5hdrt+W9P9dHV1dfdAt9tFRMTStNwFiEh5FDwiYk7BIyLmFDwiYk7BIyLmFDwiYk7BIyLmFDwiYk7BIyLmFDwiYk7BIyLmFDwiYk7BIyLmFDwiYk7BIyLmFDwiYk7BIyLmFDwiYk7BIyLmFDwiYk7BIyLmFDwiYk7BIyLmFDwiYk7BIyLmFDwiYk7BIyLmFDwiYk7BIyLmFDwiYk7BIyLmFDwiYk7BIyLmFDwiYk7BIyLmFDwiYk7BIyLmFDwiYk7BIyLmFDwiYk7BIyLmFDwiYk7BIyLmFDwiYk7BIyLmFDwiYk7BIyLmFDwiYk7BIyLmFDwiYk7BIyLmFDwiYk7BIyLmFDwiYk7BIyLmFDwiYm567gLazAVeDuwJ7ATMI/XXCLAcuBG4K3rW56vQjgsMAK8A9gB2BLYCBkj9sYzUH0ujZ0O2Ig1V/fEq0v6xPWn/GABWAkuBG4B7oqebrcgWG+h21S8bc4GdAQ8cDMwCVgPDPBXSXdLONQDMAK4DTgcun4oh5AKvBz4JvJvUB2uAucBg9UfG+mNa9fOrgb8FrpyKIeQCewGfAg4i/ZvXkvaPsf7YQOqPwernPyXtH1crhJ6i4Km4wH7A10lnrxlMbjS4AhgFTgXOnAoHnAscAHwN2JYUwINb/htP6pJGQSuAE4FvT4UDzgWWkAJ1PjDExKcpxvrjUeBzwD9Phf7oVfHB4wLDpMA5grRD9WIEuBs4NHqW9lpbDi6wNXAG8F5gTo+bGwFuAd4fPff2WlsOLvB84CzgT6inP64Hjoie3/ZaWz8rOnhcYCfgP4Ct6T10xqwnXY4cFT3n1LRNEy6wELicdCk1u6bNriNdrv5F9Pygpm2acIFFwCWkwJlV02bXkvrj0Oi5tKZt9p1i72pVB9m1wEuoL3QgXZIMAd90gY/XuN1GVQfZ1cALqS90IF2yDgPnusCRNW63US6wGPgJ8DzqCx1Il/FzgR+4wCE1brevFDnicYHtgZ+TRjpN6gB/HT3fbbidnlQTyP9FOiCa1CGNfC5suJ2euMA+wJX0fmn1bEaBg0sc+RQXPC4wE7idNGk6YNDkKLBX9Nxm0NakucAc0u3fl2HTHx1gl+hZbtDWpFVzXMtIIz8LK4EFpc35lHipdRJ2BxmkYfqFLrR2zdTppMsJy/74vgut3ffOoPmR38ZmAedV64KK0dZffiNcYFfSGp2mh9Abm0ZaaHasYZsT4gJvBI6k3jmuZzMI7AAcZdjmhFTzOu+l3jmuZzMD2Bs43LDN7IoKHuAE6p0onKhh4DMuZGl7S07G9iAbMwyc6MKE1wZZ+RK2J6Uxw8AXSxr1FBM8LvAi4J3k+zcPkM6mreACrwLehN0l1nizSWtjWsEFdgB2zljC84E3Z2zfVDHBA3wQsq4YnQd8OmP74x1FvtCB1B/HZWx/vI+R99nFYeCYjO2bKil43oftXMbm7OiC6cTllryXPJedG9vHBWZkrmHMEshaywCwuJTLrSKCp/pl7pC7DtKt5N1zF1EtKXh17jqAVaQn/7NygXnAi3PXQXrA9DW5i7BQRPCQfplteHBzNum1ErntRDroc5tGO/pjd9JJIbf1tKM/GlfEAkIXOBD4F5pfqSzSiw3ASdFzSu5CmlbKiGeIvBOpIhMxjTTJPOWVEjxTf1gnU0UbpgQaV0rwdFD4SPutJ72zZ8pr6/NDdbuDvLdKx4wCx0bPmTmLqF7veh22zyRtzkrg6Og5N2cR1aMjl5HeI53TCGlfnfJKGfH8L+0Y8awlvQQ8tzuBmbmLqNyYuwDgV+R5VGK8GbRj/2hcEcFTveP217nrIO3c2euInnXQilezziSFYFbR0wEeyF0H6VLrvtxFWCgieCrnk//6+froGc1cw5jvQdZausBVLfoyx4WkV5Lmsh74cSkvgi8peM4l7793BfCVjO2PdxZ5lxiMAF/N2P54Z5D3cnwV6SsWRSgmeKLnceACyHaGXQ38OFPbm4ieB0kTqrlu3z4G/CxT25uovoJxbcYS7o++jPkdKCh4KqeSZzg9Any+RZcVY04gX38c18LLis+S5/KzQ0FPpkNhwRM9y4C/wXauZx1pQvkswzYnJHpuIb361LI/1gDXkOaYWiV6rge+he1zW6uBS6PnEsM2sysqeCrfIN3RWWfU3mrgsBae3cecSrqjY3XJtRr4QIv747PAQ9jN93SADxu11RrFBU91ubMEeITmD7ZRUui09iua0bOW9CbAx2j+YOsA74me3zXcznMWPauAdwBPGDTXAQ6KnkcM2mqV4oIHIHruB/YFHqa5kc8o6RtSFze0/dpUn5p5M+n73k2FcYf09cwrG9p+baLnDmB/4HGaC+MRYEn0WSe0synitRjPxAVeQfpk7zbU91TwGtKt0UOj57KatmnCBV5D6o+XUd9K3tU8NdK5uqZtmqjew3wZ6RtbdfXHKtKjIgdFzy9q2mbfKXLEM6Ya+exG+rrAKL2f7UdIn719Xb+FDkD03APsCARSf/R6VuoAFwOv7bfQgSdHPgtINwbquNvVIS3peE3JoQOFj3g25gI7AqcBbycdcBN9P/N60ll9OXBC9PywmQptVZ81Pg14K2mh4UTfz7yO9EzanaQlBFPi87wusDfpBLWIdMKe6LNua3nqzubx/XCpaUHBM44LvBT4EPBnpEuwUdKONkg6ANeTdqQ5pAnqy4EQPTdnKbhhLjCf9EWKw4BXkvpj/FPcj5P64yHgUlJ/3GpZpxUX2AY4GjgEmE8axQxW/8HT94/fA5eQ+uMu+2rbS8GzBdUH+Hau/hsm7VyrgHuAm6LnsXzV2XOB2cAuwPXjfvQW4OboTe4EtYYLDJEu1XcgBc00UhDdDfx39KzIWF6rKXhk0lx4+txP9HqtrExO0ZPLIpKHgkdEzCl4RMScgkdEzCl4RMScgkdEzCl4RMScgkdEzCl4RMScgkdEzCl4RMScgkdEzCl4RMScgkdEzCl4RMScgkdEzCl4RMScgkdEzCl4RMScgkdEzCl4RMScgkdEzCl4RMScgkdEzCl4RMScgkdEzCl4RMScgkdEzCl4RMScgkdEzCl4RMTcQLfbzV2D9AEXGAS2A/YEzh33448ANwC3Rs9q69qk/yh45Bm5wADwJuAY4O3AWqALzBv3RzvAOmAIuAn4KnBR9Kyzq1b6iYJHNssF3gN8DXgRMAwMTOKvryAF0WnA16Nnff0VSj9T8MjTuMALge8Ai0mB04sRYDlwSPTc2WttMnUoeORJLrAIuBSYDcyqabMbgNXAX0XP2TVtU/qc7moJAC6wGLgC2Jr6QgfSPjYEnOkCH69xu9LHNOIRXOANwFXAnIab6gBHa+QjCp7CucA84B7SJLKFUWCh5nzKpkst+QYw17C9WcAF1bogKZSCp2AusB9wKGkOxso0YFvAG7YpLaPgKdvJND+vsznDwPEuMD1D29ICCp5CucC2wN4ZS5gOLMnYvmSk4CnX0eT9/c8DPp2xfclIwVOudwEzM9ew0IVa1wxJn1DwFKg62LfJXQfp1vrOuYsQewqeMu1MOuhzmw7skbsIsafgKdPrmNzT5k2ZA2yfuwixp+Ap02zaETxgu3hRWkLBU6Y2PSejd/UUSMFTphHS6ypy6wJP5C5C7Cl4ynQb7fjdrwRuyV2E2GvDzif27gZm5C6CNM90Q+4ixJ6Cp0DVO5Dvzl0HKfzaUIcYU/CU6zzSi7ly2QBcHn0r5prEmIKnXN8h7++/A5yesX3JSMFTqOh5GPgR+W5nPwhck6ltyUzBU7YTgTUZ2u0Ax0TfqvVEYkjBU7DouYv0MrARw2ZXAz+Jnh8atikto+CR00kf3bP63PAq4C+N2pKWUvAUrrq1fiDwCM2vZh4BDoyehxpuR1pOwSNEz/3AvsDDNDfyGQHeFT3XNrR96SMKHgEgepYBC4E7qHfOZ5R0B2tx9FxV43aljyl45EnVyGd34FRSYPR6q70DnA+8Nnp+0eO2ZArRl0Rls1xgAfAF4E9Jcz8T/QzOmurP/wI4MXqubqZC6WcKHtkiF3gB8EHgcGABsJZNX971BOmjgL8BLgbOiJ7/MSxT+oyCRybMBaYB25HmgTa2B3Br9FkWI0ofUvDIpLnw9BXH0bfmNarSJzS5LCLmFDwiYk7BIyLmFDwiYk7BIyLmFDwiYk7BIyLmFDwiYk7BIyLmFDwiYk7BIyLmFDwiYk7BIyLmFDwiYk7BIyLmFDwiYk7BIyLmFDwiYk7BIyLmFDwiYk7BIyLmFDwiYk7BIyLmFDwiYk7BIyLmFDwiYk7BIyLmFDwiYk7BIyLmFDwiYk7BIyLmBrrdbu4aWskFZgE7A3sCuwPPAwaBEeA24Ebgpuh5NFuRhlxgNrArsAfwzXE/Poan+uMJ69pycIEhYDfS/vF6YCtgAFgJ/Bq4Abg5elbmqrHNFDwbcYFpwGLgWOAtwCgwHZgz7o+uqX42B/gN8FXg/OgZsarVggsMAm8HjgMW8cz9sRpYVf3/paT+uCB6Ru2qbZ4LTAfeSeqPvYEOMAMYGvdHN+6P20n98a/Rs9qu2nZT8AAuMAAcAvwd6cw1TDp7TdRK0mXrmcAJ0bOq9iINVf3x56QDZgiYN8lNjJ3lA3BK9Kyprzp7VX98CPgiMJPJ98cKoAt8GTg9etbVW2H/KT54XOAlwNnAH5ECpxcd4GHgkOj5eY/bysIF5gPnAXtRT3/8H/C+6Lm519pycIE/BM4HdqH3/hgB7iXtH7f1uK2+VvTksgvsC9wN7E/vOxWkofUrgatc4HM1bM+UC7wNuBPYl/r6Y1vgGhf4aA3bM+UCS4BbSfM4dfTHMLA98EsXOLKG7fWtYoPHBfYHriBdWs2sefNDwPEu8JWat9sYFzgI+BEwlzRvUZcBUn982QWOr3G7jXKBQ4Dvk8Jieo2bnkbqjzNc4GM1brevFHmp5QJ7A1dRz1lsSzrAF6PntIbb6YkL7AdcyqaTxnXrAMdFz5kNt9MTF3gH8G9sOmlct1HgI9FzbsPttE5xweMCw8Ay4KVGTY4C+7d1zscFnkfqj+cbNTkK7BM9vzZqb1Jc4MWkO3NbGTU5CuwWPUuN2muFEi+1vg5sbdjeEHBBtQ6mjf6B5kd+G5sNXOhCrZdztajuXp0Npr+rmcD3q6UcxSjqH+sCi4DDaX4IPd4LgC8Yt/msXOCPgSXALMNmB4D5pLUwbfNu4M3UP+e3JYPAdsDRhm1mV1TwACdgHzqQ5k6Ori7z2uQLND+vsznDwLEumB7gE3EKtqO/McPA50sa9RTzD3WBVwD7MbmFgXXqAu/P1PYmXGA70lL/XKaRRhit4AILgVdnLGGItEq8CMUED/CRzO3PpV2XFx+l3tvEkzWPdvWHx/aSc7x5pEd1ilBS8LwL20nDzXm1C/xB5hrGHEi963Wei11bNOl+AGm+JadF1fNxU14RwVP9MrfLXQdpHcvC3EVUB/urctdBupW8S+4iqiUFVssJtmQt7dhPG1dE8AALSL/U3IZIr5XIbVdSCOY2nfQ4Qm4LaUd/dGnH/tG4IhYQVo8DnIft+h2RyeoCJ0XPybkLaVopI57Z5LubJTJRA+S5nW+ulOBZn7sAkQkq4l09pQTPCGkYK9Jm60gvDZvycq7jsHQreddojOkAn4ies3IW4QILSO9Izj2sXwF8OHrOz1mEC+wJXIndg6HPZOx93lNeESOe6PkttOJ9t+tILwHPbSn516xA2v9uzF0EcAt5HqUZbzbt6I/GFRE8lV/lLoC0c9+au4jo2UB602Bug6RXcmRVvYT93tx1AKPVSXLKKyl4zoGsnxrpAj9t0YvPz4GsX8XYAFxchWAbnAdZX9K/DvhBxvZNlRQ83yPvLfWVwOkZ2x/vbPJebo0CX8vY/njfytz+WtJXOYpQTPBETwf4LvlWMD9BmsBsheh5DLiQfEsNHgCuz9T2JqLnd6R3cOcagd1R0pcnigmeypfIM8k8Anwq+tbd0j+JPP0xdnevbf3xWfL0xyjwiQztZlNU8FQTdx/Fdm5jDXA1cIFhmxMSPcuBz2HbH6uAi6LnUsM2JyR6bgdOw7Y/RoF/ip7/NGwzu6KCp3IOaYhvNcm7CjiyhWf3MX8P3IHdJegIcJRRW8/Fl0l3uCxWEHeBx4BPGrTVKsUFTxUABwP30fzO1QEOjJ4HG27nOavuKh0EPEjz8z0rgQOq+aVWqj4v/A7gUZqf71kBvC36rHcXsygueACi5xHS1zLvpbmRzwiwJHquaWj7tYme3wNvJH1uuImRT5d0kB0QPTc1sP1aRc99wCLgIZo5OXWBx4G3VJd3xSkyeODJg21v4BrqvaYfJR3Ab42eq2rcbqOqg21P0srqOvujQxpdvil6rqtxu42KnmWkd+PcQv39sRx4Q79+T74OxQYPPDnyWUz6tMhKejvbd0k71bnA66Lnl71XaKsK432BY0gHWy9n+y4phM8CFrT1A35bEj33A3uRvk7SobdL0Q2k/gjAjtFzV88F9rEiXgQ2ES4wH/gMcCTpoJk7wb86ttr1Z8DJ/XRW3xIX2IZ0x+sI0kEz2f64Ajgl+lY8m9YzF3gtcDxwKKk/JvqA7Shp4eolpP7ouwBugoJnHBeYQ9q5PkD6/Mss0tqOsVXPXdKK3xnAXcBFwD9GzwPmxRpwgbmkjyAeAexG+nePrXUZIPXHdFKf3AH8O3BWtSBvynGBrUj7xmGk90UPkuYJN94/ppOuJm4nPQbx7eh5yL7a9lLwPAsXeDmwE+kMN0g6o98DLI2+rBeMVZ/4nU/qjzmkg2uU9KDnshY9d2Wi6o9XAjuSHgAe64+7gOUtXkKRnYJHRMwVPbksInkoeETEnIJHRMwpeETEnIJHRMwpeETEnIJHRMwpeETEnIJHRMwpeETEnIJHRMwpeETEnIJHRMwpeETEnIJHRMwpeETEnIJHRMwpeETEnIJHRMwpeETEnIJHRMwpeETEnIJHRMwpeETEnIJHRMwpeETEnIJHRMwpeETEnIJHRMwpeETEnIJHRMwpeETEnIJHRMwpeETEnIJHRMwpeETEnIJHRMwpeETEnIJHRMwpeETEnIJHRMwpeETEnIJHRMwpeETEnIJHRMwpeETEnIJHRMwpeETEnIJHRMwpeETEnIJHRMwpeETEnIJHRMwpeETEnIJHRMwpeETE3P8D3lu74ezIJWwAAAAASUVORK5CYII=\n",
          "text/plain": "<Figure size 360x360 with 1 Axes>"
         },
         "metadata": {},
         "output_type": "display_data"
        }
       ]
      }
     },
     "a7d8305d6db648bca1d681a5ba7f6000": {
      "model_module": "@jupyter-widgets/controls",
      "model_module_version": "1.5.0",
      "model_name": "DescriptionStyleModel",
      "state": {
       "description_width": ""
      }
     },
     "a9332dd6638644a8988f9efd5597e0e1": {
      "model_module": "@jupyter-widgets/base",
      "model_module_version": "1.2.0",
      "model_name": "LayoutModel",
      "state": {
       "justify_content": "center"
      }
     },
     "a94412de59ce435d9267f023214b0641": {
      "model_module": "@jupyter-widgets/controls",
      "model_module_version": "1.5.0",
      "model_name": "DescriptionStyleModel",
      "state": {
       "description_width": ""
      }
     },
     "a9bb5f0a6d1d4c2193e0f78eec649055": {
      "model_module": "@jupyter-widgets/base",
      "model_module_version": "1.2.0",
      "model_name": "LayoutModel",
      "state": {
       "border": "4px solid #000000",
       "max_height": "650px",
       "min_height": "650px",
       "overflow_y": "hidden"
      }
     },
     "a9fe46c97b2642a9bc836f923e7d2be4": {
      "model_module": "@jupyter-widgets/base",
      "model_module_version": "1.2.0",
      "model_name": "LayoutModel",
      "state": {
       "margin": "5px 0px 0px 0px"
      }
     },
     "aa7cbad43a58454185d96a81601de32a": {
      "model_module": "@jupyter-widgets/base",
      "model_module_version": "1.2.0",
      "model_name": "LayoutModel",
      "state": {
       "justify_content": "center"
      }
     },
     "aa8e370ca7cd46c28eab7c7e7e746323": {
      "model_module": "@jupyter-widgets/controls",
      "model_module_version": "1.5.0",
      "model_name": "VBoxModel",
      "state": {
       "children": [
        "IPY_MODEL_c26d657feb0245df90e56bd97d4bdae1",
        "IPY_MODEL_bc5446c514c849eb984e8c24fd86269f",
        "IPY_MODEL_7784e6117bae4633982df35c435b1ca3",
        "IPY_MODEL_58aee3b0efa648238b47c036a635a1fd",
        "IPY_MODEL_d28cfa786ebe47fdadc9099a9b684990",
        "IPY_MODEL_34b41f7c4f954ad3b17404e94f0b29e8",
        "IPY_MODEL_2d5681f90adc43dda18056b12192c3b9",
        "IPY_MODEL_8686e967b80b4495b5d8c554812fb555",
        "IPY_MODEL_0cb8ddb36daf4810908fbc4422e97113",
        "IPY_MODEL_3e8bb58eed9143728f6927b66d8098fc"
       ],
       "layout": "IPY_MODEL_da30d0c71bc74ad38af2a1dcdbd85db9"
      }
     },
     "ab6fdde0b48345fb90551fb6af0374a5": {
      "model_module": "@jupyter-widgets/controls",
      "model_module_version": "1.5.0",
      "model_name": "DescriptionStyleModel",
      "state": {
       "description_width": ""
      }
     },
     "abe6839b6b794c48bd9908332edcdae3": {
      "model_module": "@jupyter-widgets/base",
      "model_module_version": "1.2.0",
      "model_name": "LayoutModel",
      "state": {}
     },
     "ac953c8dab9f44bab606c437a1a5b56d": {
      "model_module": "@jupyter-widgets/output",
      "model_module_version": "1.0.0",
      "model_name": "OutputModel",
      "state": {
       "layout": "IPY_MODEL_92b340a67c454800bf305d7967e0b4e8",
       "outputs": [
        {
         "data": {
          "image/png": "iVBORw0KGgoAAAANSUhEUgAAAR4AAAEeCAYAAABcyXrWAAAAOXRFWHRTb2Z0d2FyZQBNYXRwbG90bGliIHZlcnNpb24zLjUuMSwgaHR0cHM6Ly9tYXRwbG90bGliLm9yZy/YYfK9AAAACXBIWXMAAAsTAAALEwEAmpwYAAASC0lEQVR4nO3df7BmdV3A8ffdXdhfLEiak1n+IFglBBVNEy01UgcGRZgUHc0f6WkyazyWUqkj+HtEydNokhwpMrIUE4VkQgdGKksZwAQVEyQd1JTRRoV7d5f98fTH91z2cndd7u7zPJ/vOc/3/ZphmNl793y/e+7zvO/59ZwzNxqNkKRIq3JPQFJ5DI+kcIZHUjjDIymc4ZEUzvBICmd4JIUzPJLCGR5J4QyPpHCGR1I4wyMpnOGRFM7wSApneCSFMzySwhkeSeEMj6RwhkdSOMMjKZzhkRTO8EgKZ3gkhTM8ksIZHknhDI+kcIZHUjjDIymc4ZEUzvBICmd4JIUzPJLCGR5J4QyPpHCGR1I4wyMpnOGRFM7wSApneCSFMzySwhkeSeEMj6RwhkdSOMMjKZzhkRTO8EgKZ3gkhTM8ksIZHknhDI+kcIZHUjjDIymc4ZEUzvBICmd4JIUzPJLCrck9AQ1D1TAH/ALwGOCXgUOBOWAeuAW4Dri5rdmVbZIajLnRaJR7DuqxquFRwB8Bzyb9oroLOARY3X3LCLiTtPW8BrgaeDdwpRHST2N4tFdVw9OBc4EjgLXsDs29GZG2gu4AzgI+2Nb4ItM9GB7dQ9VwGPA+4HRgw5iLmwduBJ7X1nxr3Llpdhge3a1qOB64grQrtW5Ci90BbANe0tZ8bELL1MB5VksAVA0nkI7P3I/JRQfScZ+NwIeqhpdOcLkaMLd4tHgA+d9IWzrTtEDa8rl4yuOo5wxP4aqGDcDNwANIp8enbQE4tq25NWAs9ZS7WnoXcDgx0YF0huwjVeNrr2T+8AtWNTwBeCmwPnDY1cDRwCsCx1TPGJ6yvZnJHkheqY3AWVWz4muDNGMMT6GqhgcBTyJuF2u5dcBJmcZWZoanXK8gX3QANgFnZhxfGRmecp1OOtCb069WDQdlnoMyMDwFqhoOBh6aex7AVuCY3JNQPMNTpmNIb/rcVpFus6HCGJ4ybYZefGJ8I+nePiqM4SnTevrzs9+UewKK15cXn2L1YWtnkTcLK5DhKdMC/XjDj0g3DFNhDE+ZbqIfP/vFG4WpMH148Sne14CDc0+ic13uCSie4SlQW7ODdCuM3A4mRVCFMTzl+kdgS8bxR8BVbc3OjHNQJoanXOeT97Na88A5GcdXRoanUG3N7cC/kO/s1o+Az2YaW5kZnrK9kfQEiGjzwJk+b6tchqdgbc2NpFufzgcOexfwOdIxJhXK8OitpN2eKNuAF7u1UzbDo5OA+weNtQCc1tZ8L2g89ZThKVjV8CzgYxByM64F4Iy25sqAsdRza3JPQHnsIzq3kx7sN+5z0xdtY/eWztUTWqYGzi2eAu0jOi8HfhFoSBcXjnscZgG4DDjS6GgpnyRamH1Fp625YMn3PQp4O/BU0oWGK70/8w5gO+mjEG9oay4fd86aPYanICuNzrK/80DSEymeT9oa2gIcuuzbfkzaNfsBcDnQtDVfnuDUNWMMTyEOJDp7WcY64FjgmmVfegrwxbbmJ+POU2UwPAWYRHSWLe8eL5q2zvqZLw2QB5dn3KSjI02C4ZlhRkd9ZXhmlNFRnxmeGWR01HeGZ8YYHQ2B4ZkhRkdDYXhmhNHRkBieGWB0NDSGZ+CMjobI8AyY0dFQGZ6BMjoaMsMzQEZHQ2d4BqZqeCtwCUZHA+atTweki87r9/Ilo6NBcYtnIKqGt2B0NCMMzwBUDacCf7qXL11odDREhqfnuuhczJ67xRe2NS/NMCVpbIanx5ZEZ+mB5BFwgdHRkHlwuaf2EZ2XtzV/nWdW0mS4xdNDRkezzvD0jNFRCQxPjxgdlcLw9ITRUUkMTw8YHZXG8GRmdFQiw5OR0VGpDE8mRkclMzwZGB2VzvAEMzqS4QlldKTE8AQxOtJuc6PRKPcceqlqWAUcBTwGOA64D7AamAe+DlwL3NDWbF3BsgYfnaphNbAZeCzwoWVf/j3S+vhyW7Mtem45VA1rgIeTXh+PAA4F5oA7ga8C15HWx/Zsk+wxw7NE1TAHPB74Y+AUYCewCziE9KJatADsADYANwDnAJe0NXftZZmDjU63Pp4EvAZ4BrCdNPdNy751cX2sB64nrY9L25odcbOdvm59PBV4LfAbcPfPeyP3fH3Mk14764HPA+8CLm9rdsbNtt8MT6dqOBlogJ8nvWD2Zzf0DlKg3g28c/G33MCjcxpwLvCz7PnGujd3kEL0duA9Q3/DdcF5PvBO0pbvgayPbcDZwHltza4JT3Fwig9P1XA4cB7wTNIWzDjmgW8DzwUeygCjUzXcD7gAOJH0BhvHPHAr8Ny25mvjzi2HquEBpF3LJzCZ9XETcEZbc+u4cxuyosNTNRwPfJq0K7V2QosdkXZJVnf/Lf3zvkfnBOByYB2TWx+7SL/tf7+tuXBCywxRNZxIepTQOvZ8nNCB2klaHy9pay6e0DIHp9izWt2b7GrgvkzuTQZpE/xghhedE0kRPozJro9VpF3Xv6waXjXB5U5V1XAKcCnpeNakogPpdbEBuLBqyr19bZFbPFXDI4F/J23pTNsQovN44CrG39W8NwvAK/u+5VM1PAX4FNNfH1uAF7U1H5vyOL1T3BZP1bAeuIzx99dXajvwxaCx9lvVsIm0Pqb9JqMb4/1Vw8MDxjogVcPPAB8nZn2sJ235PCRgrF4pLjzAO0i7V/tzVmIcBwEXVw0HB423v/6CmC2/RWuBj3bXBfXR+cREZ9Fa4MPdmbNiFBWequGxwO8S+8KaAx4AvCFwzBWpGp4MnEH6zRtlFXAEUAeOuSLdJRUnMdljXPdmDekC1ZcHjpldUeEBziKdoYi2AXh1t5vXJ28mNsKLNgKv767+7ZO3kW99nN1dLV+EYv6hVcPPAU8jbhdrb56Tcex7qBqOAB6XcQprSNdO9ULVcCzwsIxTOJR07VQRigkPaRcr5ym8Q4A/yTj+cq8k789/E/1aH69isqfN99dG0kdTilBSeE4jz27WUkdVDYdmnsOiZ0H2A97HV03o8ZR9OZm8T9adA369lN2tIv6R3Q/z6NzzIF3H8ujck+je7A/OPQ/SdSyPyD2JquEw4H6550G6qvnI3JOIUER4SLe36MMnpdeRbqOQ2yNIb/rc1tCP9fFo0i+F3HbRj/UxdX07qzAtR9KP8KwlnTrN7SjyHmRftAH4QNXwgdwT6YlDSD+bmVfKFs86+vFGg7grpvelT+tDu83Rj9fH1JUSnhF5z2gt1Yd7sfRlXWhPg7530UqVEp753BNY4se5J0BaH30IoO5pB+nWqTOvlGM8XyX/qWNIBzCvzz0J4Cv045fOHaT79FyUcxJVw+OAz0D2Sx3mST+bmdeHF1+Eb9OPg8s7SDcBz+3r5L1YbtEc6Sbxud1Ano9KLLeWfrw+pq6I8LQ1I9KLK7f1wI25J9HdA/nruedBil/2eXRPCrkt9zxIN4//Tu5JRCgiPJ2/I//+8+dW8jicIBeR99qVXcAVPbrx+Ych689mB/DJ7pfkzCspPH9P3n/vHaTHvvTFBeRdHwukx770xXmZx78L+PPMcwhTTHjamjtJv+VzPWBtAbgi09h7aGt+CHySfKdvbwc+l2nsPbQ13wE+S75LDb7R1vxXprHDFROeztthz4fuBZgHzuzRbsWis8izPhaA1/Rwt+LPyLO7tUB6iGQxigpPW/Mt0lMgI6/r2Q5cQzrG1CttzX+TbgYWuT62AZ9pay4JHHNFui2O9xB77Gsr8E9tzWcCx8yuqPB0/op0Zilql2sb8MIe/nZf9C7SQ/eiLjfYSr9v8/km4k5CjLqx/iBovN4oLjxdAE4Fvs/0j28sAM9ua7475XEOWHdq/WTg/5j+1czzwMltzQ+mPM44fhu4f9BY88DT25qfBI3XG8WFB6CtuR04Afge09vyWSA9qvbKKS1/YtqabwNPBH7I9LZ85oFntTX/MaXlj61qeBnwwYChRqSznM9o6/4++miaigwPQFtzG+neJ19issc4tpK2Hk5ua/55gsudqrbmFuB40rO9J7k+tpDOYJ3Y1lw1weVO1E+JznbSBX2TXh/fBX6tzxGetmLDA9DWfB94PPA60hbKuLteC8AngF9qa64ec1nhui2fRwNvJb1BJrE+/gE4sq35wpjLmpp9ROe3gIcC55LWxzi7oqNuGRcAm9uaL42xrMEr8hHGe9M9deFs0pMgdrLy+6LcRXpBXg+cPStnJ6qGh5EOtJ5K+vet9LNMi+vjC8BZfQ/wvqLT1ly65PuOJa2Pk0gRWemjirZ13/+vpPXx+bEnPQMMzzJVw32AF3f/HU2K0E52bx0u3ttnPenzPZ8C3tvW3Bw+2QBVw32BlwEvID3+ZTspLHtbH98kPQ75fW3N/4RPdj+tNDrL/s79gQp4HrCZ3aFduj4g3WztVuAS4P3drr06hmcfupvEH0m6R/FGYDXpGM43gBt79LmrEN362AwcQ1ofq0i7DzcDX27rLBcjHpADic5elrEaeDjpF9QG0vpYIH3w9Sttne0q+d4zPCrOJKKj8RR9cFnlMTr9YHhUDKPTH4ZHRTA6/WJ4NPOMTv8YHs00o9NPhkczy+j0l+HRTDI6/WZ4NHOMTv8ZHs0UozMMhkczw+gMh+HRTDA6w2J4NHhGZ3jW5J6ANI6q4W+Alyz7Y6PTc27xaLCMznAZHg1S1XABe0ZnF0ZnEAyPBqc7pvM7e/nSO4zOMBgeDco+HkHztrbmDdHz0YHx4LIG46dEZwdpS+eNGaakA2R4NAieMp8t7mqp94zO7DE86jWjM5sMj3rL6Mwuw6NeMjqzzfCod4zO7DM86hWjUwbDo94wOuUwPOoFo1MWw6PsjE55DI+yMjplMjzKxuiUy/AoC6NTNj8kqhWpGtYBxwGPAY4HDgPmgHngRuA64Pq25icrWJbRKdzcaDTKPQf1VNWwGngGcCZwArCF9Mtqw7Jv3QZs7f78ZuAc4KNtzZa9LNPoyPBoT1XDHPAiUkDWA5v2cxF3dv9vgLe0NXd1yzU6AgyPlqkaHghcBPwKsHHMxS0A/ws8h7R7ZnQEGB4tUTX8JnAJsBY4aEKLHZHuErh8eUanYIZHAFQNpwAfYc/jN9NgdApneETV8GTgcmKisxM43eiUzet4Clc1HA58nJjoQArPN4PGUk8ZHp3H+AeR98dBwMVVM7FjSBogw1OwquFpwDNJB5OjzAEPJF0bpEIZnrK9ibhdrKU2Aq+tGg7OMLZ6wPAUqmrYDDwq4xRWAc/OOL4yMjzl+kPyflZvE+5uFcvwlOtkJneR4IE6rvvwqQpjeArUvdkflHsepA+dHpt7EopneMp0HOlzVLmtAR6bexKKZ3jKdATptHZuG4DNuSeheIanTOvpR3gg9uJF9YThKdPO3BNYok9zURDDU6Y7gV25J0G6ZcaPck9C8QxPmb4CrM49CVIAb8g9CcUzPGW6mX6EZxXpJvEqjOEpUFuzC/ha7nmQ4ndL7kkonuEp19+SHk2Tyy7gsi6CKozhKdeF5N3d2gKcm3F8ZWR4CtXW/Ai4mHyns78DXJNpbGVmeMp2NulhfNEWgFe3Nd7wu1CGp2Btza3A64g91rMVuLStuTxwTPWM4dF7gZtIj5yJMA+8Imgs9ZThKVx3VukU4Hamf7znTuDp3fElFczwiLbm+8ATSI8bnsaWzwi4gxSd66ewfA2M4REAbc1tpHvjXMtkj/ksALcBT2pr/nOCy9WAGR7drdvyeSLwGlJ8doyxuBHpWp3zgYe1tZ/J0m4+wlh7VTU8mHTG64Wkq4wPWeFf3dr9/9PAW9qaa6cwPQ2c4dE+VQ2HAC8gBeiRpBvEL177M0fasllDugr6JuATwPltzffCJ6vBMDxasaq5+ymgx5BuW7qKtDt1C3CLn7vSShkeSeE8uCwpnOGRFM7wSApneCSFMzySwhkeSeEMj6RwhkdSOMMjKZzhkRTO8EgKZ3gkhTM8ksIZHknhDI+kcIZHUjjDIymc4ZEUzvBICmd4JIUzPJLCGR5J4QyPpHCGR1I4wyMpnOGRFM7wSApneCSFMzySwhkeSeEMj6RwhkdSOMMjKZzhkRTO8EgKZ3gkhTM8ksIZHknhDI+kcIZHUjjDIymc4ZEUzvBICmd4JIUzPJLCGR5J4QyPpHCGR1I4wyMpnOGRFM7wSApneCSFMzySwhkeSeEMj6RwhkdSuP8H4ejhn5CawyYAAAAASUVORK5CYII=\n",
          "text/plain": "<Figure size 360x360 with 1 Axes>"
         },
         "metadata": {},
         "output_type": "display_data"
        }
       ]
      }
     },
     "ad28cd66e6604fc484b8e771c5a46b44": {
      "model_module": "@jupyter-widgets/controls",
      "model_module_version": "1.5.0",
      "model_name": "HTMLModel",
      "state": {
       "layout": "IPY_MODEL_006c40a7621942a0bb3d0e6a1cf68e75",
       "style": "IPY_MODEL_c4429be86c5d40f2987a555648c0f915",
       "value": "ibmq_quito"
      }
     },
     "aef8a451dfde4db996bf499f9dcded5b": {
      "model_module": "@jupyter-widgets/base",
      "model_module_version": "1.2.0",
      "model_name": "LayoutModel",
      "state": {
       "width": "70px"
      }
     },
     "af6ea352d7da40d39b0a116c9eaf8b8e": {
      "model_module": "@jupyter-widgets/controls",
      "model_module_version": "1.5.0",
      "model_name": "DescriptionStyleModel",
      "state": {
       "description_width": ""
      }
     },
     "b04039d96534479db54c61d4ef28bca3": {
      "model_module": "@jupyter-widgets/controls",
      "model_module_version": "1.5.0",
      "model_name": "DescriptionStyleModel",
      "state": {
       "description_width": ""
      }
     },
     "b0e889620dc94129a74db5c43fac4bc4": {
      "model_module": "@jupyter-widgets/controls",
      "model_module_version": "1.5.0",
      "model_name": "HTMLModel",
      "state": {
       "layout": "IPY_MODEL_e09bc6dbd47a4f8fb17778b223c4481c",
       "style": "IPY_MODEL_3d14a5540e17405b8390e67433b35d06",
       "value": "<h5>16</h5>"
      }
     },
     "b2628325009349ea8e595dda1c18fb87": {
      "model_module": "@jupyter-widgets/controls",
      "model_module_version": "1.5.0",
      "model_name": "HTMLModel",
      "state": {
       "layout": "IPY_MODEL_abe6839b6b794c48bd9908332edcdae3",
       "style": "IPY_MODEL_d27008a353fa426db08aa78af33d25be",
       "value": "<h5>0.0082</h5>"
      }
     },
     "b4168b96a3654a918c6940bb0201a961": {
      "model_module": "@jupyter-widgets/base",
      "model_module_version": "1.2.0",
      "model_name": "LayoutModel",
      "state": {
       "justify_content": "center",
       "max_width": "250px",
       "min_width": "250px"
      }
     },
     "b7cc2172efbc47d79e9e7a8ed11283b8": {
      "model_module": "@jupyter-widgets/controls",
      "model_module_version": "1.5.0",
      "model_name": "HTMLModel",
      "state": {
       "layout": "IPY_MODEL_f7cbbb5e7d6e4625b92c1743757f0d5d",
       "style": "IPY_MODEL_f83c7282138346ad8689ab86de455bab",
       "value": "<h5>32</h5>"
      }
     },
     "b8bac4daeab3461d831565392b964d68": {
      "model_module": "@jupyter-widgets/controls",
      "model_module_version": "1.5.0",
      "model_name": "DescriptionStyleModel",
      "state": {
       "description_width": ""
      }
     },
     "b9290bef9f9340369786a223fad240fd": {
      "model_module": "@jupyter-widgets/controls",
      "model_module_version": "1.5.0",
      "model_name": "HTMLModel",
      "state": {
       "layout": "IPY_MODEL_5e524f10c1414556a06fa1adc390a302",
       "style": "IPY_MODEL_7bc36ba018be46bcab496e06763c63ae",
       "value": "<h5>8</h5>"
      }
     },
     "b99d0adfadb34a89913e36f403900d16": {
      "model_module": "@jupyter-widgets/base",
      "model_module_version": "1.2.0",
      "model_name": "LayoutModel",
      "state": {
       "overflow_x": "scroll"
      }
     },
     "b9fdfe3ace724d1c966b9aae1a9cbe7f": {
      "model_module": "@jupyter-widgets/base",
      "model_module_version": "1.2.0",
      "model_name": "LayoutModel",
      "state": {
       "max_width": "180px"
      }
     },
     "bad0c884ca264d1d8ab7c4a6b8788a2e": {
      "model_module": "@jupyter-widgets/controls",
      "model_module_version": "1.5.0",
      "model_name": "IntProgressModel",
      "state": {
       "layout": "IPY_MODEL_e610061231404afe9edb3a03fac7c8bb",
       "max": 50,
       "style": "IPY_MODEL_d01015679bee41c6bede2453fa1aa613",
       "value": 20
      }
     },
     "bb48d92569f24367b8a961a2749142f8": {
      "model_module": "@jupyter-widgets/controls",
      "model_module_version": "1.5.0",
      "model_name": "DescriptionStyleModel",
      "state": {
       "description_width": ""
      }
     },
     "bc5446c514c849eb984e8c24fd86269f": {
      "model_module": "@jupyter-widgets/output",
      "model_module_version": "1.0.0",
      "model_name": "OutputModel",
      "state": {
       "layout": "IPY_MODEL_4df920bea7944c5cb875db94bf789eef",
       "outputs": [
        {
         "data": {
          "image/png": "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\n",
          "text/plain": "<Figure size 360x360 with 1 Axes>"
         },
         "metadata": {},
         "output_type": "display_data"
        }
       ]
      }
     },
     "bcc71a43780b4a20a58323f7a74221db": {
      "model_module": "@jupyter-widgets/base",
      "model_module_version": "1.2.0",
      "model_name": "LayoutModel",
      "state": {}
     },
     "bd5f6334a60c4aee871144f84b8dff5c": {
      "model_module": "@jupyter-widgets/base",
      "model_module_version": "1.2.0",
      "model_name": "LayoutModel",
      "state": {
       "max_height": "620px"
      }
     },
     "bfa24d3e52e7462894861047b4a2e51e": {
      "model_module": "@jupyter-widgets/base",
      "model_module_version": "1.2.0",
      "model_name": "LayoutModel",
      "state": {
       "margin": "8px 0px 0px 0px"
      }
     },
     "bfbbc11b5e924bcdb720c65baaf80261": {
      "model_module": "@jupyter-widgets/controls",
      "model_module_version": "1.5.0",
      "model_name": "DescriptionStyleModel",
      "state": {
       "description_width": ""
      }
     },
     "c08e1acfaea643fd80abc842b6c1d711": {
      "model_module": "@jupyter-widgets/base",
      "model_module_version": "1.2.0",
      "model_name": "LayoutModel",
      "state": {}
     },
     "c0daddef8e724528865952418829c87d": {
      "model_module": "@jupyter-widgets/controls",
      "model_module_version": "1.5.0",
      "model_name": "LabelModel",
      "state": {
       "layout": "IPY_MODEL_855ac3815ddb4aeb92c0498973a83aa7",
       "style": "IPY_MODEL_82052d16208147a7a233c3bc6f69f305",
       "value": "17"
      }
     },
     "c1daa504db1a486a827378a683d08a03": {
      "model_module": "@jupyter-widgets/controls",
      "model_module_version": "1.5.0",
      "model_name": "DescriptionStyleModel",
      "state": {
       "description_width": ""
      }
     },
     "c26d657feb0245df90e56bd97d4bdae1": {
      "model_module": "@jupyter-widgets/controls",
      "model_module_version": "1.5.0",
      "model_name": "HTMLModel",
      "state": {
       "layout": "IPY_MODEL_c08e1acfaea643fd80abc842b6c1d711",
       "style": "IPY_MODEL_82044db3b91b44258ee8bf8e236992da",
       "value": "<h4>ibmq_belem</h4>"
      }
     },
     "c4429be86c5d40f2987a555648c0f915": {
      "model_module": "@jupyter-widgets/controls",
      "model_module_version": "1.5.0",
      "model_name": "DescriptionStyleModel",
      "state": {
       "description_width": ""
      }
     },
     "c6edcd8632154039913b77443c4ac263": {
      "model_module": "@jupyter-widgets/base",
      "model_module_version": "1.2.0",
      "model_name": "LayoutModel",
      "state": {
       "justify_content": "center"
      }
     },
     "c737ba84396c4c97b6d7645a4db6cffe": {
      "model_module": "@jupyter-widgets/base",
      "model_module_version": "1.2.0",
      "model_name": "LayoutModel",
      "state": {
       "margin": "10px 0px 0px 0px"
      }
     },
     "c746809dfe99437fa850f85a3309a7e3": {
      "model_module": "@jupyter-widgets/base",
      "model_module_version": "1.2.0",
      "model_name": "LayoutModel",
      "state": {
       "justify_content": "center"
      }
     },
     "c7c5c6cacefa4309ba76a450df1f2385": {
      "model_module": "@jupyter-widgets/controls",
      "model_module_version": "1.5.0",
      "model_name": "ProgressStyleModel",
      "state": {
       "bar_color": "#71cddd",
       "description_width": ""
      }
     },
     "c7d6ce8509214fa88d2a7c463467fcf1": {
      "model_module": "@jupyter-widgets/base",
      "model_module_version": "1.2.0",
      "model_name": "LayoutModel",
      "state": {
       "min_width": "auto"
      }
     },
     "c8d50e209ab443698178469a78302d71": {
      "model_module": "@jupyter-widgets/controls",
      "model_module_version": "1.5.0",
      "model_name": "DescriptionStyleModel",
      "state": {
       "description_width": ""
      }
     },
     "c980e6d3cbfd4dc8b3a590606e3a18e7": {
      "model_module": "@jupyter-widgets/controls",
      "model_module_version": "1.5.0",
      "model_name": "DescriptionStyleModel",
      "state": {
       "description_width": ""
      }
     },
     "c9e31514c043435dbedf72ad7181508f": {
      "model_module": "@jupyter-widgets/controls",
      "model_module_version": "1.5.0",
      "model_name": "TabModel",
      "state": {
       "layout": "IPY_MODEL_bd5f6334a60c4aee871144f84b8dff5c"
      }
     },
     "c9feff2d72ba4b43ad3383d2ac08b84c": {
      "model_module": "@jupyter-widgets/controls",
      "model_module_version": "1.5.0",
      "model_name": "VBoxModel",
      "state": {
       "children": [
        "IPY_MODEL_10d39a5064ec4c48825d47ff6ee8cec1",
        "IPY_MODEL_8dabbada62fb4c519c95c95e4b5c5a0b",
        "IPY_MODEL_556d581ac93b4bbfb44b422d0ca46883",
        "IPY_MODEL_b0e889620dc94129a74db5c43fac4bc4",
        "IPY_MODEL_1914959deb24440c920b4958a6c599ce",
        "IPY_MODEL_6359bba43d2244deadfbd43dd39d1771",
        "IPY_MODEL_f9a91269478446a49d0488e1f8fcd634",
        "IPY_MODEL_80536cb918f14cdc8b06f169c11fa6a6",
        "IPY_MODEL_17a1a5c7126e4470b7863b04fec58e2e",
        "IPY_MODEL_0224e330b4244a118679ab2487d19cfb"
       ],
       "layout": "IPY_MODEL_1c5336c281de44e7a981b28c9252a5a6"
      }
     },
     "ca02018fea8a42e9a1885cafb173a512": {
      "model_module": "@jupyter-widgets/controls",
      "model_module_version": "1.5.0",
      "model_name": "HTMLModel",
      "state": {
       "layout": "IPY_MODEL_aef8a451dfde4db996bf499f9dcded5b",
       "style": "IPY_MODEL_562d4438bb0146e0b07c49646f724059",
       "value": "-"
      }
     },
     "ca74b9a6acf14fc69b6f6a0d39c726ba": {
      "model_module": "@jupyter-widgets/controls",
      "model_module_version": "1.5.0",
      "model_name": "HTMLModel",
      "state": {
       "layout": "IPY_MODEL_a9332dd6638644a8988f9efd5597e0e1",
       "style": "IPY_MODEL_e1f100d67519464ab8be7d841f97dd7c",
       "value": "<h5 style='color:#34bc6e'>True</h5>"
      }
     },
     "ccde6f6b6a924978a45ccef8c598bd51": {
      "model_module": "@jupyter-widgets/base",
      "model_module_version": "1.2.0",
      "model_name": "LayoutModel",
      "state": {
       "justify_content": "center"
      }
     },
     "ce21f5601ce04f32a989b55717b2bce7": {
      "model_module": "@jupyter-widgets/base",
      "model_module_version": "1.2.0",
      "model_name": "LayoutModel",
      "state": {
       "margin": "8px 0px 0px 0px"
      }
     },
     "ceafd645a8f0408c96933dc7af244308": {
      "model_module": "@jupyter-widgets/controls",
      "model_module_version": "1.5.0",
      "model_name": "VBoxModel",
      "state": {
       "children": [
        "IPY_MODEL_da21ef97e7c44382b5a0eea189d5e300",
        "IPY_MODEL_603ce8a12c7a463ab54d05d91595d5f2"
       ],
       "layout": "IPY_MODEL_0e2f74a3238645268a7cb2804aed3f47"
      }
     },
     "cf5a1afbe9ef4cf4b2e830a7c85f1b7f": {
      "model_module": "@jupyter-widgets/base",
      "model_module_version": "1.2.0",
      "model_name": "LayoutModel",
      "state": {
       "max_width": "180px"
      }
     },
     "d01015679bee41c6bede2453fa1aa613": {
      "model_module": "@jupyter-widgets/controls",
      "model_module_version": "1.5.0",
      "model_name": "ProgressStyleModel",
      "state": {
       "bar_color": "#71cddd",
       "description_width": ""
      }
     },
     "d05270989e31416faa576c28ad8a7dbb": {
      "model_module": "@jupyter-widgets/controls",
      "model_module_version": "1.5.0",
      "model_name": "DescriptionStyleModel",
      "state": {
       "description_width": ""
      }
     },
     "d0893d0ed3c447deacfc6bdfe8e89d4d": {
      "model_module": "@jupyter-widgets/controls",
      "model_module_version": "1.5.0",
      "model_name": "LabelModel",
      "state": {
       "layout": "IPY_MODEL_20f65901bcf94be195a4674595e6cf67",
       "style": "IPY_MODEL_bfbbc11b5e924bcdb720c65baaf80261",
       "value": "103"
      }
     },
     "d11c134f2b8e4f9aa54c52fc9377eb25": {
      "model_module": "@jupyter-widgets/output",
      "model_module_version": "1.0.0",
      "model_name": "OutputModel",
      "state": {
       "layout": "IPY_MODEL_6ade0283b739453bb7b2e808b9f3436e",
       "outputs": [
        {
         "data": {
          "image/png": "iVBORw0KGgoAAAANSUhEUgAAAR4AAAEeCAYAAABcyXrWAAAAOXRFWHRTb2Z0d2FyZQBNYXRwbG90bGliIHZlcnNpb24zLjUuMSwgaHR0cHM6Ly9tYXRwbG90bGliLm9yZy/YYfK9AAAACXBIWXMAAAsTAAALEwEAmpwYAAAVWUlEQVR4nO3de5QmRX3G8e/s7G12diHeL6sSUVnuyHIRFyPKGjTIGvUgyIHEcEyphKilAl4wgIB4IcbyBEyk9AiEBAUTIyAHMKAkB1DkEuXOLhsJYJTDfXfe2fubP6oHltllmeHt/lW/U8/nHP5hdrt+W9P9dHV1dfdAt9tFRMTStNwFiEh5FDwiYk7BIyLmFDwiYk7BIyLmFDwiYk7BIyLmFDwiYk7BIyLmFDwiYk7BIyLmFDwiYk7BIyLmFDwiYk7BIyLmFDwiYk7BIyLmFDwiYk7BIyLmFDwiYk7BIyLmFDwiYk7BIyLmFDwiYk7BIyLmFDwiYk7BIyLmFDwiYk7BIyLmFDwiYk7BIyLmFDwiYk7BIyLmFDwiYk7BIyLmFDwiYk7BIyLmFDwiYk7BIyLmFDwiYk7BIyLmFDwiYk7BIyLmFDwiYk7BIyLmFDwiYk7BIyLmFDwiYk7BIyLmFDwiYk7BIyLmFDwiYk7BIyLmFDwiYk7BIyLmFDwiYm567gLazAVeDuwJ7ATMI/XXCLAcuBG4K3rW56vQjgsMAK8A9gB2BLYCBkj9sYzUH0ujZ0O2Ig1V/fEq0v6xPWn/GABWAkuBG4B7oqebrcgWG+h21S8bc4GdAQ8cDMwCVgPDPBXSXdLONQDMAK4DTgcun4oh5AKvBz4JvJvUB2uAucBg9UfG+mNa9fOrgb8FrpyKIeQCewGfAg4i/ZvXkvaPsf7YQOqPwernPyXtH1crhJ6i4Km4wH7A10lnrxlMbjS4AhgFTgXOnAoHnAscAHwN2JYUwINb/htP6pJGQSuAE4FvT4UDzgWWkAJ1PjDExKcpxvrjUeBzwD9Phf7oVfHB4wLDpMA5grRD9WIEuBs4NHqW9lpbDi6wNXAG8F5gTo+bGwFuAd4fPff2WlsOLvB84CzgT6inP64Hjoie3/ZaWz8rOnhcYCfgP4Ct6T10xqwnXY4cFT3n1LRNEy6wELicdCk1u6bNriNdrv5F9Pygpm2acIFFwCWkwJlV02bXkvrj0Oi5tKZt9p1i72pVB9m1wEuoL3QgXZIMAd90gY/XuN1GVQfZ1cALqS90IF2yDgPnusCRNW63US6wGPgJ8DzqCx1Il/FzgR+4wCE1brevFDnicYHtgZ+TRjpN6gB/HT3fbbidnlQTyP9FOiCa1CGNfC5suJ2euMA+wJX0fmn1bEaBg0sc+RQXPC4wE7idNGk6YNDkKLBX9Nxm0NakucAc0u3fl2HTHx1gl+hZbtDWpFVzXMtIIz8LK4EFpc35lHipdRJ2BxmkYfqFLrR2zdTppMsJy/74vgut3ffOoPmR38ZmAedV64KK0dZffiNcYFfSGp2mh9Abm0ZaaHasYZsT4gJvBI6k3jmuZzMI7AAcZdjmhFTzOu+l3jmuZzMD2Bs43LDN7IoKHuAE6p0onKhh4DMuZGl7S07G9iAbMwyc6MKE1wZZ+RK2J6Uxw8AXSxr1FBM8LvAi4J3k+zcPkM6mreACrwLehN0l1nizSWtjWsEFdgB2zljC84E3Z2zfVDHBA3wQsq4YnQd8OmP74x1FvtCB1B/HZWx/vI+R99nFYeCYjO2bKil43oftXMbm7OiC6cTllryXPJedG9vHBWZkrmHMEshaywCwuJTLrSKCp/pl7pC7DtKt5N1zF1EtKXh17jqAVaQn/7NygXnAi3PXQXrA9DW5i7BQRPCQfplteHBzNum1ErntRDroc5tGO/pjd9JJIbf1tKM/GlfEAkIXOBD4F5pfqSzSiw3ASdFzSu5CmlbKiGeIvBOpIhMxjTTJPOWVEjxTf1gnU0UbpgQaV0rwdFD4SPutJ72zZ8pr6/NDdbuDvLdKx4wCx0bPmTmLqF7veh22zyRtzkrg6Og5N2cR1aMjl5HeI53TCGlfnfJKGfH8L+0Y8awlvQQ8tzuBmbmLqNyYuwDgV+R5VGK8GbRj/2hcEcFTveP217nrIO3c2euInnXQilezziSFYFbR0wEeyF0H6VLrvtxFWCgieCrnk//6+froGc1cw5jvQdZausBVLfoyx4WkV5Lmsh74cSkvgi8peM4l7793BfCVjO2PdxZ5lxiMAF/N2P54Z5D3cnwV6SsWRSgmeKLnceACyHaGXQ38OFPbm4ieB0kTqrlu3z4G/CxT25uovoJxbcYS7o++jPkdKCh4KqeSZzg9Any+RZcVY04gX38c18LLis+S5/KzQ0FPpkNhwRM9y4C/wXauZx1pQvkswzYnJHpuIb361LI/1gDXkOaYWiV6rge+he1zW6uBS6PnEsM2sysqeCrfIN3RWWfU3mrgsBae3cecSrqjY3XJtRr4QIv747PAQ9jN93SADxu11RrFBU91ubMEeITmD7ZRUui09iua0bOW9CbAx2j+YOsA74me3zXcznMWPauAdwBPGDTXAQ6KnkcM2mqV4oIHIHruB/YFHqa5kc8o6RtSFze0/dpUn5p5M+n73k2FcYf09cwrG9p+baLnDmB/4HGaC+MRYEn0WSe0synitRjPxAVeQfpk7zbU91TwGtKt0UOj57KatmnCBV5D6o+XUd9K3tU8NdK5uqZtmqjew3wZ6RtbdfXHKtKjIgdFzy9q2mbfKXLEM6Ya+exG+rrAKL2f7UdIn719Xb+FDkD03APsCARSf/R6VuoAFwOv7bfQgSdHPgtINwbquNvVIS3peE3JoQOFj3g25gI7AqcBbycdcBN9P/N60ll9OXBC9PywmQptVZ81Pg14K2mh4UTfz7yO9EzanaQlBFPi87wusDfpBLWIdMKe6LNua3nqzubx/XCpaUHBM44LvBT4EPBnpEuwUdKONkg6ANeTdqQ5pAnqy4EQPTdnKbhhLjCf9EWKw4BXkvpj/FPcj5P64yHgUlJ/3GpZpxUX2AY4GjgEmE8axQxW/8HT94/fA5eQ+uMu+2rbS8GzBdUH+Hau/hsm7VyrgHuAm6LnsXzV2XOB2cAuwPXjfvQW4OboTe4EtYYLDJEu1XcgBc00UhDdDfx39KzIWF6rKXhk0lx4+txP9HqtrExO0ZPLIpKHgkdEzCl4RMScgkdEzCl4RMScgkdEzCl4RMScgkdEzCl4RMScgkdEzCl4RMScgkdEzCl4RMScgkdEzCl4RMScgkdEzCl4RMScgkdEzCl4RMScgkdEzCl4RMScgkdEzCl4RMScgkdEzCl4RMScgkdEzCl4RMScgkdEzCl4RMScgkdEzCl4RMTcQLfbzV2D9AEXGAS2A/YEzh33448ANwC3Rs9q69qk/yh45Bm5wADwJuAY4O3AWqALzBv3RzvAOmAIuAn4KnBR9Kyzq1b6iYJHNssF3gN8DXgRMAwMTOKvryAF0WnA16Nnff0VSj9T8MjTuMALge8Ai0mB04sRYDlwSPTc2WttMnUoeORJLrAIuBSYDcyqabMbgNXAX0XP2TVtU/qc7moJAC6wGLgC2Jr6QgfSPjYEnOkCH69xu9LHNOIRXOANwFXAnIab6gBHa+QjCp7CucA84B7SJLKFUWCh5nzKpkst+QYw17C9WcAF1bogKZSCp2AusB9wKGkOxso0YFvAG7YpLaPgKdvJND+vsznDwPEuMD1D29ICCp5CucC2wN4ZS5gOLMnYvmSk4CnX0eT9/c8DPp2xfclIwVOudwEzM9ew0IVa1wxJn1DwFKg62LfJXQfp1vrOuYsQewqeMu1MOuhzmw7skbsIsafgKdPrmNzT5k2ZA2yfuwixp+Ap02zaETxgu3hRWkLBU6Y2PSejd/UUSMFTphHS6ypy6wJP5C5C7Cl4ynQb7fjdrwRuyV2E2GvDzif27gZm5C6CNM90Q+4ixJ6Cp0DVO5Dvzl0HKfzaUIcYU/CU6zzSi7ly2QBcHn0r5prEmIKnXN8h7++/A5yesX3JSMFTqOh5GPgR+W5nPwhck6ltyUzBU7YTgTUZ2u0Ax0TfqvVEYkjBU7DouYv0MrARw2ZXAz+Jnh8atikto+CR00kf3bP63PAq4C+N2pKWUvAUrrq1fiDwCM2vZh4BDoyehxpuR1pOwSNEz/3AvsDDNDfyGQHeFT3XNrR96SMKHgEgepYBC4E7qHfOZ5R0B2tx9FxV43aljyl45EnVyGd34FRSYPR6q70DnA+8Nnp+0eO2ZArRl0Rls1xgAfAF4E9Jcz8T/QzOmurP/wI4MXqubqZC6WcKHtkiF3gB8EHgcGABsJZNX971BOmjgL8BLgbOiJ7/MSxT+oyCRybMBaYB25HmgTa2B3Br9FkWI0ofUvDIpLnw9BXH0bfmNarSJzS5LCLmFDwiYk7BIyLmFDwiYk7BIyLmFDwiYk7BIyLmFDwiYk7BIyLmFDwiYk7BIyLmFDwiYk7BIyLmFDwiYk7BIyLmFDwiYk7BIyLmFDwiYk7BIyLmFDwiYk7BIyLmFDwiYk7BIyLmFDwiYk7BIyLmFDwiYk7BIyLmFDwiYk7BIyLmFDwiYk7BIyLmBrrdbu4aWskFZgE7A3sCuwPPAwaBEeA24Ebgpuh5NFuRhlxgNrArsAfwzXE/Poan+uMJ69pycIEhYDfS/vF6YCtgAFgJ/Bq4Abg5elbmqrHNFDwbcYFpwGLgWOAtwCgwHZgz7o+uqX42B/gN8FXg/OgZsarVggsMAm8HjgMW8cz9sRpYVf3/paT+uCB6Ru2qbZ4LTAfeSeqPvYEOMAMYGvdHN+6P20n98a/Rs9qu2nZT8AAuMAAcAvwd6cw1TDp7TdRK0mXrmcAJ0bOq9iINVf3x56QDZgiYN8lNjJ3lA3BK9Kyprzp7VX98CPgiMJPJ98cKoAt8GTg9etbVW2H/KT54XOAlwNnAH5ECpxcd4GHgkOj5eY/bysIF5gPnAXtRT3/8H/C+6Lm519pycIE/BM4HdqH3/hgB7iXtH7f1uK2+VvTksgvsC9wN7E/vOxWkofUrgatc4HM1bM+UC7wNuBPYl/r6Y1vgGhf4aA3bM+UCS4BbSfM4dfTHMLA98EsXOLKG7fWtYoPHBfYHriBdWs2sefNDwPEu8JWat9sYFzgI+BEwlzRvUZcBUn982QWOr3G7jXKBQ4Dvk8Jieo2bnkbqjzNc4GM1brevFHmp5QJ7A1dRz1lsSzrAF6PntIbb6YkL7AdcyqaTxnXrAMdFz5kNt9MTF3gH8G9sOmlct1HgI9FzbsPttE5xweMCw8Ay4KVGTY4C+7d1zscFnkfqj+cbNTkK7BM9vzZqb1Jc4MWkO3NbGTU5CuwWPUuN2muFEi+1vg5sbdjeEHBBtQ6mjf6B5kd+G5sNXOhCrZdztajuXp0Npr+rmcD3q6UcxSjqH+sCi4DDaX4IPd4LgC8Yt/msXOCPgSXALMNmB4D5pLUwbfNu4M3UP+e3JYPAdsDRhm1mV1TwACdgHzqQ5k6Ori7z2uQLND+vsznDwLEumB7gE3EKtqO/McPA50sa9RTzD3WBVwD7MbmFgXXqAu/P1PYmXGA70lL/XKaRRhit4AILgVdnLGGItEq8CMUED/CRzO3PpV2XFx+l3tvEkzWPdvWHx/aSc7x5pEd1ilBS8LwL20nDzXm1C/xB5hrGHEi963Wei11bNOl+AGm+JadF1fNxU14RwVP9MrfLXQdpHcvC3EVUB/urctdBupW8S+4iqiUFVssJtmQt7dhPG1dE8AALSL/U3IZIr5XIbVdSCOY2nfQ4Qm4LaUd/dGnH/tG4IhYQVo8DnIft+h2RyeoCJ0XPybkLaVopI57Z5LubJTJRA+S5nW+ulOBZn7sAkQkq4l09pQTPCGkYK9Jm60gvDZvycq7jsHQreddojOkAn4ies3IW4QILSO9Izj2sXwF8OHrOz1mEC+wJXIndg6HPZOx93lNeESOe6PkttOJ9t+tILwHPbSn516xA2v9uzF0EcAt5HqUZbzbt6I/GFRE8lV/lLoC0c9+au4jo2UB602Bug6RXcmRVvYT93tx1AKPVSXLKKyl4zoGsnxrpAj9t0YvPz4GsX8XYAFxchWAbnAdZX9K/DvhBxvZNlRQ83yPvLfWVwOkZ2x/vbPJebo0CX8vY/njfytz+WtJXOYpQTPBETwf4LvlWMD9BmsBsheh5DLiQfEsNHgCuz9T2JqLnd6R3cOcagd1R0pcnigmeypfIM8k8Anwq+tbd0j+JPP0xdnevbf3xWfL0xyjwiQztZlNU8FQTdx/Fdm5jDXA1cIFhmxMSPcuBz2HbH6uAi6LnUsM2JyR6bgdOw7Y/RoF/ip7/NGwzu6KCp3IOaYhvNcm7CjiyhWf3MX8P3IHdJegIcJRRW8/Fl0l3uCxWEHeBx4BPGrTVKsUFTxUABwP30fzO1QEOjJ4HG27nOavuKh0EPEjz8z0rgQOq+aVWqj4v/A7gUZqf71kBvC36rHcXsygueACi5xHS1zLvpbmRzwiwJHquaWj7tYme3wNvJH1uuImRT5d0kB0QPTc1sP1aRc99wCLgIZo5OXWBx4G3VJd3xSkyeODJg21v4BrqvaYfJR3Ab42eq2rcbqOqg21P0srqOvujQxpdvil6rqtxu42KnmWkd+PcQv39sRx4Q79+T74OxQYPPDnyWUz6tMhKejvbd0k71bnA66Lnl71XaKsK432BY0gHWy9n+y4phM8CFrT1A35bEj33A3uRvk7SobdL0Q2k/gjAjtFzV88F9rEiXgQ2ES4wH/gMcCTpoJk7wb86ttr1Z8DJ/XRW3xIX2IZ0x+sI0kEz2f64Ajgl+lY8m9YzF3gtcDxwKKk/JvqA7Shp4eolpP7ouwBugoJnHBeYQ9q5PkD6/Mss0tqOsVXPXdKK3xnAXcBFwD9GzwPmxRpwgbmkjyAeAexG+nePrXUZIPXHdFKf3AH8O3BWtSBvynGBrUj7xmGk90UPkuYJN94/ppOuJm4nPQbx7eh5yL7a9lLwPAsXeDmwE+kMN0g6o98DLI2+rBeMVZ/4nU/qjzmkg2uU9KDnshY9d2Wi6o9XAjuSHgAe64+7gOUtXkKRnYJHRMwVPbksInkoeETEnIJHRMwpeETEnIJHRMwpeETEnIJHRMwpeETEnIJHRMwpeETEnIJHRMwpeETEnIJHRMwpeETEnIJHRMwpeETEnIJHRMwpeETEnIJHRMwpeETEnIJHRMwpeETEnIJHRMwpeETEnIJHRMwpeETEnIJHRMwpeETEnIJHRMwpeETEnIJHRMwpeETEnIJHRMwpeETEnIJHRMwpeETEnIJHRMwpeETEnIJHRMwpeETEnIJHRMwpeETEnIJHRMwpeETEnIJHRMwpeETEnIJHRMwpeETEnIJHRMwpeETEnIJHRMwpeETEnIJHRMwpeETEnIJHRMwpeETE3P8D3lu74ezIJWwAAAAASUVORK5CYII=\n",
          "text/plain": "<Figure size 360x360 with 1 Axes>"
         },
         "metadata": {},
         "output_type": "display_data"
        }
       ]
      }
     },
     "d22589cc29ba41819b826fe67fb486dd": {
      "model_module": "@jupyter-widgets/controls",
      "model_module_version": "1.5.0",
      "model_name": "LabelModel",
      "state": {
       "layout": "IPY_MODEL_7480ccc09c694f028a05e2a2eb5e3135",
       "style": "IPY_MODEL_93b273cf424542e0a6963fcc21b9886e",
       "value": "Pending Jobs"
      }
     },
     "d27008a353fa426db08aa78af33d25be": {
      "model_module": "@jupyter-widgets/controls",
      "model_module_version": "1.5.0",
      "model_name": "DescriptionStyleModel",
      "state": {
       "description_width": ""
      }
     },
     "d28cfa786ebe47fdadc9099a9b684990": {
      "model_module": "@jupyter-widgets/controls",
      "model_module_version": "1.5.0",
      "model_name": "HBoxModel",
      "state": {
       "children": [
        "IPY_MODEL_d0893d0ed3c447deacfc6bdfe8e89d4d",
        "IPY_MODEL_a0432fde4ea14d46ae79a43c6e6bb787",
        "IPY_MODEL_3106bee12ba646af91dc3c1671b33486"
       ],
       "layout": "IPY_MODEL_f8312cc497a8479485373e675bbff3a8"
      }
     },
     "d356792bc30f432498ee6d1ff49f8d58": {
      "model_module": "@jupyter-widgets/base",
      "model_module_version": "1.2.0",
      "model_name": "LayoutModel",
      "state": {
       "align_items": "center",
       "justify_content": "center",
       "margin": "0px 0px 0px 0px",
       "max_height": "250px",
       "max_width": "250px",
       "min_height": "250px",
       "min_width": "250px"
      }
     },
     "d3707a43384e43efa624de96406f3ffd": {
      "model_module": "@jupyter-widgets/base",
      "model_module_version": "1.2.0",
      "model_name": "LayoutModel",
      "state": {
       "margin": "0px 0px 10px 0px"
      }
     },
     "d3871a650b6140a5b647dd3b524b9c21": {
      "model_module": "@jupyter-widgets/base",
      "model_module_version": "1.2.0",
      "model_name": "LayoutModel",
      "state": {
       "align_items": "center",
       "display": "inline-flex",
       "flex_flow": "column"
      }
     },
     "d3e15087f5bf461fb6b1213d18fa6097": {
      "model_module": "@jupyter-widgets/controls",
      "model_module_version": "1.5.0",
      "model_name": "HTMLModel",
      "state": {
       "layout": "IPY_MODEL_fa01f83936e84f0f8328d4097732bec8",
       "style": "IPY_MODEL_c8d50e209ab443698178469a78302d71",
       "value": "63e106ee8041255bd6a255d9"
      }
     },
     "d4153ae18d3f47e899dab3eae5016774": {
      "model_module": "@jupyter-widgets/controls",
      "model_module_version": "1.5.0",
      "model_name": "VBoxModel",
      "state": {
       "children": [
        "IPY_MODEL_e33884a82e9f45569740522f97ac5a11",
        "IPY_MODEL_8971d2c6858447858ed251d1a38424c7",
        "IPY_MODEL_28315b754ec749b8aed42ff666490062",
        "IPY_MODEL_b9290bef9f9340369786a223fad240fd",
        "IPY_MODEL_5695fe554531451998e8cf7e497263ea",
        "IPY_MODEL_ca74b9a6acf14fc69b6f6a0d39c726ba",
        "IPY_MODEL_26ad1d65bb8c48018369f93404e794e0",
        "IPY_MODEL_6959cfb732974352a450f3ff73a8841b",
        "IPY_MODEL_77763d28b2324a819c31151221678539",
        "IPY_MODEL_15560c5e7c5740a49e073351b4ba4084"
       ],
       "layout": "IPY_MODEL_8703029bbc104f9b8743ed3549cd8b67"
      }
     },
     "d418bd8bd1674c59878d62f776f8fce1": {
      "model_module": "@jupyter-widgets/base",
      "model_module_version": "1.2.0",
      "model_name": "LayoutModel",
      "state": {
       "margin": "10px 0px 0px 0px"
      }
     },
     "d5e475ceb1264a33a940cbfddf5ea5c0": {
      "model_module": "@jupyter-widgets/controls",
      "model_module_version": "1.5.0",
      "model_name": "DescriptionStyleModel",
      "state": {
       "description_width": ""
      }
     },
     "d79c2258baa3426fb3da80e7bfff8d46": {
      "model_module": "@jupyter-widgets/controls",
      "model_module_version": "1.5.0",
      "model_name": "DescriptionStyleModel",
      "state": {
       "description_width": ""
      }
     },
     "d83fdc4e55cf4e25a2f37c45f3b942b5": {
      "model_module": "@jupyter-widgets/controls",
      "model_module_version": "1.5.0",
      "model_name": "DescriptionStyleModel",
      "state": {
       "description_width": ""
      }
     },
     "d90ca2a0e57a4f688e885a6f5786578a": {
      "model_module": "@jupyter-widgets/controls",
      "model_module_version": "1.5.0",
      "model_name": "DescriptionStyleModel",
      "state": {
       "description_width": ""
      }
     },
     "d97d1907b64144de97e30b408ef2bf70": {
      "model_module": "@jupyter-widgets/base",
      "model_module_version": "1.2.0",
      "model_name": "LayoutModel",
      "state": {}
     },
     "d9e0e89b73db4815b148edc243d43824": {
      "model_module": "@jupyter-widgets/controls",
      "model_module_version": "1.5.0",
      "model_name": "DescriptionStyleModel",
      "state": {
       "description_width": ""
      }
     },
     "da21ef97e7c44382b5a0eea189d5e300": {
      "model_module": "@jupyter-widgets/controls",
      "model_module_version": "1.5.0",
      "model_name": "HTMLModel",
      "state": {
       "layout": "IPY_MODEL_7853f11a8f8b4f90843e31804a0848a2",
       "style": "IPY_MODEL_6078c95a6d9349bfb853912fcc5bc120",
       "value": "<h2 style ='color:#ffffff; background-color:#000000;padding-top: 1%; padding-bottom: 1%;padding-left: 1%;margin-top: 0px'>Backend Overview</h2>"
      }
     },
     "da30d0c71bc74ad38af2a1dcdbd85db9": {
      "model_module": "@jupyter-widgets/base",
      "model_module_version": "1.2.0",
      "model_name": "LayoutModel",
      "state": {
       "align_items": "center",
       "display": "inline-flex",
       "flex_flow": "column"
      }
     },
     "da38a55d151d4d5693790d6dadbfb021": {
      "model_module": "@jupyter-widgets/controls",
      "model_module_version": "1.5.0",
      "model_name": "DescriptionStyleModel",
      "state": {
       "description_width": ""
      }
     },
     "da997b6c9add4607b9273c4ae7a609df": {
      "model_module": "@jupyter-widgets/controls",
      "model_module_version": "1.5.0",
      "model_name": "ButtonStyleModel",
      "state": {
       "button_color": "white"
      }
     },
     "db0021dbcb5640ce86d6485617d9b2b1": {
      "model_module": "@jupyter-widgets/base",
      "model_module_version": "1.2.0",
      "model_name": "LayoutModel",
      "state": {
       "grid_area": "right"
      }
     },
     "db39e2674ce24deb88d50b315954c3d9": {
      "model_module": "@jupyter-widgets/controls",
      "model_module_version": "1.5.0",
      "model_name": "DescriptionStyleModel",
      "state": {
       "description_width": ""
      }
     },
     "db5ee042cb1c4a379419ca2140b33464": {
      "model_module": "@jupyter-widgets/controls",
      "model_module_version": "1.5.0",
      "model_name": "DescriptionStyleModel",
      "state": {
       "description_width": ""
      }
     },
     "dbe772f15e564263be7a1b4226a9ca76": {
      "model_module": "@jupyter-widgets/controls",
      "model_module_version": "1.5.0",
      "model_name": "DescriptionStyleModel",
      "state": {
       "description_width": ""
      }
     },
     "dc8372eb68954c3796b81ff770a47382": {
      "model_module": "@jupyter-widgets/base",
      "model_module_version": "1.2.0",
      "model_name": "LayoutModel",
      "state": {}
     },
     "dcd05f07c9524ada98d958151a75cffb": {
      "model_module": "@jupyter-widgets/controls",
      "model_module_version": "1.5.0",
      "model_name": "DescriptionStyleModel",
      "state": {
       "description_width": ""
      }
     },
     "dd98011708f144948afa762682b1b9f5": {
      "model_module": "@jupyter-widgets/controls",
      "model_module_version": "1.5.0",
      "model_name": "HTMLModel",
      "state": {
       "layout": "IPY_MODEL_97b6de05181640908f1b02ebbc00ed58",
       "style": "IPY_MODEL_9b151612ce954cd8bc2e37c5834a65db",
       "value": "<font style='color:#34BC6E'>DONE</font>"
      }
     },
     "dd9ff8a65cfd4c589cee26973b6d2b87": {
      "model_module": "@jupyter-widgets/base",
      "model_module_version": "1.2.0",
      "model_name": "LayoutModel",
      "state": {}
     },
     "de7a7a16ca4d4b82b0a92fb7d014abbe": {
      "model_module": "@jupyter-widgets/base",
      "model_module_version": "1.2.0",
      "model_name": "LayoutModel",
      "state": {
       "grid_area": "bottom",
       "width": "auto"
      }
     },
     "deb723bedbef41778289dc8849bc55a3": {
      "model_module": "@jupyter-widgets/base",
      "model_module_version": "1.2.0",
      "model_name": "LayoutModel",
      "state": {
       "width": "145px"
      }
     },
     "e04a5f93cea0405c933d083663107980": {
      "model_module": "@jupyter-widgets/base",
      "model_module_version": "1.2.0",
      "model_name": "LayoutModel",
      "state": {
       "grid_template_areas": "\n                                       \". . . . right \"\n                                        ",
       "grid_template_columns": "20% 20% 20% 20% 20%",
       "width": "100%"
      }
     },
     "e04dd0ce9ddc407daad297e6a176f77b": {
      "model_module": "@jupyter-widgets/controls",
      "model_module_version": "1.5.0",
      "model_name": "HBoxModel",
      "state": {
       "children": [
        "IPY_MODEL_5b3b982515aa4952be90bbd394af99a6",
        "IPY_MODEL_5f8358343be24d11b74fa6aa0f798dcd",
        "IPY_MODEL_1a02db3e1ce6431cb541cf7f5aa81a3a"
       ],
       "layout": "IPY_MODEL_b4168b96a3654a918c6940bb0201a961"
      }
     },
     "e06daadedca34ef2ba59e53e8a6c962b": {
      "model_module": "@jupyter-widgets/controls",
      "model_module_version": "1.5.0",
      "model_name": "VBoxModel",
      "state": {
       "children": [
        "IPY_MODEL_06719baf4ee249a1a840ce2e921a60c9",
        "IPY_MODEL_1d4a82cbb6a04710888b43fff2c547ee"
       ],
       "layout": "IPY_MODEL_a9bb5f0a6d1d4c2193e0f78eec649055"
      }
     },
     "e07e33fd1f1b42c6871eab99637f02f1": {
      "model_module": "@jupyter-widgets/controls",
      "model_module_version": "1.5.0",
      "model_name": "LabelModel",
      "state": {
       "layout": "IPY_MODEL_ce21f5601ce04f32a989b55717b2bce7",
       "style": "IPY_MODEL_9079f178120e4096a350d803d2218b0a",
       "value": "Avg. Meas. Err."
      }
     },
     "e09bc6dbd47a4f8fb17778b223c4481c": {
      "model_module": "@jupyter-widgets/base",
      "model_module_version": "1.2.0",
      "model_name": "LayoutModel",
      "state": {
       "justify_content": "center"
      }
     },
     "e0cdb70c2c9b40c894465247627ee1fc": {
      "model_module": "@jupyter-widgets/controls",
      "model_module_version": "1.5.0",
      "model_name": "LabelModel",
      "state": {
       "layout": "IPY_MODEL_6d4288b339af48abb7b2d4fd9d47af7e",
       "style": "IPY_MODEL_61f1e3dec2dc47e6ae0fc348e87e77b3",
       "value": "50"
      }
     },
     "e1da0c9e0c394365836d989bfe66dfff": {
      "model_module": "@jupyter-widgets/base",
      "model_module_version": "1.2.0",
      "model_name": "LayoutModel",
      "state": {
       "justify_content": "center"
      }
     },
     "e1f100d67519464ab8be7d841f97dd7c": {
      "model_module": "@jupyter-widgets/controls",
      "model_module_version": "1.5.0",
      "model_name": "DescriptionStyleModel",
      "state": {
       "description_width": ""
      }
     },
     "e209868be2a64b1ead05789828124aca": {
      "model_module": "@jupyter-widgets/controls",
      "model_module_version": "1.5.0",
      "model_name": "HTMLModel",
      "state": {
       "layout": "IPY_MODEL_1dd08a0cb59240bab9d5569234be6002",
       "style": "IPY_MODEL_4c111b5dd98a4234a13ca521380dfcb2",
       "value": "<h5>0.0226</h5>"
      }
     },
     "e2ae6a72226b4e75adcd421a34fd9139": {
      "model_module": "@jupyter-widgets/controls",
      "model_module_version": "1.5.0",
      "model_name": "DescriptionStyleModel",
      "state": {
       "description_width": ""
      }
     },
     "e2bf562884634170a54f93d3b3920eb2": {
      "model_module": "@jupyter-widgets/base",
      "model_module_version": "1.2.0",
      "model_name": "LayoutModel",
      "state": {
       "min_width": "auto"
      }
     },
     "e33884a82e9f45569740522f97ac5a11": {
      "model_module": "@jupyter-widgets/controls",
      "model_module_version": "1.5.0",
      "model_name": "HTMLModel",
      "state": {
       "layout": "IPY_MODEL_05dc36605e53469490ddec9b0ea7d2f9",
       "style": "IPY_MODEL_5f386ebf856d4baca704eab17a2505c1",
       "value": "<h4>ibmq_lima</h4>"
      }
     },
     "e5d0e0341ff745a590877dd7ced98be2": {
      "model_module": "@jupyter-widgets/base",
      "model_module_version": "1.2.0",
      "model_name": "LayoutModel",
      "state": {
       "min_width": "auto"
      }
     },
     "e610061231404afe9edb3a03fac7c8bb": {
      "model_module": "@jupyter-widgets/base",
      "model_module_version": "1.2.0",
      "model_name": "LayoutModel",
      "state": {
       "max_width": "180px"
      }
     },
     "e6afd56dbc2f4e7388f0125b380920f9": {
      "model_module": "@jupyter-widgets/controls",
      "model_module_version": "1.5.0",
      "model_name": "HBoxModel",
      "state": {
       "children": [
        "IPY_MODEL_c0daddef8e724528865952418829c87d",
        "IPY_MODEL_fc6ef221490d440c9ddae38d8346f4a9",
        "IPY_MODEL_e0cdb70c2c9b40c894465247627ee1fc"
       ],
       "layout": "IPY_MODEL_82fd95271e014831a256665dd842704b"
      }
     },
     "e89d03da88b84e88a3b315e1ba34dbbe": {
      "model_module": "@jupyter-widgets/base",
      "model_module_version": "1.2.0",
      "model_name": "LayoutModel",
      "state": {}
     },
     "e90d9ca96eef4e7ebbc954415c70e0fe": {
      "model_module": "@jupyter-widgets/controls",
      "model_module_version": "1.5.0",
      "model_name": "HTMLModel",
      "state": {
       "layout": "IPY_MODEL_46986da42de34cf591d05dbd5d95515a",
       "style": "IPY_MODEL_3685f748b3a14433b1db6b17656376a5",
       "value": "<h5 style='color:#34bc6e'>True</h5>"
      }
     },
     "e9d8c8ed27a34918915548d297a8fcc5": {
      "model_module": "@jupyter-widgets/base",
      "model_module_version": "1.2.0",
      "model_name": "LayoutModel",
      "state": {}
     },
     "eab6aa16d84a498ab8f8b671533fdb04": {
      "model_module": "@jupyter-widgets/controls",
      "model_module_version": "1.5.0",
      "model_name": "HTMLModel",
      "state": {
       "layout": "IPY_MODEL_9db8bd96cba84045a2616225a1d6414c",
       "style": "IPY_MODEL_a94412de59ce435d9267f023214b0641",
       "value": "<h4>ibmq_manila</h4>"
      }
     },
     "ebe92f8838b5418291bc5123cb1c28fe": {
      "model_module": "@jupyter-widgets/controls",
      "model_module_version": "1.5.0",
      "model_name": "HTMLModel",
      "state": {
       "layout": "IPY_MODEL_0eea4fba5a67485992ac887444b9b232",
       "style": "IPY_MODEL_dbe772f15e564263be7a1b4226a9ca76",
       "value": "<h5>32</h5>"
      }
     },
     "ee8bb005e47146dcb083760d97df8fc7": {
      "model_module": "@jupyter-widgets/controls",
      "model_module_version": "1.5.0",
      "model_name": "DescriptionStyleModel",
      "state": {
       "description_width": ""
      }
     },
     "f051450e871f43d28f9d9aba85605cc7": {
      "model_module": "@jupyter-widgets/base",
      "model_module_version": "1.2.0",
      "model_name": "LayoutModel",
      "state": {
       "grid_area": "top"
      }
     },
     "f1d637069d844957a1cc83440c9d7b48": {
      "model_module": "@jupyter-widgets/controls",
      "model_module_version": "1.5.0",
      "model_name": "LabelModel",
      "state": {
       "layout": "IPY_MODEL_e5d0e0341ff745a590877dd7ced98be2",
       "style": "IPY_MODEL_89c9d1dfa4984c9cb296d6d78ee8b466",
       "value": "13"
      }
     },
     "f28fbafdb8ca4becb382df10ab82714c": {
      "model_module": "@jupyter-widgets/controls",
      "model_module_version": "1.5.0",
      "model_name": "HTMLModel",
      "state": {
       "layout": "IPY_MODEL_2468ce270842403a80393068573f74ab",
       "style": "IPY_MODEL_f81aa2052ca0486aa25fae2d704f39fb",
       "value": "<h5 style='color:#34bc6e'>True</h5>"
      }
     },
     "f31f5ae3beaa40d4b33bfb8db6ec1d5f": {
      "model_module": "@jupyter-widgets/controls",
      "model_module_version": "1.5.0",
      "model_name": "HTMLModel",
      "state": {
       "layout": "IPY_MODEL_d3707a43384e43efa624de96406f3ffd",
       "style": "IPY_MODEL_27e4c29452164f4391020f8c0a384ff5",
       "value": "<p style='font-family: IBM Plex Sans, Arial, Helvetica, sans-serif; font-size: 20px; font-weight: medium;'>Circuit Properties</p>"
      }
     },
     "f4085bdf777f4dd9b15b6572f4292e07": {
      "model_module": "@jupyter-widgets/base",
      "model_module_version": "1.2.0",
      "model_name": "LayoutModel",
      "state": {
       "max_width": "180px"
      }
     },
     "f491ee6c7c5a412a8304ff5de28c7ebe": {
      "model_module": "@jupyter-widgets/controls",
      "model_module_version": "1.5.0",
      "model_name": "HTMLModel",
      "state": {
       "layout": "IPY_MODEL_fc4106423ead4272a5acd11552d8ae9e",
       "style": "IPY_MODEL_d5e475ceb1264a33a940cbfddf5ea5c0",
       "value": "<h5 style='color:#dc267f'>False</h5>"
      }
     },
     "f56b638d86cf4aad95742d7685cefacf": {
      "model_module": "@jupyter-widgets/controls",
      "model_module_version": "1.5.0",
      "model_name": "ProgressStyleModel",
      "state": {
       "bar_color": "#71cddd",
       "description_width": ""
      }
     },
     "f6619acdb43d4df8b1b1566cc84c1865": {
      "model_module": "@jupyter-widgets/controls",
      "model_module_version": "1.5.0",
      "model_name": "DescriptionStyleModel",
      "state": {
       "description_width": ""
      }
     },
     "f712280f5153492b836d6876a87bdf2d": {
      "model_module": "@jupyter-widgets/controls",
      "model_module_version": "1.5.0",
      "model_name": "DescriptionStyleModel",
      "state": {
       "description_width": ""
      }
     },
     "f7a21510dd6e4aecb212cacdefcc92e3": {
      "model_module": "@jupyter-widgets/base",
      "model_module_version": "1.2.0",
      "model_name": "LayoutModel",
      "state": {
       "justify_content": "center"
      }
     },
     "f7cbbb5e7d6e4625b92c1743757f0d5d": {
      "model_module": "@jupyter-widgets/base",
      "model_module_version": "1.2.0",
      "model_name": "LayoutModel",
      "state": {
       "justify_content": "center"
      }
     },
     "f81aa2052ca0486aa25fae2d704f39fb": {
      "model_module": "@jupyter-widgets/controls",
      "model_module_version": "1.5.0",
      "model_name": "DescriptionStyleModel",
      "state": {
       "description_width": ""
      }
     },
     "f8312cc497a8479485373e675bbff3a8": {
      "model_module": "@jupyter-widgets/base",
      "model_module_version": "1.2.0",
      "model_name": "LayoutModel",
      "state": {
       "justify_content": "center",
       "max_width": "250px",
       "min_width": "250px"
      }
     },
     "f83c7282138346ad8689ab86de455bab": {
      "model_module": "@jupyter-widgets/controls",
      "model_module_version": "1.5.0",
      "model_name": "DescriptionStyleModel",
      "state": {
       "description_width": ""
      }
     },
     "f9a91269478446a49d0488e1f8fcd634": {
      "model_module": "@jupyter-widgets/controls",
      "model_module_version": "1.5.0",
      "model_name": "HTMLModel",
      "state": {
       "layout": "IPY_MODEL_aa7cbad43a58454185d96a81601de32a",
       "style": "IPY_MODEL_54232721da3049148d3be553f4c5559b",
       "value": "<h5 style='color:#34bc6e'>True</h5>"
      }
     },
     "fa01f83936e84f0f8328d4097732bec8": {
      "model_module": "@jupyter-widgets/base",
      "model_module_version": "1.2.0",
      "model_name": "LayoutModel",
      "state": {
       "width": "190px"
      }
     },
     "fa45c6861b8341bdbd6d0d44d43fb2e3": {
      "model_module": "@jupyter-widgets/base",
      "model_module_version": "1.2.0",
      "model_name": "LayoutModel",
      "state": {
       "max_width": "700px",
       "min_width": "700px"
      }
     },
     "fae0e5f8ef2d42aeb80b628f5c7d91ac": {
      "model_module": "@jupyter-widgets/controls",
      "model_module_version": "1.5.0",
      "model_name": "HTMLModel",
      "state": {
       "layout": "IPY_MODEL_98ac7bf55d61434ab633636ed4df25d0",
       "style": "IPY_MODEL_6c3da0608011450998c9664881c1da05",
       "value": "<h5><b>7</b></h5>"
      }
     },
     "fb394374337f43b7befb758c229cf532": {
      "model_module": "@jupyter-widgets/controls",
      "model_module_version": "1.5.0",
      "model_name": "HTMLModel",
      "state": {
       "layout": "IPY_MODEL_3048916538294238be9e69b5705b29ae",
       "style": "IPY_MODEL_24fe8243c36a4ed8b2778cdff39e0e7c",
       "value": "<h5>0.0073</h5>"
      }
     },
     "fc4106423ead4272a5acd11552d8ae9e": {
      "model_module": "@jupyter-widgets/base",
      "model_module_version": "1.2.0",
      "model_name": "LayoutModel",
      "state": {
       "justify_content": "center"
      }
     },
     "fc6ef221490d440c9ddae38d8346f4a9": {
      "model_module": "@jupyter-widgets/controls",
      "model_module_version": "1.5.0",
      "model_name": "IntProgressModel",
      "state": {
       "layout": "IPY_MODEL_f4085bdf777f4dd9b15b6572f4292e07",
       "max": 50,
       "style": "IPY_MODEL_8467fc6767064cb7af4f957e30080806",
       "value": 17
      }
     },
     "fdf9855d55dd47fa85a48d547304d868": {
      "model_module": "@jupyter-widgets/controls",
      "model_module_version": "1.5.0",
      "model_name": "DescriptionStyleModel",
      "state": {
       "description_width": ""
      }
     },
     "fe6609cc73f3416aa29629c62966eddb": {
      "model_module": "@jupyter-widgets/controls",
      "model_module_version": "1.5.0",
      "model_name": "DescriptionStyleModel",
      "state": {
       "description_width": ""
      }
     },
     "ff28e530b8fc43e18c8417432deba700": {
      "model_module": "@jupyter-widgets/controls",
      "model_module_version": "1.5.0",
      "model_name": "HTMLModel",
      "state": {
       "layout": "IPY_MODEL_5d244302e0584f8db0425211eb6d8d6d",
       "style": "IPY_MODEL_6f1980d98ce24bc8b9d448f01283d2b3",
       "value": "<table><style>\ntable {\n    border-collapse: collapse;\n    width: auto;\n}\n\nth, td {\n    text-align: left;\n    padding: 8px;\n}\n\ntr:nth-child(even) {background-color: #f6f6f6;};\n</style><tr><th></th><th>Type</th><th>Gate error</th></tr><tr><td><font style='font-weight:bold'>cx3_4</font></td><td>cx</td><td>0.01403</td></tr><tr><td><font style='font-weight:bold'>cx4_3</font></td><td>cx</td><td>0.01403</td></tr><tr><td><font style='font-weight:bold'>cx1_3</font></td><td>cx</td><td>0.0084</td></tr></table>"
      }
     },
     "ff39645dac6f46e9a244af335d96f148": {
      "model_module": "@jupyter-widgets/controls",
      "model_module_version": "1.5.0",
      "model_name": "ButtonModel",
      "state": {
       "button_style": "primary",
       "description": "Clear",
       "layout": "IPY_MODEL_3fbedf72bfeb41d3b589d96367d89df8",
       "style": "IPY_MODEL_a118af22e20e4f529fcb43786e4f3cf6"
      }
     }
    },
    "version_major": 2,
    "version_minor": 0
   }
  }
 },
 "nbformat": 4,
 "nbformat_minor": 5
}
