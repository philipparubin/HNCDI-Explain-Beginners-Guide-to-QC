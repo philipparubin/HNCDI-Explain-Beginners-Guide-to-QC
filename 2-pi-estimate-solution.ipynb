{
 "cells": [
  {
   "cell_type": "markdown",
   "id": "1b84a11e",
   "metadata": {
    "tags": []
   },
   "source": [
    "# HNCDI Explain: Mathematical Fundamentals of Quantum Computing"
   ]
  },
  {
   "cell_type": "markdown",
   "id": "7400ecf7",
   "metadata": {},
   "source": [
    "### Install the qiskit library in the colab environment\n",
    "\n",
    "Please run the below cell to ensure the notebook has qiskit installed."
   ]
  },
  {
   "cell_type": "code",
   "execution_count": null,
   "id": "b3f5d9c3",
   "metadata": {},
   "outputs": [],
   "source": [
    "# Install the qiskit library\n",
    "%pip install 'qiskit[visualization]'\n",
    "%pip install qiskit-ibm-runtime\n",
    "%pip install qiskit-aer"
   ]
  },
  {
   "cell_type": "markdown",
   "id": "73281dae",
   "metadata": {},
   "source": [
    "## Tutorial 2: Estimate $\\pi$ using quantum algorithms"
   ]
  },
  {
   "cell_type": "code",
   "execution_count": 1,
   "id": "5914d2c2",
   "metadata": {},
   "outputs": [],
   "source": [
    "import numpy as np\n",
    "from qiskit.visualization import *\n",
    "from qiskit_aer import AerSimulator\n",
    "from qiskit.compiler import transpile\n",
    "from qiskit_aer.primitives import SamplerV2\n",
    "from qiskit_ibm_runtime import QiskitRuntimeService\n",
    "from qiskit_ibm_runtime import SamplerV2 as real_sampler\n",
    "from qiskit import QuantumRegister, ClassicalRegister, QuantumCircuit, transpile\n",
    "from qiskit import assemble\n",
    "import matplotlib.pyplot as plt"
   ]
  },
  {
   "cell_type": "code",
   "execution_count": 2,
   "id": "38566ad5",
   "metadata": {},
   "outputs": [],
   "source": [
    "my_token = \"<Enter your IBM quantum token here>\"\n",
    "\n",
    "service = QiskitRuntimeService(channel=\"ibm_quantum\", token=my_token)"
   ]
  },
  {
   "cell_type": "code",
   "execution_count": 3,
   "id": "da068e47",
   "metadata": {},
   "outputs": [],
   "source": [
    "# Set simulator backend\n",
    "sampler = AerSimulator()"
   ]
  },
  {
   "cell_type": "markdown",
   "id": "4336e741",
   "metadata": {},
   "source": [
    "## Approximating $\\pi$ "
   ]
  },
  {
   "cell_type": "code",
   "execution_count": 4,
   "id": "6cca510f",
   "metadata": {},
   "outputs": [],
   "source": [
    "#Compute the Inverse Quantum Fourier Transform\n",
    "\n",
    "def qft_dagger(circ_, n_qubits):\n",
    "    \"\"\"n-qubit QFTdagger the first n qubits in circ\"\"\"\n",
    "    for qubit in range(int(n_qubits/2)):\n",
    "        circ_.swap(qubit, n_qubits-qubit-1)\n",
    "    for j in range(0,n_qubits):\n",
    "        for m in range(j):\n",
    "            circ_.cp(-np.pi/float(2**(j-m)), m, j)\n",
    "        circ_.h(j)"
   ]
  },
  {
   "cell_type": "code",
   "execution_count": 5,
   "id": "5aef9554",
   "metadata": {},
   "outputs": [],
   "source": [
    "#Initial state of Quantum Phase Estimation\n",
    "\n",
    "def qpe_pre(circ_, n_qubits):\n",
    "    circ_.h(range(n_qubits))\n",
    "    circ_.x(n_qubits)\n",
    "\n",
    "    for x in reversed(range(n_qubits)):\n",
    "        for _ in range(2**(n_qubits-1-x)):\n",
    "            circ_.cp(1, n_qubits-1-x, n_qubits)"
   ]
  },
  {
   "cell_type": "code",
   "execution_count": 6,
   "id": "efbac5e4",
   "metadata": {},
   "outputs": [],
   "source": [
    "def run_job(circ, backend, shots, optimization_level=0):\n",
    "    t_circ = transpile(circ, backend, optimization_level=optimization_level, coupling_map=None)\n",
    "    qobj = assemble(t_circ, shots=shots)\n",
    "    job = backend.run(qobj)\n",
    "    result = job.result()\n",
    "    return result"
   ]
  },
  {
   "cell_type": "code",
   "execution_count": 7,
   "id": "9e91e8df",
   "metadata": {},
   "outputs": [],
   "source": [
    "def get_pi_estimate(n_qubits, backend, shots):\n",
    "        \n",
    "    # create the circuit\n",
    "    circ = QuantumCircuit(n_qubits + 1, n_qubits)\n",
    "    \n",
    "    # create the input state\n",
    "    qpe_pre(circ, n_qubits)\n",
    "        \n",
    "    # apply a barrier\n",
    "    circ.barrier()\n",
    "    # apply the inverse fourier transform\n",
    "    qft_dagger(circ, n_qubits)\n",
    "    # apply  a barrier\n",
    "    circ.barrier()\n",
    "    # measure all but the last qubits\n",
    "    circ.measure(range(n_qubits), range(n_qubits))\n",
    "    \n",
    "    # optionally save to a file\n",
    "    if n_qubits == 3:\n",
    "        circ.draw(filename='qpe')\n",
    "\n",
    "    # run the job and get the results\n",
    "    job_results = run_job(circ, backend, shots, optimization_level=0)\n",
    "    \n",
    "    # Extract the counts from the result\n",
    "    if(type(backend) is SamplerV2):\n",
    "        result = job_results[0].data.c\n",
    "        counts = result.get_counts()\n",
    "    else:\n",
    "        counts = job_results.get_counts()\n",
    "        \n",
    "    print('counts = ', counts) \n",
    "\n",
    "    # get the count that occurred most frequently\n",
    "    max_counts_result = max(counts, key=counts.get)\n",
    "    print('max_counts_result = ', max_counts_result)\n",
    "    max_counts_result = int(max_counts_result, 2)\n",
    "    print('max_counts_result = ', max_counts_result)\n",
    "    \n",
    "    # solve for pi from the measured counts\n",
    "    theta = max_counts_result/2**n_qubits\n",
    "    return (1./(2*theta))"
   ]
  },
  {
   "cell_type": "code",
   "execution_count": 8,
   "id": "02ad3476",
   "metadata": {},
   "outputs": [
    {
     "name": "stdout",
     "output_type": "stream",
     "text": [
      "counts =  {'11': 54, '10': 55, '00': 231, '01': 684}\n",
      "max_counts_result =  01\n",
      "max_counts_result =  1\n",
      "2 qubits, pi ≈ 2.0\n",
      "counts =  {'101': 10, '011': 27, '111': 17, '100': 11, '001': 810, '110': 9, '000': 31, '010': 109}\n",
      "max_counts_result =  001\n",
      "max_counts_result =  1\n",
      "3 qubits, pi ≈ 4.0\n",
      "counts =  {'1001': 6, '1111': 12, '1101': 3, '1010': 3, '1011': 4, '1110': 9, '1000': 5, '0100': 45, '1100': 6, '0011': 492, '0001': 40, '0110': 11, '0101': 25, '0010': 333, '0000': 21, '0111': 9}\n",
      "max_counts_result =  0011\n",
      "max_counts_result =  3\n",
      "4 qubits, pi ≈ 2.6666666666666665\n",
      "counts =  {'01000': 1, '11101': 1, '00010': 3, '00001': 1, '00110': 4, '00100': 6, '00111': 2, '01001': 2, '00101': 1004}\n",
      "max_counts_result =  00101\n",
      "max_counts_result =  5\n",
      "5 qubits, pi ≈ 3.2\n",
      "counts =  {'000101': 1, '000011': 1, '001110': 1, '010010': 1, '010000': 1, '101100': 1, '000000': 1, '001111': 2, '001101': 2, '010001': 2, '001000': 11, '001100': 10, '000100': 1, '000111': 3, '100000': 2, '000110': 1, '011010': 1, '001011': 42, '001010': 913, '100011': 1, '001001': 26}\n",
      "max_counts_result =  001010\n",
      "max_counts_result =  10\n",
      "6 qubits, pi ≈ 3.2\n",
      "counts =  {'1110000': 1, '1111010': 1, '0011010': 1, '0001010': 1, '1111000': 1, '0100111': 1, '0001001': 1, '0000010': 2, '0001011': 1, '0011110': 3, '0010000': 5, '0011001': 4, '0100001': 1, '0101111': 1, '0010010': 13, '1111100': 2, '0011101': 1, '0000110': 2, '0010110': 26, '0011000': 9, '0001100': 1, '0010011': 39, '0001110': 3, '0011100': 1, '0010111': 20, '0010101': 227, '0100010': 1, '0010001': 5, '0000111': 1, '0010100': 646, '0001111': 3}\n",
      "max_counts_result =  0010100\n",
      "max_counts_result =  20\n",
      "7 qubits, pi ≈ 3.2\n",
      "counts =  {'00111100': 1, '00101110': 2, '01010110': 1, '00001001': 1, '00110000': 1, '00110010': 1, '00011010': 1, '00100100': 4, '00100110': 4, '00100010': 2, '00100101': 2, '00101001': 828, '00101100': 4, '00101011': 12, '00101101': 3, '00101010': 29, '00110001': 1, '00100001': 1, '00110101': 1, '00100111': 23, '00011110': 2, '00100000': 2, '00101000': 96, '01001000': 1, '01000001': 1}\n",
      "max_counts_result =  00101001\n",
      "max_counts_result =  41\n",
      "8 qubits, pi ≈ 3.1219512195121952\n",
      "counts =  {'010011011': 1, '001000101': 1, '001011101': 1, '001101011': 1, '001100110': 1, '011011100': 1, '111100010': 1, '001011110': 1, '001000100': 2, '001010000': 46, '001001111': 19, '001011000': 3, '001001110': 7, '010001110': 1, '001001101': 10, '001001010': 1, '001010111': 1, '001011010': 2, '001010101': 6, '000110000': 1, '001010011': 43, '001010110': 9, '000000100': 1, '001001100': 2, '001001011': 2, '001010100': 14, '000010010': 1, '001100100': 1, '001010010': 402, '001101111': 2, '001110001': 1, '001000001': 2, '001010001': 437}\n",
      "max_counts_result =  001010001\n",
      "max_counts_result =  81\n",
      "9 qubits, pi ≈ 3.1604938271604937\n",
      "counts =  {'0010100100': 1, '0010100001': 1, '0010100010': 1, '0010100011': 1021}\n",
      "max_counts_result =  0010100011\n",
      "max_counts_result =  163\n",
      "10 qubits, pi ≈ 3.1411042944785277\n"
     ]
    },
    {
     "name": "stderr",
     "output_type": "stream",
     "text": [
      "/var/folders/k2/z3mnp_8s6ds5sgl5jy0fyw0h0000gq/T/ipykernel_57148/1541468224.py:4: DeprecationWarning: Using a qobj for run() is deprecated as of qiskit-aer 0.14 and will be removed no sooner than 3 months from that release date. Transpiled circuits should now be passed directly using `backend.run(circuits, **run_options).\n",
      "  job = backend.run(qobj)\n"
     ]
    }
   ],
   "source": [
    "# estimate pi using different numbers of qubits\n",
    "\n",
    "number_of_shots = 1024\n",
    "upper_limit_qubits = 10 # Add an upper limit of qubits\n",
    "nqs = list(range(2,upper_limit_qubits+1))\n",
    "pi_estimates = []\n",
    "for nq in nqs:\n",
    "    thisnq_pi_estimate = get_pi_estimate(nq, sampler, number_of_shots)\n",
    "    pi_estimates.append(thisnq_pi_estimate)\n",
    "    print(f\"{nq} qubits, pi ≈ {thisnq_pi_estimate}\")"
   ]
  },
  {
   "cell_type": "code",
   "execution_count": 9,
   "id": "8a924109",
   "metadata": {},
   "outputs": [
    {
     "data": {
      "image/png": "[encoded data removed]",
      "text/plain": [
       "<Figure size 640x480 with 1 Axes>"
      ]
     },
     "metadata": {},
     "output_type": "display_data"
    }
   ],
   "source": [
    "pi = np.pi\n",
    "\n",
    "plt.plot(nqs, [pi]*len(nqs), '--r')\n",
    "plt.plot(nqs, pi_estimates, '.-', markersize=12)\n",
    "plt.xlim([nqs[0]-1,nqs[-1]+1])\n",
    "plt.ylim([1.5, 4.5])\n",
    "plt.legend(['$\\pi$', 'estimate of $\\pi$'])\n",
    "plt.xlabel('Number of qubits', fontdict={'size':20})\n",
    "plt.ylabel('$\\pi$ and estimate of $\\pi$', fontdict={'size':20})\n",
    "plt.tick_params(axis='x', labelsize=12)\n",
    "plt.tick_params(axis='y', labelsize=12)\n",
    "plt.show()"
   ]
  }
 ],
 "metadata": {
  "kernelspec": {
   "display_name": "Qiskit v1.0.2 (ipykernel)",
   "language": "python",
   "name": "python3"
  },
  "language_info": {
   "codemirror_mode": {
    "name": "ipython",
    "version": 3
   },
   "file_extension": ".py",
   "mimetype": "text/x-python",
   "name": "python",
   "nbconvert_exporter": "python",
   "pygments_lexer": "ipython3",
   "version": "3.11.6"
  },
  "widgets": {
   "application/vnd.jupyter.widget-state+json": {
    "state": {},
    "version_major": 2,
    "version_minor": 0
   }
  }
 },
 "nbformat": 4,
 "nbformat_minor": 5
}
