{
 "cells": [
  {
   "cell_type": "markdown",
   "id": "1b84a11e",
   "metadata": {
    "tags": []
   },
   "source": [
    "# HNCDI Explain: Mathematical Fundamentals of Quantum Computing"
   ]
  },
  {
   "cell_type": "markdown",
   "id": "7400ecf7",
   "metadata": {},
   "source": [
    "### Install the qiskit library in the colab environment\n",
    "\n",
    "Please run the below cell to ensure the notebook has qiskit installed."
   ]
  },
  {
   "cell_type": "code",
   "execution_count": 26,
   "id": "b3f5d9c3",
   "metadata": {},
   "outputs": [
    {
     "name": "stdout",
     "output_type": "stream",
     "text": [
      "Requirement already satisfied: qiskit[visualization] in ./.venv/lib/python3.11/site-packages (2.0.0)\n",
      "Requirement already satisfied: rustworkx>=0.15.0 in ./.venv/lib/python3.11/site-packages (from qiskit[visualization]) (0.16.0)\n",
      "Requirement already satisfied: numpy<3,>=1.17 in ./.venv/lib/python3.11/site-packages (from qiskit[visualization]) (1.23.5)\n",
      "Requirement already satisfied: scipy>=1.5 in ./.venv/lib/python3.11/site-packages (from qiskit[visualization]) (1.15.2)\n",
      "Requirement already satisfied: sympy>=1.3 in ./.venv/lib/python3.11/site-packages (from qiskit[visualization]) (1.14.0)\n",
      "Requirement already satisfied: dill>=0.3 in ./.venv/lib/python3.11/site-packages (from qiskit[visualization]) (0.4.0)\n",
      "Requirement already satisfied: python-dateutil>=2.8.0 in ./.venv/lib/python3.11/site-packages (from qiskit[visualization]) (2.8.2)\n",
      "Requirement already satisfied: stevedore>=3.0.0 in ./.venv/lib/python3.11/site-packages (from qiskit[visualization]) (5.4.1)\n",
      "Requirement already satisfied: typing-extensions in ./.venv/lib/python3.11/site-packages (from qiskit[visualization]) (4.13.2)\n",
      "Requirement already satisfied: symengine<0.14,>=0.11 in ./.venv/lib/python3.11/site-packages (from qiskit[visualization]) (0.13.0)\n",
      "Requirement already satisfied: matplotlib>=3.3 in ./.venv/lib/python3.11/site-packages (from qiskit[visualization]) (3.6.3)\n",
      "Requirement already satisfied: pydot in ./.venv/lib/python3.11/site-packages (from qiskit[visualization]) (4.0.0)\n",
      "Requirement already satisfied: Pillow>=4.2.1 in ./.venv/lib/python3.11/site-packages (from qiskit[visualization]) (9.4.0)\n",
      "Requirement already satisfied: pylatexenc>=1.4 in ./.venv/lib/python3.11/site-packages (from qiskit[visualization]) (2.10)\n",
      "Requirement already satisfied: seaborn>=0.9.0 in ./.venv/lib/python3.11/site-packages (from qiskit[visualization]) (0.13.2)\n",
      "Requirement already satisfied: contourpy>=1.0.1 in ./.venv/lib/python3.11/site-packages (from matplotlib>=3.3->qiskit[visualization]) (1.0.7)\n",
      "Requirement already satisfied: cycler>=0.10 in ./.venv/lib/python3.11/site-packages (from matplotlib>=3.3->qiskit[visualization]) (0.11.0)\n",
      "Requirement already satisfied: fonttools>=4.22.0 in ./.venv/lib/python3.11/site-packages (from matplotlib>=3.3->qiskit[visualization]) (4.38.0)\n",
      "Requirement already satisfied: kiwisolver>=1.0.1 in ./.venv/lib/python3.11/site-packages (from matplotlib>=3.3->qiskit[visualization]) (1.4.4)\n",
      "Requirement already satisfied: packaging>=20.0 in ./.venv/lib/python3.11/site-packages (from matplotlib>=3.3->qiskit[visualization]) (23.0)\n",
      "Requirement already satisfied: pyparsing>=2.2.1 in ./.venv/lib/python3.11/site-packages (from matplotlib>=3.3->qiskit[visualization]) (3.0.9)\n",
      "Requirement already satisfied: six>=1.5 in ./.venv/lib/python3.11/site-packages (from python-dateutil>=2.8.0->qiskit[visualization]) (1.16.0)\n",
      "Requirement already satisfied: pandas>=1.2 in ./.venv/lib/python3.11/site-packages (from seaborn>=0.9.0->qiskit[visualization]) (2.2.3)\n",
      "Requirement already satisfied: pbr>=2.0.0 in ./.venv/lib/python3.11/site-packages (from stevedore>=3.0.0->qiskit[visualization]) (6.1.1)\n",
      "Requirement already satisfied: mpmath<1.4,>=1.1.0 in ./.venv/lib/python3.11/site-packages (from sympy>=1.3->qiskit[visualization]) (1.3.0)\n",
      "Requirement already satisfied: pytz>=2020.1 in ./.venv/lib/python3.11/site-packages (from pandas>=1.2->seaborn>=0.9.0->qiskit[visualization]) (2022.7.1)\n",
      "Requirement already satisfied: tzdata>=2022.7 in ./.venv/lib/python3.11/site-packages (from pandas>=1.2->seaborn>=0.9.0->qiskit[visualization]) (2025.2)\n",
      "Requirement already satisfied: setuptools in ./.venv/lib/python3.11/site-packages (from pbr>=2.0.0->stevedore>=3.0.0->qiskit[visualization]) (80.3.1)\n",
      "\n",
      "\u001b[1m[\u001b[0m\u001b[34;49mnotice\u001b[0m\u001b[1;39;49m]\u001b[0m\u001b[39;49m A new release of pip available: \u001b[0m\u001b[31;49m22.3.1\u001b[0m\u001b[39;49m -> \u001b[0m\u001b[32;49m25.1.1\u001b[0m\n",
      "\u001b[1m[\u001b[0m\u001b[34;49mnotice\u001b[0m\u001b[1;39;49m]\u001b[0m\u001b[39;49m To update, run: \u001b[0m\u001b[32;49mpip install --upgrade pip\u001b[0m\n",
      "Note: you may need to restart the kernel to use updated packages.\n",
      "Requirement already satisfied: qiskit-ibm-runtime in ./.venv/lib/python3.11/site-packages (0.38.0)\n",
      "Requirement already satisfied: requests>=2.19 in ./.venv/lib/python3.11/site-packages (from qiskit-ibm-runtime) (2.28.2)\n",
      "Requirement already satisfied: requests-ntlm>=1.1.0 in ./.venv/lib/python3.11/site-packages (from qiskit-ibm-runtime) (1.3.0)\n",
      "Requirement already satisfied: numpy>=1.13 in ./.venv/lib/python3.11/site-packages (from qiskit-ibm-runtime) (1.23.5)\n",
      "Requirement already satisfied: urllib3>=1.21.1 in ./.venv/lib/python3.11/site-packages (from qiskit-ibm-runtime) (1.26.14)\n",
      "Requirement already satisfied: python-dateutil>=2.8.0 in ./.venv/lib/python3.11/site-packages (from qiskit-ibm-runtime) (2.8.2)\n",
      "Requirement already satisfied: ibm-platform-services>=0.22.6 in ./.venv/lib/python3.11/site-packages (from qiskit-ibm-runtime) (0.34.2)\n",
      "Requirement already satisfied: pydantic<2.10,>=2.5.0 in ./.venv/lib/python3.11/site-packages (from qiskit-ibm-runtime) (2.9.2)\n",
      "Requirement already satisfied: qiskit>=1.4.1 in ./.venv/lib/python3.11/site-packages (from qiskit-ibm-runtime) (2.0.0)\n",
      "Requirement already satisfied: packaging in ./.venv/lib/python3.11/site-packages (from qiskit-ibm-runtime) (23.0)\n",
      "Requirement already satisfied: ibm_cloud_sdk_core<4.0.0,>=3.16.5 in ./.venv/lib/python3.11/site-packages (from ibm-platform-services>=0.22.6->qiskit-ibm-runtime) (3.16.6)\n",
      "Requirement already satisfied: annotated-types>=0.6.0 in ./.venv/lib/python3.11/site-packages (from pydantic<2.10,>=2.5.0->qiskit-ibm-runtime) (0.7.0)\n",
      "Requirement already satisfied: pydantic-core==2.23.4 in ./.venv/lib/python3.11/site-packages (from pydantic<2.10,>=2.5.0->qiskit-ibm-runtime) (2.23.4)\n",
      "Requirement already satisfied: typing-extensions>=4.6.1 in ./.venv/lib/python3.11/site-packages (from pydantic<2.10,>=2.5.0->qiskit-ibm-runtime) (4.13.2)\n",
      "Requirement already satisfied: six>=1.5 in ./.venv/lib/python3.11/site-packages (from python-dateutil>=2.8.0->qiskit-ibm-runtime) (1.16.0)\n",
      "Requirement already satisfied: rustworkx>=0.15.0 in ./.venv/lib/python3.11/site-packages (from qiskit>=1.4.1->qiskit-ibm-runtime) (0.16.0)\n",
      "Requirement already satisfied: scipy>=1.5 in ./.venv/lib/python3.11/site-packages (from qiskit>=1.4.1->qiskit-ibm-runtime) (1.15.2)\n",
      "Requirement already satisfied: sympy>=1.3 in ./.venv/lib/python3.11/site-packages (from qiskit>=1.4.1->qiskit-ibm-runtime) (1.14.0)\n",
      "Requirement already satisfied: dill>=0.3 in ./.venv/lib/python3.11/site-packages (from qiskit>=1.4.1->qiskit-ibm-runtime) (0.4.0)\n",
      "Requirement already satisfied: stevedore>=3.0.0 in ./.venv/lib/python3.11/site-packages (from qiskit>=1.4.1->qiskit-ibm-runtime) (5.4.1)\n",
      "Requirement already satisfied: symengine<0.14,>=0.11 in ./.venv/lib/python3.11/site-packages (from qiskit>=1.4.1->qiskit-ibm-runtime) (0.13.0)\n",
      "Requirement already satisfied: charset-normalizer<4,>=2 in ./.venv/lib/python3.11/site-packages (from requests>=2.19->qiskit-ibm-runtime) (3.0.1)\n",
      "Requirement already satisfied: idna<4,>=2.5 in ./.venv/lib/python3.11/site-packages (from requests>=2.19->qiskit-ibm-runtime) (3.4)\n",
      "Requirement already satisfied: certifi>=2017.4.17 in ./.venv/lib/python3.11/site-packages (from requests>=2.19->qiskit-ibm-runtime) (2022.12.7)\n",
      "Requirement already satisfied: cryptography>=1.3 in ./.venv/lib/python3.11/site-packages (from requests-ntlm>=1.1.0->qiskit-ibm-runtime) (44.0.3)\n",
      "Requirement already satisfied: pyspnego>=0.4.0 in ./.venv/lib/python3.11/site-packages (from requests-ntlm>=1.1.0->qiskit-ibm-runtime) (0.11.2)\n",
      "Requirement already satisfied: cffi>=1.12 in ./.venv/lib/python3.11/site-packages (from cryptography>=1.3->requests-ntlm>=1.1.0->qiskit-ibm-runtime) (1.15.1)\n",
      "Requirement already satisfied: PyJWT<3.0.0,>=2.4.0 in ./.venv/lib/python3.11/site-packages (from ibm_cloud_sdk_core<4.0.0,>=3.16.5->ibm-platform-services>=0.22.6->qiskit-ibm-runtime) (2.10.1)\n",
      "Requirement already satisfied: pbr>=2.0.0 in ./.venv/lib/python3.11/site-packages (from stevedore>=3.0.0->qiskit>=1.4.1->qiskit-ibm-runtime) (6.1.1)\n",
      "Requirement already satisfied: mpmath<1.4,>=1.1.0 in ./.venv/lib/python3.11/site-packages (from sympy>=1.3->qiskit>=1.4.1->qiskit-ibm-runtime) (1.3.0)\n",
      "Requirement already satisfied: pycparser in ./.venv/lib/python3.11/site-packages (from cffi>=1.12->cryptography>=1.3->requests-ntlm>=1.1.0->qiskit-ibm-runtime) (2.21)\n",
      "Requirement already satisfied: setuptools in ./.venv/lib/python3.11/site-packages (from pbr>=2.0.0->stevedore>=3.0.0->qiskit>=1.4.1->qiskit-ibm-runtime) (80.3.1)\n",
      "\n",
      "\u001b[1m[\u001b[0m\u001b[34;49mnotice\u001b[0m\u001b[1;39;49m]\u001b[0m\u001b[39;49m A new release of pip available: \u001b[0m\u001b[31;49m22.3.1\u001b[0m\u001b[39;49m -> \u001b[0m\u001b[32;49m25.1.1\u001b[0m\n",
      "\u001b[1m[\u001b[0m\u001b[34;49mnotice\u001b[0m\u001b[1;39;49m]\u001b[0m\u001b[39;49m To update, run: \u001b[0m\u001b[32;49mpip install --upgrade pip\u001b[0m\n",
      "Note: you may need to restart the kernel to use updated packages.\n",
      "Requirement already satisfied: qiskit-aer in ./.venv/lib/python3.11/site-packages (0.17.0)\n",
      "Requirement already satisfied: qiskit>=1.1.0 in ./.venv/lib/python3.11/site-packages (from qiskit-aer) (2.0.0)\n",
      "Requirement already satisfied: numpy>=1.16.3 in ./.venv/lib/python3.11/site-packages (from qiskit-aer) (1.23.5)\n",
      "Requirement already satisfied: scipy>=1.0 in ./.venv/lib/python3.11/site-packages (from qiskit-aer) (1.15.2)\n",
      "Requirement already satisfied: psutil>=5 in ./.venv/lib/python3.11/site-packages (from qiskit-aer) (5.9.4)\n",
      "Requirement already satisfied: rustworkx>=0.15.0 in ./.venv/lib/python3.11/site-packages (from qiskit>=1.1.0->qiskit-aer) (0.16.0)\n",
      "Requirement already satisfied: sympy>=1.3 in ./.venv/lib/python3.11/site-packages (from qiskit>=1.1.0->qiskit-aer) (1.14.0)\n",
      "Requirement already satisfied: dill>=0.3 in ./.venv/lib/python3.11/site-packages (from qiskit>=1.1.0->qiskit-aer) (0.4.0)\n",
      "Requirement already satisfied: python-dateutil>=2.8.0 in ./.venv/lib/python3.11/site-packages (from qiskit>=1.1.0->qiskit-aer) (2.8.2)\n",
      "Requirement already satisfied: stevedore>=3.0.0 in ./.venv/lib/python3.11/site-packages (from qiskit>=1.1.0->qiskit-aer) (5.4.1)\n",
      "Requirement already satisfied: typing-extensions in ./.venv/lib/python3.11/site-packages (from qiskit>=1.1.0->qiskit-aer) (4.13.2)\n",
      "Requirement already satisfied: symengine<0.14,>=0.11 in ./.venv/lib/python3.11/site-packages (from qiskit>=1.1.0->qiskit-aer) (0.13.0)\n",
      "Requirement already satisfied: six>=1.5 in ./.venv/lib/python3.11/site-packages (from python-dateutil>=2.8.0->qiskit>=1.1.0->qiskit-aer) (1.16.0)\n",
      "Requirement already satisfied: pbr>=2.0.0 in ./.venv/lib/python3.11/site-packages (from stevedore>=3.0.0->qiskit>=1.1.0->qiskit-aer) (6.1.1)\n",
      "Requirement already satisfied: mpmath<1.4,>=1.1.0 in ./.venv/lib/python3.11/site-packages (from sympy>=1.3->qiskit>=1.1.0->qiskit-aer) (1.3.0)\n",
      "Requirement already satisfied: setuptools in ./.venv/lib/python3.11/site-packages (from pbr>=2.0.0->stevedore>=3.0.0->qiskit>=1.1.0->qiskit-aer) (80.3.1)\n",
      "\n",
      "\u001b[1m[\u001b[0m\u001b[34;49mnotice\u001b[0m\u001b[1;39;49m]\u001b[0m\u001b[39;49m A new release of pip available: \u001b[0m\u001b[31;49m22.3.1\u001b[0m\u001b[39;49m -> \u001b[0m\u001b[32;49m25.1.1\u001b[0m\n",
      "\u001b[1m[\u001b[0m\u001b[34;49mnotice\u001b[0m\u001b[1;39;49m]\u001b[0m\u001b[39;49m To update, run: \u001b[0m\u001b[32;49mpip install --upgrade pip\u001b[0m\n",
      "Note: you may need to restart the kernel to use updated packages.\n"
     ]
    }
   ],
   "source": [
    "# Install the qiskit library\n",
    "%pip install 'qiskit[visualization]'\n",
    "%pip install qiskit-ibm-runtime\n",
    "%pip install qiskit-aer"
   ]
  },
  {
   "cell_type": "markdown",
   "id": "73281dae",
   "metadata": {},
   "source": [
    "## Tutorial 2: Estimate $\\pi$ using quantum algorithms"
   ]
  },
  {
   "cell_type": "code",
   "execution_count": 27,
   "id": "5914d2c2",
   "metadata": {},
   "outputs": [],
   "source": [
    "import numpy as np\n",
    "from qiskit.visualization import *\n",
    "from qiskit_aer import AerSimulator\n",
    "from qiskit.compiler import transpile\n",
    "from qiskit_aer.primitives import SamplerV2\n",
    "from qiskit_ibm_runtime import QiskitRuntimeService\n",
    "from qiskit_ibm_runtime import SamplerV2 as real_sampler\n",
    "from qiskit import QuantumRegister, ClassicalRegister, QuantumCircuit, transpile\n",
    "# from qiskit import assemble\n",
    "import matplotlib.pyplot as plt"
   ]
  },
  {
   "cell_type": "code",
   "execution_count": null,
   "id": "38566ad5",
   "metadata": {},
   "outputs": [
    {
     "name": "stderr",
     "output_type": "stream",
     "text": [
      "/var/folders/7p/yp3_4bhx1hb234hbhxty04tr0000gn/T/ipykernel_53036/1134007162.py:3: DeprecationWarning: The \"ibm_quantum\" channel option is deprecated and will be sunset on 1 July. After this date, ibm_cloud will be the only valid channel. For information on migrating to the new IBM Quantum Platform on the \"ibm_cloud\" channel, review the migration guide https://quantum.cloud.ibm.com/docs/migration-guides/classic-iqp-to-cloud-iqp .\n",
      "  service = QiskitRuntimeService(channel=\"ibm_quantum\", token=my_token)\n"
     ]
    }
   ],
   "source": [
    "my_token = \"<Enter your IBM quantum token here>\"\n",
    "\n",
    "service = QiskitRuntimeService(channel=\"ibm_quantum\", token=my_token)"
   ]
  },
  {
   "cell_type": "code",
   "execution_count": 29,
   "id": "da068e47",
   "metadata": {},
   "outputs": [],
   "source": [
    "# Set simulator backend\n",
    "sampler = AerSimulator()"
   ]
  },
  {
   "cell_type": "markdown",
   "id": "4336e741",
   "metadata": {},
   "source": [
    "## Approximating $\\pi$ "
   ]
  },
  {
   "cell_type": "code",
   "execution_count": 30,
   "id": "6cca510f",
   "metadata": {},
   "outputs": [],
   "source": [
    "#Compute the Inverse Quantum Fourier Transform\n",
    "\n",
    "def qft_dagger(circ_, n_qubits):\n",
    "    \"\"\"n-qubit QFTdagger the first n qubits in circ\"\"\"\n",
    "    for qubit in range(int(n_qubits/2)):\n",
    "        circ_.swap(qubit, n_qubits-qubit-1)\n",
    "    for j in range(0,n_qubits):\n",
    "        for m in range(j):\n",
    "            circ_.cp(-np.pi/float(2**(j-m)), m, j)\n",
    "        circ_.h(j)"
   ]
  },
  {
   "cell_type": "code",
   "execution_count": 31,
   "id": "5aef9554",
   "metadata": {},
   "outputs": [],
   "source": [
    "#Initial state of Quantum Phase Estimation\n",
    "\n",
    "def qpe_pre(circ_, n_qubits):\n",
    "    circ_.h(range(n_qubits))\n",
    "    circ_.x(n_qubits)\n",
    "\n",
    "    for x in reversed(range(n_qubits)):\n",
    "        for _ in range(2**(n_qubits-1-x)):\n",
    "            circ_.cp(1, n_qubits-1-x, n_qubits)"
   ]
  },
  {
   "cell_type": "code",
   "execution_count": 32,
   "id": "efbac5e4",
   "metadata": {},
   "outputs": [],
   "source": [
    "def run_job(circ, backend, shots, optimization_level=0):\n",
    "    t_circ = transpile(circ, backend, optimization_level=optimization_level, coupling_map=None)\n",
    "    # qobj = assemble(t_circ, shots=shots)\n",
    "    job = backend.run(t_circ)\n",
    "    result = job.result()\n",
    "    return result"
   ]
  },
  {
   "cell_type": "code",
   "execution_count": 33,
   "id": "9e91e8df",
   "metadata": {},
   "outputs": [],
   "source": [
    "def get_pi_estimate(n_qubits, backend, shots):\n",
    "        \n",
    "    # create the circuit\n",
    "    circ = QuantumCircuit(n_qubits + 1, n_qubits)\n",
    "    \n",
    "    # create the input state\n",
    "    qpe_pre(circ, n_qubits)\n",
    "        \n",
    "    # apply a barrier\n",
    "    circ.barrier()\n",
    "    # apply the inverse fourier transform\n",
    "    qft_dagger(circ, n_qubits)\n",
    "    # apply  a barrier\n",
    "    circ.barrier()\n",
    "    # measure all but the last qubits\n",
    "    circ.measure(range(n_qubits), range(n_qubits))\n",
    "    \n",
    "    # optionally save to a file\n",
    "    if n_qubits == 3:\n",
    "        circ.draw(filename='qpe')\n",
    "\n",
    "    # run the job and get the results\n",
    "    job_results = run_job(circ, backend, shots, optimization_level=0)\n",
    "    \n",
    "    # Extract the counts from the result\n",
    "    if(type(backend) is SamplerV2):\n",
    "        result = job_results[0].data.c\n",
    "        counts = result.get_counts()\n",
    "    else:\n",
    "        counts = job_results.get_counts()\n",
    "        \n",
    "    print('counts = ', counts) \n",
    "\n",
    "    # get the count that occurred most frequently\n",
    "    max_counts_result = max(counts, key=counts.get)\n",
    "    print('max_counts_result = ', max_counts_result)\n",
    "    max_counts_result = int(max_counts_result, 2)\n",
    "    print('max_counts_result = ', max_counts_result)\n",
    "    \n",
    "    # solve for pi from the measured counts\n",
    "    theta = max_counts_result/2**n_qubits\n",
    "    return (1./(2*theta))"
   ]
  },
  {
   "cell_type": "code",
   "execution_count": 34,
   "id": "02ad3476",
   "metadata": {},
   "outputs": [
    {
     "name": "stdout",
     "output_type": "stream",
     "text": [
      "counts =  {'11': 55, '10': 63, '00': 228, '01': 678}\n",
      "max_counts_result =  01\n",
      "max_counts_result =  1\n",
      "2 qubits, pi ≈ 2.0\n",
      "counts =  {'011': 18, '111': 16, '100': 11, '110': 7, '001': 791, '101': 7, '000': 39, '010': 135}\n",
      "max_counts_result =  001\n",
      "max_counts_result =  1\n",
      "3 qubits, pi ≈ 4.0\n",
      "counts =  {'1110': 5, '1010': 3, '1001': 6, '1011': 7, '0101': 16, '0110': 8, '0011': 492, '0001': 49, '1100': 3, '0100': 54, '1000': 7, '0000': 20, '0010': 336, '0111': 3, '1101': 3, '1111': 12}\n",
      "max_counts_result =  0011\n",
      "max_counts_result =  3\n",
      "4 qubits, pi ≈ 2.6666666666666665\n",
      "counts =  {'11000': 1, '01001': 1, '01011': 1, '01000': 1, '00001': 1, '00011': 4, '00111': 2, '01111': 1, '00110': 9, '00100': 4, '00010': 1, '10000': 1, '00101': 997}\n",
      "max_counts_result =  00101\n",
      "max_counts_result =  5\n",
      "5 qubits, pi ≈ 3.2\n",
      "counts =  {'010000': 1, '001110': 1, '000110': 2, '111011': 1, '111101': 2, '101110': 1, '000001': 2, '111111': 1, '001111': 2, '001101': 2, '001000': 7, '001100': 9, '000111': 5, '100001': 1, '000101': 5, '001001': 23, '111001': 1, '011010': 1, '001011': 41, '001010': 916}\n",
      "max_counts_result =  001010\n",
      "max_counts_result =  10\n",
      "6 qubits, pi ≈ 3.2\n",
      "counts =  {'1000000': 1, '0100000': 1, '1111010': 1, '1011010': 1, '0011110': 1, '0111111': 1, '0100111': 2, '0011101': 2, '1101000': 1, '0001111': 5, '0011011': 1, '0101011': 1, '0010001': 4, '0100001': 2, '0010000': 2, '0011001': 5, '0110010': 1, '0011010': 5, '0001011': 2, '0011000': 6, '0011100': 2, '1110111': 1, '0010110': 36, '0100011': 1, '0001101': 2, '0010111': 12, '0001010': 1, '1110001': 1, '0010101': 263, '0000101': 1, '0011111': 2, '0001110': 2, '0010011': 51, '0000011': 1, '1010010': 1, '0000010': 1, '0010010': 16, '0111100': 1, '0000111': 1, '0010100': 583}\n",
      "max_counts_result =  0010100\n",
      "max_counts_result =  20\n",
      "7 qubits, pi ≈ 3.2\n",
      "counts =  {'00110011': 1, '00100000': 1, '00110001': 1, '00001100': 1, '00101101': 2, '00011111': 1, '01111100': 1, '00100100': 3, '00101100': 5, '00101011': 10, '00100110': 7, '00100001': 1, '00101010': 36, '00100101': 3, '00100010': 4, '00100111': 17, '00110000': 1, '00010111': 2, '00011100': 1, '00100011': 2, '00101000': 117, '01010010': 1, '00101001': 806}\n",
      "max_counts_result =  00101001\n",
      "max_counts_result =  41\n",
      "8 qubits, pi ≈ 3.1219512195121952\n",
      "counts =  {'001100011': 1, '001101110': 1, '101011000': 1, '111101111': 1, '001101011': 1, '001100100': 1, '001101101': 1, '011001110': 1, '001010111': 2, '000111101': 1, '001011111': 1, '001110010': 1, '001000101': 1, '001001000': 2, '001101000': 1, '001000110': 3, '001011110': 2, '001100001': 2, '001001001': 1, '001001010': 4, '001000100': 3, '001011000': 2, '001010000': 53, '001001111': 18, '001000010': 1, '001111010': 1, '001001101': 3, '001010110': 5, '001010011': 33, '000111011': 1, '001001110': 7, '001001100': 3, '001011001': 4, '001010101': 6, '001011010': 1, '010001010': 1, '000011000': 1, '001011100': 3, '001100110': 2, '001100000': 1, '001010100': 15, '001000111': 1, '001010001': 434, '001010010': 396}\n",
      "max_counts_result =  001010001\n",
      "max_counts_result =  81\n",
      "9 qubits, pi ≈ 3.1604938271604937\n",
      "counts =  {'0010100100': 2, '0010100010': 1, '0010100011': 1021}\n",
      "max_counts_result =  0010100011\n",
      "max_counts_result =  163\n",
      "10 qubits, pi ≈ 3.1411042944785277\n",
      "counts =  {'00101001100': 1, '00101000011': 1, '00101000101': 4, '00101000100': 1, '00101000111': 5, '00101001000': 2, '00101000110': 1010}\n",
      "max_counts_result =  00101000110\n",
      "max_counts_result =  326\n",
      "11 qubits, pi ≈ 3.1411042944785277\n",
      "counts =  {'001010010011': 1, '001010010010': 1, '001010001110': 1, '001001110010': 1, '001010001111': 2, '001010001100': 984, '001010010000': 1, '001010001000': 2, '001010001010': 7, '001010001101': 11, '001010001001': 3, '001010001011': 10}\n",
      "max_counts_result =  001010001100\n",
      "max_counts_result =  652\n",
      "12 qubits, pi ≈ 3.1411042944785277\n",
      "counts =  {'0010100100001': 1, '0010100010000': 1, '0010011010101': 1, '0010010111011': 1, '0010100000101': 1, '0010100100000': 1, '0010100001011': 2, '0010100111100': 1, '0010100010010': 2, '0010011100011': 1, '0010100010001': 1, '0010100010101': 7, '0010100100100': 1, '0010100010011': 2, '0010100011101': 2, '0010100011001': 30, '0010011111110': 1, '0010100110110': 1, '0010100011000': 880, '0010100011010': 6, '0010100000100': 1, '0010100011100': 2, '0010100011011': 3, '0010100001110': 1, '0010100010110': 10, '0010100001000': 1, '0010100100011': 1, '0010100011111': 2, '0010100101011': 1, '0010100010111': 59}\n",
      "max_counts_result =  0010100011000\n",
      "max_counts_result =  1304\n",
      "13 qubits, pi ≈ 3.1411042944785277\n"
     ]
    }
   ],
   "source": [
    "# estimate pi using different numbers of qubits\n",
    "\n",
    "number_of_shots = 1024\n",
    "upper_limit_qubits = 13 # Add an upper limit of qubits\n",
    "nqs = list(range(2,upper_limit_qubits+1))\n",
    "pi_estimates = []\n",
    "for nq in nqs:\n",
    "    thisnq_pi_estimate = get_pi_estimate(nq, sampler, number_of_shots)\n",
    "    pi_estimates.append(thisnq_pi_estimate)\n",
    "    print(f\"{nq} qubits, pi ≈ {thisnq_pi_estimate}\")"
   ]
  },
  {
   "cell_type": "code",
   "execution_count": 35,
   "id": "8a924109",
   "metadata": {},
   "outputs": [
    {
     "data": {
      "image/png": "[encoded data removed]",
      "text/plain": [
       "<Figure size 640x480 with 1 Axes>"
      ]
     },
     "metadata": {},
     "output_type": "display_data"
    }
   ],
   "source": [
    "pi = np.pi\n",
    "\n",
    "plt.plot(nqs, [pi]*len(nqs), '--r')\n",
    "plt.plot(nqs, pi_estimates, '.-', markersize=12)\n",
    "plt.xlim([nqs[0]-1,nqs[-1]+1])\n",
    "plt.ylim([1.5, 4.5])\n",
    "plt.legend(['$\\pi$', 'estimate of $\\pi$'])\n",
    "plt.xlabel('Number of qubits', fontdict={'size':20})\n",
    "plt.ylabel('$\\pi$ and estimate of $\\pi$', fontdict={'size':20})\n",
    "plt.tick_params(axis='x', labelsize=12)\n",
    "plt.tick_params(axis='y', labelsize=12)\n",
    "plt.show()"
   ]
  },
  {
   "cell_type": "code",
   "execution_count": null,
   "id": "0c22167d",
   "metadata": {},
   "outputs": [],
   "source": []
  }
 ],
 "metadata": {
  "kernelspec": {
   "display_name": ".venv",
   "language": "python",
   "name": "python3"
  },
  "language_info": {
   "codemirror_mode": {
    "name": "ipython",
    "version": 3
   },
   "file_extension": ".py",
   "mimetype": "text/x-python",
   "name": "python",
   "nbconvert_exporter": "python",
   "pygments_lexer": "ipython3",
   "version": "3.11.3"
  },
  "widgets": {
   "application/vnd.jupyter.widget-state+json": {
    "state": {},
    "version_major": 2,
    "version_minor": 0
   }
  }
 },
 "nbformat": 4,
 "nbformat_minor": 5
}
